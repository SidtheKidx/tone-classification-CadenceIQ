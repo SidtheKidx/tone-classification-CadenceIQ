{
  "nbformat": 4,
  "nbformat_minor": 0,
  "metadata": {
    "colab": {
      "name": "tone-classifier-v2.ipynb",
      "provenance": [],
      "authorship_tag": "ABX9TyOOB+S2lu2LFEuNA2jWweqT",
      "include_colab_link": true
    },
    "kernelspec": {
      "name": "python3",
      "display_name": "Python 3"
    },
    "language_info": {
      "name": "python"
    }
  },
  "cells": [
    {
      "cell_type": "markdown",
      "metadata": {
        "id": "view-in-github",
        "colab_type": "text"
      },
      "source": [
        "<a href=\"https://colab.research.google.com/github/SidtheKidx/tone-classification-CadenceIQ/blob/main/tone-classification/tone-classifier-v2.ipynb\" target=\"_parent\"><img src=\"https://colab.research.google.com/assets/colab-badge.svg\" alt=\"Open In Colab\"/></a>"
      ]
    },
    {
      "cell_type": "markdown",
      "metadata": {
        "id": "4kgSEIJ58WIX"
      },
      "source": [
        "# Tone Classification-CadenceIQ using BERT Transformers\n"
      ]
    },
    {
      "cell_type": "code",
      "metadata": {
        "id": "tXKFpMCL84BW"
      },
      "source": [
        "import pandas as pd \n",
        "import numpy as np\n",
        "\n",
        "from nltk.corpus import stopwords \n",
        "from nltk.stem.wordnet import WordNetLemmatizer\n",
        "import string"
      ],
      "execution_count": 1,
      "outputs": []
    },
    {
      "cell_type": "code",
      "metadata": {
        "id": "9bxzo30u8ZfY"
      },
      "source": [
        "df = pd.read_csv('https://raw.githubusercontent.com/SidtheKidx/tone-classification-CadenceIQ/main/datasets/Tones.csv?token=AJVH2HYYDHA7F3BZ44OVHFTAU7XYI')"
      ],
      "execution_count": 3,
      "outputs": []
    },
    {
      "cell_type": "code",
      "metadata": {
        "id": "7RBQuBjg82nT"
      },
      "source": [
        "df = df.drop(columns=[\"Unnamed: 0\", \"Unnamed: 0.1\"], axis=1)"
      ],
      "execution_count": 7,
      "outputs": []
    },
    {
      "cell_type": "code",
      "metadata": {
        "colab": {
          "base_uri": "https://localhost:8080/",
          "height": 419
        },
        "id": "SrDpw5lS9gQl",
        "outputId": "977feebf-3b4d-4e70-84f8-c92a1c689e94"
      },
      "source": [
        "df.head(-10)"
      ],
      "execution_count": 9,
      "outputs": [
        {
          "output_type": "execute_result",
          "data": {
            "text/html": [
              "<div>\n",
              "<style scoped>\n",
              "    .dataframe tbody tr th:only-of-type {\n",
              "        vertical-align: middle;\n",
              "    }\n",
              "\n",
              "    .dataframe tbody tr th {\n",
              "        vertical-align: top;\n",
              "    }\n",
              "\n",
              "    .dataframe thead th {\n",
              "        text-align: right;\n",
              "    }\n",
              "</style>\n",
              "<table border=\"1\" class=\"dataframe\">\n",
              "  <thead>\n",
              "    <tr style=\"text-align: right;\">\n",
              "      <th></th>\n",
              "      <th>sentence</th>\n",
              "      <th>tones</th>\n",
              "      <th>tags</th>\n",
              "    </tr>\n",
              "  </thead>\n",
              "  <tbody>\n",
              "    <tr>\n",
              "      <th>0</th>\n",
              "      <td>i didnt feel humiliated</td>\n",
              "      <td>{  \"document_tone\": {    \"tones\": [      {    ...</td>\n",
              "      <td>['tentative']</td>\n",
              "    </tr>\n",
              "    <tr>\n",
              "      <th>1</th>\n",
              "      <td>i can go from feeling so hopeless to so damned...</td>\n",
              "      <td>{  \"document_tone\": {    \"tones\": [      {    ...</td>\n",
              "      <td>['sadness', 'tentative']</td>\n",
              "    </tr>\n",
              "    <tr>\n",
              "      <th>2</th>\n",
              "      <td>im grabbing a minute to post i feel greedy wrong</td>\n",
              "      <td>{  \"document_tone\": {    \"tones\": [      {    ...</td>\n",
              "      <td>['sadness']</td>\n",
              "    </tr>\n",
              "    <tr>\n",
              "      <th>3</th>\n",
              "      <td>i am ever feeling nostalgic about the fireplac...</td>\n",
              "      <td>{  \"document_tone\": {    \"tones\": [      {    ...</td>\n",
              "      <td>['sadness', 'analytical']</td>\n",
              "    </tr>\n",
              "    <tr>\n",
              "      <th>4</th>\n",
              "      <td>i am feeling grouchy</td>\n",
              "      <td>{  \"document_tone\": {    \"tones\": [      {    ...</td>\n",
              "      <td>['anger', 'sadness']</td>\n",
              "    </tr>\n",
              "    <tr>\n",
              "      <th>...</th>\n",
              "      <td>...</td>\n",
              "      <td>...</td>\n",
              "      <td>...</td>\n",
              "    </tr>\n",
              "    <tr>\n",
              "      <th>6725</th>\n",
              "      <td>---------------------- Forwarded by Phillip K ...</td>\n",
              "      <td>{  \"document_tone\": {    \"tones\": [      {    ...</td>\n",
              "      <td>['joy', 'confident']</td>\n",
              "    </tr>\n",
              "    <tr>\n",
              "      <th>6726</th>\n",
              "      <td>---------------------- Forwarded by Phillip K ...</td>\n",
              "      <td>{  \"document_tone\": {    \"tones\": [      {    ...</td>\n",
              "      <td>['joy', 'tentative']</td>\n",
              "    </tr>\n",
              "    <tr>\n",
              "      <th>6727</th>\n",
              "      <td>Jeff/Brenda,\\n\\nPlease authorize and forward t...</td>\n",
              "      <td>{  \"document_tone\": {    \"tones\": [      {    ...</td>\n",
              "      <td>['analytical']</td>\n",
              "    </tr>\n",
              "    <tr>\n",
              "      <th>6728</th>\n",
              "      <td>Brenda,\\n\\n The word document attached is a no...</td>\n",
              "      <td>{  \"document_tone\": {    \"tones\": [      {    ...</td>\n",
              "      <td>['analytical']</td>\n",
              "    </tr>\n",
              "    <tr>\n",
              "      <th>6729</th>\n",
              "      <td>---------------------- Forwarded by Phillip K ...</td>\n",
              "      <td>{  \"document_tone\": {    \"tones\": [      {    ...</td>\n",
              "      <td>['tentative']</td>\n",
              "    </tr>\n",
              "  </tbody>\n",
              "</table>\n",
              "<p>6730 rows × 3 columns</p>\n",
              "</div>"
            ],
            "text/plain": [
              "                                               sentence  ...                       tags\n",
              "0                               i didnt feel humiliated  ...              ['tentative']\n",
              "1     i can go from feeling so hopeless to so damned...  ...   ['sadness', 'tentative']\n",
              "2      im grabbing a minute to post i feel greedy wrong  ...                ['sadness']\n",
              "3     i am ever feeling nostalgic about the fireplac...  ...  ['sadness', 'analytical']\n",
              "4                                  i am feeling grouchy  ...       ['anger', 'sadness']\n",
              "...                                                 ...  ...                        ...\n",
              "6725  ---------------------- Forwarded by Phillip K ...  ...       ['joy', 'confident']\n",
              "6726  ---------------------- Forwarded by Phillip K ...  ...       ['joy', 'tentative']\n",
              "6727  Jeff/Brenda,\\n\\nPlease authorize and forward t...  ...             ['analytical']\n",
              "6728  Brenda,\\n\\n The word document attached is a no...  ...             ['analytical']\n",
              "6729  ---------------------- Forwarded by Phillip K ...  ...              ['tentative']\n",
              "\n",
              "[6730 rows x 3 columns]"
            ]
          },
          "metadata": {
            "tags": []
          },
          "execution_count": 9
        }
      ]
    },
    {
      "cell_type": "code",
      "metadata": {
        "id": "ZPsjcOs6He67"
      },
      "source": [
        ""
      ],
      "execution_count": null,
      "outputs": []
    }
  ]
}