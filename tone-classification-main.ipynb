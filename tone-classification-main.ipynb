{
  "nbformat": 4,
  "nbformat_minor": 0,
  "metadata": {
    "kernelspec": {
      "display_name": "Python 3",
      "language": "python",
      "name": "python3"
    },
    "language_info": {
      "codemirror_mode": {
        "name": "ipython",
        "version": 3
      },
      "file_extension": ".py",
      "mimetype": "text/x-python",
      "name": "python",
      "nbconvert_exporter": "python",
      "pygments_lexer": "ipython3",
      "version": "3.7.4"
    },
    "colab": {
      "name": "tone-classification-main.ipynb",
      "provenance": [],
      "toc_visible": true,
      "include_colab_link": true
    }
  },
  "cells": [
    {
      "cell_type": "markdown",
      "metadata": {
        "id": "view-in-github",
        "colab_type": "text"
      },
      "source": [
        "<a href=\"https://colab.research.google.com/github/SidtheKidx/tone-classification-CadenceIQ/blob/main/tone-classification-main.ipynb\" target=\"_parent\"><img src=\"https://colab.research.google.com/assets/colab-badge.svg\" alt=\"Open In Colab\"/></a>"
      ]
    },
    {
      "cell_type": "markdown",
      "metadata": {
        "id": "PMANt7jeI1to"
      },
      "source": [
        "## Tone Classification-CadenceIQ using BERT Transformers\n"
      ]
    },
    {
      "cell_type": "markdown",
      "metadata": {
        "id": "841hEy3bJLEP"
      },
      "source": [
        "## Dataset :\n",
        "\n",
        "\n",
        "*   [Enron Dataset](https://www.kaggle.com/wcukierski/enron-email-dataset)\n",
        "*   [Emotions Dataset](https://www.kaggle.com/praveengovi/emotions-dataset-for-nlp?select=val.txt)\n",
        "\n"
      ]
    },
    {
      "cell_type": "code",
      "metadata": {
        "colab": {
          "base_uri": "https://localhost:8080/"
        },
        "id": "G3uQxtX6e5Bi",
        "outputId": "faafbace-74ab-4eb0-f65f-30271b5cb426"
      },
      "source": [
        "import json\n",
        "!pip install --upgrade \"ibm-watson>=5.1.0\"\n",
        "\n",
        "from ibm_watson import ToneAnalyzerV3\n",
        "from ibm_cloud_sdk_core.authenticators import IAMAuthenticator\n",
        "\n",
        "import pandas as pd \n",
        "import numpy as np\n",
        "import os, sys, email, re\n",
        "\n",
        "from nltk.corpus import stopwords \n",
        "from nltk.stem.wordnet import WordNetLemmatizer\n",
        "import string"
      ],
      "execution_count": 1,
      "outputs": [
        {
          "output_type": "stream",
          "text": [
            "Requirement already up-to-date: ibm-watson>=5.1.0 in /usr/local/lib/python3.7/dist-packages (5.1.0)\n",
            "Requirement already satisfied, skipping upgrade: websocket-client==0.48.0 in /usr/local/lib/python3.7/dist-packages (from ibm-watson>=5.1.0) (0.48.0)\n",
            "Requirement already satisfied, skipping upgrade: requests<3.0,>=2.0 in /usr/local/lib/python3.7/dist-packages (from ibm-watson>=5.1.0) (2.23.0)\n",
            "Requirement already satisfied, skipping upgrade: ibm-cloud-sdk-core>=3.3.6 in /usr/local/lib/python3.7/dist-packages (from ibm-watson>=5.1.0) (3.10.0)\n",
            "Requirement already satisfied, skipping upgrade: python-dateutil>=2.5.3 in /usr/local/lib/python3.7/dist-packages (from ibm-watson>=5.1.0) (2.8.1)\n",
            "Requirement already satisfied, skipping upgrade: six in /usr/local/lib/python3.7/dist-packages (from websocket-client==0.48.0->ibm-watson>=5.1.0) (1.15.0)\n",
            "Requirement already satisfied, skipping upgrade: certifi>=2017.4.17 in /usr/local/lib/python3.7/dist-packages (from requests<3.0,>=2.0->ibm-watson>=5.1.0) (2020.12.5)\n",
            "Requirement already satisfied, skipping upgrade: urllib3!=1.25.0,!=1.25.1,<1.26,>=1.21.1 in /usr/local/lib/python3.7/dist-packages (from requests<3.0,>=2.0->ibm-watson>=5.1.0) (1.24.3)\n",
            "Requirement already satisfied, skipping upgrade: chardet<4,>=3.0.2 in /usr/local/lib/python3.7/dist-packages (from requests<3.0,>=2.0->ibm-watson>=5.1.0) (3.0.4)\n",
            "Requirement already satisfied, skipping upgrade: idna<3,>=2.5 in /usr/local/lib/python3.7/dist-packages (from requests<3.0,>=2.0->ibm-watson>=5.1.0) (2.10)\n",
            "Requirement already satisfied, skipping upgrade: PyJWT<3.0.0,>=2.0.1 in /usr/local/lib/python3.7/dist-packages (from ibm-cloud-sdk-core>=3.3.6->ibm-watson>=5.1.0) (2.1.0)\n"
          ],
          "name": "stdout"
        }
      ]
    },
    {
      "cell_type": "code",
      "metadata": {
        "colab": {
          "base_uri": "https://localhost:8080/",
          "height": 0
        },
        "id": "aPeZYFLQe5B3",
        "outputId": "fa93d7ac-802c-4583-fd84-00cd9124d303"
      },
      "source": [
        "'''emails = pd.read_csv('emails.csv')'''"
      ],
      "execution_count": 2,
      "outputs": [
        {
          "output_type": "execute_result",
          "data": {
            "application/vnd.google.colaboratory.intrinsic+json": {
              "type": "string"
            },
            "text/plain": [
              "\"emails = pd.read_csv('emails.csv')\""
            ]
          },
          "metadata": {
            "tags": []
          },
          "execution_count": 2
        }
      ]
    },
    {
      "cell_type": "code",
      "metadata": {
        "colab": {
          "base_uri": "https://localhost:8080/",
          "height": 0
        },
        "id": "GGsU9M_ke5B6",
        "outputId": "7db5934f-7ea4-488e-af12-c61a2865c1a0"
      },
      "source": [
        "'''emails.head()'''"
      ],
      "execution_count": 3,
      "outputs": [
        {
          "output_type": "execute_result",
          "data": {
            "application/vnd.google.colaboratory.intrinsic+json": {
              "type": "string"
            },
            "text/plain": [
              "'emails.head()'"
            ]
          },
          "metadata": {
            "tags": []
          },
          "execution_count": 3
        }
      ]
    },
    {
      "cell_type": "code",
      "metadata": {
        "colab": {
          "base_uri": "https://localhost:8080/",
          "height": 0
        },
        "id": "MLf4Q7A4e5B7",
        "outputId": "7efa1122-f4ca-4c60-a315-b90f0d0d3aa2"
      },
      "source": [
        "'''emails.shape'''"
      ],
      "execution_count": 4,
      "outputs": [
        {
          "output_type": "execute_result",
          "data": {
            "application/vnd.google.colaboratory.intrinsic+json": {
              "type": "string"
            },
            "text/plain": [
              "'emails.shape'"
            ]
          },
          "metadata": {
            "tags": []
          },
          "execution_count": 4
        }
      ]
    },
    {
      "cell_type": "code",
      "metadata": {
        "colab": {
          "base_uri": "https://localhost:8080/",
          "height": 0
        },
        "id": "VUFTzPZme5B7",
        "outputId": "c393e697-6878-4c75-a7c0-390de3115132"
      },
      "source": [
        "'''emails.message[1]'''"
      ],
      "execution_count": 5,
      "outputs": [
        {
          "output_type": "execute_result",
          "data": {
            "application/vnd.google.colaboratory.intrinsic+json": {
              "type": "string"
            },
            "text/plain": [
              "'emails.message[1]'"
            ]
          },
          "metadata": {
            "tags": []
          },
          "execution_count": 5
        }
      ]
    },
    {
      "cell_type": "code",
      "metadata": {
        "colab": {
          "base_uri": "https://localhost:8080/",
          "height": 0
        },
        "id": "fFLhcgOEe5B8",
        "outputId": "677a11b6-8ed8-4c65-f3c2-e9d940d35bb8"
      },
      "source": [
        "'''emails.info()'''"
      ],
      "execution_count": 6,
      "outputs": [
        {
          "output_type": "execute_result",
          "data": {
            "application/vnd.google.colaboratory.intrinsic+json": {
              "type": "string"
            },
            "text/plain": [
              "'emails.info()'"
            ]
          },
          "metadata": {
            "tags": []
          },
          "execution_count": 6
        }
      ]
    },
    {
      "cell_type": "code",
      "metadata": {
        "colab": {
          "base_uri": "https://localhost:8080/",
          "height": 0
        },
        "id": "PDHbn90ve5B8",
        "outputId": "0b2de2b5-f125-4a89-9990-2a7679f54367"
      },
      "source": [
        "'''emails.describe()'''"
      ],
      "execution_count": 7,
      "outputs": [
        {
          "output_type": "execute_result",
          "data": {
            "application/vnd.google.colaboratory.intrinsic+json": {
              "type": "string"
            },
            "text/plain": [
              "'emails.describe()'"
            ]
          },
          "metadata": {
            "tags": []
          },
          "execution_count": 7
        }
      ]
    },
    {
      "cell_type": "markdown",
      "metadata": {
        "id": "wnsaUGmle5B9"
      },
      "source": [
        "## Data Preprocessing"
      ]
    },
    {
      "cell_type": "code",
      "metadata": {
        "colab": {
          "base_uri": "https://localhost:8080/",
          "height": 52
        },
        "id": "SaU1seZKe5B9",
        "outputId": "7f31f499-217c-4913-c7ee-d96a4629df55"
      },
      "source": [
        "#To get the content from email objects\n",
        "'''\n",
        "def get_text_from_email(msg):\n",
        "    parts = []\n",
        "    for part in msg.walk():\n",
        "        if part.get_content_type() == 'text/plain':\n",
        "            parts.append(part.get_payload())\n",
        "    return ''.join(parts) \n",
        "    '''"
      ],
      "execution_count": 8,
      "outputs": [
        {
          "output_type": "execute_result",
          "data": {
            "application/vnd.google.colaboratory.intrinsic+json": {
              "type": "string"
            },
            "text/plain": [
              "\"\\ndef get_text_from_email(msg):\\n    parts = []\\n    for part in msg.walk():\\n        if part.get_content_type() == 'text/plain':\\n            parts.append(part.get_payload())\\n    return ''.join(parts) \\n    \""
            ]
          },
          "metadata": {
            "tags": []
          },
          "execution_count": 8
        }
      ]
    },
    {
      "cell_type": "code",
      "metadata": {
        "colab": {
          "base_uri": "https://localhost:8080/",
          "height": 52
        },
        "id": "HfmNQoqke5B_",
        "outputId": "9c9e03a3-1c7f-4ddf-84ed-73fda700c296"
      },
      "source": [
        "#To separate multiple email addresses\n",
        "'''\n",
        "def split_email_addresses(line):\n",
        "    if line:\n",
        "        addrs = line.split(',')\n",
        "        addrs = frozenset(map(lambda x: x.strip(), addrs))\n",
        "    \n",
        "    else:\n",
        "        addrs = None\n",
        "    return addrs '''"
      ],
      "execution_count": 9,
      "outputs": [
        {
          "output_type": "execute_result",
          "data": {
            "application/vnd.google.colaboratory.intrinsic+json": {
              "type": "string"
            },
            "text/plain": [
              "\"\\ndef split_email_addresses(line):\\n    if line:\\n        addrs = line.split(',')\\n        addrs = frozenset(map(lambda x: x.strip(), addrs))\\n    \\n    else:\\n        addrs = None\\n    return addrs \""
            ]
          },
          "metadata": {
            "tags": []
          },
          "execution_count": 9
        }
      ]
    },
    {
      "cell_type": "code",
      "metadata": {
        "colab": {
          "base_uri": "https://localhost:8080/",
          "height": 120
        },
        "id": "lc_5rIi5e5B_",
        "outputId": "71e754e2-d8f4-480b-a49c-7c428dffa1d9"
      },
      "source": [
        "# Parse the emails into a list email objects\n",
        "'''\n",
        "messages = list(map(email.message_from_string, emails['message']))\n",
        "emails.drop('message', axis=1, inplace=True)\n",
        "\n",
        "# Get fields from parsed email objects\n",
        "keys = messages[0].keys()\n",
        "\n",
        "for key in keys:\n",
        "    emails[key] = [doc[key] for doc in messages]\n",
        "    \n",
        "# Parse content from emails\n",
        "emails['content'] = list(map(get_text_from_email, messages))\n",
        "\n",
        "# Split multiple email addresses\n",
        "emails['From'] = emails['From'].map(split_email_addresses)\n",
        "emails['To'] = emails['To'].map(split_email_addresses)\n",
        "\n",
        "# Extract the root of 'file' as 'user'\n",
        "emails['user'] = emails['file'].map(lambda x:x.split('/')[0])\n",
        "del messages\n",
        "\n",
        "emails.head(10) '''"
      ],
      "execution_count": 10,
      "outputs": [
        {
          "output_type": "execute_result",
          "data": {
            "application/vnd.google.colaboratory.intrinsic+json": {
              "type": "string"
            },
            "text/plain": [
              "\"\\nmessages = list(map(email.message_from_string, emails['message']))\\nemails.drop('message', axis=1, inplace=True)\\n\\n# Get fields from parsed email objects\\nkeys = messages[0].keys()\\n\\nfor key in keys:\\n    emails[key] = [doc[key] for doc in messages]\\n    \\n# Parse content from emails\\nemails['content'] = list(map(get_text_from_email, messages))\\n\\n# Split multiple email addresses\\nemails['From'] = emails['From'].map(split_email_addresses)\\nemails['To'] = emails['To'].map(split_email_addresses)\\n\\n# Extract the root of 'file' as 'user'\\nemails['user'] = emails['file'].map(lambda x:x.split('/')[0])\\ndel messages\\n\\nemails.head(10) \""
            ]
          },
          "metadata": {
            "tags": []
          },
          "execution_count": 10
        }
      ]
    },
    {
      "cell_type": "code",
      "metadata": {
        "colab": {
          "base_uri": "https://localhost:8080/",
          "height": 69
        },
        "id": "k766wcq8e5CA",
        "outputId": "51af818c-f301-4064-e16d-73fda8d068c4"
      },
      "source": [
        "# Set index and drop columns with two few values\n",
        "'''\n",
        "emails = emails.set_index('Message-ID')\\\n",
        "    .drop(['file', 'Mime-Version', 'Content-Type', 'Content-Transfer-Encoding'], axis=1)\n",
        "# Parse datetime\n",
        "emails['Date'] = pd.to_datetime(emails['Date'], infer_datetime_format=True)\n",
        "emails.dtypes '''"
      ],
      "execution_count": 11,
      "outputs": [
        {
          "output_type": "execute_result",
          "data": {
            "application/vnd.google.colaboratory.intrinsic+json": {
              "type": "string"
            },
            "text/plain": [
              "\"\\nemails = emails.set_index('Message-ID')    .drop(['file', 'Mime-Version', 'Content-Type', 'Content-Transfer-Encoding'], axis=1)\\n# Parse datetime\\nemails['Date'] = pd.to_datetime(emails['Date'], infer_datetime_format=True)\\nemails.dtypes \""
            ]
          },
          "metadata": {
            "tags": []
          },
          "execution_count": 11
        }
      ]
    },
    {
      "cell_type": "code",
      "metadata": {
        "colab": {
          "base_uri": "https://localhost:8080/",
          "height": 69
        },
        "id": "1ubWfaike5CA",
        "outputId": "a47ca480-6939-4425-a5c4-21e7249daba3"
      },
      "source": [
        "#Don't need to clean dataset as IBM watson analyser will do it. Might have to do during MODELLING.\n",
        "\n",
        "'''\n",
        "def clean(text):\n",
        "    stop = set(stopwords.words('english'))\n",
        "    stop.update((\"to\", \"cc\", \"subject\", \"http\", \"from\", \"sent\"))\n",
        "    exclude = set(string.punctuation)\n",
        "    \n",
        "    #lemmatization is preferred over Stemming because lemmatization does morphological analysis of the words.\n",
        "    \n",
        "'''"
      ],
      "execution_count": 12,
      "outputs": [
        {
          "output_type": "execute_result",
          "data": {
            "application/vnd.google.colaboratory.intrinsic+json": {
              "type": "string"
            },
            "text/plain": [
              "'\\ndef clean(text):\\n    stop = set(stopwords.words(\\'english\\'))\\n    stop.update((\"to\", \"cc\", \"subject\", \"http\", \"from\", \"sent\"))\\n    exclude = set(string.punctuation)\\n    \\n    #lemmatization is preferred over Stemming because lemmatization does morphological analysis of the words.\\n    \\n'"
            ]
          },
          "metadata": {
            "tags": []
          },
          "execution_count": 12
        }
      ]
    },
    {
      "cell_type": "code",
      "metadata": {
        "colab": {
          "base_uri": "https://localhost:8080/",
          "height": 35
        },
        "id": "_TzucPTGe5CB",
        "outputId": "dbbc0dbf-4bb5-4797-a39d-983b8b6d3165"
      },
      "source": [
        "''' emails['content'][10] '''"
      ],
      "execution_count": 13,
      "outputs": [
        {
          "output_type": "execute_result",
          "data": {
            "application/vnd.google.colaboratory.intrinsic+json": {
              "type": "string"
            },
            "text/plain": [
              "\" emails['content'][10] \""
            ]
          },
          "metadata": {
            "tags": []
          },
          "execution_count": 13
        }
      ]
    },
    {
      "cell_type": "code",
      "metadata": {
        "colab": {
          "base_uri": "https://localhost:8080/",
          "height": 35
        },
        "id": "-CtXCpIHe5CC",
        "outputId": "43278fc1-ac4d-4748-ef45-c5a0e0e5996c"
      },
      "source": [
        "''' tone_df = emails[['content']][:2000] '''"
      ],
      "execution_count": 14,
      "outputs": [
        {
          "output_type": "execute_result",
          "data": {
            "application/vnd.google.colaboratory.intrinsic+json": {
              "type": "string"
            },
            "text/plain": [
              "\" tone_df = emails[['content']][:2000] \""
            ]
          },
          "metadata": {
            "tags": []
          },
          "execution_count": 14
        }
      ]
    },
    {
      "cell_type": "code",
      "metadata": {
        "id": "Eq5o6k5Oe5CC"
      },
      "source": [
        "#new dataset for message content and its tone\n",
        "#tone_df.to_csv(r'/Users/siddharthsingh/CadenceIQ/tone_Analyzer/tone-content-data.csv')\n",
        "#tone_df = pd.read_csv('tone-content-data.csv')"
      ],
      "execution_count": 15,
      "outputs": []
    },
    {
      "cell_type": "code",
      "metadata": {
        "colab": {
          "base_uri": "https://localhost:8080/",
          "height": 35
        },
        "id": "tMN1SQhme5CD",
        "outputId": "32dd111c-16b7-4d32-b10d-2856a3796448"
      },
      "source": [
        "'''tone_df.head()'''"
      ],
      "execution_count": 16,
      "outputs": [
        {
          "output_type": "execute_result",
          "data": {
            "application/vnd.google.colaboratory.intrinsic+json": {
              "type": "string"
            },
            "text/plain": [
              "'tone_df.head()'"
            ]
          },
          "metadata": {
            "tags": []
          },
          "execution_count": 16
        }
      ]
    },
    {
      "cell_type": "code",
      "metadata": {
        "colab": {
          "base_uri": "https://localhost:8080/",
          "height": 35
        },
        "id": "-sLV4okae5CD",
        "outputId": "b81634f8-5e7f-4a04-d6cb-d0fd2789edb9"
      },
      "source": [
        "'''tone_df.shape'''"
      ],
      "execution_count": 17,
      "outputs": [
        {
          "output_type": "execute_result",
          "data": {
            "application/vnd.google.colaboratory.intrinsic+json": {
              "type": "string"
            },
            "text/plain": [
              "'tone_df.shape'"
            ]
          },
          "metadata": {
            "tags": []
          },
          "execution_count": 17
        }
      ]
    },
    {
      "cell_type": "code",
      "metadata": {
        "colab": {
          "base_uri": "https://localhost:8080/",
          "height": 69
        },
        "id": "8ovqDW_Fe5CD",
        "outputId": "4b1d4b9e-00b9-4604-a93b-9a013186b9c9"
      },
      "source": [
        "#IBM watson tone analyser API endpoint \n",
        "'''\n",
        "authenticator = IAMAuthenticator('7UkBO29yBlRAuDZzA5s8Nl-IbmlR3mK1yINRazApqitf')\n",
        "tone_analyzer = ToneAnalyzerV3(\n",
        "    version='2017-09-21',\n",
        "    authenticator=authenticator\n",
        ")\n",
        "tone_analyzer.set_service_url('https://api.us-south.tone-analyzer.watson.cloud.ibm.com/instances/cd914da7-f09f-4298-862d-d4c6005ac8b3')\n",
        "'''"
      ],
      "execution_count": 18,
      "outputs": [
        {
          "output_type": "execute_result",
          "data": {
            "application/vnd.google.colaboratory.intrinsic+json": {
              "type": "string"
            },
            "text/plain": [
              "\"\\nauthenticator = IAMAuthenticator('7UkBO29yBlRAuDZzA5s8Nl-IbmlR3mK1yINRazApqitf')\\ntone_analyzer = ToneAnalyzerV3(\\n    version='2017-09-21',\\n    authenticator=authenticator\\n)\\ntone_analyzer.set_service_url('https://api.us-south.tone-analyzer.watson.cloud.ibm.com/instances/cd914da7-f09f-4298-862d-d4c6005ac8b3')\\n\""
            ]
          },
          "metadata": {
            "tags": []
          },
          "execution_count": 18
        }
      ]
    },
    {
      "cell_type": "code",
      "metadata": {
        "colab": {
          "base_uri": "https://localhost:8080/",
          "height": 35
        },
        "id": "L7CBc4Lre5CE",
        "outputId": "75288034-5ca0-4a75-c4db-3d1eb3620fbe"
      },
      "source": [
        "#Converting column to list. We could also use df['column'].tolist() OR list(tone_df['content'])\n",
        "'''\n",
        "text = list(tone_df['content'])\n",
        "text '''"
      ],
      "execution_count": 19,
      "outputs": [
        {
          "output_type": "execute_result",
          "data": {
            "application/vnd.google.colaboratory.intrinsic+json": {
              "type": "string"
            },
            "text/plain": [
              "\"\\ntext = list(tone_df['content'])\\ntext \""
            ]
          },
          "metadata": {
            "tags": []
          },
          "execution_count": 19
        }
      ]
    },
    {
      "cell_type": "code",
      "metadata": {
        "colab": {
          "base_uri": "https://localhost:8080/",
          "height": 35
        },
        "id": "nhwoXMWhe5CF",
        "outputId": "21842c6a-9099-4fb4-8d34-e645be67b288"
      },
      "source": [
        "'''c = 0\n",
        "list_tones = [] '''"
      ],
      "execution_count": 20,
      "outputs": [
        {
          "output_type": "execute_result",
          "data": {
            "application/vnd.google.colaboratory.intrinsic+json": {
              "type": "string"
            },
            "text/plain": [
              "'c = 0\\nlist_tones = [] '"
            ]
          },
          "metadata": {
            "tags": []
          },
          "execution_count": 20
        }
      ]
    },
    {
      "cell_type": "code",
      "metadata": {
        "colab": {
          "base_uri": "https://localhost:8080/",
          "height": 69
        },
        "id": "ODk2XmSAe5CF",
        "outputId": "88cf0823-3492-499c-e066-8d81ccecc373"
      },
      "source": [
        "'''\n",
        "for i in text:\n",
        "    print(i)\n",
        "    tone_analysis = tone_analyzer.tone(\n",
        "        {'text': i},\n",
        "        content_type='application/json'\n",
        "    ).get_result()\n",
        "    \n",
        "    list_tones.append(json.dumps(tone_analysis, indent=2))\n",
        "    c+=1\n",
        "    \n",
        "tone_df = tone_df.assign(tones = list_tones)\n",
        "#print(json.dumps(tone_analysis, indent=2))     '''"
      ],
      "execution_count": 21,
      "outputs": [
        {
          "output_type": "execute_result",
          "data": {
            "application/vnd.google.colaboratory.intrinsic+json": {
              "type": "string"
            },
            "text/plain": [
              "\"\\nfor i in text:\\n    print(i)\\n    tone_analysis = tone_analyzer.tone(\\n        {'text': i},\\n        content_type='application/json'\\n    ).get_result()\\n    \\n    list_tones.append(json.dumps(tone_analysis, indent=2))\\n    c+=1\\n    \\ntone_df = tone_df.assign(tones = list_tones)\\n#print(json.dumps(tone_analysis, indent=2))     \""
            ]
          },
          "metadata": {
            "tags": []
          },
          "execution_count": 21
        }
      ]
    },
    {
      "cell_type": "code",
      "metadata": {
        "colab": {
          "base_uri": "https://localhost:8080/",
          "height": 35
        },
        "id": "-Hvcb_bVe5CF",
        "outputId": "f7a103b0-c86b-4730-ed42-685c26a431b0"
      },
      "source": [
        "'''tone_df.head()'''"
      ],
      "execution_count": 22,
      "outputs": [
        {
          "output_type": "execute_result",
          "data": {
            "application/vnd.google.colaboratory.intrinsic+json": {
              "type": "string"
            },
            "text/plain": [
              "'tone_df.head()'"
            ]
          },
          "metadata": {
            "tags": []
          },
          "execution_count": 22
        }
      ]
    },
    {
      "cell_type": "code",
      "metadata": {
        "colab": {
          "base_uri": "https://localhost:8080/",
          "height": 35
        },
        "id": "1R3avQPwe5CG",
        "outputId": "95f0053f-7401-4ee8-a03f-d1583c2c9d32"
      },
      "source": [
        "'''tone_df.to_csv(r'/Users/siddharthsingh/CadenceIQ/tone_Analyzer/tone-content-data-og.csv')'''"
      ],
      "execution_count": 23,
      "outputs": [
        {
          "output_type": "execute_result",
          "data": {
            "application/vnd.google.colaboratory.intrinsic+json": {
              "type": "string"
            },
            "text/plain": [
              "\"tone_df.to_csv(r'/Users/siddharthsingh/CadenceIQ/tone_Analyzer/tone-content-data-og.csv')\""
            ]
          },
          "metadata": {
            "tags": []
          },
          "execution_count": 23
        }
      ]
    },
    {
      "cell_type": "code",
      "metadata": {
        "id": "awI7bn9ge5CG"
      },
      "source": [
        "#print(json.dumps(tone_analysis, indent=2)) "
      ],
      "execution_count": 24,
      "outputs": []
    },
    {
      "cell_type": "code",
      "metadata": {
        "id": "DiiQhmhWe5CG"
      },
      "source": [
        "#print(tone_analysis['sentences_tone'][1]['tones'][0])"
      ],
      "execution_count": 25,
      "outputs": []
    },
    {
      "cell_type": "markdown",
      "metadata": {
        "id": "qYxoYG3AIVLx"
      },
      "source": [
        ""
      ]
    },
    {
      "cell_type": "markdown",
      "metadata": {
        "id": "86dXUQZLIXrs"
      },
      "source": [
        "# Enron"
      ]
    },
    {
      "cell_type": "markdown",
      "metadata": {
        "id": "aErVhek5e5CH"
      },
      "source": [
        "## Accessing JSON data to visualize distribution of Enron dataset tones"
      ]
    },
    {
      "cell_type": "code",
      "metadata": {
        "id": "3p7t7k3de5CH"
      },
      "source": [
        "og_tone = pd.read_csv('https://raw.githubusercontent.com/SidtheKidx/tone-classification-CadenceIQ/main/tone-content-data-og.csv?token=AJVH2HYIV7IQOQYGTXJ3XI3AUPGRE')"
      ],
      "execution_count": 26,
      "outputs": []
    },
    {
      "cell_type": "code",
      "metadata": {
        "colab": {
          "base_uri": "https://localhost:8080/",
          "height": 0
        },
        "id": "2t7tayJ0e5CH",
        "outputId": "327550b5-2d77-4198-ad46-2557e02a6d02"
      },
      "source": [
        "og_tone['tones'][5]"
      ],
      "execution_count": 27,
      "outputs": [
        {
          "output_type": "execute_result",
          "data": {
            "application/vnd.google.colaboratory.intrinsic+json": {
              "type": "string"
            },
            "text/plain": [
              "'{\\n  \"document_tone\": {\\n    \"tones\": [\\n      {\\n        \"score\": 0.883404,\\n        \"tone_id\": \"analytical\",\\n        \"tone_name\": \"Analytical\"\\n      },\\n      {\\n        \"score\": 0.994704,\\n        \"tone_id\": \"tentative\",\\n        \"tone_name\": \"Tentative\"\\n      }\\n    ]\\n  },\\n  \"sentences_tone\": [\\n    {\\n      \"sentence_id\": 0,\\n      \"text\": \"Greg,\",\\n      \"tones\": []\\n    },\\n    {\\n      \"sentence_id\": 1,\\n      \"text\": \"\",\\n      \"tones\": []\\n    },\\n    {\\n      \"sentence_id\": 2,\\n      \"text\": \" How about either next Tuesday or Thursday?\",\\n      \"tones\": [\\n        {\\n          \"score\": 0.801827,\\n          \"tone_id\": \"analytical\",\\n          \"tone_name\": \"Analytical\"\\n        },\\n        {\\n          \"score\": 0.974201,\\n          \"tone_id\": \"tentative\",\\n          \"tone_name\": \"Tentative\"\\n        }\\n      ]\\n    },\\n    {\\n      \"sentence_id\": 3,\\n      \"text\": \"Phillip\",\\n      \"tones\": []\\n    }\\n  ]\\n}'"
            ]
          },
          "metadata": {
            "tags": []
          },
          "execution_count": 27
        }
      ]
    },
    {
      "cell_type": "code",
      "metadata": {
        "id": "vlmTDolce5CH"
      },
      "source": [
        "import json"
      ],
      "execution_count": 28,
      "outputs": []
    },
    {
      "cell_type": "code",
      "metadata": {
        "id": "_SMcrECqe5CI"
      },
      "source": [
        "#To replce \\\\n with \\n. Helps in visaualising JSON data.\n",
        "og_tone['tones'].replace(to_replace=[r\"\\\\t|\\\\n|\\\\r\", \"\\t|\\n|\\r\"], value=[\"\",\"\"], regex=True, inplace=True)"
      ],
      "execution_count": 29,
      "outputs": []
    },
    {
      "cell_type": "code",
      "metadata": {
        "colab": {
          "base_uri": "https://localhost:8080/",
          "height": 0
        },
        "id": "ADgksJ6xe5CI",
        "outputId": "94233e67-1d61-4ba3-fb3d-41a79031e854"
      },
      "source": [
        "#Any content with just ONE sentence does NOT have a sentence-id in JSON data.\n",
        "og_tone.head(10)"
      ],
      "execution_count": 30,
      "outputs": [
        {
          "output_type": "execute_result",
          "data": {
            "text/html": [
              "<div>\n",
              "<style scoped>\n",
              "    .dataframe tbody tr th:only-of-type {\n",
              "        vertical-align: middle;\n",
              "    }\n",
              "\n",
              "    .dataframe tbody tr th {\n",
              "        vertical-align: top;\n",
              "    }\n",
              "\n",
              "    .dataframe thead th {\n",
              "        text-align: right;\n",
              "    }\n",
              "</style>\n",
              "<table border=\"1\" class=\"dataframe\">\n",
              "  <thead>\n",
              "    <tr style=\"text-align: right;\">\n",
              "      <th></th>\n",
              "      <th>Unnamed: 0</th>\n",
              "      <th>Message-ID</th>\n",
              "      <th>content</th>\n",
              "      <th>tones</th>\n",
              "    </tr>\n",
              "  </thead>\n",
              "  <tbody>\n",
              "    <tr>\n",
              "      <th>0</th>\n",
              "      <td>0</td>\n",
              "      <td>&lt;18782981.1075855378110.JavaMail.evans@thyme&gt;</td>\n",
              "      <td>Here is our forecast\\n\\n</td>\n",
              "      <td>{  \"document_tone\": {    \"tones\": [      {    ...</td>\n",
              "    </tr>\n",
              "    <tr>\n",
              "      <th>1</th>\n",
              "      <td>1</td>\n",
              "      <td>&lt;15464986.1075855378456.JavaMail.evans@thyme&gt;</td>\n",
              "      <td>Traveling to have a business meeting takes the...</td>\n",
              "      <td>{  \"document_tone\": {    \"tones\": [      {    ...</td>\n",
              "    </tr>\n",
              "    <tr>\n",
              "      <th>2</th>\n",
              "      <td>2</td>\n",
              "      <td>&lt;24216240.1075855687451.JavaMail.evans@thyme&gt;</td>\n",
              "      <td>test successful.  way to go!!!</td>\n",
              "      <td>{  \"document_tone\": {    \"tones\": [      {    ...</td>\n",
              "    </tr>\n",
              "    <tr>\n",
              "      <th>3</th>\n",
              "      <td>3</td>\n",
              "      <td>&lt;13505866.1075863688222.JavaMail.evans@thyme&gt;</td>\n",
              "      <td>Randy,\\n\\n Can you send me a schedule of the s...</td>\n",
              "      <td>{  \"document_tone\": {    \"tones\": [      {    ...</td>\n",
              "    </tr>\n",
              "    <tr>\n",
              "      <th>4</th>\n",
              "      <td>4</td>\n",
              "      <td>&lt;30922949.1075863688243.JavaMail.evans@thyme&gt;</td>\n",
              "      <td>Let's shoot for Tuesday at 11:45.</td>\n",
              "      <td>{  \"document_tone\": {    \"tones\": []  }}</td>\n",
              "    </tr>\n",
              "    <tr>\n",
              "      <th>5</th>\n",
              "      <td>5</td>\n",
              "      <td>&lt;30965995.1075863688265.JavaMail.evans@thyme&gt;</td>\n",
              "      <td>Greg,\\n\\n How about either next Tuesday or Thu...</td>\n",
              "      <td>{  \"document_tone\": {    \"tones\": [      {    ...</td>\n",
              "    </tr>\n",
              "    <tr>\n",
              "      <th>6</th>\n",
              "      <td>6</td>\n",
              "      <td>&lt;16254169.1075863688286.JavaMail.evans@thyme&gt;</td>\n",
              "      <td>Please cc the following distribution list with...</td>\n",
              "      <td>{  \"document_tone\": {    \"tones\": []  },  \"sen...</td>\n",
              "    </tr>\n",
              "    <tr>\n",
              "      <th>7</th>\n",
              "      <td>7</td>\n",
              "      <td>&lt;17189699.1075863688308.JavaMail.evans@thyme&gt;</td>\n",
              "      <td>any morning between 10 and 11:30</td>\n",
              "      <td>{  \"document_tone\": {    \"tones\": [      {    ...</td>\n",
              "    </tr>\n",
              "    <tr>\n",
              "      <th>8</th>\n",
              "      <td>8</td>\n",
              "      <td>&lt;20641191.1075855687472.JavaMail.evans@thyme&gt;</td>\n",
              "      <td>1. login:  pallen pw: ke9davis\\n\\n I don't thi...</td>\n",
              "      <td>{  \"document_tone\": {    \"tones\": [      {    ...</td>\n",
              "    </tr>\n",
              "    <tr>\n",
              "      <th>9</th>\n",
              "      <td>9</td>\n",
              "      <td>&lt;30795301.1075855687494.JavaMail.evans@thyme&gt;</td>\n",
              "      <td>---------------------- Forwarded by Phillip K ...</td>\n",
              "      <td>{  \"document_tone\": {    \"tones\": [      {    ...</td>\n",
              "    </tr>\n",
              "  </tbody>\n",
              "</table>\n",
              "</div>"
            ],
            "text/plain": [
              "   Unnamed: 0  ...                                              tones\n",
              "0           0  ...  {  \"document_tone\": {    \"tones\": [      {    ...\n",
              "1           1  ...  {  \"document_tone\": {    \"tones\": [      {    ...\n",
              "2           2  ...  {  \"document_tone\": {    \"tones\": [      {    ...\n",
              "3           3  ...  {  \"document_tone\": {    \"tones\": [      {    ...\n",
              "4           4  ...           {  \"document_tone\": {    \"tones\": []  }}\n",
              "5           5  ...  {  \"document_tone\": {    \"tones\": [      {    ...\n",
              "6           6  ...  {  \"document_tone\": {    \"tones\": []  },  \"sen...\n",
              "7           7  ...  {  \"document_tone\": {    \"tones\": [      {    ...\n",
              "8           8  ...  {  \"document_tone\": {    \"tones\": [      {    ...\n",
              "9           9  ...  {  \"document_tone\": {    \"tones\": [      {    ...\n",
              "\n",
              "[10 rows x 4 columns]"
            ]
          },
          "metadata": {
            "tags": []
          },
          "execution_count": 30
        }
      ]
    },
    {
      "cell_type": "code",
      "metadata": {
        "colab": {
          "base_uri": "https://localhost:8080/",
          "height": 0
        },
        "id": "CyzXTRDoe5CI",
        "outputId": "196981ae-7ae0-4829-960c-fd007f750b24"
      },
      "source": [
        "og_tone['tones'][5]"
      ],
      "execution_count": 31,
      "outputs": [
        {
          "output_type": "execute_result",
          "data": {
            "application/vnd.google.colaboratory.intrinsic+json": {
              "type": "string"
            },
            "text/plain": [
              "'{  \"document_tone\": {    \"tones\": [      {        \"score\": 0.883404,        \"tone_id\": \"analytical\",        \"tone_name\": \"Analytical\"      },      {        \"score\": 0.994704,        \"tone_id\": \"tentative\",        \"tone_name\": \"Tentative\"      }    ]  },  \"sentences_tone\": [    {      \"sentence_id\": 0,      \"text\": \"Greg,\",      \"tones\": []    },    {      \"sentence_id\": 1,      \"text\": \"\",      \"tones\": []    },    {      \"sentence_id\": 2,      \"text\": \" How about either next Tuesday or Thursday?\",      \"tones\": [        {          \"score\": 0.801827,          \"tone_id\": \"analytical\",          \"tone_name\": \"Analytical\"        },        {          \"score\": 0.974201,          \"tone_id\": \"tentative\",          \"tone_name\": \"Tentative\"        }      ]    },    {      \"sentence_id\": 3,      \"text\": \"Phillip\",      \"tones\": []    }  ]}'"
            ]
          },
          "metadata": {
            "tags": []
          },
          "execution_count": 31
        }
      ]
    },
    {
      "cell_type": "code",
      "metadata": {
        "id": "8w5EtMate5CJ"
      },
      "source": [
        "json_data = pd.read_json('https://raw.githubusercontent.com/SidtheKidx/tone-classification-CadenceIQ/main/ibm-tones.json?token=AJVH2H7DUOT4GHHA25USOGLAUPGXA', lines = True)"
      ],
      "execution_count": 32,
      "outputs": []
    },
    {
      "cell_type": "code",
      "metadata": {
        "colab": {
          "base_uri": "https://localhost:8080/"
        },
        "id": "a0LDD4W9e5CJ",
        "outputId": "cf184313-97fa-4103-dfe3-74b245bc1f66"
      },
      "source": [
        "counter_dict = {\n",
        "    \n",
        "        'anger' : {\n",
        "            'score' : 0,\n",
        "            'count' : 0\n",
        "        }, \n",
        "        'analytical' : {\n",
        "            'score' : 0,\n",
        "            'count' : 0\n",
        "        },\n",
        "        'fear' :{\n",
        "            'score' : 0,\n",
        "            'count' : 0\n",
        "        },\n",
        "        'joy' : {\n",
        "            'score' : 0,\n",
        "            'count' : 0\n",
        "        },\n",
        "        'sadness' : {\n",
        "            'score' : 0,\n",
        "            'count' : 0\n",
        "        },\n",
        "        'confident' : {\n",
        "            'score' : 0,\n",
        "            'count' : 0\n",
        "        },\n",
        "        'tentative' : {\n",
        "            'score' : 0,\n",
        "            'count' : 0\n",
        "        }\n",
        "}\n",
        "\n",
        "for json_data in og_tone['tones']:\n",
        "    data_dict = json.loads(str(json_data))\n",
        "    \n",
        "    for document_tones in data_dict['document_tone']['tones']:\n",
        "        counter_dict[document_tones['tone_id']]['count']+=1\n",
        "        counter_dict[document_tones['tone_id']]['score']= (counter_dict[document_tones['tone_id']]['score'] + document_tones['score'])/2\n",
        "\n",
        "print(counter_dict)"
      ],
      "execution_count": 33,
      "outputs": [
        {
          "output_type": "stream",
          "text": [
            "{'anger': {'score': 0.5338457812499999, 'count': 5}, 'analytical': {'score': 0.8817075917647587, 'count': 857}, 'fear': {'score': 0.6245237031249999, 'count': 9}, 'joy': {'score': 0.627133168507743, 'count': 406}, 'sadness': {'score': 0.5510907781760023, 'count': 164}, 'confident': {'score': 0.8262343132838654, 'count': 137}, 'tentative': {'score': 0.7295375807820894, 'count': 701}}\n"
          ],
          "name": "stdout"
        }
      ]
    },
    {
      "cell_type": "markdown",
      "metadata": {
        "id": "KfEYHtere5CK"
      },
      "source": [
        "### Visualizating Enron tones as a bar plot\n"
      ]
    },
    {
      "cell_type": "code",
      "metadata": {
        "colab": {
          "base_uri": "https://localhost:8080/"
        },
        "id": "4bAqMaZJe5CL",
        "outputId": "a5d6da90-c78c-49ad-d618-6964c8dcd91d"
      },
      "source": [
        "#The dictionary of tones, count & score converted to DATAFRAME for visualization\n",
        "vis_df = pd.DataFrame.from_dict(counter_dict)\n",
        "vis_ax = vis_df.transpose()\n",
        "vis_ax.reset_index(level=0, inplace=True)\n",
        "print(vis_ax)\n",
        "vis_ax['count'].sum()"
      ],
      "execution_count": 34,
      "outputs": [
        {
          "output_type": "stream",
          "text": [
            "        index     score  count\n",
            "0       anger  0.533846    5.0\n",
            "1  analytical  0.881708  857.0\n",
            "2        fear  0.624524    9.0\n",
            "3         joy  0.627133  406.0\n",
            "4     sadness  0.551091  164.0\n",
            "5   confident  0.826234  137.0\n",
            "6   tentative  0.729538  701.0\n"
          ],
          "name": "stdout"
        },
        {
          "output_type": "execute_result",
          "data": {
            "text/plain": [
              "2279.0"
            ]
          },
          "metadata": {
            "tags": []
          },
          "execution_count": 34
        }
      ]
    },
    {
      "cell_type": "markdown",
      "metadata": {
        "id": "k8hemFA-e5CL"
      },
      "source": [
        "### Distribution of tones"
      ]
    },
    {
      "cell_type": "code",
      "metadata": {
        "colab": {
          "base_uri": "https://localhost:8080/",
          "height": 0
        },
        "id": "ex-eNG5fe5CM",
        "outputId": "30effa2c-143e-48fa-f0bf-1c3634f8b4c5"
      },
      "source": [
        "import matplotlib.pyplot as plt\n",
        "import seaborn as sns\n",
        "sns.set()\n",
        "\n",
        "sns.barplot(x = vis_ax['index'], y = vis_ax['count'], data=vis_ax).set_title('Enron tone distribution')"
      ],
      "execution_count": 35,
      "outputs": [
        {
          "output_type": "execute_result",
          "data": {
            "text/plain": [
              "Text(0.5, 1.0, 'Enron tone distribution')"
            ]
          },
          "metadata": {
            "tags": []
          },
          "execution_count": 35
        },
        {
          "output_type": "display_data",
          "data": {
            "image/png": "[encoded data removed]",
            "text/plain": [
              "<Figure size 432x288 with 1 Axes>"
            ]
          },
          "metadata": {
            "tags": []
          }
        }
      ]
    },
    {
      "cell_type": "code",
      "metadata": {
        "id": "L7SAFwNEe5CM"
      },
      "source": [
        "# Indent keyword while dumping the\n",
        "# data decides to what level \n",
        "# spaces the user wants.\n",
        "#print(json.dumps(data_dict, indent = 1))\n",
        "\n",
        "#print(data_dict['sentences_tone'])\n",
        "\n",
        "# Difference in the spaces \n",
        "# near the brackets can be seen\n",
        "#print(json.dumps(data_dict, indent = 3))"
      ],
      "execution_count": 36,
      "outputs": []
    },
    {
      "cell_type": "markdown",
      "metadata": {
        "id": "6HOwDwZSIJUz"
      },
      "source": [
        "# Emotions "
      ]
    },
    {
      "cell_type": "code",
      "metadata": {
        "id": "bIigCMMae5CN",
        "colab": {
          "base_uri": "https://localhost:8080/",
          "height": 120
        },
        "outputId": "176b7403-62c0-45f6-e40d-873c9044657d"
      },
      "source": [
        "'''\n",
        "df_train = pd.read_csv(\"https://raw.githubusercontent.com/SidtheKidx/tone-classification-CadenceIQ/main/train.txt?token=AJVH2H4F5Z6JZR4HLPOLW2LAUUVDY\", delimiter=';', header=None, names=['sentence','label'])\n",
        "df_test = pd.read_csv(\"https://raw.githubusercontent.com/SidtheKidx/tone-classification-CadenceIQ/main/test.txt?token=AJVH2H2F2JDLRJGIOMOAPODAUUSO4\", delimiter=';', header=None, names=['sentence','label'])\n",
        "df_val = pd.read_csv(\"https://raw.githubusercontent.com/SidtheKidx/tone-classification-CadenceIQ/main/val.txt?token=AJVH2HZBVEYAICGQYN7TT33AUUVF6\", delimiter=';', header=None, names=['sentence','label'])\n",
        "'''"
      ],
      "execution_count": 37,
      "outputs": [
        {
          "output_type": "execute_result",
          "data": {
            "application/vnd.google.colaboratory.intrinsic+json": {
              "type": "string"
            },
            "text/plain": [
              "'\\ndf_train = pd.read_csv(\"https://raw.githubusercontent.com/SidtheKidx/tone-classification-CadenceIQ/main/train.txt?token=AJVH2H4F5Z6JZR4HLPOLW2LAUUVDY\", delimiter=\\';\\', header=None, names=[\\'sentence\\',\\'label\\'])\\ndf_test = pd.read_csv(\"https://raw.githubusercontent.com/SidtheKidx/tone-classification-CadenceIQ/main/test.txt?token=AJVH2H2F2JDLRJGIOMOAPODAUUSO4\", delimiter=\\';\\', header=None, names=[\\'sentence\\',\\'label\\'])\\ndf_val = pd.read_csv(\"https://raw.githubusercontent.com/SidtheKidx/tone-classification-CadenceIQ/main/val.txt?token=AJVH2HZBVEYAICGQYN7TT33AUUVF6\", delimiter=\\';\\', header=None, names=[\\'sentence\\',\\'label\\'])\\n'"
            ]
          },
          "metadata": {
            "tags": []
          },
          "execution_count": 37
        }
      ]
    },
    {
      "cell_type": "code",
      "metadata": {
        "id": "DQKHNzBBe5CN"
      },
      "source": [
        "#emo_df = pd.concat([df_train,df_test,df_val])"
      ],
      "execution_count": 38,
      "outputs": []
    },
    {
      "cell_type": "code",
      "metadata": {
        "id": "IZEfSv5Ee5CN"
      },
      "source": [
        "#emo_df['label'].unique()"
      ],
      "execution_count": 39,
      "outputs": []
    },
    {
      "cell_type": "code",
      "metadata": {
        "id": "sx5SMlT4e5CO"
      },
      "source": [
        "#emo_df.describe()"
      ],
      "execution_count": 40,
      "outputs": []
    },
    {
      "cell_type": "code",
      "metadata": {
        "colab": {
          "base_uri": "https://localhost:8080/",
          "height": 35
        },
        "id": "uCtLiEgle5CO",
        "outputId": "e6fdb6ad-3385-4ef8-f08e-f2b86ea7a40d"
      },
      "source": [
        "#Counting tone distribution count across sentences\n",
        "'''\n",
        "count = emo_df['label'].value_counts()\n",
        "print(count)\n",
        "count.sum()\n",
        "'''"
      ],
      "execution_count": 41,
      "outputs": [
        {
          "output_type": "execute_result",
          "data": {
            "application/vnd.google.colaboratory.intrinsic+json": {
              "type": "string"
            },
            "text/plain": [
              "\"\\ncount = emo_df['label'].value_counts()\\nprint(count)\\ncount.sum()\\n\""
            ]
          },
          "metadata": {
            "tags": []
          },
          "execution_count": 41
        }
      ]
    },
    {
      "cell_type": "code",
      "metadata": {
        "id": "sEef6ckae5CP"
      },
      "source": [
        "#emo_df1 = emo_df[:1500].copy()\n",
        "#emo_df1_v2 = emo_df[1500:6000].copy()"
      ],
      "execution_count": 42,
      "outputs": []
    },
    {
      "cell_type": "code",
      "metadata": {
        "id": "xkywrTKCe5CP"
      },
      "source": [
        "#emo_df1.shape\n",
        "#emo_df1_v2.shape"
      ],
      "execution_count": 43,
      "outputs": []
    },
    {
      "cell_type": "code",
      "metadata": {
        "id": "CVSEq75we5CP"
      },
      "source": [
        "#emo_df1.head()\n",
        "#emo_df1_v2.head()"
      ],
      "execution_count": 44,
      "outputs": []
    },
    {
      "cell_type": "code",
      "metadata": {
        "id": "cpyHrBRge5CQ"
      },
      "source": [
        "#emo_df1.describe()\n",
        "#emo_df1_v2.describe()"
      ],
      "execution_count": 45,
      "outputs": []
    },
    {
      "cell_type": "code",
      "metadata": {
        "colab": {
          "base_uri": "https://localhost:8080/",
          "height": 35
        },
        "id": "idbsGVRne5CQ",
        "outputId": "42693023-f7f3-43cc-a568-b050dec9da68"
      },
      "source": [
        "'''\n",
        "count_df1 = emo_df1['label'].value_counts()\n",
        "print(count_df1)\n",
        "count_df1.sum()\n",
        "'''\n",
        "'''\n",
        "count_df1_v2 = emo_df1_v2['label'].value_counts()\n",
        "print(count_df1_v2)\n",
        "count_df1_v2.sum()\n",
        "'''"
      ],
      "execution_count": 46,
      "outputs": [
        {
          "output_type": "execute_result",
          "data": {
            "application/vnd.google.colaboratory.intrinsic+json": {
              "type": "string"
            },
            "text/plain": [
              "\"\\ncount_df1_v2 = emo_df1_v2['label'].value_counts()\\nprint(count_df1_v2)\\ncount_df1_v2.sum()\\n\""
            ]
          },
          "metadata": {
            "tags": []
          },
          "execution_count": 46
        }
      ]
    },
    {
      "cell_type": "code",
      "metadata": {
        "id": "jF5nH2oAe5CR"
      },
      "source": [
        "#sns.countplot(x=count_df1, data = emo_df1['label'])\n",
        "#sns.countplot(x=count_df1_v2, data = emo_df1_v2['label'])"
      ],
      "execution_count": 47,
      "outputs": []
    },
    {
      "cell_type": "markdown",
      "metadata": {
        "id": "Mn0SNNO7e5CR"
      },
      "source": [
        "## Accessing JSON data to visualize distribution of Emotions dataset tones"
      ]
    },
    {
      "cell_type": "code",
      "metadata": {
        "colab": {
          "base_uri": "https://localhost:8080/",
          "height": 69
        },
        "id": "531rgEuAe5CR",
        "outputId": "7ebceddf-fe1c-494f-b6ce-a9eb6e114682"
      },
      "source": [
        "#IBM watson tone analyser API endpoint \n",
        "'''\n",
        "authenticator = IAMAuthenticator('SwdiI5vCKkgeyJuYIEwhOkajctEnxTR-F7OYZ4pvF9GE')\n",
        "tone_analyzer = ToneAnalyzerV3(\n",
        "    version='2017-09-21',\n",
        "    authenticator=authenticator\n",
        ")\n",
        "tone_analyzer.set_service_url('https://api.us-south.tone-analyzer.watson.cloud.ibm.com/instances/3e193de0-bcaa-47c0-8898-4c68a520ce78')\n",
        "'''"
      ],
      "execution_count": 48,
      "outputs": [
        {
          "output_type": "execute_result",
          "data": {
            "application/vnd.google.colaboratory.intrinsic+json": {
              "type": "string"
            },
            "text/plain": [
              "\"\\nauthenticator = IAMAuthenticator('SwdiI5vCKkgeyJuYIEwhOkajctEnxTR-F7OYZ4pvF9GE')\\ntone_analyzer = ToneAnalyzerV3(\\n    version='2017-09-21',\\n    authenticator=authenticator\\n)\\ntone_analyzer.set_service_url('https://api.us-south.tone-analyzer.watson.cloud.ibm.com/instances/3e193de0-bcaa-47c0-8898-4c68a520ce78')\\n\""
            ]
          },
          "metadata": {
            "tags": []
          },
          "execution_count": 48
        }
      ]
    },
    {
      "cell_type": "code",
      "metadata": {
        "colab": {
          "base_uri": "https://localhost:8080/",
          "height": 35
        },
        "id": "LevUdTsHe5CR",
        "outputId": "5153086a-4c43-4103-d5dc-ac3e117fee13"
      },
      "source": [
        "#Converting column to list. \n",
        "'''\n",
        "text = list(emo_df1['sentence'])\n",
        "text\n",
        "''' \n",
        "'''\n",
        "text_v2 = list(emo_df1_v2['sentence'])\n",
        "text_v2\n",
        "'''"
      ],
      "execution_count": 49,
      "outputs": [
        {
          "output_type": "execute_result",
          "data": {
            "application/vnd.google.colaboratory.intrinsic+json": {
              "type": "string"
            },
            "text/plain": [
              "\"\\ntext_v2 = list(emo_df1_v2['sentence'])\\ntext_v2\\n\""
            ]
          },
          "metadata": {
            "tags": []
          },
          "execution_count": 49
        }
      ]
    },
    {
      "cell_type": "code",
      "metadata": {
        "colab": {
          "base_uri": "https://localhost:8080/",
          "height": 86
        },
        "id": "2N5Nwq17e5CS",
        "outputId": "051cad6a-2901-4e34-9c0c-2378436b382a"
      },
      "source": [
        "'''\n",
        "c = 0\n",
        "list_tones = []\n",
        "\n",
        "\n",
        "for i in text:\n",
        "    print(i)\n",
        "    tone_analysis = tone_analyzer.tone(\n",
        "        {'text': i},\n",
        "        content_type='application/json'\n",
        "    ).get_result()\n",
        "\n",
        "    list_tones.append(json.dumps(tone_analysis, indent=2))\n",
        "    c+=1\n",
        "\n",
        "emo_df1 = emo_df1.assign(tones = list_tones)\n",
        "#print(json.dumps(tone_analysis, indent=2)) \n",
        "'''\n",
        "\n",
        "#For the V2 dataset\n",
        "'''\n",
        "c_v2 = 0\n",
        "list_tones_v2 = []\n",
        "\n",
        "\n",
        "for i in text_v2:\n",
        "    print(i)\n",
        "    tone_analysis = tone_analyzer.tone(\n",
        "        {'text': i},\n",
        "        content_type='application/json'\n",
        "    ).get_result()\n",
        "\n",
        "    list_tones_v2.append(json.dumps(tone_analysis, indent=2))\n",
        "    c_v2+=1\n",
        "\n",
        "emo_df1_v2 = emo_df1_v2.assign(tones = list_tones_v2)\n",
        "#print(json.dumps(tone_analysis, indent=2)) \n",
        "'''"
      ],
      "execution_count": 50,
      "outputs": [
        {
          "output_type": "execute_result",
          "data": {
            "application/vnd.google.colaboratory.intrinsic+json": {
              "type": "string"
            },
            "text/plain": [
              "\"\\nc_v2 = 0\\nlist_tones_v2 = []\\n\\n\\nfor i in text_v2:\\n    print(i)\\n    tone_analysis = tone_analyzer.tone(\\n        {'text': i},\\n        content_type='application/json'\\n    ).get_result()\\n\\n    list_tones_v2.append(json.dumps(tone_analysis, indent=2))\\n    c_v2+=1\\n\\nemo_df1_v2 = emo_df1_v2.assign(tones = list_tones_v2)\\n#print(json.dumps(tone_analysis, indent=2)) \\n\""
            ]
          },
          "metadata": {
            "tags": []
          },
          "execution_count": 50
        }
      ]
    },
    {
      "cell_type": "code",
      "metadata": {
        "id": "-OIiq_Ebe5CS"
      },
      "source": [
        "#emo_df1_v2.head(10)"
      ],
      "execution_count": 51,
      "outputs": []
    },
    {
      "cell_type": "code",
      "metadata": {
        "id": "ptmrGUVoe5CT"
      },
      "source": [
        "#emo_df1['sentence'][9]"
      ],
      "execution_count": 52,
      "outputs": []
    },
    {
      "cell_type": "code",
      "metadata": {
        "id": "yebWStzxe5CT"
      },
      "source": [
        "#emo_df1['tones'][7]"
      ],
      "execution_count": 53,
      "outputs": []
    },
    {
      "cell_type": "code",
      "metadata": {
        "id": "0SkJHYnne5CU"
      },
      "source": [
        "#emo_df1['tones'].replace(to_replace=[r\"\\\\t|\\\\n|\\\\r\", \"\\t|\\n|\\r\"], value=[\"\",\"\"], regex=True, inplace=True)\n",
        "#emo_df1_v2['tones'].replace(to_replace=[r\"\\\\t|\\\\n|\\\\r\", \"\\t|\\n|\\r\"], value=[\"\",\"\"], regex=True, inplace=True)"
      ],
      "execution_count": 54,
      "outputs": []
    },
    {
      "cell_type": "code",
      "metadata": {
        "id": "l_QvhxD7e5CU"
      },
      "source": [
        "#emo_df1['tones'][7]"
      ],
      "execution_count": 55,
      "outputs": []
    },
    {
      "cell_type": "code",
      "metadata": {
        "id": "pXveHO5Re5CU"
      },
      "source": [
        "#Initializing both emotions dataframe\n",
        "emo_df1 = pd.read_csv('https://raw.githubusercontent.com/SidtheKidx/tone-classification-CadenceIQ/main/Emotions-tone-data-og.csv?token=AJVH2H5UPGH7S3G6U7QCX23AUPG2C')\n",
        "emo_df1_v2 = pd.read_csv('https://raw.githubusercontent.com/SidtheKidx/tone-classification-CadenceIQ/main/Emotions-tone-data-v2.csv?token=AJVH2H2TKHP5IK23Q2HSG33AUZ7EO')"
      ],
      "execution_count": 56,
      "outputs": []
    },
    {
      "cell_type": "code",
      "metadata": {
        "id": "FcVVAaNJcxfQ",
        "outputId": "85814fa0-11e0-498f-c8b4-d9a5220a5be1",
        "colab": {
          "base_uri": "https://localhost:8080/",
          "height": 52
        }
      },
      "source": [
        "#Converting emo_df1_v2 to CSV\n",
        "'''\n",
        "from google.colab import files\n",
        "emo_df1_v2.to_csv('Emotions-tone-data-v2.csv') \n",
        "files.download('Emotions-tone-data-v2.csv')\n",
        "'''"
      ],
      "execution_count": 57,
      "outputs": [
        {
          "output_type": "execute_result",
          "data": {
            "application/vnd.google.colaboratory.intrinsic+json": {
              "type": "string"
            },
            "text/plain": [
              "\"\\nfrom google.colab import files\\nemo_df1_v2.to_csv('Emotions-tone-data-v2.csv') \\nfiles.download('Emotions-tone-data-v2.csv')\\n\""
            ]
          },
          "metadata": {
            "tags": []
          },
          "execution_count": 57
        }
      ]
    },
    {
      "cell_type": "code",
      "metadata": {
        "id": "Ax1_hZEIiJX7",
        "outputId": "43ff15ea-d873-45de-d1c7-f84d77cbb3cc",
        "colab": {
          "base_uri": "https://localhost:8080/",
          "height": 35
        }
      },
      "source": [
        "#Convert emo_df1_v2 to JSON\n",
        "'''\n",
        "emo_df1_v2.to_json(r'Emotions-tone-data-v2.json')\n",
        "files.download('Emotions-tone-data-v2.json')\n",
        "'''"
      ],
      "execution_count": 58,
      "outputs": [
        {
          "output_type": "execute_result",
          "data": {
            "application/vnd.google.colaboratory.intrinsic+json": {
              "type": "string"
            },
            "text/plain": [
              "\"\\nemo_df1_v2.to_json(r'Emotions-tone-data-v2.json')\\nfiles.download('Emotions-tone-data-v2.json')\\n\""
            ]
          },
          "metadata": {
            "tags": []
          },
          "execution_count": 58
        }
      ]
    },
    {
      "cell_type": "code",
      "metadata": {
        "id": "tfIvc99Qe5CU",
        "colab": {
          "base_uri": "https://localhost:8080/",
          "height": 86
        },
        "outputId": "12b22acf-01cd-4e55-cc82-685a0d1156c1"
      },
      "source": [
        "#JSON import of tones\n",
        "'''\n",
        "json_df1 = pd.read_json('https://raw.githubusercontent.com/SidtheKidx/tone-classification-CadenceIQ/main/emotions-tones.json?token=AJVH2HZ43QZOIEERHYLU3FTAUPG5K', lines=True)\n",
        "json_df1_v2 = pd.read_json('https://raw.githubusercontent.com/SidtheKidx/tone-classification-CadenceIQ/main/Emotions-tone-data-v2.json?token=AJVH2HZ2WL7UFLOMLSIAUP3AUZ7WA', lines=True)\n",
        "'''"
      ],
      "execution_count": 59,
      "outputs": [
        {
          "output_type": "execute_result",
          "data": {
            "application/vnd.google.colaboratory.intrinsic+json": {
              "type": "string"
            },
            "text/plain": [
              "\"\\njson_df1 = pd.read_json('https://raw.githubusercontent.com/SidtheKidx/tone-classification-CadenceIQ/main/emotions-tones.json?token=AJVH2HZ43QZOIEERHYLU3FTAUPG5K', lines=True)\\njson_df1_v2 = pd.read_json('https://raw.githubusercontent.com/SidtheKidx/tone-classification-CadenceIQ/main/Emotions-tone-data-v2.json?token=AJVH2HZ2WL7UFLOMLSIAUP3AUZ7WA', lines=True)\\n\""
            ]
          },
          "metadata": {
            "tags": []
          },
          "execution_count": 59
        }
      ]
    },
    {
      "cell_type": "code",
      "metadata": {
        "colab": {
          "base_uri": "https://localhost:8080/"
        },
        "id": "ZjbE4XDme5CV",
        "outputId": "5a3186e3-dbce-4b72-fd85-7ba23528c866"
      },
      "source": [
        "counter_dict_df1 = {\n",
        "    \n",
        "        'anger' : {\n",
        "            'score' : 0,\n",
        "            'count' : 0\n",
        "        }, \n",
        "        'analytical' : {\n",
        "            'score' : 0,\n",
        "            'count' : 0\n",
        "        },\n",
        "        'fear' :{\n",
        "            'score' : 0,\n",
        "            'count' : 0\n",
        "        },\n",
        "        'joy' : {\n",
        "            'score' : 0,\n",
        "            'count' : 0\n",
        "        },\n",
        "        'sadness' : {\n",
        "            'score' : 0,\n",
        "            'count' : 0\n",
        "        },\n",
        "        'confident' : {\n",
        "            'score' : 0,\n",
        "            'count' : 0\n",
        "        },\n",
        "        'tentative' : {\n",
        "            'score' : 0,\n",
        "            'count' : 0\n",
        "        }\n",
        "}\n",
        "\n",
        "for json_df1 in emo_df1['tones']:\n",
        "    data_dict_df1 = json.loads(str(json_df1))\n",
        "    \n",
        "    for document_tones_df1 in data_dict_df1['document_tone']['tones']:\n",
        "        counter_dict_df1[document_tones_df1['tone_id']]['count']+=1\n",
        "        counter_dict_df1[document_tones_df1['tone_id']]['score']= (counter_dict_df1[document_tones_df1['tone_id']]['score'] + document_tones_df1['score'])/2\n",
        "\n",
        "print(counter_dict_df1)"
      ],
      "execution_count": 60,
      "outputs": [
        {
          "output_type": "stream",
          "text": [
            "{'anger': {'score': 0.8169358478850066, 'count': 65}, 'analytical': {'score': 0.6774187241612544, 'count': 486}, 'fear': {'score': 0.6939395931996024, 'count': 88}, 'joy': {'score': 0.809484227948831, 'count': 425}, 'sadness': {'score': 0.5923032265169048, 'count': 473}, 'confident': {'score': 0.6064177371491613, 'count': 133}, 'tentative': {'score': 0.9124142916008007, 'count': 588}}\n"
          ],
          "name": "stdout"
        }
      ]
    },
    {
      "cell_type": "code",
      "metadata": {
        "id": "tpVuStlKWE_v",
        "outputId": "c214abcd-552d-471b-e4c8-7f5caca08d34",
        "colab": {
          "base_uri": "https://localhost:8080/"
        }
      },
      "source": [
        "#FOR v2\n",
        "counter_dict_df1_v2 = {\n",
        "    \n",
        "        'anger' : {\n",
        "            'score' : 0,\n",
        "            'count' : 0\n",
        "        }, \n",
        "        'analytical' : {\n",
        "            'score' : 0,\n",
        "            'count' : 0\n",
        "        },\n",
        "        'fear' :{\n",
        "            'score' : 0,\n",
        "            'count' : 0\n",
        "        },\n",
        "        'joy' : {\n",
        "            'score' : 0,\n",
        "            'count' : 0\n",
        "        },\n",
        "        'sadness' : {\n",
        "            'score' : 0,\n",
        "            'count' : 0\n",
        "        },\n",
        "        'confident' : {\n",
        "            'score' : 0,\n",
        "            'count' : 0\n",
        "        },\n",
        "        'tentative' : {\n",
        "            'score' : 0,\n",
        "            'count' : 0\n",
        "        }\n",
        "}\n",
        "\n",
        "for json_df1_v2 in emo_df1_v2['tones']:\n",
        "    data_dict_df1_v2 = json.loads(str(json_df1_v2))\n",
        "    \n",
        "    for document_tones_df1_v2 in data_dict_df1_v2['document_tone']['tones']:\n",
        "        counter_dict_df1_v2[document_tones_df1_v2['tone_id']]['count']+=1\n",
        "        counter_dict_df1_v2[document_tones_df1_v2['tone_id']]['score']= (counter_dict_df1_v2[document_tones_df1_v2['tone_id']]['score'] + document_tones_df1_v2['score'])/2\n",
        "\n",
        "print(counter_dict_df1_v2)"
      ],
      "execution_count": 61,
      "outputs": [
        {
          "output_type": "stream",
          "text": [
            "{'anger': {'score': 0.6179971247619306, 'count': 204}, 'analytical': {'score': 0.7921190339406974, 'count': 1494}, 'fear': {'score': 0.8049503594753276, 'count': 263}, 'joy': {'score': 0.7047886920138364, 'count': 1122}, 'sadness': {'score': 0.6456233699002756, 'count': 1529}, 'confident': {'score': 0.8236277040881514, 'count': 373}, 'tentative': {'score': 0.8508544997814316, 'count': 1853}}\n"
          ],
          "name": "stdout"
        }
      ]
    },
    {
      "cell_type": "markdown",
      "metadata": {
        "id": "6uCaDpTCe5CV"
      },
      "source": [
        "### Visualizing Emotions tones as bar plot"
      ]
    },
    {
      "cell_type": "code",
      "metadata": {
        "colab": {
          "base_uri": "https://localhost:8080/"
        },
        "id": "vSq8OB8ye5CW",
        "outputId": "36f07ab6-36eb-48da-f9bf-8d1974458b4d"
      },
      "source": [
        "#The dictionary of tones, count & score converted to DATAFRAME for visualization\n",
        "\n",
        "vis_df1 = pd.DataFrame.from_dict(counter_dict_df1)\n",
        "vis_ax1 = vis_df1.transpose()\n",
        "vis_ax1.reset_index(level=0, inplace=True)\n",
        "print(vis_ax1)\n",
        "vis_ax1['count'].sum()"
      ],
      "execution_count": 62,
      "outputs": [
        {
          "output_type": "stream",
          "text": [
            "        index     score  count\n",
            "0       anger  0.816936   65.0\n",
            "1  analytical  0.677419  486.0\n",
            "2        fear  0.693940   88.0\n",
            "3         joy  0.809484  425.0\n",
            "4     sadness  0.592303  473.0\n",
            "5   confident  0.606418  133.0\n",
            "6   tentative  0.912414  588.0\n"
          ],
          "name": "stdout"
        },
        {
          "output_type": "execute_result",
          "data": {
            "text/plain": [
              "2258.0"
            ]
          },
          "metadata": {
            "tags": []
          },
          "execution_count": 62
        }
      ]
    },
    {
      "cell_type": "code",
      "metadata": {
        "id": "AAku0aP4XHk9",
        "outputId": "f1a66d15-7286-4339-e781-ae241660d82e",
        "colab": {
          "base_uri": "https://localhost:8080/"
        }
      },
      "source": [
        "vis_df1_v2 = pd.DataFrame.from_dict(counter_dict_df1_v2)\n",
        "vis_ax1_v2 = vis_df1_v2.transpose()\n",
        "vis_ax1_v2.reset_index(level=0, inplace=True)\n",
        "print(vis_ax1_v2)\n",
        "vis_ax1_v2['count'].sum()"
      ],
      "execution_count": 63,
      "outputs": [
        {
          "output_type": "stream",
          "text": [
            "        index     score   count\n",
            "0       anger  0.617997   204.0\n",
            "1  analytical  0.792119  1494.0\n",
            "2        fear  0.804950   263.0\n",
            "3         joy  0.704789  1122.0\n",
            "4     sadness  0.645623  1529.0\n",
            "5   confident  0.823628   373.0\n",
            "6   tentative  0.850854  1853.0\n"
          ],
          "name": "stdout"
        },
        {
          "output_type": "execute_result",
          "data": {
            "text/plain": [
              "6838.0"
            ]
          },
          "metadata": {
            "tags": []
          },
          "execution_count": 63
        }
      ]
    },
    {
      "cell_type": "markdown",
      "metadata": {
        "id": "j9zYA5-VJ2pq"
      },
      "source": [
        "### Distribution of tones"
      ]
    },
    {
      "cell_type": "code",
      "metadata": {
        "colab": {
          "base_uri": "https://localhost:8080/",
          "height": 318
        },
        "id": "NqWbKIWhe5CX",
        "outputId": "2bd5e703-ed6b-410d-c4b7-d529252d1e01"
      },
      "source": [
        "sns.barplot(x = vis_ax1['index'], y = vis_ax1['count'], data=vis_ax1).set_title('Emotions tone distribution')"
      ],
      "execution_count": 64,
      "outputs": [
        {
          "output_type": "execute_result",
          "data": {
            "text/plain": [
              "Text(0.5, 1.0, 'Emotions tone distribution')"
            ]
          },
          "metadata": {
            "tags": []
          },
          "execution_count": 64
        },
        {
          "output_type": "display_data",
          "data": {
            "image/png": "[encoded data removed]",
            "text/plain": [
              "<Figure size 432x288 with 1 Axes>"
            ]
          },
          "metadata": {
            "tags": []
          }
        }
      ]
    },
    {
      "cell_type": "code",
      "metadata": {
        "id": "5zNaCZiOYYV8",
        "outputId": "b4833a47-3a6a-4c50-affa-136fd9a48ba6",
        "colab": {
          "base_uri": "https://localhost:8080/",
          "height": 318
        }
      },
      "source": [
        "sns.barplot(x = vis_ax1_v2['index'], y = vis_ax1_v2['count'], data=vis_ax1_v2).set_title('Emotions tone distribution v2')"
      ],
      "execution_count": 65,
      "outputs": [
        {
          "output_type": "execute_result",
          "data": {
            "text/plain": [
              "Text(0.5, 1.0, 'Emotions tone distribution v2')"
            ]
          },
          "metadata": {
            "tags": []
          },
          "execution_count": 65
        },
        {
          "output_type": "display_data",
          "data": {
            "image/png": "[encoded data removed]",
            "text/plain": [
              "<Figure size 432x288 with 1 Axes>"
            ]
          },
          "metadata": {
            "tags": []
          }
        }
      ]
    },
    {
      "cell_type": "markdown",
      "metadata": {
        "id": "c8GFw9kg7ElU"
      },
      "source": [
        "# Text encoding & Tokenization for BERT"
      ]
    },
    {
      "cell_type": "markdown",
      "metadata": {
        "id": "OVMdI9PTLjr5"
      },
      "source": [
        "## Emotions"
      ]
    },
    {
      "cell_type": "code",
      "metadata": {
        "colab": {
          "base_uri": "https://localhost:8080/",
          "height": 204
        },
        "id": "qtIvuvrjQgqf",
        "outputId": "e491f88a-3469-427c-f731-7842d3f4f421"
      },
      "source": [
        "emo_df1.head()"
      ],
      "execution_count": 66,
      "outputs": [
        {
          "output_type": "execute_result",
          "data": {
            "text/html": [
              "<div>\n",
              "<style scoped>\n",
              "    .dataframe tbody tr th:only-of-type {\n",
              "        vertical-align: middle;\n",
              "    }\n",
              "\n",
              "    .dataframe tbody tr th {\n",
              "        vertical-align: top;\n",
              "    }\n",
              "\n",
              "    .dataframe thead th {\n",
              "        text-align: right;\n",
              "    }\n",
              "</style>\n",
              "<table border=\"1\" class=\"dataframe\">\n",
              "  <thead>\n",
              "    <tr style=\"text-align: right;\">\n",
              "      <th></th>\n",
              "      <th>Unnamed: 0</th>\n",
              "      <th>sentence</th>\n",
              "      <th>label</th>\n",
              "      <th>tones</th>\n",
              "    </tr>\n",
              "  </thead>\n",
              "  <tbody>\n",
              "    <tr>\n",
              "      <th>0</th>\n",
              "      <td>0</td>\n",
              "      <td>i didnt feel humiliated</td>\n",
              "      <td>sadness</td>\n",
              "      <td>{  \"document_tone\": {    \"tones\": [      {    ...</td>\n",
              "    </tr>\n",
              "    <tr>\n",
              "      <th>1</th>\n",
              "      <td>1</td>\n",
              "      <td>i can go from feeling so hopeless to so damned...</td>\n",
              "      <td>sadness</td>\n",
              "      <td>{  \"document_tone\": {    \"tones\": [      {    ...</td>\n",
              "    </tr>\n",
              "    <tr>\n",
              "      <th>2</th>\n",
              "      <td>2</td>\n",
              "      <td>im grabbing a minute to post i feel greedy wrong</td>\n",
              "      <td>anger</td>\n",
              "      <td>{  \"document_tone\": {    \"tones\": [      {    ...</td>\n",
              "    </tr>\n",
              "    <tr>\n",
              "      <th>3</th>\n",
              "      <td>3</td>\n",
              "      <td>i am ever feeling nostalgic about the fireplac...</td>\n",
              "      <td>love</td>\n",
              "      <td>{  \"document_tone\": {    \"tones\": [      {    ...</td>\n",
              "    </tr>\n",
              "    <tr>\n",
              "      <th>4</th>\n",
              "      <td>4</td>\n",
              "      <td>i am feeling grouchy</td>\n",
              "      <td>anger</td>\n",
              "      <td>{  \"document_tone\": {    \"tones\": [      {    ...</td>\n",
              "    </tr>\n",
              "  </tbody>\n",
              "</table>\n",
              "</div>"
            ],
            "text/plain": [
              "   Unnamed: 0  ...                                              tones\n",
              "0           0  ...  {  \"document_tone\": {    \"tones\": [      {    ...\n",
              "1           1  ...  {  \"document_tone\": {    \"tones\": [      {    ...\n",
              "2           2  ...  {  \"document_tone\": {    \"tones\": [      {    ...\n",
              "3           3  ...  {  \"document_tone\": {    \"tones\": [      {    ...\n",
              "4           4  ...  {  \"document_tone\": {    \"tones\": [      {    ...\n",
              "\n",
              "[5 rows x 4 columns]"
            ]
          },
          "metadata": {
            "tags": []
          },
          "execution_count": 66
        }
      ]
    },
    {
      "cell_type": "code",
      "metadata": {
        "colab": {
          "base_uri": "https://localhost:8080/",
          "height": 69
        },
        "id": "Z21pdwSEPz6j",
        "outputId": "0a52568c-68c7-4de7-fec3-4989c4fc138f"
      },
      "source": [
        "emo_df1['tones'][7]"
      ],
      "execution_count": 67,
      "outputs": [
        {
          "output_type": "execute_result",
          "data": {
            "application/vnd.google.colaboratory.intrinsic+json": {
              "type": "string"
            },
            "text/plain": [
              "'{  \"document_tone\": {    \"tones\": [      {        \"score\": 0.707291,        \"tone_id\": \"sadness\",        \"tone_name\": \"Sadness\"      },      {        \"score\": 0.954099,        \"tone_id\": \"tentative\",        \"tone_name\": \"Tentative\"      }    ]  }}'"
            ]
          },
          "metadata": {
            "tags": []
          },
          "execution_count": 67
        }
      ]
    },
    {
      "cell_type": "code",
      "metadata": {
        "colab": {
          "base_uri": "https://localhost:8080/"
        },
        "id": "iFUG47d5y7OP",
        "outputId": "1ae0b7c6-16cb-4835-f1e2-89ce5ccf14a4"
      },
      "source": [
        "missing_values_check = emo_df1.isnull().sum()\n",
        "print(missing_values_check)"
      ],
      "execution_count": 68,
      "outputs": [
        {
          "output_type": "stream",
          "text": [
            "Unnamed: 0    0\n",
            "sentence      0\n",
            "label         0\n",
            "tones         0\n",
            "dtype: int64\n"
          ],
          "name": "stdout"
        }
      ]
    },
    {
      "cell_type": "code",
      "metadata": {
        "id": "Pv8jj2GhYsju",
        "outputId": "77ebbde3-39f7-49ce-c3da-eb1fb0f243bd",
        "colab": {
          "base_uri": "https://localhost:8080/"
        }
      },
      "source": [
        "missing_values_check = emo_df1_v2.isnull().sum()\n",
        "print(missing_values_check)"
      ],
      "execution_count": 69,
      "outputs": [
        {
          "output_type": "stream",
          "text": [
            "Unnamed: 0    0\n",
            "sentence      0\n",
            "label         0\n",
            "tones         0\n",
            "dtype: int64\n"
          ],
          "name": "stdout"
        }
      ]
    },
    {
      "cell_type": "code",
      "metadata": {
        "id": "fHUR8tV5NqlO"
      },
      "source": [
        "emo_df1 = emo_df1.drop(['label'], axis=1)\n",
        "emo_df1_v2 = emo_df1_v2.drop(['label'], axis=1)"
      ],
      "execution_count": 70,
      "outputs": []
    },
    {
      "cell_type": "code",
      "metadata": {
        "colab": {
          "base_uri": "https://localhost:8080/",
          "height": 204
        },
        "id": "c4TebbWJOtbA",
        "outputId": "e555ec44-04af-45dd-a528-642d6c658e78"
      },
      "source": [
        "emo_df2 = emo_df1.copy()\n",
        "emo_df2.head()"
      ],
      "execution_count": 71,
      "outputs": [
        {
          "output_type": "execute_result",
          "data": {
            "text/html": [
              "<div>\n",
              "<style scoped>\n",
              "    .dataframe tbody tr th:only-of-type {\n",
              "        vertical-align: middle;\n",
              "    }\n",
              "\n",
              "    .dataframe tbody tr th {\n",
              "        vertical-align: top;\n",
              "    }\n",
              "\n",
              "    .dataframe thead th {\n",
              "        text-align: right;\n",
              "    }\n",
              "</style>\n",
              "<table border=\"1\" class=\"dataframe\">\n",
              "  <thead>\n",
              "    <tr style=\"text-align: right;\">\n",
              "      <th></th>\n",
              "      <th>Unnamed: 0</th>\n",
              "      <th>sentence</th>\n",
              "      <th>tones</th>\n",
              "    </tr>\n",
              "  </thead>\n",
              "  <tbody>\n",
              "    <tr>\n",
              "      <th>0</th>\n",
              "      <td>0</td>\n",
              "      <td>i didnt feel humiliated</td>\n",
              "      <td>{  \"document_tone\": {    \"tones\": [      {    ...</td>\n",
              "    </tr>\n",
              "    <tr>\n",
              "      <th>1</th>\n",
              "      <td>1</td>\n",
              "      <td>i can go from feeling so hopeless to so damned...</td>\n",
              "      <td>{  \"document_tone\": {    \"tones\": [      {    ...</td>\n",
              "    </tr>\n",
              "    <tr>\n",
              "      <th>2</th>\n",
              "      <td>2</td>\n",
              "      <td>im grabbing a minute to post i feel greedy wrong</td>\n",
              "      <td>{  \"document_tone\": {    \"tones\": [      {    ...</td>\n",
              "    </tr>\n",
              "    <tr>\n",
              "      <th>3</th>\n",
              "      <td>3</td>\n",
              "      <td>i am ever feeling nostalgic about the fireplac...</td>\n",
              "      <td>{  \"document_tone\": {    \"tones\": [      {    ...</td>\n",
              "    </tr>\n",
              "    <tr>\n",
              "      <th>4</th>\n",
              "      <td>4</td>\n",
              "      <td>i am feeling grouchy</td>\n",
              "      <td>{  \"document_tone\": {    \"tones\": [      {    ...</td>\n",
              "    </tr>\n",
              "  </tbody>\n",
              "</table>\n",
              "</div>"
            ],
            "text/plain": [
              "   Unnamed: 0  ...                                              tones\n",
              "0           0  ...  {  \"document_tone\": {    \"tones\": [      {    ...\n",
              "1           1  ...  {  \"document_tone\": {    \"tones\": [      {    ...\n",
              "2           2  ...  {  \"document_tone\": {    \"tones\": [      {    ...\n",
              "3           3  ...  {  \"document_tone\": {    \"tones\": [      {    ...\n",
              "4           4  ...  {  \"document_tone\": {    \"tones\": [      {    ...\n",
              "\n",
              "[5 rows x 3 columns]"
            ]
          },
          "metadata": {
            "tags": []
          },
          "execution_count": 71
        }
      ]
    },
    {
      "cell_type": "code",
      "metadata": {
        "id": "PNGYG-5hZEqr",
        "outputId": "078f33ae-4122-4760-9e72-03296aa6adbd",
        "colab": {
          "base_uri": "https://localhost:8080/",
          "height": 204
        }
      },
      "source": [
        "emo_df2_v2 = emo_df1_v2.copy()\n",
        "emo_df2_v2.head()"
      ],
      "execution_count": 72,
      "outputs": [
        {
          "output_type": "execute_result",
          "data": {
            "text/html": [
              "<div>\n",
              "<style scoped>\n",
              "    .dataframe tbody tr th:only-of-type {\n",
              "        vertical-align: middle;\n",
              "    }\n",
              "\n",
              "    .dataframe tbody tr th {\n",
              "        vertical-align: top;\n",
              "    }\n",
              "\n",
              "    .dataframe thead th {\n",
              "        text-align: right;\n",
              "    }\n",
              "</style>\n",
              "<table border=\"1\" class=\"dataframe\">\n",
              "  <thead>\n",
              "    <tr style=\"text-align: right;\">\n",
              "      <th></th>\n",
              "      <th>Unnamed: 0</th>\n",
              "      <th>sentence</th>\n",
              "      <th>tones</th>\n",
              "    </tr>\n",
              "  </thead>\n",
              "  <tbody>\n",
              "    <tr>\n",
              "      <th>0</th>\n",
              "      <td>1500</td>\n",
              "      <td>i feel what the law states suggestions is opti...</td>\n",
              "      <td>{  \"document_tone\": {    \"tones\": []  }}</td>\n",
              "    </tr>\n",
              "    <tr>\n",
              "      <th>1</th>\n",
              "      <td>1501</td>\n",
              "      <td>i feel on the verge of tears from weariness i ...</td>\n",
              "      <td>{  \"document_tone\": {    \"tones\": [      {    ...</td>\n",
              "    </tr>\n",
              "    <tr>\n",
              "      <th>2</th>\n",
              "      <td>1502</td>\n",
              "      <td>i hope you can feel the presence of loved ones...</td>\n",
              "      <td>{  \"document_tone\": {    \"tones\": [      {    ...</td>\n",
              "    </tr>\n",
              "    <tr>\n",
              "      <th>3</th>\n",
              "      <td>1503</td>\n",
              "      <td>i was feeling brave tonight so i decided to go...</td>\n",
              "      <td>{  \"document_tone\": {    \"tones\": [      {    ...</td>\n",
              "    </tr>\n",
              "    <tr>\n",
              "      <th>4</th>\n",
              "      <td>1504</td>\n",
              "      <td>i was feeling melancholy on a cloudy rainy lon...</td>\n",
              "      <td>{  \"document_tone\": {    \"tones\": [      {    ...</td>\n",
              "    </tr>\n",
              "  </tbody>\n",
              "</table>\n",
              "</div>"
            ],
            "text/plain": [
              "   Unnamed: 0  ...                                              tones\n",
              "0        1500  ...           {  \"document_tone\": {    \"tones\": []  }}\n",
              "1        1501  ...  {  \"document_tone\": {    \"tones\": [      {    ...\n",
              "2        1502  ...  {  \"document_tone\": {    \"tones\": [      {    ...\n",
              "3        1503  ...  {  \"document_tone\": {    \"tones\": [      {    ...\n",
              "4        1504  ...  {  \"document_tone\": {    \"tones\": [      {    ...\n",
              "\n",
              "[5 rows x 3 columns]"
            ]
          },
          "metadata": {
            "tags": []
          },
          "execution_count": 72
        }
      ]
    },
    {
      "cell_type": "code",
      "metadata": {
        "colab": {
          "base_uri": "https://localhost:8080/"
        },
        "id": "T2Ra6XCOPKMG",
        "outputId": "43416303-78df-425e-d13e-06ec59514eed"
      },
      "source": [
        "list_tones = []\n",
        "c = 0\n",
        "\n",
        "for json_df1 in emo_df2['tones']:\n",
        "    fresh_list = [] \n",
        "    data_dict_df2 = json.loads(str(json_df1))\n",
        "\n",
        "    for document_tones_df2 in data_dict_df2['document_tone']['tones']:\n",
        "      fresh_list.append(document_tones_df2['tone_id'])\n",
        "      c+=1\n",
        "\n",
        "    list_tones.append(fresh_list)\n",
        "\n",
        "emo_df2['tags'] = pd.Series(list_tones)\n",
        "\n",
        "print(list_tones)\n",
        "print(c)"
      ],
      "execution_count": 73,
      "outputs": [
        {
          "output_type": "stream",
          "text": [
            "[['tentative'], ['sadness', 'tentative'], ['sadness'], ['sadness', 'analytical'], ['anger', 'sadness'], ['sadness', 'tentative'], ['joy', 'tentative'], ['sadness', 'tentative'], ['joy'], ['joy', 'tentative'], ['sadness', 'analytical'], ['tentative'], ['joy', 'analytical'], ['tentative'], ['sadness', 'tentative'], ['fear'], ['analytical', 'tentative'], ['sadness', 'tentative'], ['joy'], [], ['tentative'], ['joy'], [], ['joy'], ['sadness'], ['anger'], ['tentative'], ['sadness', 'fear', 'tentative'], ['tentative'], ['sadness', 'tentative'], ['joy', 'confident'], ['analytical'], ['sadness'], ['anger', 'analytical'], ['sadness', 'analytical'], ['tentative', 'analytical'], [], ['sadness', 'analytical', 'tentative'], ['sadness', 'tentative', 'analytical'], ['sadness', 'tentative', 'analytical'], ['joy', 'tentative'], ['joy'], ['joy'], ['joy'], ['sadness'], ['tentative'], ['sadness'], ['sadness'], [], [], ['joy', 'confident'], ['sadness', 'analytical'], ['tentative'], ['tentative'], ['joy'], ['sadness', 'tentative', 'analytical'], ['anger'], ['joy'], ['sadness'], ['joy'], [], ['sadness', 'tentative'], ['joy', 'tentative'], ['sadness'], ['joy', 'tentative'], ['analytical'], ['sadness', 'analytical'], ['tentative'], [], ['joy', 'confident'], ['joy'], ['sadness', 'tentative', 'analytical'], ['confident'], ['sadness', 'tentative'], ['sadness', 'tentative'], ['sadness', 'analytical'], ['joy'], ['joy', 'analytical'], ['joy'], ['sadness', 'tentative'], ['sadness', 'analytical'], ['sadness', 'analytical', 'tentative'], [], ['sadness'], ['joy', 'confident'], ['joy', 'tentative', 'analytical'], [], ['tentative'], ['sadness'], ['fear'], ['joy', 'tentative'], ['sadness'], ['sadness'], ['sadness', 'tentative'], ['analytical'], ['anger'], ['sadness'], ['analytical'], ['tentative'], ['sadness'], ['sadness'], ['joy', 'tentative'], ['joy', 'analytical', 'tentative'], ['joy'], ['sadness', 'tentative', 'analytical'], ['joy', 'analytical'], ['tentative'], ['joy'], ['analytical'], ['sadness'], ['sadness', 'analytical', 'tentative'], ['confident'], ['sadness', 'tentative', 'analytical'], [], [], ['joy', 'tentative'], ['joy', 'confident'], ['joy'], [], [], [], ['fear', 'analytical', 'tentative'], [], ['analytical', 'tentative'], ['joy', 'confident'], ['joy', 'analytical', 'tentative'], ['joy', 'tentative', 'analytical'], [], ['joy', 'analytical'], ['joy'], ['joy'], ['joy', 'tentative'], ['sadness'], ['sadness', 'tentative', 'analytical'], [], ['sadness'], ['confident'], ['joy', 'analytical'], ['joy', 'analytical'], ['joy', 'tentative', 'analytical'], ['joy'], ['fear', 'tentative', 'analytical'], ['fear', 'tentative'], ['sadness', 'analytical', 'tentative'], ['joy', 'analytical'], ['analytical'], ['sadness', 'analytical'], ['tentative'], ['joy'], ['sadness', 'analytical'], [], ['sadness', 'tentative'], ['sadness', 'analytical'], [], ['fear', 'analytical'], ['sadness', 'analytical', 'tentative'], [], [], ['joy'], ['joy'], [], ['joy', 'analytical'], [], ['sadness', 'anger'], ['sadness', 'tentative'], [], ['sadness'], ['confident'], ['sadness'], ['fear'], ['joy', 'tentative', 'analytical'], ['analytical'], ['joy', 'confident'], ['tentative'], ['joy', 'analytical'], ['sadness'], [], [], ['sadness', 'tentative', 'analytical'], ['tentative'], ['analytical'], ['analytical'], ['joy', 'tentative'], ['sadness', 'tentative'], ['analytical'], ['sadness', 'analytical', 'confident'], ['joy', 'analytical', 'tentative'], ['joy', 'analytical', 'tentative'], ['joy', 'tentative'], ['fear', 'analytical', 'tentative'], ['tentative'], ['joy', 'analytical'], [], [], ['sadness', 'tentative'], ['sadness'], ['joy'], ['anger', 'confident', 'analytical'], ['sadness'], [], ['analytical'], ['analytical', 'tentative'], ['joy', 'analytical'], ['sadness'], ['joy', 'tentative'], ['tentative', 'analytical'], ['tentative'], ['sadness', 'analytical'], ['joy'], ['fear', 'tentative'], ['joy', 'tentative'], [], [], ['sadness', 'analytical'], ['sadness', 'tentative'], ['analytical', 'tentative'], ['joy'], ['tentative'], ['sadness'], ['joy', 'analytical'], ['joy', 'tentative'], ['sadness', 'analytical'], [], [], ['sadness', 'analytical', 'confident'], ['joy', 'analytical', 'tentative'], [], ['joy', 'confident'], ['joy', 'analytical'], ['sadness', 'analytical'], ['joy', 'analytical', 'confident'], ['sadness', 'confident'], [], ['sadness'], ['tentative'], ['sadness'], ['joy', 'tentative'], ['anger'], [], ['sadness', 'tentative', 'analytical'], ['confident'], ['sadness', 'analytical'], ['joy', 'tentative'], ['joy', 'analytical'], [], ['joy', 'confident'], ['sadness', 'tentative', 'analytical'], ['joy', 'tentative', 'analytical'], ['analytical'], [], ['fear', 'tentative'], [], ['sadness'], ['tentative', 'analytical'], ['sadness', 'tentative', 'analytical'], ['analytical'], ['tentative', 'analytical'], [], [], ['tentative'], ['joy', 'analytical'], [], ['fear', 'tentative'], ['joy', 'tentative'], [], ['analytical'], ['joy', 'analytical', 'tentative'], ['sadness', 'analytical'], ['joy', 'analytical', 'tentative'], ['sadness', 'analytical'], ['analytical'], ['analytical'], ['fear', 'tentative'], ['tentative', 'analytical'], ['analytical'], ['joy', 'analytical', 'tentative'], ['joy'], ['sadness', 'tentative'], ['sadness'], ['sadness', 'analytical', 'tentative'], ['tentative'], [], ['anger', 'tentative'], ['sadness', 'confident'], ['sadness', 'tentative'], ['analytical'], ['tentative'], ['fear'], ['sadness', 'tentative'], ['sadness'], ['joy'], ['sadness', 'tentative'], ['joy'], ['joy'], ['joy', 'tentative'], ['sadness'], ['sadness', 'confident', 'analytical'], ['tentative'], ['sadness'], [], ['analytical'], ['joy', 'confident'], ['joy'], ['fear'], ['tentative'], [], ['anger', 'analytical', 'tentative'], ['sadness'], ['sadness', 'analytical', 'tentative'], ['joy'], ['sadness', 'analytical'], [], ['joy', 'tentative'], ['confident', 'analytical'], [], ['joy'], ['confident'], ['sadness'], ['fear', 'tentative', 'analytical'], [], [], [], ['sadness', 'tentative'], ['sadness'], [], ['joy'], ['sadness', 'confident', 'analytical'], ['tentative'], ['fear'], ['joy'], ['analytical'], ['joy', 'tentative'], ['analytical'], ['tentative'], ['tentative', 'analytical'], ['joy', 'tentative'], [], ['joy'], ['joy', 'confident'], ['tentative'], ['joy', 'tentative'], ['joy', 'analytical'], ['sadness', 'analytical'], [], ['joy'], ['joy'], ['sadness', 'tentative', 'analytical'], ['joy', 'confident', 'analytical'], ['joy', 'analytical'], ['fear'], ['sadness', 'tentative'], ['sadness', 'analytical'], ['joy'], ['fear', 'tentative'], ['joy'], ['sadness'], ['sadness'], ['sadness', 'tentative'], ['tentative'], ['joy', 'tentative'], ['joy', 'tentative'], ['joy'], ['sadness', 'analytical'], ['confident'], ['fear'], ['fear'], [], [], ['joy', 'analytical', 'confident'], ['sadness', 'anger', 'tentative'], ['sadness'], ['joy', 'tentative'], ['anger', 'tentative'], [], ['joy', 'analytical', 'tentative'], ['sadness', 'analytical'], ['sadness', 'tentative'], ['tentative'], ['joy'], [], ['sadness', 'analytical', 'tentative'], ['sadness'], ['joy', 'tentative'], ['joy', 'tentative'], [], ['sadness', 'tentative'], ['joy', 'tentative', 'analytical'], [], ['joy', 'tentative'], ['sadness'], ['joy'], ['confident', 'analytical'], ['sadness', 'analytical'], ['joy', 'confident'], ['confident'], ['joy', 'analytical'], ['sadness'], ['sadness', 'analytical'], ['joy', 'tentative'], ['sadness', 'tentative'], ['joy', 'tentative'], ['sadness'], ['tentative'], ['confident'], ['sadness', 'tentative'], ['anger', 'tentative'], ['sadness'], ['sadness', 'tentative'], ['tentative'], [], ['sadness'], ['fear', 'tentative', 'analytical'], ['joy', 'tentative'], ['joy', 'tentative'], ['sadness', 'analytical'], ['sadness'], ['sadness', 'tentative', 'analytical'], ['joy', 'analytical', 'confident'], ['fear', 'tentative'], [], ['tentative', 'analytical'], ['sadness', 'analytical'], ['joy', 'confident'], ['tentative'], ['sadness', 'analytical'], [], ['joy', 'analytical'], ['joy', 'tentative'], ['joy'], ['analytical'], ['joy', 'analytical'], ['sadness', 'analytical'], ['analytical', 'confident'], ['joy'], ['joy', 'analytical', 'tentative'], ['fear', 'tentative'], ['tentative'], [], ['anger', 'analytical'], ['sadness'], ['joy', 'tentative'], ['analytical'], ['sadness', 'analytical'], ['analytical'], ['tentative'], ['sadness', 'analytical'], ['analytical', 'confident'], ['joy', 'analytical', 'tentative'], ['sadness'], ['joy'], ['joy', 'tentative'], ['joy'], ['analytical'], [], ['sadness', 'analytical'], ['analytical'], ['joy'], ['joy', 'tentative'], ['sadness'], ['joy'], ['joy'], ['joy', 'tentative'], ['tentative'], ['sadness', 'tentative'], ['confident', 'analytical'], ['joy', 'analytical', 'tentative'], ['sadness'], ['sadness', 'analytical', 'tentative'], [], ['fear', 'sadness'], ['joy', 'tentative'], ['analytical', 'tentative'], ['joy', 'tentative', 'analytical'], ['joy'], ['joy'], ['joy', 'analytical'], ['sadness', 'tentative'], ['tentative'], ['analytical'], ['joy'], ['sadness'], ['joy'], ['tentative'], ['sadness', 'analytical', 'tentative'], ['joy', 'confident'], ['sadness', 'tentative'], ['sadness', 'tentative'], ['joy'], ['analytical'], ['joy', 'tentative'], ['joy'], ['sadness', 'analytical', 'tentative'], ['fear', 'tentative'], ['joy'], ['fear', 'tentative'], ['joy', 'analytical'], ['sadness', 'tentative'], ['analytical'], ['joy'], ['joy', 'tentative'], ['joy'], [], ['confident'], ['anger'], ['joy', 'confident', 'analytical'], ['sadness', 'confident', 'analytical'], ['joy', 'tentative'], [], ['joy', 'analytical'], ['sadness', 'tentative'], ['analytical'], ['joy'], ['analytical'], ['joy', 'analytical'], ['joy', 'tentative', 'analytical'], ['confident'], [], ['joy', 'tentative'], ['joy', 'analytical', 'tentative'], ['tentative'], ['sadness'], ['joy', 'tentative', 'analytical'], ['joy', 'analytical'], ['joy'], ['sadness', 'confident'], ['joy', 'tentative'], ['sadness'], ['joy'], ['sadness', 'tentative'], ['sadness', 'tentative'], ['sadness', 'tentative'], [], ['tentative'], ['sadness', 'fear', 'tentative'], ['sadness'], ['fear'], ['anger', 'tentative'], ['sadness', 'analytical'], ['sadness', 'tentative'], ['joy', 'tentative'], ['joy'], ['joy', 'confident'], ['sadness', 'tentative', 'analytical'], ['analytical'], ['sadness', 'analytical'], [], ['sadness'], [], ['joy'], ['confident'], ['sadness'], ['sadness', 'tentative'], ['joy', 'analytical'], ['joy', 'tentative'], ['anger', 'tentative'], ['joy', 'analytical'], ['joy', 'confident'], [], ['fear', 'analytical'], ['fear'], [], [], ['sadness', 'tentative'], ['sadness', 'tentative'], ['fear'], ['joy', 'tentative'], [], ['fear', 'confident', 'analytical'], ['analytical'], ['sadness', 'analytical'], ['joy'], ['tentative'], ['sadness', 'analytical'], ['anger', 'analytical'], ['joy', 'tentative'], ['anger', 'analytical'], ['joy'], ['joy', 'analytical', 'tentative'], ['joy', 'analytical'], ['analytical'], ['tentative'], ['sadness', 'tentative'], [], ['anger', 'tentative'], [], ['sadness', 'confident'], ['anger', 'confident'], [], ['confident'], ['confident'], ['fear', 'tentative'], ['joy'], ['tentative', 'analytical'], [], ['sadness', 'tentative'], ['sadness', 'tentative'], ['analytical', 'tentative'], ['analytical'], ['joy'], ['fear', 'analytical'], ['tentative'], ['analytical'], ['sadness'], ['tentative'], ['joy'], ['sadness'], ['sadness'], ['analytical'], ['sadness', 'analytical'], ['analytical'], ['sadness', 'tentative'], ['sadness', 'analytical'], ['joy', 'analytical'], ['sadness'], [], ['joy', 'analytical', 'confident'], ['analytical', 'confident'], ['joy', 'analytical', 'tentative'], ['sadness', 'tentative'], [], ['sadness', 'analytical', 'tentative'], [], ['joy', 'analytical'], [], ['sadness'], ['fear'], ['joy', 'confident'], ['fear', 'confident'], ['anger', 'tentative'], ['tentative'], ['sadness', 'tentative'], ['sadness'], ['sadness'], ['tentative'], ['joy', 'analytical', 'confident'], ['analytical'], ['sadness', 'analytical', 'tentative'], ['sadness', 'confident', 'analytical'], ['fear', 'tentative'], ['tentative'], ['joy', 'tentative'], ['joy', 'tentative'], ['sadness'], ['fear'], ['joy', 'analytical'], ['sadness', 'tentative'], ['sadness'], ['tentative'], ['joy', 'tentative'], ['tentative'], ['sadness', 'analytical'], ['sadness', 'analytical'], ['joy'], ['joy', 'tentative'], ['sadness', 'tentative'], ['sadness'], ['joy', 'analytical'], ['sadness', 'tentative'], ['sadness', 'analytical'], ['joy'], [], ['sadness'], [], ['joy', 'tentative'], [], [], ['tentative'], ['anger', 'tentative'], ['fear', 'tentative'], ['sadness', 'analytical'], ['tentative'], ['joy', 'analytical'], ['joy', 'analytical'], ['sadness', 'analytical'], ['sadness', 'analytical'], [], ['analytical', 'confident'], ['sadness', 'tentative'], ['joy', 'confident', 'analytical'], ['tentative', 'analytical'], ['joy', 'analytical'], ['sadness', 'tentative'], ['anger', 'tentative', 'analytical'], ['sadness', 'tentative'], ['sadness'], ['sadness', 'tentative'], ['joy'], ['tentative', 'analytical'], ['tentative'], ['joy', 'analytical'], ['sadness', 'tentative'], ['sadness'], ['analytical'], ['analytical'], ['joy'], ['sadness', 'analytical'], ['fear'], ['sadness', 'analytical', 'tentative'], ['sadness', 'analytical'], ['joy'], ['joy'], ['analytical'], ['joy', 'confident', 'analytical'], [], ['sadness', 'analytical'], ['sadness'], ['sadness', 'tentative'], ['sadness', 'tentative'], ['sadness', 'analytical'], ['joy', 'analytical'], [], ['tentative', 'analytical'], ['joy', 'analytical'], ['tentative'], ['joy'], ['joy'], ['joy', 'analytical', 'tentative'], ['fear', 'tentative'], ['anger', 'tentative'], ['tentative'], ['sadness'], ['joy', 'analytical'], ['joy', 'analytical'], ['analytical'], ['anger', 'tentative'], ['joy', 'tentative'], ['sadness'], ['confident'], ['anger', 'tentative'], ['sadness', 'analytical', 'tentative'], [], [], [], ['joy', 'tentative'], ['sadness', 'tentative'], ['sadness', 'tentative'], [], ['sadness', 'tentative'], ['joy', 'tentative'], ['joy', 'analytical'], ['tentative'], ['tentative'], ['confident'], ['fear', 'tentative', 'analytical'], ['tentative'], ['tentative'], [], ['sadness', 'tentative'], ['sadness', 'tentative'], ['joy', 'analytical'], ['sadness', 'analytical'], ['joy', 'analytical'], ['sadness', 'tentative'], ['sadness'], ['tentative'], [], ['confident'], ['joy', 'analytical'], ['analytical'], ['sadness', 'analytical'], ['analytical'], [], ['sadness'], ['joy'], ['joy', 'tentative'], ['sadness', 'analytical', 'tentative'], ['sadness'], ['tentative'], ['joy', 'analytical', 'tentative'], [], [], ['joy', 'tentative'], ['joy', 'analytical'], ['tentative'], ['joy', 'confident'], ['joy', 'tentative'], ['fear', 'tentative'], ['sadness', 'tentative'], [], ['sadness', 'tentative', 'analytical'], ['fear'], ['confident'], ['sadness', 'tentative'], ['sadness'], [], ['sadness', 'analytical'], ['sadness', 'tentative'], ['joy', 'tentative'], ['confident'], ['fear', 'tentative'], ['joy', 'tentative'], ['analytical'], ['joy'], ['sadness', 'analytical'], ['anger', 'tentative'], ['tentative', 'analytical'], ['joy'], ['tentative'], ['sadness', 'analytical'], [], ['sadness'], ['tentative'], ['joy'], ['fear', 'analytical'], ['sadness'], ['joy'], ['sadness', 'tentative'], ['fear'], ['sadness', 'analytical', 'confident'], ['joy'], ['fear'], ['tentative'], ['joy'], ['tentative'], ['joy', 'analytical', 'tentative'], ['sadness', 'tentative', 'analytical'], [], ['joy', 'tentative'], ['joy', 'tentative'], ['analytical'], [], ['sadness'], ['tentative'], ['sadness', 'tentative', 'analytical'], ['sadness', 'analytical', 'tentative'], ['sadness', 'tentative'], ['analytical'], ['sadness', 'tentative'], ['analytical'], ['sadness', 'tentative', 'analytical'], ['sadness'], ['analytical'], ['joy'], ['sadness'], ['sadness', 'tentative', 'analytical'], ['sadness', 'tentative'], ['tentative'], ['sadness', 'tentative'], ['sadness', 'analytical', 'tentative'], ['joy', 'confident'], ['joy', 'tentative'], ['anger'], ['sadness'], ['sadness', 'analytical'], ['tentative'], ['tentative'], ['joy'], ['sadness', 'analytical'], ['tentative'], ['anger', 'sadness', 'fear'], ['joy', 'tentative'], ['joy', 'tentative'], [], ['joy'], ['joy', 'tentative'], ['tentative', 'analytical'], ['tentative'], ['analytical'], ['sadness', 'tentative'], ['sadness', 'analytical'], ['tentative'], ['sadness', 'confident'], ['sadness', 'analytical'], ['sadness', 'tentative'], ['sadness'], ['joy'], ['tentative'], ['confident'], ['fear', 'tentative'], ['joy'], ['joy'], ['joy', 'tentative'], ['joy', 'confident'], ['confident'], ['analytical'], ['sadness', 'tentative', 'analytical'], ['anger', 'tentative'], ['joy'], ['joy'], ['sadness', 'tentative'], ['fear', 'analytical'], ['confident'], ['sadness', 'analytical', 'tentative'], ['sadness', 'tentative', 'analytical'], ['tentative'], ['analytical'], ['joy'], ['joy', 'tentative'], ['anger', 'sadness', 'tentative'], ['joy'], ['analytical'], ['analytical', 'tentative'], ['sadness'], ['sadness', 'tentative'], [], [], ['joy', 'tentative'], ['joy'], ['tentative'], ['joy', 'tentative', 'analytical'], ['sadness'], [], ['sadness'], ['fear', 'tentative'], ['tentative'], [], ['sadness', 'analytical'], ['sadness', 'analytical', 'tentative'], ['tentative', 'analytical'], ['confident'], [], ['sadness', 'anger', 'tentative'], ['joy', 'analytical'], ['sadness'], ['tentative'], ['sadness', 'tentative'], ['sadness', 'tentative', 'analytical'], ['sadness', 'analytical'], ['tentative', 'analytical'], ['analytical', 'tentative'], ['sadness', 'tentative'], ['sadness'], ['sadness', 'tentative'], ['joy', 'tentative'], ['joy', 'analytical'], ['sadness'], ['sadness', 'analytical'], ['analytical', 'tentative'], ['joy'], ['sadness', 'tentative'], ['joy', 'analytical', 'tentative'], ['joy', 'tentative'], ['joy', 'analytical', 'tentative'], ['sadness', 'analytical'], ['joy', 'confident'], ['sadness', 'analytical', 'tentative'], [], ['sadness'], ['analytical'], ['analytical'], ['joy'], ['sadness'], ['sadness', 'confident', 'analytical'], ['joy', 'analytical'], ['sadness'], ['sadness', 'analytical'], [], ['sadness', 'tentative'], [], ['joy', 'tentative'], ['joy'], ['joy', 'tentative'], ['sadness', 'analytical'], ['joy', 'analytical'], ['sadness', 'analytical'], ['joy'], ['sadness', 'tentative'], ['analytical'], ['sadness', 'tentative'], ['sadness'], ['fear'], ['sadness', 'tentative'], ['sadness', 'analytical', 'tentative'], ['joy', 'tentative'], ['sadness'], ['sadness', 'analytical'], [], [], ['joy', 'analytical', 'tentative'], ['joy', 'analytical'], [], ['sadness', 'tentative'], ['sadness', 'analytical', 'tentative'], ['joy', 'tentative'], ['sadness'], ['joy', 'analytical'], ['sadness', 'tentative'], ['sadness', 'confident'], ['anger', 'tentative'], ['sadness', 'tentative', 'analytical'], ['sadness'], ['sadness', 'tentative'], ['joy', 'tentative'], ['tentative'], ['joy', 'tentative'], [], [], ['analytical', 'tentative'], ['sadness', 'tentative'], ['fear'], ['joy'], ['joy'], ['analytical'], ['analytical'], ['joy'], ['sadness', 'confident'], ['sadness', 'analytical'], ['tentative'], ['sadness', 'tentative'], [], ['joy', 'tentative'], ['tentative'], ['joy'], ['sadness', 'analytical'], ['analytical'], ['joy'], ['sadness', 'analytical', 'tentative'], [], ['anger', 'tentative'], ['joy', 'tentative'], [], ['sadness', 'tentative', 'analytical'], ['joy', 'analytical'], ['sadness', 'analytical', 'confident'], ['anger'], ['joy', 'analytical', 'tentative'], ['joy', 'tentative'], ['analytical', 'confident'], [], ['sadness', 'analytical'], ['sadness', 'analytical'], ['joy', 'analytical'], ['sadness', 'tentative'], ['anger'], ['joy', 'analytical'], ['sadness'], [], ['joy', 'tentative'], ['joy', 'analytical'], ['sadness', 'analytical'], ['sadness'], ['tentative'], ['joy'], ['anger', 'analytical', 'confident'], ['joy'], ['fear', 'tentative'], ['sadness'], ['joy', 'confident'], ['confident'], ['anger'], ['sadness'], ['sadness', 'analytical', 'tentative'], ['sadness'], ['sadness'], [], [], ['joy'], ['analytical', 'confident'], ['joy', 'analytical'], ['sadness', 'tentative'], ['analytical'], ['analytical'], ['sadness', 'tentative'], ['fear', 'confident'], ['tentative'], ['analytical'], ['tentative'], ['analytical'], ['joy', 'tentative'], ['sadness', 'tentative'], [], ['sadness', 'analytical', 'tentative'], [], ['tentative', 'analytical'], ['confident'], ['joy', 'analytical', 'tentative'], ['sadness', 'tentative', 'analytical'], ['sadness', 'tentative'], ['tentative'], ['analytical'], ['sadness'], ['sadness', 'confident'], ['joy', 'confident', 'analytical'], ['sadness', 'fear', 'tentative', 'analytical'], ['fear'], ['tentative'], ['joy', 'analytical', 'tentative'], ['sadness'], ['joy', 'tentative'], ['joy', 'confident'], ['tentative'], ['joy', 'tentative'], ['fear', 'analytical', 'tentative'], ['tentative'], ['confident', 'analytical'], [], ['joy', 'analytical', 'tentative'], ['tentative', 'analytical'], ['joy', 'tentative'], ['joy'], ['sadness', 'tentative'], ['sadness', 'tentative'], ['sadness'], ['sadness', 'tentative'], ['anger', 'tentative'], ['joy', 'tentative', 'analytical'], ['tentative'], [], [], ['joy', 'analytical'], ['joy'], ['sadness'], ['tentative'], ['sadness', 'tentative'], ['joy', 'tentative'], ['joy'], ['fear'], ['fear', 'sadness'], [], [], ['joy'], ['tentative'], ['fear', 'analytical'], ['joy', 'analytical', 'tentative'], ['sadness'], ['analytical'], ['joy', 'analytical', 'tentative'], ['sadness', 'tentative'], ['sadness', 'tentative'], ['sadness', 'confident'], ['tentative'], ['joy', 'analytical'], ['sadness', 'confident'], ['joy'], ['sadness', 'analytical'], ['joy', 'analytical'], ['joy', 'analytical', 'confident'], [], ['tentative'], ['sadness'], [], ['tentative'], ['joy', 'tentative'], ['joy'], ['tentative'], ['fear', 'analytical'], ['sadness'], ['joy', 'analytical', 'tentative'], ['tentative'], [], ['sadness', 'analytical'], ['sadness', 'tentative'], ['joy', 'analytical'], ['tentative', 'analytical'], ['sadness', 'tentative'], ['sadness', 'tentative'], ['joy', 'tentative'], ['tentative'], ['sadness', 'analytical', 'tentative'], ['sadness', 'tentative'], ['sadness', 'analytical', 'confident'], ['joy', 'tentative'], ['fear'], ['joy', 'confident'], ['sadness', 'analytical'], ['joy', 'analytical'], ['joy', 'analytical', 'tentative'], ['joy', 'analytical'], ['joy'], ['sadness', 'tentative'], ['joy'], ['sadness', 'tentative'], ['analytical'], ['sadness', 'tentative'], [], ['analytical'], ['analytical'], [], [], ['analytical'], ['sadness', 'confident'], ['tentative'], ['fear', 'analytical'], ['sadness', 'analytical', 'tentative'], ['joy'], ['anger'], ['joy'], [], ['joy'], [], ['sadness', 'analytical', 'tentative'], ['joy', 'tentative'], ['sadness'], ['fear'], ['joy', 'analytical'], ['fear', 'sadness'], ['joy', 'confident', 'analytical'], ['joy'], ['anger'], ['sadness', 'tentative'], ['joy', 'tentative', 'analytical'], ['sadness', 'confident'], ['sadness', 'tentative'], ['sadness'], ['sadness'], ['sadness', 'tentative'], ['joy'], ['joy', 'analytical', 'confident'], ['joy'], ['sadness'], ['tentative'], ['anger', 'analytical', 'tentative'], ['confident', 'analytical'], ['analytical'], [], ['sadness', 'tentative', 'analytical'], ['anger', 'tentative', 'analytical'], ['sadness', 'tentative'], ['joy', 'analytical'], ['tentative'], ['sadness', 'tentative'], ['joy', 'analytical'], ['sadness', 'confident', 'analytical'], ['sadness', 'tentative'], ['sadness', 'confident'], ['joy', 'tentative'], ['joy', 'confident'], ['sadness', 'analytical'], ['analytical'], ['sadness', 'analytical'], ['joy'], ['sadness', 'analytical', 'tentative'], [], ['sadness', 'tentative'], ['analytical'], [], ['fear', 'tentative'], ['sadness', 'tentative'], ['sadness'], ['analytical'], ['joy', 'tentative'], [], [], ['sadness'], ['sadness', 'tentative'], ['sadness', 'tentative'], [], ['analytical'], ['tentative'], ['sadness', 'analytical'], ['joy', 'confident'], ['fear', 'confident'], [], ['tentative'], ['sadness', 'tentative'], ['joy', 'analytical'], ['analytical', 'tentative'], [], ['joy', 'analytical'], ['joy', 'tentative'], ['anger'], ['analytical', 'tentative'], ['joy', 'tentative'], ['anger'], ['sadness', 'tentative'], [], ['sadness', 'tentative', 'analytical'], ['sadness'], ['analytical'], ['joy', 'analytical'], ['sadness', 'analytical'], ['joy', 'tentative'], ['sadness', 'tentative'], ['joy', 'confident'], ['analytical', 'tentative'], ['joy', 'analytical'], ['anger'], ['tentative'], ['sadness', 'fear', 'confident'], ['analytical', 'tentative'], ['sadness'], ['joy', 'tentative'], ['sadness'], ['sadness', 'tentative'], ['tentative'], ['sadness'], ['sadness'], ['analytical'], ['joy'], ['joy', 'confident', 'analytical'], ['joy'], ['sadness'], ['tentative', 'analytical'], ['sadness', 'tentative'], ['tentative', 'analytical'], ['sadness'], [], ['joy'], ['joy', 'tentative'], ['confident', 'analytical'], ['sadness', 'confident'], ['joy'], [], [], ['sadness', 'confident', 'analytical'], ['joy', 'tentative'], ['sadness', 'analytical'], ['sadness', 'tentative'], [], ['joy', 'tentative'], [], [], ['analytical'], ['confident'], ['anger', 'analytical'], ['analytical', 'tentative'], ['sadness', 'analytical', 'tentative'], ['anger', 'analytical'], ['sadness', 'analytical'], ['joy', 'analytical'], ['confident', 'analytical'], ['sadness'], ['sadness', 'analytical'], ['joy'], ['sadness'], ['sadness', 'analytical', 'tentative'], ['fear', 'tentative'], ['analytical'], ['joy', 'tentative'], ['joy', 'analytical'], ['fear', 'analytical'], ['tentative'], ['joy'], [], ['sadness', 'tentative', 'analytical'], ['joy'], ['sadness', 'tentative', 'analytical'], ['sadness', 'confident'], ['joy', 'analytical', 'tentative'], ['tentative'], ['sadness'], ['joy', 'tentative'], ['sadness'], ['sadness', 'tentative'], ['sadness'], ['sadness'], ['joy', 'analytical'], ['sadness', 'tentative'], ['analytical'], ['sadness', 'tentative'], ['joy'], ['fear', 'tentative', 'analytical'], ['joy'], ['sadness', 'analytical', 'tentative'], ['anger', 'tentative'], ['joy'], ['sadness', 'tentative'], ['sadness', 'analytical', 'confident'], ['joy'], ['joy', 'analytical'], ['joy'], ['sadness', 'confident'], ['joy', 'tentative'], ['tentative'], ['joy', 'analytical'], ['joy', 'tentative'], ['sadness', 'analytical', 'tentative'], ['tentative'], ['fear', 'analytical'], ['joy'], ['sadness', 'tentative', 'analytical'], [], ['anger', 'tentative'], [], [], ['fear', 'analytical'], ['tentative'], [], ['joy', 'analytical', 'tentative'], ['tentative'], ['sadness', 'analytical'], ['analytical'], ['joy'], ['sadness', 'tentative'], ['joy', 'confident'], ['joy', 'tentative'], ['fear', 'analytical'], ['tentative', 'analytical'], ['sadness', 'tentative'], [], ['anger'], [], [], [], ['sadness', 'tentative'], ['confident', 'analytical'], ['tentative'], ['anger'], ['sadness', 'tentative'], ['fear', 'tentative'], ['tentative', 'analytical'], ['joy'], ['fear', 'tentative'], ['fear', 'confident'], ['anger', 'analytical'], ['joy', 'analytical', 'confident'], ['analytical'], ['joy'], [], ['sadness', 'tentative', 'analytical'], ['anger'], ['sadness', 'analytical'], ['joy', 'tentative'], ['sadness', 'tentative'], ['sadness'], ['sadness', 'analytical'], ['anger', 'tentative'], ['sadness', 'confident'], ['joy', 'analytical', 'confident'], ['sadness', 'tentative'], ['analytical'], ['sadness', 'analytical'], ['fear', 'tentative'], ['sadness', 'tentative'], [], ['anger'], ['joy'], ['fear'], ['tentative'], ['anger'], ['joy', 'tentative'], ['sadness'], ['anger', 'confident'], ['anger', 'tentative'], ['joy', 'analytical'], ['sadness', 'confident'], ['anger', 'analytical'], ['sadness'], ['joy', 'confident'], ['sadness', 'analytical'], ['confident', 'analytical'], ['sadness', 'analytical'], ['sadness'], ['tentative'], ['tentative'], ['tentative'], ['joy', 'analytical', 'confident'], ['tentative'], [], [], ['tentative'], ['anger', 'sadness'], [], ['joy'], ['joy', 'confident'], ['sadness', 'analytical'], ['sadness', 'tentative'], ['fear', 'confident'], ['sadness', 'analytical', 'tentative'], ['analytical', 'tentative'], ['analytical'], ['analytical'], ['sadness'], ['joy'], ['tentative'], ['confident'], ['sadness'], ['sadness', 'tentative'], ['analytical'], [], ['joy'], ['joy'], ['joy'], ['sadness', 'analytical', 'tentative'], ['analytical', 'tentative'], ['joy', 'tentative', 'analytical'], ['joy'], ['anger', 'analytical'], ['sadness', 'analytical', 'confident'], ['fear'], ['tentative'], ['sadness', 'tentative'], ['joy', 'tentative'], ['analytical'], [], ['joy', 'analytical'], ['fear', 'tentative'], ['analytical', 'confident'], ['tentative'], ['fear'], [], ['sadness'], ['joy', 'tentative'], ['joy', 'tentative'], ['joy', 'analytical', 'tentative'], ['fear', 'tentative'], ['sadness', 'analytical'], ['joy', 'tentative'], ['tentative'], ['anger'], ['joy', 'tentative'], ['joy', 'tentative'], ['fear', 'tentative'], ['tentative'], ['analytical'], ['anger'], ['sadness', 'tentative'], ['sadness', 'tentative'], ['joy'], ['sadness', 'tentative']]\n",
            "2258\n"
          ],
          "name": "stdout"
        }
      ]
    },
    {
      "cell_type": "code",
      "metadata": {
        "id": "4pzkCDc4Z0mx",
        "outputId": "b0cce557-3503-4f7f-ff3d-cc42fb94422c",
        "colab": {
          "base_uri": "https://localhost:8080/"
        }
      },
      "source": [
        "list_tones_v2 = []\n",
        "c_v2 = 0\n",
        "\n",
        "for json_df1_v2 in emo_df2_v2['tones']:\n",
        "    fresh_list_v2 = [] \n",
        "    data_dict_df2_v2 = json.loads(str(json_df1_v2))\n",
        "\n",
        "    for document_tones_df2_v2 in data_dict_df2_v2['document_tone']['tones']:\n",
        "      fresh_list_v2.append(document_tones_df2_v2['tone_id'])\n",
        "      c_v2+=1\n",
        "\n",
        "    list_tones_v2.append(fresh_list_v2)\n",
        "\n",
        "emo_df2_v2['tags'] = pd.Series(list_tones_v2)\n",
        "\n",
        "print(list_tones_v2)\n",
        "print(c_v2)"
      ],
      "execution_count": 74,
      "outputs": [
        {
          "output_type": "stream",
          "text": [
            "[[], ['joy', 'analytical'], ['joy'], ['analytical'], ['sadness'], ['sadness', 'analytical', 'tentative'], ['tentative'], ['sadness', 'anger'], ['analytical'], ['joy', 'tentative'], ['sadness', 'analytical'], ['fear', 'confident'], ['joy', 'tentative'], ['joy', 'tentative'], ['analytical'], ['joy', 'tentative'], ['sadness'], ['joy'], [], ['joy'], ['tentative'], ['sadness'], ['sadness', 'anger', 'tentative'], ['sadness', 'tentative'], ['sadness', 'tentative'], ['fear'], ['tentative'], ['sadness'], ['analytical'], ['joy', 'analytical'], ['tentative'], ['confident'], ['fear'], ['sadness', 'tentative'], ['tentative'], ['sadness', 'tentative'], ['tentative'], ['joy', 'tentative'], ['sadness', 'tentative'], ['sadness'], ['joy'], ['tentative'], ['tentative'], ['tentative'], ['joy', 'analytical'], ['sadness', 'tentative'], ['sadness', 'tentative'], [], ['joy', 'tentative'], ['sadness', 'tentative'], ['joy'], ['joy', 'analytical'], ['tentative', 'analytical'], ['anger', 'tentative'], ['sadness', 'analytical'], ['joy', 'analytical'], ['fear', 'analytical', 'tentative'], [], ['analytical', 'tentative'], ['sadness', 'tentative', 'analytical'], ['analytical', 'tentative'], ['sadness', 'confident', 'analytical'], ['sadness'], [], [], ['tentative'], ['tentative'], ['analytical', 'tentative'], ['joy'], ['joy'], [], ['analytical', 'tentative'], ['tentative'], ['analytical'], ['sadness', 'confident'], ['sadness', 'analytical'], ['sadness', 'analytical'], ['sadness'], ['joy', 'analytical', 'tentative'], ['joy'], ['sadness', 'analytical'], ['sadness', 'analytical'], ['tentative', 'analytical'], ['fear', 'sadness'], ['sadness'], ['sadness', 'analytical'], [], ['joy'], ['anger', 'sadness', 'analytical'], ['sadness', 'analytical', 'tentative'], ['joy'], ['anger', 'analytical'], ['sadness', 'analytical'], ['sadness', 'tentative'], ['joy', 'analytical'], ['fear', 'confident'], ['confident', 'analytical'], ['sadness', 'tentative'], ['analytical'], ['tentative'], ['sadness', 'confident'], ['joy', 'analytical', 'tentative'], ['sadness', 'confident'], ['tentative'], ['sadness', 'tentative'], ['tentative'], ['joy', 'analytical'], ['joy', 'tentative'], ['tentative', 'analytical'], ['analytical', 'tentative'], ['sadness', 'analytical'], ['joy', 'analytical'], ['anger', 'tentative'], ['analytical'], [], ['sadness', 'analytical'], ['fear', 'sadness', 'analytical'], ['joy', 'analytical'], ['anger', 'tentative'], ['sadness'], ['tentative'], ['tentative'], ['sadness', 'analytical'], ['fear'], ['tentative'], ['fear'], ['joy', 'confident'], [], ['sadness', 'analytical', 'tentative'], ['sadness', 'tentative'], [], ['joy'], ['sadness'], ['joy', 'analytical'], ['sadness', 'analytical', 'tentative'], ['analytical'], ['analytical', 'confident'], ['sadness', 'confident', 'analytical'], ['joy', 'confident'], ['sadness', 'analytical', 'tentative'], ['tentative', 'analytical'], ['joy', 'analytical'], ['joy', 'confident'], [], ['analytical', 'tentative'], ['analytical'], [], ['anger', 'tentative'], ['joy', 'analytical', 'tentative'], ['joy'], [], ['tentative'], ['sadness', 'analytical'], ['sadness'], ['tentative'], ['fear', 'tentative', 'analytical'], ['joy', 'confident'], ['analytical', 'confident'], ['tentative'], ['joy'], [], ['sadness', 'tentative', 'analytical'], ['joy', 'tentative'], ['sadness', 'analytical'], ['joy', 'tentative'], ['anger'], ['tentative'], ['joy'], ['sadness'], ['sadness'], ['joy'], [], ['joy', 'tentative'], [], ['analytical'], ['sadness'], ['sadness'], ['sadness', 'tentative', 'analytical'], ['sadness'], ['sadness', 'tentative'], ['sadness', 'analytical', 'confident'], ['sadness', 'tentative'], ['sadness', 'tentative'], ['anger'], ['sadness'], ['joy', 'tentative'], ['sadness', 'analytical', 'tentative'], ['joy'], ['tentative'], ['sadness', 'tentative'], ['tentative'], ['analytical'], ['sadness'], ['confident'], ['joy', 'tentative'], ['tentative'], ['joy'], [], ['joy', 'analytical'], ['joy', 'tentative'], ['tentative'], ['sadness', 'tentative'], ['sadness'], ['joy'], ['joy', 'tentative'], [], ['analytical'], ['sadness'], ['analytical'], ['sadness', 'tentative'], ['tentative'], ['joy', 'tentative'], ['fear', 'tentative'], ['fear', 'sadness', 'tentative'], ['sadness'], [], ['analytical'], ['sadness', 'analytical'], ['joy'], ['joy', 'confident'], ['anger'], ['confident'], ['analytical', 'confident'], ['sadness'], ['tentative'], ['tentative'], ['joy', 'tentative'], ['confident', 'analytical'], ['joy', 'tentative'], ['anger', 'confident'], ['sadness'], ['sadness', 'analytical'], ['sadness'], ['joy'], ['sadness'], ['joy'], ['sadness', 'analytical', 'tentative'], ['joy', 'confident', 'analytical'], ['sadness'], ['tentative', 'analytical'], ['analytical'], ['analytical'], ['sadness', 'analytical', 'tentative'], ['tentative', 'analytical'], ['joy', 'analytical'], ['joy', 'analytical'], ['tentative'], ['joy'], [], ['sadness', 'tentative'], ['sadness', 'tentative'], ['anger', 'tentative'], ['sadness'], ['sadness', 'tentative'], ['anger'], ['tentative'], ['sadness', 'analytical', 'tentative'], ['analytical'], ['sadness', 'analytical'], ['sadness', 'tentative', 'analytical'], ['analytical'], [], ['anger', 'tentative'], ['joy', 'tentative'], ['joy', 'tentative'], ['fear', 'analytical'], ['joy', 'tentative', 'analytical'], ['joy'], ['sadness'], ['confident'], ['joy'], [], [], ['joy'], ['sadness', 'confident'], ['sadness', 'tentative', 'analytical'], ['analytical'], ['sadness'], ['joy'], [], ['sadness', 'analytical'], [], [], ['sadness', 'analytical'], ['tentative'], ['tentative'], ['analytical'], ['joy', 'tentative'], ['sadness'], ['sadness', 'tentative', 'analytical'], [], ['joy', 'analytical', 'tentative'], ['sadness', 'tentative'], ['sadness', 'tentative'], ['sadness', 'confident', 'analytical'], ['analytical'], ['joy', 'analytical', 'tentative'], ['anger', 'fear', 'confident'], ['tentative'], ['tentative'], ['sadness'], ['joy', 'tentative'], ['sadness', 'confident'], ['sadness', 'analytical'], ['sadness', 'confident'], ['analytical', 'tentative'], ['joy'], [], ['sadness'], ['sadness'], ['sadness', 'tentative'], ['joy', 'analytical'], ['analytical', 'tentative'], [], ['tentative'], ['sadness', 'tentative'], ['joy', 'confident'], ['analytical'], ['joy'], ['sadness', 'tentative'], ['sadness'], ['sadness'], ['sadness', 'tentative', 'analytical'], ['joy'], ['joy'], ['sadness', 'fear', 'confident'], ['sadness', 'analytical', 'tentative'], ['joy', 'analytical'], ['joy', 'analytical', 'tentative'], [], ['sadness'], [], ['joy', 'analytical'], [], ['sadness', 'tentative'], ['sadness', 'analytical'], ['fear'], ['fear'], ['joy'], ['sadness', 'analytical'], ['sadness'], ['joy'], ['sadness', 'tentative'], ['joy', 'analytical'], ['sadness'], ['analytical'], ['analytical'], ['analytical', 'tentative'], ['sadness', 'analytical', 'tentative'], ['joy', 'analytical'], ['sadness'], ['confident'], ['tentative'], ['tentative'], ['joy', 'tentative'], ['sadness', 'tentative'], ['sadness', 'analytical'], ['tentative'], ['confident'], ['tentative'], ['analytical', 'tentative'], ['sadness', 'confident'], ['sadness'], ['joy', 'analytical'], ['tentative'], ['analytical'], ['analytical'], [], ['sadness', 'tentative'], ['joy'], ['sadness', 'tentative', 'analytical'], ['joy'], [], ['sadness', 'confident', 'analytical'], ['tentative', 'analytical'], ['analytical'], ['sadness', 'tentative'], ['sadness', 'tentative'], ['analytical'], ['sadness', 'analytical'], ['sadness', 'analytical', 'confident'], ['sadness', 'tentative'], ['anger', 'tentative'], ['fear'], ['joy', 'analytical', 'tentative'], ['joy', 'tentative', 'analytical'], ['joy'], [], ['analytical', 'tentative'], ['sadness'], ['anger'], ['joy'], ['joy', 'analytical', 'tentative'], ['anger', 'tentative', 'analytical'], ['sadness'], [], ['sadness', 'analytical'], ['sadness'], ['sadness'], ['joy', 'tentative'], ['sadness', 'confident', 'analytical'], ['sadness'], ['joy', 'tentative'], ['analytical'], ['fear', 'analytical'], ['sadness', 'tentative'], ['joy'], ['analytical', 'tentative'], ['joy', 'tentative'], ['sadness', 'tentative', 'analytical'], ['fear', 'analytical', 'tentative'], ['fear'], [], ['tentative'], ['sadness'], ['sadness', 'tentative'], ['sadness', 'tentative'], ['anger'], ['joy', 'analytical', 'tentative'], ['anger', 'tentative'], ['analytical'], ['tentative', 'analytical'], ['sadness', 'analytical'], ['joy', 'tentative', 'analytical'], ['analytical'], ['analytical'], ['joy', 'tentative'], ['sadness', 'analytical', 'tentative'], ['analytical'], ['sadness', 'analytical', 'tentative'], ['joy', 'tentative'], ['analytical'], ['joy', 'tentative'], ['joy'], [], ['tentative'], ['analytical'], ['sadness'], ['anger', 'tentative'], ['anger'], ['sadness', 'tentative'], ['analytical', 'confident'], ['anger'], ['fear', 'tentative'], ['sadness'], ['sadness', 'analytical'], ['sadness', 'analytical'], ['confident'], ['analytical'], ['sadness', 'analytical'], ['sadness'], [], ['tentative'], ['sadness', 'tentative'], ['anger', 'tentative'], ['joy'], ['analytical', 'tentative'], ['tentative', 'analytical'], ['tentative'], ['joy', 'analytical', 'tentative'], ['sadness', 'analytical'], ['joy', 'tentative'], ['joy', 'tentative'], ['joy', 'analytical', 'confident'], ['sadness'], ['sadness'], ['analytical', 'confident'], ['joy', 'tentative'], ['sadness', 'tentative', 'analytical'], ['confident'], ['joy'], ['sadness'], ['joy', 'confident', 'analytical'], ['sadness', 'tentative', 'analytical'], ['anger', 'sadness'], ['confident'], ['joy', 'analytical'], ['joy', 'analytical', 'tentative'], ['tentative'], [], ['joy'], [], ['sadness', 'analytical', 'tentative'], ['sadness', 'analytical'], ['joy'], [], ['fear'], ['sadness', 'analytical'], ['joy', 'tentative'], ['sadness', 'tentative'], ['confident'], ['tentative'], ['sadness'], ['joy', 'tentative'], ['joy', 'tentative'], ['sadness', 'tentative'], ['joy', 'analytical'], ['analytical', 'tentative'], ['sadness'], ['joy'], ['sadness', 'confident'], ['anger', 'tentative'], ['sadness', 'tentative'], ['tentative', 'analytical'], ['sadness'], ['sadness', 'analytical'], ['sadness', 'tentative'], ['anger'], ['sadness', 'analytical', 'tentative'], ['tentative'], ['sadness', 'tentative'], ['sadness', 'tentative'], ['analytical'], ['joy'], ['tentative'], ['analytical'], ['joy', 'analytical'], ['sadness', 'analytical'], ['fear', 'sadness'], [], ['sadness'], ['joy', 'analytical', 'confident'], ['joy', 'confident'], ['sadness', 'tentative'], ['sadness'], ['tentative'], ['analytical', 'tentative'], ['sadness', 'analytical'], [], ['joy', 'tentative'], ['sadness', 'tentative'], ['sadness', 'tentative'], ['joy', 'tentative'], ['joy', 'tentative'], ['analytical', 'tentative'], ['tentative'], ['joy', 'tentative'], [], ['tentative'], [], ['joy'], ['joy'], ['tentative', 'analytical'], ['tentative'], ['sadness', 'analytical', 'tentative'], ['analytical'], ['sadness', 'tentative'], ['tentative', 'analytical'], ['sadness', 'analytical'], ['joy', 'tentative'], ['sadness'], [], ['sadness'], [], ['sadness'], ['sadness'], ['sadness'], [], ['joy'], [], ['joy', 'analytical'], ['sadness', 'analytical'], ['anger', 'confident'], ['joy', 'analytical'], ['sadness', 'tentative'], ['fear'], ['confident'], ['tentative'], [], ['tentative'], ['fear', 'tentative'], ['tentative'], ['tentative'], ['joy', 'analytical', 'tentative'], ['joy'], ['fear'], ['sadness', 'confident', 'analytical'], ['sadness'], [], ['tentative'], ['sadness', 'tentative'], ['sadness', 'tentative'], ['anger'], ['sadness', 'tentative'], ['sadness', 'analytical'], ['joy', 'tentative'], ['tentative'], ['sadness', 'tentative'], ['sadness', 'confident'], ['analytical'], ['joy', 'tentative'], ['anger', 'tentative'], ['sadness', 'analytical', 'tentative'], ['confident', 'analytical'], ['joy'], ['sadness', 'tentative'], ['anger', 'sadness'], ['sadness', 'tentative'], ['analytical'], ['sadness', 'tentative'], ['tentative'], ['joy', 'analytical'], ['joy', 'analytical'], ['sadness', 'tentative'], [], ['joy', 'analytical', 'tentative'], ['tentative'], ['sadness', 'analytical'], ['sadness', 'tentative'], [], ['sadness', 'analytical'], ['sadness'], ['joy'], ['sadness', 'analytical'], ['analytical'], ['sadness'], ['tentative'], ['joy', 'analytical', 'confident'], ['sadness'], ['fear', 'tentative'], ['sadness', 'analytical'], ['tentative'], ['fear', 'tentative'], ['sadness'], ['joy'], ['confident'], ['sadness', 'tentative'], ['tentative'], [], ['joy', 'confident'], ['anger', 'sadness'], ['joy', 'tentative'], [], ['tentative'], ['sadness', 'analytical', 'tentative'], ['joy', 'tentative'], ['sadness', 'analytical'], [], ['tentative'], [], ['tentative'], ['sadness', 'fear', 'analytical'], ['joy', 'analytical'], ['sadness'], ['sadness'], ['joy'], [], ['tentative'], ['sadness'], ['sadness', 'tentative'], [], ['sadness'], [], [], ['joy'], ['sadness', 'tentative', 'analytical'], ['sadness'], ['tentative'], ['analytical'], ['sadness', 'tentative'], [], ['analytical', 'tentative'], ['joy', 'analytical', 'tentative'], ['sadness'], ['joy'], [], [], ['sadness', 'tentative'], ['sadness', 'analytical'], ['tentative', 'analytical'], ['sadness', 'analytical'], ['joy'], ['anger', 'tentative'], ['sadness'], ['sadness', 'analytical'], ['tentative'], ['sadness', 'analytical'], ['anger', 'tentative'], ['sadness'], ['sadness', 'confident'], ['joy', 'analytical'], ['sadness', 'analytical', 'tentative'], ['analytical'], ['joy'], ['analytical', 'confident'], ['sadness'], ['sadness'], ['confident'], ['sadness', 'tentative'], ['tentative'], ['joy', 'tentative'], ['fear', 'analytical'], ['fear'], ['sadness', 'analytical'], ['tentative', 'analytical'], ['sadness'], ['joy'], ['joy', 'analytical'], ['joy'], ['joy', 'analytical', 'tentative'], ['sadness', 'tentative'], ['sadness', 'tentative'], ['joy'], ['joy'], ['joy'], ['fear'], ['joy', 'analytical', 'confident'], ['sadness', 'analytical'], ['analytical', 'tentative'], ['sadness', 'tentative'], ['joy', 'analytical'], ['joy', 'tentative'], ['joy', 'tentative', 'analytical'], ['sadness', 'tentative', 'analytical'], ['sadness'], [], ['sadness'], ['sadness'], ['analytical', 'tentative'], ['sadness', 'tentative'], ['analytical'], ['joy'], ['fear', 'analytical'], ['joy'], ['joy', 'tentative'], ['joy', 'analytical'], ['analytical', 'confident'], ['tentative'], ['sadness', 'tentative'], ['sadness'], ['tentative'], ['joy', 'confident'], ['joy'], ['joy'], [], ['fear', 'confident'], ['joy'], ['anger', 'analytical'], ['sadness', 'tentative'], ['analytical'], ['sadness', 'tentative'], ['sadness', 'analytical'], ['tentative'], ['joy', 'analytical'], ['tentative'], ['sadness', 'tentative'], ['joy', 'analytical', 'confident'], ['tentative'], ['analytical'], ['tentative'], ['tentative'], ['joy'], ['anger', 'analytical'], ['joy', 'tentative', 'analytical'], ['tentative'], ['sadness'], [], [], ['confident'], ['sadness', 'tentative'], ['joy', 'confident', 'analytical'], ['tentative'], [], ['sadness', 'tentative'], ['analytical'], [], ['fear', 'tentative'], ['joy', 'tentative'], [], ['joy', 'analytical', 'tentative'], [], ['sadness', 'analytical'], ['joy', 'confident', 'analytical'], ['sadness', 'tentative'], ['fear', 'tentative'], ['joy', 'tentative'], [], ['joy'], ['joy', 'analytical'], ['joy', 'tentative'], [], ['joy'], ['sadness', 'tentative'], ['sadness', 'tentative'], ['joy', 'analytical'], ['joy', 'analytical'], ['joy'], ['joy'], ['tentative', 'analytical'], ['sadness'], ['analytical'], ['joy', 'tentative'], ['tentative', 'analytical'], ['sadness', 'tentative'], ['joy', 'tentative'], ['analytical'], ['joy', 'analytical'], ['sadness'], ['sadness', 'confident', 'analytical'], ['joy'], ['sadness', 'tentative'], ['fear', 'tentative'], ['sadness'], [], ['tentative'], ['joy'], ['analytical'], ['joy'], ['sadness', 'tentative'], ['fear', 'tentative'], ['tentative'], ['sadness'], ['joy'], ['sadness'], [], ['joy', 'tentative'], ['joy', 'tentative', 'analytical'], ['sadness', 'tentative'], ['joy', 'tentative', 'analytical'], ['sadness', 'tentative', 'analytical'], ['sadness', 'confident'], [], ['sadness', 'tentative', 'analytical'], ['sadness', 'tentative'], ['sadness'], ['joy', 'tentative'], ['anger', 'analytical', 'tentative'], ['joy', 'analytical'], ['joy', 'analytical'], ['sadness'], ['fear', 'analytical', 'tentative'], ['analytical', 'tentative'], ['sadness', 'tentative'], ['joy', 'analytical', 'tentative'], ['analytical'], ['sadness', 'tentative'], ['confident'], ['tentative'], ['sadness', 'tentative'], ['fear', 'tentative', 'analytical'], ['sadness'], ['sadness'], ['joy'], ['analytical', 'tentative'], ['sadness'], ['confident'], [], ['joy', 'analytical', 'tentative'], ['sadness', 'tentative'], ['sadness', 'analytical'], ['sadness', 'confident', 'analytical'], ['tentative'], ['fear'], [], ['sadness', 'analytical'], ['sadness', 'analytical'], [], ['sadness', 'tentative', 'analytical'], ['joy'], ['tentative'], ['analytical'], ['sadness'], ['tentative'], ['sadness', 'tentative'], ['joy', 'tentative'], ['anger'], ['joy', 'tentative'], ['tentative', 'analytical'], ['sadness', 'tentative', 'analytical'], ['anger', 'analytical'], [], ['joy'], ['joy'], ['sadness', 'tentative'], [], ['joy', 'tentative'], ['sadness'], ['sadness'], ['tentative'], ['analytical'], ['sadness', 'tentative', 'analytical'], ['tentative'], ['fear'], ['anger', 'confident'], [], ['joy'], ['sadness', 'tentative'], ['sadness', 'tentative'], ['sadness', 'tentative'], ['joy'], ['sadness', 'tentative'], [], ['joy'], ['joy', 'analytical'], ['sadness', 'tentative'], ['fear', 'analytical'], ['confident'], ['analytical'], ['sadness', 'analytical', 'tentative'], ['joy'], [], ['tentative'], ['fear', 'analytical'], ['sadness', 'analytical'], ['sadness', 'tentative'], [], ['sadness', 'analytical'], ['joy', 'tentative'], ['joy'], ['fear', 'confident'], [], ['sadness', 'tentative'], ['joy', 'tentative'], ['analytical'], [], ['tentative', 'analytical'], ['joy'], ['sadness', 'confident', 'analytical'], ['joy'], ['joy', 'analytical'], ['sadness', 'analytical', 'tentative'], ['sadness', 'tentative'], [], ['sadness', 'analytical'], ['tentative'], ['confident'], ['joy'], ['sadness', 'tentative'], [], ['sadness'], ['sadness'], [], ['anger', 'analytical', 'confident'], ['joy', 'tentative'], ['sadness', 'analytical'], ['sadness'], ['tentative'], ['sadness', 'analytical'], ['tentative'], ['analytical'], ['sadness', 'analytical'], ['sadness'], ['sadness'], ['joy', 'analytical'], [], ['joy'], ['sadness', 'tentative'], ['confident'], ['joy'], ['anger', 'tentative'], ['joy', 'confident', 'analytical'], ['tentative'], [], ['anger', 'analytical', 'tentative'], [], [], ['sadness', 'tentative'], ['tentative'], ['sadness', 'tentative'], ['sadness', 'analytical'], ['fear', 'confident'], ['fear'], ['joy', 'analytical'], ['sadness', 'tentative'], [], ['sadness', 'analytical', 'tentative'], ['sadness'], ['sadness', 'analytical'], ['fear', 'tentative'], ['joy', 'analytical', 'tentative'], ['joy', 'tentative'], ['anger', 'confident', 'analytical'], ['analytical'], ['joy', 'analytical'], ['sadness', 'tentative', 'analytical'], ['sadness'], ['sadness', 'analytical'], ['analytical', 'confident'], ['sadness', 'analytical'], ['sadness'], ['sadness'], ['tentative'], ['confident'], ['analytical'], ['sadness', 'tentative', 'analytical'], ['tentative'], ['joy', 'analytical'], ['joy', 'analytical'], ['sadness'], ['sadness'], ['joy', 'confident'], ['joy'], ['joy', 'analytical'], ['sadness'], ['joy', 'confident', 'analytical'], ['sadness'], ['sadness'], ['sadness', 'analytical', 'tentative'], ['fear', 'analytical'], ['joy', 'confident'], ['sadness', 'tentative'], ['tentative'], [], ['joy', 'analytical', 'confident'], ['sadness'], ['tentative', 'analytical'], ['fear'], ['joy', 'analytical'], ['joy', 'tentative'], ['tentative'], ['sadness', 'tentative', 'analytical'], ['joy'], ['analytical'], ['tentative'], ['analytical'], ['joy'], [], ['sadness', 'analytical'], ['sadness'], ['joy', 'tentative'], ['joy', 'analytical', 'tentative'], ['confident'], ['sadness', 'tentative'], ['sadness'], ['sadness'], ['confident', 'analytical'], ['anger'], ['joy', 'tentative'], ['analytical'], ['anger', 'tentative'], ['sadness', 'tentative'], ['sadness', 'tentative'], ['tentative'], ['sadness', 'tentative'], ['joy', 'analytical'], ['sadness'], ['fear'], [], ['analytical', 'tentative'], ['sadness', 'analytical'], ['sadness'], ['joy', 'analytical'], ['sadness', 'tentative'], ['joy'], ['sadness', 'confident'], ['tentative'], [], ['sadness', 'analytical', 'tentative'], ['joy', 'confident'], ['joy', 'analytical', 'tentative'], ['sadness', 'tentative'], ['joy', 'confident'], ['joy', 'tentative'], ['joy', 'analytical', 'tentative'], ['joy', 'analytical', 'tentative'], ['joy'], ['fear', 'tentative'], ['joy', 'tentative'], ['joy', 'analytical', 'tentative'], ['sadness', 'confident', 'analytical'], ['sadness', 'analytical'], ['joy'], ['joy'], ['joy'], ['sadness', 'confident'], ['sadness', 'tentative'], [], ['sadness', 'tentative', 'analytical'], ['joy', 'tentative'], ['joy'], ['joy', 'analytical', 'tentative'], ['fear', 'tentative'], ['confident'], ['sadness', 'tentative'], ['analytical'], [], ['sadness'], ['tentative', 'analytical'], ['sadness', 'tentative'], ['sadness', 'tentative'], ['sadness'], [], ['analytical'], ['joy', 'tentative'], ['joy', 'confident'], ['fear', 'tentative', 'analytical'], ['analytical', 'tentative'], ['confident', 'analytical'], ['tentative'], ['joy', 'analytical'], ['joy'], ['tentative'], [], ['fear'], ['sadness', 'tentative'], ['joy'], ['joy', 'tentative'], ['anger', 'analytical'], ['tentative'], ['fear', 'tentative'], ['analytical'], ['tentative'], ['analytical'], ['sadness'], [], ['sadness', 'confident'], ['tentative'], ['analytical'], ['joy', 'confident'], ['joy'], ['tentative'], ['sadness'], ['sadness'], ['fear', 'sadness', 'tentative'], ['joy'], ['sadness', 'analytical', 'tentative'], ['sadness', 'tentative', 'analytical'], ['anger'], ['sadness', 'tentative', 'analytical'], ['joy', 'tentative'], ['joy', 'analytical'], ['sadness', 'tentative'], ['sadness', 'analytical', 'tentative'], ['sadness'], ['joy', 'analytical'], [], ['sadness', 'tentative'], ['joy'], ['sadness', 'analytical'], ['joy', 'analytical', 'tentative'], ['tentative'], ['sadness', 'analytical', 'tentative'], ['sadness'], ['joy', 'analytical'], [], ['sadness'], ['fear', 'tentative'], ['tentative'], ['joy', 'tentative'], ['sadness', 'tentative'], [], ['joy', 'analytical', 'tentative'], ['joy'], ['joy', 'tentative'], [], ['sadness', 'confident'], ['tentative'], ['sadness'], ['tentative'], ['tentative'], ['sadness'], ['sadness', 'analytical'], ['joy', 'tentative'], ['joy'], ['tentative'], [], ['analytical', 'tentative'], ['analytical'], ['analytical'], ['sadness', 'tentative'], ['joy'], ['sadness'], ['sadness'], ['sadness', 'analytical'], ['fear', 'tentative'], ['sadness', 'tentative'], ['analytical', 'tentative'], ['sadness', 'analytical'], ['joy', 'confident'], ['joy', 'tentative'], ['analytical'], ['sadness'], ['sadness'], ['joy', 'tentative'], ['joy', 'confident'], ['fear', 'confident'], [], ['anger'], ['confident', 'analytical'], ['joy', 'analytical', 'tentative'], ['sadness'], [], ['sadness', 'analytical'], ['sadness', 'confident', 'analytical'], ['sadness', 'tentative'], ['sadness', 'tentative'], ['tentative'], [], ['joy', 'tentative', 'analytical'], ['joy', 'tentative'], ['fear', 'sadness', 'tentative'], ['tentative'], [], ['sadness'], ['joy', 'tentative'], ['joy', 'tentative'], [], ['sadness', 'tentative'], ['analytical'], ['sadness', 'tentative'], ['fear'], ['joy', 'analytical'], ['sadness', 'tentative'], [], ['sadness', 'tentative', 'analytical'], ['sadness'], ['joy'], ['sadness'], ['joy', 'analytical', 'tentative'], ['sadness'], ['sadness', 'confident'], ['sadness', 'analytical', 'tentative'], ['analytical'], ['sadness', 'tentative', 'analytical'], ['tentative'], ['sadness'], ['analytical', 'tentative'], ['sadness', 'analytical'], [], [], ['analytical', 'tentative'], ['joy'], ['fear', 'analytical'], ['sadness', 'tentative'], ['joy', 'tentative'], ['sadness', 'analytical'], ['analytical'], ['sadness', 'tentative'], ['sadness'], ['sadness', 'confident'], ['joy'], ['joy', 'tentative'], ['sadness', 'analytical'], ['sadness', 'tentative'], ['sadness', 'analytical'], ['joy', 'analytical', 'confident'], ['joy'], ['sadness', 'tentative'], ['analytical'], ['joy', 'confident'], ['fear', 'analytical'], ['tentative'], ['tentative'], [], ['sadness'], ['sadness'], ['joy', 'analytical'], [], ['sadness'], ['tentative', 'analytical'], ['sadness'], ['sadness'], [], ['joy'], ['joy', 'analytical', 'tentative'], ['sadness', 'tentative'], ['sadness', 'tentative'], ['joy'], ['sadness'], ['sadness'], ['fear', 'tentative'], ['joy', 'tentative'], ['analytical'], ['joy', 'analytical'], ['analytical', 'tentative'], ['joy'], ['tentative'], ['sadness'], ['joy', 'analytical', 'tentative'], ['analytical'], ['tentative', 'analytical'], [], ['sadness', 'analytical'], ['joy', 'tentative', 'analytical'], ['fear', 'analytical'], [], ['tentative'], ['confident'], ['tentative'], ['tentative'], [], [], ['sadness', 'tentative'], ['sadness', 'tentative'], ['tentative'], ['fear'], ['joy', 'tentative'], ['sadness', 'analytical'], ['sadness', 'tentative', 'analytical'], ['analytical'], ['sadness', 'analytical', 'tentative'], ['sadness', 'analytical'], ['joy', 'analytical'], ['joy', 'analytical', 'tentative'], ['joy', 'tentative'], [], ['anger'], ['analytical'], ['anger', 'analytical', 'tentative'], ['sadness'], ['sadness', 'tentative'], ['anger'], ['joy', 'analytical'], ['sadness', 'analytical'], ['sadness', 'tentative', 'analytical'], ['sadness'], ['sadness', 'analytical'], ['sadness', 'analytical'], ['sadness'], ['fear', 'tentative'], [], ['analytical'], ['tentative', 'analytical'], ['joy', 'analytical'], ['joy'], ['confident'], ['joy'], ['sadness', 'tentative'], ['fear', 'sadness'], ['tentative', 'analytical'], [], ['fear', 'sadness'], ['joy'], [], [], ['joy', 'confident'], ['joy'], ['analytical'], ['tentative'], ['joy'], [], ['joy'], ['analytical', 'tentative'], ['joy', 'tentative'], ['sadness', 'tentative', 'analytical'], ['sadness', 'tentative'], ['sadness', 'tentative'], ['sadness', 'tentative'], ['sadness'], ['analytical', 'tentative'], ['anger'], ['analytical'], ['sadness'], ['sadness', 'analytical'], ['sadness'], ['joy', 'tentative'], ['sadness', 'tentative'], ['sadness'], [], ['sadness', 'tentative'], ['sadness', 'analytical'], ['sadness', 'confident'], ['tentative'], ['sadness', 'tentative'], [], [], ['joy', 'tentative'], ['tentative'], ['fear', 'analytical'], ['sadness'], ['joy', 'tentative', 'analytical'], ['analytical'], ['anger'], ['fear'], ['joy', 'tentative'], ['sadness', 'tentative', 'analytical'], ['confident'], [], ['tentative'], ['tentative'], ['sadness', 'confident'], [], ['sadness', 'tentative'], ['sadness', 'analytical'], ['sadness', 'analytical', 'tentative'], ['fear'], ['sadness'], [], ['anger'], ['joy', 'analytical'], ['sadness', 'tentative'], ['joy'], ['joy', 'confident'], ['sadness', 'analytical'], ['anger', 'sadness'], ['sadness', 'tentative'], ['sadness'], ['analytical'], ['sadness', 'tentative', 'analytical'], ['tentative'], ['analytical'], ['sadness'], ['sadness', 'tentative', 'analytical'], ['tentative'], ['tentative'], ['tentative'], ['joy'], ['sadness', 'analytical'], ['joy'], ['tentative'], ['confident'], ['tentative'], ['confident'], ['sadness', 'tentative', 'analytical'], ['sadness', 'tentative'], ['joy'], ['joy'], ['analytical'], ['tentative'], ['tentative'], ['sadness', 'analytical'], ['anger'], ['analytical', 'tentative'], ['joy', 'analytical'], ['sadness', 'tentative', 'analytical'], ['sadness', 'tentative'], ['sadness'], ['analytical', 'confident'], ['sadness', 'analytical', 'tentative'], [], [], ['anger', 'tentative'], ['analytical', 'tentative'], [], ['analytical'], ['analytical'], ['analytical', 'tentative'], ['anger', 'analytical', 'tentative'], ['joy', 'analytical'], ['sadness', 'tentative', 'analytical'], ['tentative'], ['joy', 'tentative'], ['joy'], ['sadness', 'tentative', 'analytical'], ['sadness', 'tentative'], ['analytical'], ['tentative'], ['joy', 'confident', 'analytical'], ['joy'], ['anger', 'tentative'], ['joy'], ['sadness', 'tentative'], [], ['sadness', 'analytical'], ['anger', 'tentative'], ['joy', 'tentative'], ['joy', 'confident'], ['joy', 'tentative', 'analytical'], ['fear', 'tentative'], ['sadness', 'tentative'], ['joy', 'tentative'], ['sadness', 'analytical'], ['joy', 'analytical'], ['sadness', 'tentative'], ['tentative'], ['sadness', 'tentative'], ['analytical'], ['sadness'], ['joy', 'analytical'], ['tentative'], ['joy'], ['tentative'], ['sadness'], ['joy', 'analytical'], ['sadness', 'tentative'], ['sadness', 'analytical'], [], ['sadness'], ['joy', 'analytical', 'tentative'], ['joy'], ['anger', 'tentative'], ['fear', 'sadness', 'anger', 'tentative'], ['sadness', 'tentative'], ['sadness', 'analytical'], ['sadness', 'analytical'], ['analytical', 'confident'], ['anger'], [], ['joy', 'analytical', 'tentative'], ['joy'], ['tentative'], ['sadness'], ['joy'], ['analytical', 'confident'], [], ['joy', 'tentative'], ['sadness'], ['joy', 'tentative'], [], ['anger', 'tentative'], ['analytical', 'tentative'], ['joy', 'tentative'], ['analytical'], ['joy', 'confident'], [], ['joy'], ['sadness', 'tentative'], ['tentative'], ['sadness'], [], ['anger', 'tentative'], ['tentative'], ['analytical'], ['joy', 'tentative'], [], ['sadness'], ['fear', 'tentative'], ['anger', 'tentative'], ['joy', 'tentative'], ['sadness', 'analytical'], ['sadness', 'analytical'], ['sadness', 'analytical'], [], ['sadness', 'tentative'], ['joy', 'analytical'], ['joy', 'analytical'], ['tentative'], ['sadness', 'tentative'], ['joy', 'analytical'], ['analytical', 'tentative'], ['sadness', 'analytical', 'tentative'], ['sadness'], ['sadness', 'tentative'], ['sadness'], ['sadness'], ['joy'], ['tentative'], ['joy'], ['sadness', 'analytical', 'confident'], ['sadness', 'analytical'], ['sadness', 'tentative'], ['anger'], ['joy', 'confident'], ['sadness', 'confident'], [], ['joy', 'tentative', 'analytical'], ['sadness', 'analytical'], ['sadness', 'analytical'], ['joy', 'analytical', 'tentative'], ['anger', 'tentative'], [], ['fear'], ['sadness', 'tentative'], ['joy'], ['tentative', 'analytical'], ['analytical'], ['sadness', 'tentative'], ['tentative'], ['joy', 'tentative', 'analytical'], ['sadness'], ['sadness', 'analytical', 'tentative'], ['fear', 'tentative', 'analytical'], ['joy', 'analytical'], ['sadness', 'tentative'], ['fear', 'confident'], ['sadness', 'tentative'], ['sadness', 'confident', 'analytical'], ['joy', 'tentative', 'analytical'], ['analytical'], ['sadness', 'tentative'], ['joy'], ['sadness'], ['analytical'], ['sadness', 'analytical'], ['sadness', 'tentative', 'analytical'], ['sadness', 'confident'], ['analytical', 'tentative'], ['joy', 'tentative'], ['analytical'], ['sadness'], [], ['joy'], ['sadness'], ['sadness', 'tentative'], ['joy', 'analytical'], ['joy', 'analytical'], ['sadness', 'analytical'], ['sadness', 'analytical'], ['fear', 'tentative'], ['joy'], ['tentative'], ['sadness', 'confident', 'analytical'], ['fear'], ['sadness', 'tentative'], ['sadness'], ['joy', 'analytical'], ['fear', 'analytical', 'tentative'], ['fear', 'tentative'], [], ['sadness'], ['fear', 'sadness', 'tentative'], ['joy', 'analytical', 'confident'], ['tentative'], ['tentative'], ['joy', 'analytical'], ['sadness', 'analytical', 'tentative'], ['sadness', 'tentative'], [], ['sadness'], ['joy', 'analytical'], ['joy', 'tentative'], ['sadness', 'analytical', 'confident'], ['joy', 'analytical'], ['joy'], ['sadness', 'analytical', 'tentative'], ['sadness', 'analytical'], ['sadness', 'analytical'], ['joy', 'tentative'], ['fear'], ['joy'], ['sadness'], [], ['tentative'], ['joy', 'confident'], ['sadness', 'tentative'], [], ['tentative'], ['sadness'], ['analytical'], ['joy', 'analytical'], ['joy'], ['anger', 'analytical'], ['sadness'], ['fear', 'tentative'], ['fear', 'analytical', 'tentative'], ['fear', 'tentative'], ['sadness', 'analytical'], ['joy', 'confident'], ['sadness', 'analytical', 'confident'], [], ['joy', 'tentative'], ['joy', 'analytical'], ['sadness', 'tentative'], ['sadness', 'tentative'], [], ['joy', 'analytical', 'tentative'], ['analytical', 'tentative'], ['joy', 'tentative'], ['sadness', 'confident'], ['sadness', 'tentative'], ['joy'], ['fear', 'confident'], ['sadness', 'analytical'], ['joy'], ['tentative'], ['sadness', 'analytical'], ['fear', 'tentative'], ['joy'], ['analytical'], ['anger', 'sadness', 'confident'], ['sadness', 'analytical'], [], ['sadness', 'tentative'], ['tentative'], ['joy'], ['tentative'], ['sadness', 'tentative'], ['fear'], ['sadness', 'tentative'], ['analytical'], ['sadness', 'tentative', 'analytical'], ['joy'], [], ['analytical', 'tentative'], ['joy'], ['tentative'], ['confident'], ['anger', 'analytical'], ['joy', 'tentative'], ['joy', 'analytical'], ['joy'], ['sadness', 'tentative'], [], ['tentative'], ['confident'], ['fear', 'anger', 'sadness', 'tentative'], [], ['sadness', 'analytical'], ['tentative'], [], ['sadness', 'analytical', 'tentative'], ['sadness', 'analytical'], ['analytical'], ['sadness', 'analytical'], ['fear'], ['sadness', 'analytical', 'tentative'], ['analytical', 'tentative'], ['tentative'], [], ['analytical'], [], ['tentative'], ['joy'], ['joy', 'confident'], [], ['fear', 'tentative'], ['sadness', 'confident', 'analytical'], ['confident', 'analytical'], ['sadness'], [], [], ['sadness', 'tentative'], ['analytical', 'tentative'], ['sadness', 'tentative'], ['tentative'], ['joy'], ['sadness', 'analytical'], ['sadness'], [], ['sadness', 'tentative'], [], ['sadness', 'analytical', 'tentative'], ['sadness', 'analytical', 'tentative'], [], ['tentative'], ['sadness'], [], ['sadness', 'analytical'], [], ['tentative'], ['sadness', 'tentative'], ['sadness', 'tentative'], ['joy', 'analytical'], ['sadness', 'analytical', 'tentative'], ['sadness'], ['joy'], ['fear', 'analytical'], ['sadness', 'tentative'], [], ['joy'], ['tentative'], ['confident'], ['joy', 'analytical'], ['joy', 'tentative'], ['joy', 'confident'], ['fear', 'sadness', 'tentative'], ['tentative', 'analytical'], ['tentative'], ['analytical'], ['tentative'], ['joy', 'tentative'], ['fear', 'tentative'], ['joy', 'analytical'], [], [], ['fear', 'tentative'], ['sadness', 'tentative'], ['sadness', 'analytical'], ['confident', 'analytical'], ['sadness'], [], [], ['anger', 'fear', 'tentative'], ['anger', 'analytical'], [], ['sadness', 'analytical'], ['joy', 'analytical'], ['sadness'], ['joy'], ['sadness', 'tentative'], ['joy'], ['joy', 'tentative'], ['joy'], ['tentative'], ['fear', 'tentative'], ['joy'], ['tentative'], ['tentative'], [], ['sadness', 'analytical', 'tentative'], ['tentative', 'analytical'], ['joy'], ['analytical', 'tentative'], ['joy', 'tentative'], ['sadness', 'analytical'], ['sadness', 'tentative'], ['joy'], ['joy'], ['joy', 'tentative'], ['joy', 'tentative'], ['analytical', 'tentative'], ['analytical', 'tentative'], ['joy', 'tentative', 'analytical'], ['sadness', 'confident', 'analytical'], ['anger', 'sadness'], ['sadness', 'tentative'], ['sadness', 'analytical', 'tentative'], ['tentative', 'analytical'], ['sadness', 'analytical', 'confident'], ['joy', 'tentative', 'analytical'], ['sadness', 'analytical', 'tentative'], ['sadness'], ['anger', 'confident'], ['tentative'], ['sadness', 'tentative'], ['tentative'], ['tentative', 'analytical'], ['sadness', 'analytical', 'confident'], ['anger'], ['sadness'], ['sadness', 'analytical'], ['tentative', 'analytical'], ['joy', 'tentative'], ['tentative'], ['sadness', 'analytical', 'confident'], [], ['fear'], ['anger', 'analytical'], ['joy'], ['joy', 'analytical'], ['analytical'], ['joy', 'analytical'], ['joy', 'tentative', 'analytical'], ['tentative'], ['tentative'], ['fear'], [], ['joy', 'confident'], ['sadness'], ['joy', 'tentative'], ['sadness', 'tentative'], ['tentative'], ['sadness', 'tentative'], ['joy', 'analytical', 'tentative'], ['tentative'], ['sadness', 'tentative'], ['sadness', 'tentative'], ['joy', 'tentative', 'analytical'], ['tentative'], [], ['tentative'], [], ['joy', 'analytical'], ['anger', 'tentative'], ['fear', 'confident'], ['sadness', 'tentative'], ['sadness', 'tentative'], ['sadness'], ['anger'], ['joy'], ['tentative'], ['tentative'], ['joy'], [], ['sadness'], ['analytical'], ['sadness', 'analytical'], ['joy'], ['fear', 'analytical'], ['confident', 'analytical'], [], ['tentative'], ['joy', 'analytical', 'tentative'], ['tentative', 'analytical'], ['sadness', 'analytical', 'tentative'], [], ['joy'], ['tentative'], ['sadness', 'analytical'], [], ['joy', 'tentative'], ['joy'], ['confident', 'analytical'], ['fear', 'sadness', 'tentative'], [], ['tentative'], ['sadness'], ['joy'], ['anger'], ['sadness'], ['sadness', 'analytical', 'tentative'], ['joy', 'analytical'], ['joy', 'tentative'], ['sadness', 'tentative', 'analytical'], ['joy', 'analytical'], ['joy'], ['joy', 'analytical'], ['sadness', 'tentative'], ['tentative'], ['joy', 'tentative', 'analytical'], ['fear', 'analytical'], ['confident'], ['fear', 'analytical'], ['tentative', 'analytical'], ['tentative', 'analytical'], [], ['analytical'], ['joy', 'analytical', 'tentative'], [], ['sadness', 'analytical', 'confident'], ['analytical', 'tentative'], ['joy', 'tentative'], ['sadness', 'analytical'], [], ['tentative'], ['joy', 'tentative'], ['tentative'], ['tentative'], [], ['joy', 'tentative'], ['sadness', 'analytical'], ['confident'], [], [], ['tentative'], ['sadness', 'analytical', 'confident'], ['joy'], ['fear', 'tentative'], ['joy', 'tentative', 'analytical'], ['anger', 'tentative'], ['anger', 'analytical', 'tentative'], [], ['sadness'], ['joy', 'analytical', 'tentative'], ['sadness', 'tentative'], ['sadness', 'tentative', 'analytical'], ['sadness', 'tentative'], [], ['sadness', 'analytical', 'tentative'], ['analytical'], ['sadness', 'tentative'], ['sadness', 'tentative', 'analytical'], ['fear'], ['sadness'], ['sadness', 'tentative'], ['sadness'], ['sadness', 'tentative'], ['joy', 'tentative'], ['confident', 'analytical'], ['joy', 'confident'], ['sadness', 'tentative'], ['sadness'], ['tentative', 'analytical'], ['tentative'], ['sadness'], ['anger'], ['joy'], ['sadness'], ['tentative'], ['tentative'], [], ['joy'], ['analytical'], ['sadness', 'confident', 'analytical'], [], ['sadness', 'tentative'], ['fear', 'tentative'], [], ['anger'], ['joy', 'analytical'], ['tentative'], ['analytical', 'tentative'], ['tentative'], ['sadness', 'tentative'], ['sadness', 'analytical'], ['tentative'], ['sadness', 'analytical', 'tentative'], ['analytical', 'tentative'], ['sadness'], ['sadness'], [], ['sadness', 'tentative', 'analytical'], ['sadness', 'analytical'], ['sadness', 'tentative'], ['tentative', 'analytical'], [], ['tentative'], ['joy', 'analytical'], [], ['joy'], ['sadness', 'analytical'], ['sadness'], ['analytical'], [], ['sadness', 'analytical'], ['sadness', 'analytical'], ['confident'], ['sadness', 'confident', 'analytical'], ['joy'], [], ['tentative', 'analytical'], ['sadness', 'tentative'], ['analytical'], ['sadness', 'analytical'], ['tentative'], ['tentative'], ['sadness', 'tentative'], ['anger', 'tentative'], ['joy', 'tentative'], ['tentative'], ['tentative'], [], ['sadness'], ['tentative'], [], ['sadness'], ['joy'], ['joy', 'tentative'], ['joy'], ['tentative', 'analytical'], ['joy', 'analytical'], ['joy', 'tentative'], ['sadness', 'analytical'], ['sadness'], ['analytical', 'tentative'], ['sadness', 'tentative', 'analytical'], ['confident'], ['sadness', 'tentative'], ['joy', 'tentative'], ['fear'], ['fear', 'analytical', 'tentative'], ['joy', 'tentative', 'analytical'], [], ['sadness'], [], ['joy', 'tentative'], ['joy', 'analytical'], ['anger', 'analytical'], ['sadness', 'fear'], ['sadness'], ['sadness'], ['joy'], ['sadness'], ['joy'], [], [], ['sadness', 'analytical', 'tentative'], ['sadness', 'confident'], ['sadness'], ['sadness'], ['joy', 'tentative'], ['joy', 'tentative'], ['joy'], ['tentative', 'analytical'], ['analytical'], ['joy', 'tentative'], ['sadness'], ['joy'], ['tentative'], ['joy', 'analytical'], ['joy'], ['sadness'], [], ['tentative', 'analytical'], ['joy', 'analytical', 'tentative'], ['sadness', 'analytical'], ['sadness', 'tentative'], ['sadness', 'tentative'], [], ['sadness', 'analytical', 'tentative'], ['sadness', 'analytical'], ['fear', 'confident'], ['joy'], ['sadness'], [], ['analytical', 'tentative'], [], ['sadness', 'confident', 'analytical'], ['joy'], ['joy', 'confident'], ['analytical'], ['sadness'], ['sadness', 'tentative'], [], ['sadness', 'tentative'], ['fear'], ['sadness', 'tentative'], ['sadness', 'tentative'], ['sadness', 'confident'], ['joy'], ['joy', 'analytical'], ['joy'], ['anger', 'analytical'], ['sadness', 'tentative'], ['fear', 'sadness', 'analytical', 'confident'], ['joy', 'analytical'], ['sadness'], ['tentative'], ['tentative'], ['joy', 'tentative'], ['analytical', 'tentative'], ['joy', 'analytical'], ['anger'], ['joy', 'tentative'], ['anger', 'tentative'], [], ['joy'], ['analytical'], ['sadness', 'tentative'], ['analytical'], ['confident'], ['joy'], ['sadness', 'confident'], ['sadness'], ['analytical'], ['joy'], ['joy', 'analytical', 'tentative'], ['joy', 'tentative'], ['analytical'], ['tentative'], ['sadness', 'tentative'], ['joy', 'confident', 'analytical'], [], ['joy', 'analytical', 'tentative'], [], ['sadness', 'anger', 'tentative'], ['sadness'], ['sadness', 'tentative'], [], ['joy'], ['joy', 'analytical', 'tentative'], ['sadness'], ['anger', 'tentative'], ['tentative'], ['joy', 'tentative'], ['sadness'], ['sadness', 'tentative'], ['sadness', 'analytical'], ['joy', 'analytical'], ['sadness', 'analytical'], ['fear', 'analytical'], ['tentative'], ['tentative'], ['analytical'], ['anger'], ['sadness', 'tentative'], ['sadness', 'analytical'], ['anger', 'tentative'], ['sadness', 'tentative'], [], ['joy'], ['sadness', 'tentative', 'analytical'], ['sadness', 'tentative'], ['joy', 'tentative'], ['fear'], [], ['tentative'], ['fear'], ['sadness', 'tentative'], [], ['joy'], ['analytical'], ['sadness'], ['sadness', 'tentative'], ['joy', 'analytical'], ['confident', 'analytical'], ['confident'], ['joy', 'analytical'], ['joy'], ['sadness', 'analytical'], ['sadness', 'tentative'], ['fear'], ['sadness'], [], ['fear', 'analytical'], ['sadness', 'tentative', 'analytical'], ['sadness', 'tentative'], ['anger', 'confident'], ['joy'], ['joy'], ['joy', 'analytical'], ['joy'], ['joy'], ['analytical', 'confident'], ['sadness'], ['joy', 'tentative'], ['joy', 'confident'], [], ['tentative'], ['tentative'], ['sadness', 'tentative'], ['tentative'], ['analytical'], ['sadness'], ['joy', 'analytical'], ['joy', 'confident'], [], ['joy'], ['anger'], ['joy'], ['joy', 'confident', 'analytical'], ['analytical', 'confident'], ['sadness', 'analytical', 'tentative'], ['joy', 'analytical', 'tentative'], ['analytical'], ['joy'], ['joy'], ['analytical', 'tentative'], ['joy'], ['sadness', 'tentative', 'analytical'], ['joy', 'analytical'], ['sadness', 'analytical'], ['sadness'], ['analytical', 'tentative'], ['sadness', 'confident', 'analytical'], ['sadness', 'tentative'], [], [], ['sadness', 'tentative'], ['sadness'], ['anger', 'tentative'], ['sadness', 'analytical'], ['joy', 'tentative'], ['sadness', 'tentative'], ['sadness', 'tentative', 'analytical'], ['tentative'], ['joy', 'analytical', 'tentative'], ['joy', 'tentative'], ['sadness'], ['sadness', 'analytical'], [], ['joy', 'tentative', 'analytical'], ['joy', 'analytical'], [], ['joy', 'analytical'], ['joy'], ['sadness', 'tentative'], ['sadness', 'tentative'], [], ['fear', 'tentative'], ['fear'], ['tentative'], ['tentative', 'analytical'], ['analytical'], ['anger', 'analytical', 'tentative'], ['sadness', 'tentative', 'analytical'], ['confident', 'analytical'], ['sadness', 'analytical'], [], ['analytical'], ['sadness', 'analytical', 'tentative'], ['joy'], ['tentative'], ['tentative'], ['sadness', 'confident'], ['anger', 'confident'], ['sadness', 'analytical'], ['analytical'], ['tentative', 'analytical'], ['joy', 'analytical'], ['fear'], [], ['joy', 'analytical'], ['joy'], ['anger'], [], ['joy', 'analytical', 'confident'], ['joy'], ['anger', 'tentative'], ['joy', 'analytical'], ['joy', 'confident'], ['analytical', 'tentative'], ['joy'], ['fear'], ['sadness', 'tentative'], ['joy'], [], ['analytical', 'confident'], [], ['sadness', 'analytical', 'tentative'], ['sadness'], ['sadness'], ['joy'], ['joy'], ['sadness', 'analytical', 'tentative'], ['analytical'], [], ['analytical', 'tentative'], [], ['sadness', 'tentative'], ['sadness'], [], [], ['tentative'], ['tentative'], [], ['sadness'], [], ['fear', 'analytical'], ['analytical'], ['joy'], ['sadness', 'analytical', 'tentative'], ['tentative', 'analytical'], ['fear', 'analytical'], ['joy', 'confident'], ['fear', 'sadness', 'tentative'], ['sadness', 'tentative'], ['sadness'], ['sadness', 'analytical'], ['tentative'], ['anger', 'analytical', 'tentative'], ['analytical'], ['tentative'], ['analytical'], ['tentative', 'analytical'], ['sadness', 'analytical', 'tentative'], ['fear', 'tentative'], ['tentative'], ['fear'], ['joy', 'tentative'], ['sadness', 'tentative'], ['tentative'], ['sadness', 'analytical'], ['fear', 'sadness'], ['joy', 'confident'], ['sadness', 'analytical'], ['tentative'], ['fear', 'tentative'], ['sadness'], ['sadness', 'confident'], ['sadness', 'tentative'], ['joy'], ['tentative', 'analytical'], ['joy', 'confident'], ['joy'], ['sadness', 'tentative'], ['sadness', 'analytical'], ['anger'], [], ['joy', 'analytical'], ['joy', 'analytical'], ['anger'], ['sadness', 'analytical'], ['analytical'], ['sadness', 'analytical', 'confident'], ['anger'], ['joy', 'analytical'], ['sadness'], ['sadness', 'analytical', 'confident'], ['sadness', 'tentative', 'analytical'], ['fear', 'tentative'], ['tentative'], ['fear', 'sadness'], ['sadness', 'analytical', 'tentative'], [], ['sadness', 'analytical', 'tentative'], ['sadness', 'analytical'], ['joy'], ['sadness'], ['sadness'], ['fear'], ['sadness'], ['joy', 'tentative', 'analytical'], [], ['sadness', 'tentative', 'analytical'], ['joy'], [], ['sadness', 'tentative'], ['sadness'], ['joy', 'analytical'], ['joy', 'tentative', 'analytical'], ['anger', 'tentative'], [], [], ['joy'], [], ['tentative'], ['sadness', 'tentative'], ['sadness', 'analytical', 'tentative'], ['joy', 'tentative'], ['confident'], [], ['sadness', 'confident'], ['tentative'], ['sadness', 'analytical', 'tentative'], ['joy'], ['analytical', 'tentative'], ['sadness', 'tentative', 'analytical'], ['joy', 'confident'], ['tentative', 'analytical'], ['sadness', 'tentative'], ['confident'], ['sadness'], ['sadness', 'tentative'], ['tentative', 'analytical'], ['sadness', 'tentative'], ['tentative'], [], ['joy'], [], ['fear', 'tentative'], ['sadness', 'confident', 'analytical'], ['anger'], [], ['anger'], ['sadness', 'confident'], ['joy', 'analytical'], ['sadness', 'tentative'], ['fear'], ['analytical', 'tentative'], ['anger', 'tentative'], ['sadness', 'tentative'], ['joy', 'analytical'], [], ['analytical'], ['confident'], ['joy'], ['sadness'], ['tentative'], [], ['joy', 'confident'], ['tentative'], ['sadness'], ['sadness'], ['analytical'], ['joy', 'tentative'], ['joy'], [], ['joy', 'analytical'], [], ['analytical'], ['joy'], ['joy', 'tentative', 'analytical'], ['sadness', 'tentative', 'analytical'], [], ['sadness', 'analytical', 'tentative'], ['sadness'], ['sadness', 'analytical'], ['fear'], ['sadness', 'confident'], ['joy', 'tentative', 'analytical'], ['joy'], ['tentative'], ['joy', 'analytical'], ['joy', 'tentative'], ['fear'], ['fear', 'tentative'], ['sadness', 'analytical'], [], ['sadness', 'analytical'], ['sadness', 'tentative', 'analytical'], ['joy'], ['fear', 'sadness', 'analytical', 'tentative'], ['tentative'], ['anger'], ['joy', 'analytical', 'tentative'], ['joy'], ['tentative'], ['anger', 'fear', 'confident'], ['confident'], ['tentative'], ['sadness', 'analytical'], ['joy', 'tentative'], [], ['joy', 'analytical', 'tentative'], ['sadness'], ['sadness', 'analytical'], ['fear'], ['sadness', 'tentative'], ['joy', 'tentative', 'analytical'], ['analytical', 'tentative'], ['sadness', 'tentative'], [], [], ['sadness', 'analytical'], ['sadness', 'confident'], ['anger'], ['sadness', 'tentative'], ['joy'], ['joy', 'tentative'], ['tentative'], ['anger'], ['tentative'], ['sadness', 'tentative'], ['analytical', 'tentative'], ['tentative'], ['tentative'], ['joy', 'confident'], ['sadness'], [], ['sadness'], ['joy'], ['joy'], ['joy'], ['sadness', 'confident', 'analytical'], ['sadness'], ['tentative'], ['sadness', 'tentative'], ['tentative'], ['fear', 'tentative'], ['joy'], ['tentative', 'analytical'], ['joy', 'tentative'], [], [], ['sadness', 'analytical'], ['confident'], ['joy', 'analytical', 'tentative'], ['tentative'], ['sadness', 'analytical'], [], ['sadness', 'anger', 'tentative'], ['tentative'], ['sadness', 'confident'], ['analytical'], ['sadness', 'tentative'], ['joy'], ['anger'], ['analytical', 'tentative'], ['sadness', 'confident'], ['joy', 'tentative', 'analytical'], ['sadness'], ['fear', 'tentative'], ['fear', 'sadness', 'tentative'], ['sadness', 'tentative'], ['sadness', 'analytical'], ['joy'], ['sadness'], ['sadness'], ['anger', 'tentative', 'analytical'], ['joy'], ['joy'], ['sadness', 'analytical'], ['sadness', 'tentative'], ['joy'], ['analytical'], ['joy', 'tentative'], ['tentative'], ['joy', 'tentative', 'analytical'], ['sadness', 'tentative', 'analytical'], [], ['joy'], ['sadness', 'analytical', 'tentative'], [], ['tentative'], [], ['sadness'], ['sadness'], ['tentative'], ['tentative'], ['sadness', 'analytical'], [], ['tentative'], [], ['joy', 'analytical', 'tentative'], ['sadness', 'tentative'], ['sadness', 'tentative'], ['confident', 'analytical'], ['tentative', 'analytical'], ['sadness'], ['sadness', 'tentative'], ['sadness', 'tentative'], ['joy', 'analytical', 'tentative'], ['sadness', 'tentative'], ['tentative'], ['joy'], ['joy', 'analytical'], ['fear'], ['sadness', 'analytical', 'tentative'], ['anger', 'analytical'], ['analytical'], ['analytical'], ['tentative'], ['joy'], [], ['anger'], ['sadness'], ['sadness', 'tentative', 'analytical'], ['sadness', 'analytical'], ['anger', 'analytical'], ['tentative'], ['anger', 'analytical'], ['sadness', 'confident'], ['tentative'], ['sadness', 'analytical'], ['sadness'], [], ['joy'], ['analytical'], ['analytical'], ['sadness'], ['joy', 'tentative'], ['joy'], ['sadness', 'analytical'], ['anger', 'tentative'], ['sadness', 'tentative'], ['tentative'], ['joy', 'confident'], ['tentative'], ['confident'], ['sadness', 'analytical'], ['joy', 'confident'], ['sadness', 'tentative'], ['fear', 'confident'], [], [], [], [], ['analytical'], ['sadness', 'confident'], ['fear'], ['sadness', 'tentative'], ['analytical'], ['tentative', 'analytical'], ['sadness', 'tentative', 'analytical'], ['analytical', 'tentative'], ['joy'], ['joy', 'analytical'], ['analytical'], ['joy', 'tentative'], ['joy'], ['joy', 'analytical'], ['joy', 'analytical'], ['anger', 'tentative'], ['sadness', 'tentative'], ['tentative'], ['sadness', 'analytical'], ['joy', 'analytical'], ['joy', 'analytical'], ['sadness', 'tentative'], ['sadness', 'confident'], ['joy', 'tentative'], ['fear', 'tentative'], ['fear', 'analytical', 'tentative'], ['analytical'], ['joy', 'tentative'], ['joy', 'tentative'], ['sadness'], ['anger', 'tentative'], ['sadness', 'tentative'], ['sadness', 'tentative'], ['joy'], ['sadness', 'tentative'], [], ['sadness', 'confident'], ['sadness', 'tentative'], ['sadness', 'tentative', 'analytical'], ['sadness', 'analytical'], ['sadness'], ['sadness', 'analytical'], ['sadness', 'analytical'], ['fear', 'sadness', 'analytical'], [], ['joy', 'confident'], ['joy'], ['sadness'], ['sadness', 'tentative'], ['joy', 'analytical', 'tentative'], ['fear'], ['sadness', 'tentative'], [], ['joy', 'tentative'], ['joy', 'tentative', 'analytical'], [], ['analytical', 'tentative'], ['sadness', 'analytical'], [], ['sadness', 'tentative'], ['fear'], ['joy', 'tentative', 'analytical'], [], ['joy', 'tentative'], ['sadness', 'analytical'], ['sadness', 'tentative'], ['sadness', 'confident'], ['joy', 'analytical', 'tentative'], ['joy'], ['joy', 'tentative', 'analytical'], ['joy'], ['joy', 'analytical'], ['analytical'], ['joy'], ['sadness', 'analytical', 'tentative'], ['sadness', 'tentative'], ['analytical'], ['tentative'], ['sadness', 'tentative'], ['sadness'], [], [], ['confident', 'analytical'], ['tentative'], [], ['joy'], ['joy', 'analytical'], [], ['joy'], ['anger', 'tentative'], ['joy', 'tentative'], ['sadness', 'tentative'], ['sadness'], ['joy'], ['joy', 'analytical'], ['joy', 'confident', 'analytical'], ['joy', 'analytical'], ['joy', 'tentative'], ['joy'], ['joy'], ['sadness', 'tentative'], ['sadness'], ['joy', 'analytical'], ['sadness', 'tentative', 'analytical'], [], ['sadness'], ['joy'], ['sadness', 'tentative'], ['sadness', 'tentative'], ['sadness', 'analytical'], ['analytical'], ['joy', 'tentative'], ['sadness', 'confident'], [], ['sadness', 'tentative'], ['sadness'], ['joy'], ['sadness', 'analytical', 'tentative'], ['tentative'], ['analytical'], ['fear'], ['sadness', 'tentative'], ['joy'], ['anger', 'tentative'], ['analytical'], ['analytical'], [], ['sadness', 'tentative'], ['joy', 'analytical'], ['analytical', 'tentative'], ['analytical', 'tentative'], [], ['fear', 'analytical'], ['analytical'], ['joy'], ['joy', 'tentative'], ['analytical'], ['joy', 'analytical'], ['sadness'], [], [], ['fear', 'tentative'], ['tentative', 'analytical'], ['tentative'], ['sadness', 'tentative'], ['tentative'], ['anger', 'tentative'], ['sadness', 'tentative'], ['tentative', 'analytical'], [], ['confident', 'analytical'], ['joy', 'tentative'], [], [], ['joy'], ['sadness'], [], ['sadness', 'confident'], ['fear', 'tentative'], ['joy'], ['sadness'], ['joy', 'tentative'], ['sadness'], ['joy'], ['sadness'], ['analytical', 'confident'], ['joy'], ['sadness'], ['joy', 'analytical'], ['sadness', 'analytical'], ['sadness', 'analytical'], ['tentative'], ['joy', 'tentative'], ['confident'], ['sadness', 'analytical', 'tentative'], ['tentative'], ['sadness', 'tentative', 'analytical'], ['sadness', 'tentative'], ['sadness', 'fear', 'tentative'], ['joy'], ['tentative'], ['tentative', 'analytical'], ['joy', 'tentative'], ['tentative'], ['sadness', 'tentative'], ['joy', 'tentative'], ['joy', 'tentative'], ['sadness', 'analytical'], ['sadness'], [], ['sadness', 'tentative'], ['sadness', 'analytical'], ['joy', 'analytical'], ['sadness'], ['anger', 'tentative'], ['anger', 'tentative'], ['sadness'], ['joy'], ['tentative'], ['sadness', 'tentative', 'analytical'], ['joy', 'analytical', 'tentative'], ['joy', 'tentative'], [], ['analytical', 'tentative'], ['sadness', 'confident'], ['sadness'], ['sadness', 'tentative'], [], ['sadness'], ['confident', 'analytical'], ['fear', 'sadness'], ['tentative'], ['analytical', 'tentative'], ['sadness', 'analytical'], ['tentative', 'analytical'], [], ['joy'], ['sadness'], ['joy', 'confident', 'analytical'], ['sadness', 'analytical'], ['sadness', 'analytical'], ['anger', 'confident'], ['fear'], ['joy'], ['fear', 'sadness'], ['fear', 'tentative'], ['tentative'], ['tentative'], ['sadness', 'tentative'], ['sadness', 'tentative', 'analytical'], ['tentative'], ['sadness', 'tentative'], ['tentative'], ['tentative'], [], ['fear', 'confident'], ['tentative', 'analytical'], ['sadness', 'confident', 'analytical'], ['joy'], ['joy'], ['joy'], ['tentative'], ['joy', 'tentative'], [], ['sadness', 'confident'], ['joy', 'tentative'], ['fear', 'tentative'], ['joy', 'tentative'], ['confident'], ['sadness', 'tentative'], ['analytical'], ['sadness', 'tentative'], ['sadness', 'fear', 'tentative'], ['sadness', 'tentative'], ['sadness', 'analytical', 'tentative'], ['sadness', 'tentative'], ['sadness'], ['joy'], ['tentative'], ['joy'], ['joy', 'tentative'], ['sadness', 'analytical', 'tentative'], ['sadness', 'tentative'], ['sadness', 'tentative'], ['sadness', 'tentative'], ['sadness', 'tentative'], ['analytical'], ['analytical'], ['joy', 'analytical'], ['joy', 'tentative'], ['sadness', 'analytical', 'confident'], ['analytical'], ['sadness'], ['sadness', 'analytical'], [], [], ['fear'], ['sadness', 'tentative'], ['sadness', 'tentative'], ['joy', 'tentative'], [], ['sadness'], ['sadness', 'analytical', 'tentative'], ['sadness', 'analytical', 'tentative'], ['tentative', 'analytical'], ['sadness', 'analytical'], ['sadness', 'tentative'], ['sadness', 'tentative', 'analytical'], ['joy'], [], ['joy', 'tentative'], [], ['joy', 'confident'], ['anger'], ['sadness', 'tentative'], ['anger'], ['sadness', 'tentative', 'analytical'], ['joy'], ['joy', 'analytical'], ['tentative'], ['joy'], ['sadness', 'analytical', 'tentative'], ['joy', 'tentative'], ['anger'], ['fear', 'tentative'], ['fear'], ['sadness', 'analytical'], ['sadness'], [], ['sadness'], ['joy'], ['joy', 'confident', 'analytical'], ['sadness'], ['sadness', 'analytical'], ['sadness', 'confident', 'analytical'], ['tentative'], ['tentative'], ['joy'], ['joy'], ['sadness', 'analytical', 'tentative'], ['sadness', 'analytical', 'tentative'], [], ['fear'], ['joy', 'analytical'], ['fear'], ['sadness', 'tentative'], [], ['sadness', 'analytical'], ['tentative'], ['joy', 'tentative'], ['sadness', 'tentative'], ['sadness', 'analytical', 'tentative'], ['sadness'], ['joy', 'tentative'], ['tentative'], ['joy'], ['sadness', 'tentative'], [], ['joy'], ['sadness'], ['anger', 'tentative'], ['sadness'], ['joy'], ['joy'], ['analytical'], ['joy', 'confident'], ['joy', 'analytical', 'confident'], ['sadness', 'tentative'], [], [], ['sadness', 'tentative'], [], [], [], ['anger', 'analytical', 'tentative'], [], ['sadness', 'analytical', 'tentative'], [], [], ['anger'], ['sadness', 'tentative'], ['sadness', 'tentative'], ['joy', 'analytical'], ['analytical'], ['sadness', 'tentative'], ['sadness', 'tentative'], ['joy', 'analytical'], [], ['analytical', 'tentative'], ['joy', 'tentative'], ['analytical'], ['joy', 'analytical'], ['fear'], ['tentative'], ['joy', 'tentative'], ['sadness', 'analytical'], ['joy', 'tentative'], ['anger', 'tentative'], ['sadness', 'analytical', 'tentative'], ['joy'], ['joy', 'tentative'], ['sadness', 'analytical'], ['analytical'], ['joy'], ['fear', 'tentative'], [], ['joy', 'analytical'], ['sadness', 'analytical', 'tentative'], ['tentative'], ['joy'], ['analytical', 'tentative'], ['fear', 'tentative'], ['joy'], ['sadness'], ['joy', 'analytical'], ['joy', 'tentative', 'analytical'], ['joy'], ['sadness'], ['joy', 'analytical'], ['tentative'], ['joy'], ['joy', 'confident', 'analytical'], ['joy', 'tentative'], ['tentative'], ['anger'], ['joy'], [], ['joy', 'tentative'], [], ['fear', 'tentative'], ['sadness', 'analytical', 'tentative'], ['anger', 'analytical', 'tentative'], [], ['sadness', 'tentative'], ['anger', 'tentative'], ['joy', 'analytical', 'tentative'], ['tentative'], ['sadness'], [], ['sadness', 'confident', 'analytical'], ['sadness'], ['sadness', 'analytical'], ['sadness', 'tentative', 'analytical'], ['joy', 'tentative'], ['sadness', 'analytical', 'tentative'], ['sadness', 'tentative'], ['joy', 'analytical'], ['sadness', 'tentative', 'analytical'], ['joy', 'tentative'], ['tentative', 'analytical'], ['fear', 'analytical'], ['sadness'], ['joy'], ['joy'], ['joy', 'tentative'], ['sadness'], ['sadness'], ['analytical'], ['sadness', 'tentative'], ['fear', 'tentative'], ['joy', 'analytical'], ['joy', 'confident', 'analytical'], ['tentative'], ['sadness', 'tentative'], ['sadness', 'tentative'], ['sadness'], ['sadness'], ['joy'], ['tentative', 'analytical'], ['joy'], ['joy', 'confident'], ['tentative'], ['sadness', 'analytical'], ['sadness', 'analytical', 'tentative'], ['sadness', 'tentative'], ['joy'], ['anger', 'tentative'], ['joy', 'analytical', 'confident'], ['sadness', 'tentative'], ['sadness', 'tentative'], ['anger', 'tentative', 'analytical'], ['sadness', 'tentative', 'analytical'], ['joy', 'analytical', 'tentative'], ['sadness'], ['joy', 'analytical', 'confident'], [], ['joy', 'analytical'], ['joy'], ['tentative'], ['joy'], ['sadness'], ['tentative'], ['analytical'], ['joy', 'tentative'], ['fear', 'analytical', 'tentative'], ['anger'], ['joy', 'confident'], ['sadness', 'tentative'], ['sadness', 'tentative'], ['sadness', 'analytical', 'tentative'], ['joy', 'analytical', 'tentative'], ['sadness', 'analytical'], ['anger', 'analytical'], ['joy', 'analytical'], ['sadness'], ['sadness', 'tentative'], ['joy'], ['analytical'], ['joy'], ['fear', 'tentative'], ['joy', 'analytical'], ['joy', 'analytical'], [], ['joy', 'analytical'], ['sadness', 'analytical'], ['sadness', 'tentative', 'analytical'], ['sadness', 'tentative'], [], ['sadness'], ['sadness', 'tentative'], ['sadness', 'tentative'], ['joy', 'tentative'], ['tentative', 'analytical'], ['tentative'], [], [], ['sadness'], ['sadness', 'analytical'], ['sadness', 'tentative'], ['sadness', 'analytical'], ['tentative'], ['joy'], ['analytical', 'tentative'], ['sadness', 'confident'], ['analytical'], ['joy'], [], ['joy', 'tentative', 'analytical'], ['sadness', 'tentative', 'analytical'], ['joy', 'analytical', 'tentative'], ['joy'], ['fear', 'sadness'], ['sadness', 'analytical', 'tentative'], ['joy', 'analytical', 'confident'], ['fear', 'tentative'], ['sadness', 'analytical'], ['sadness'], ['analytical', 'tentative'], ['sadness', 'analytical', 'tentative'], ['sadness', 'tentative'], ['tentative'], ['sadness', 'tentative'], ['fear', 'tentative'], ['analytical', 'tentative'], ['joy'], ['tentative'], ['tentative'], ['tentative'], ['joy', 'analytical', 'tentative'], ['sadness'], [], ['joy'], ['analytical', 'tentative'], ['sadness', 'analytical'], [], [], ['sadness', 'analytical'], ['joy', 'tentative'], [], [], [], ['analytical', 'confident'], ['sadness'], ['sadness', 'analytical', 'tentative'], ['anger', 'analytical', 'tentative'], ['joy', 'tentative'], ['anger', 'analytical'], ['fear'], ['sadness', 'analytical'], ['fear', 'tentative'], ['joy', 'analytical'], ['sadness', 'analytical', 'tentative'], [], ['tentative'], ['sadness'], ['sadness', 'tentative'], ['joy', 'tentative'], ['joy', 'confident', 'analytical'], ['sadness', 'analytical'], ['sadness', 'tentative'], ['sadness', 'analytical'], ['tentative'], ['tentative'], ['joy'], ['sadness', 'analytical'], ['tentative'], ['sadness', 'tentative'], ['sadness'], ['confident'], ['sadness', 'tentative'], ['anger', 'analytical'], ['sadness', 'tentative'], ['fear'], ['analytical'], ['analytical'], ['tentative'], ['analytical'], ['sadness'], ['tentative'], ['joy'], ['sadness', 'analytical'], ['sadness'], ['sadness', 'analytical', 'tentative'], [], ['fear'], ['sadness', 'tentative'], ['anger'], ['sadness'], ['sadness'], ['anger'], ['tentative'], ['sadness', 'tentative'], ['sadness'], ['sadness', 'analytical'], [], ['sadness', 'analytical'], ['joy', 'tentative'], ['joy'], ['sadness'], ['joy'], ['sadness', 'analytical', 'tentative'], ['analytical', 'tentative'], ['fear', 'tentative'], ['joy', 'tentative'], ['joy', 'tentative'], [], [], ['sadness', 'tentative'], ['sadness', 'analytical', 'tentative'], ['sadness', 'tentative'], [], ['sadness', 'analytical', 'tentative'], ['sadness', 'anger', 'analytical'], ['joy'], ['sadness', 'tentative'], ['joy', 'tentative', 'analytical'], ['tentative'], ['sadness', 'confident'], ['sadness'], ['analytical'], ['sadness', 'tentative'], ['joy', 'tentative'], ['tentative'], ['joy'], [], ['joy'], ['analytical'], [], ['tentative'], ['sadness'], ['joy', 'analytical'], ['sadness'], ['tentative'], [], ['analytical'], ['sadness', 'tentative'], ['confident'], ['sadness', 'confident'], ['sadness', 'confident'], ['joy'], ['joy', 'tentative'], [], ['confident'], ['sadness'], ['sadness', 'analytical'], ['sadness', 'analytical'], ['sadness'], ['sadness', 'analytical'], ['joy'], ['joy'], ['analytical'], ['sadness', 'analytical'], ['anger', 'tentative'], ['joy', 'analytical', 'tentative'], ['sadness', 'analytical', 'tentative'], ['confident'], ['sadness', 'analytical'], [], ['sadness', 'tentative'], ['sadness', 'tentative'], [], ['joy'], ['analytical'], ['sadness', 'analytical', 'tentative'], ['joy', 'analytical'], ['sadness', 'tentative'], ['joy', 'analytical'], ['sadness', 'tentative'], ['joy'], ['sadness'], ['sadness'], ['joy', 'analytical'], ['sadness', 'analytical', 'tentative'], ['joy'], ['joy', 'tentative'], ['sadness', 'tentative', 'analytical'], ['joy', 'analytical'], ['analytical', 'tentative'], ['joy'], ['tentative'], [], ['tentative', 'analytical'], ['sadness', 'tentative'], ['sadness', 'confident', 'analytical'], ['analytical', 'tentative'], ['sadness'], ['tentative', 'analytical'], [], ['joy', 'analytical'], ['sadness'], ['fear', 'tentative'], ['joy'], ['joy'], [], ['sadness', 'analytical'], ['joy'], ['sadness'], ['sadness', 'analytical', 'tentative'], ['analytical'], ['tentative'], ['sadness', 'tentative'], ['confident'], ['tentative'], ['confident'], ['joy', 'tentative', 'analytical'], ['sadness', 'analytical'], ['sadness', 'analytical'], ['joy', 'tentative'], ['analytical'], ['fear', 'tentative', 'analytical'], ['sadness', 'analytical'], ['joy', 'analytical'], ['sadness'], ['tentative'], ['sadness'], [], [], ['tentative'], ['sadness', 'analytical', 'tentative'], ['tentative'], ['sadness', 'confident'], ['sadness'], ['joy'], ['joy'], ['analytical', 'tentative'], ['tentative', 'analytical'], ['anger'], [], ['tentative'], ['joy', 'tentative'], ['joy', 'confident', 'analytical'], ['anger', 'tentative'], ['analytical', 'tentative'], ['joy', 'confident'], ['analytical'], ['fear', 'tentative'], ['tentative'], ['analytical'], ['joy', 'tentative'], ['joy'], ['joy', 'confident'], ['joy'], ['tentative'], ['sadness', 'analytical'], ['tentative'], ['fear', 'analytical', 'confident'], [], [], ['joy'], ['sadness', 'analytical', 'tentative'], ['joy', 'tentative'], ['joy'], ['tentative'], ['sadness', 'tentative'], ['tentative'], ['sadness', 'analytical'], ['sadness', 'anger', 'tentative', 'analytical'], ['tentative'], ['joy'], ['analytical', 'tentative'], ['joy'], ['sadness'], ['joy'], ['sadness', 'analytical', 'tentative'], ['joy'], ['joy', 'analytical'], ['tentative'], ['sadness'], ['joy', 'confident'], ['joy', 'confident'], ['sadness', 'analytical'], ['joy'], ['analytical'], ['sadness', 'analytical'], ['tentative'], [], ['analytical'], ['tentative'], ['analytical'], ['tentative', 'analytical'], ['sadness'], ['sadness', 'tentative', 'analytical'], ['joy'], ['analytical'], ['analytical', 'tentative'], ['joy', 'tentative'], ['joy', 'confident'], ['joy', 'analytical'], ['sadness'], ['fear', 'tentative'], ['fear'], ['sadness'], ['joy', 'analytical', 'tentative'], ['sadness', 'tentative'], ['tentative'], [], ['sadness', 'tentative', 'analytical'], ['tentative'], ['joy', 'tentative'], ['tentative', 'analytical'], ['joy'], ['analytical'], ['sadness'], [], ['joy', 'analytical', 'tentative'], ['sadness', 'analytical'], ['sadness'], ['joy', 'analytical'], ['fear', 'tentative'], ['sadness', 'tentative'], ['joy', 'analytical', 'confident'], ['sadness', 'tentative'], [], ['sadness', 'tentative', 'analytical'], ['sadness'], ['anger', 'tentative', 'analytical'], ['joy'], ['analytical'], [], ['sadness', 'tentative'], ['joy'], [], ['sadness', 'tentative'], ['joy', 'analytical'], ['sadness', 'analytical', 'tentative'], [], ['joy'], ['sadness', 'tentative'], ['joy', 'tentative'], ['joy', 'tentative', 'analytical'], ['fear', 'analytical'], ['analytical', 'tentative'], ['anger', 'tentative'], ['joy', 'analytical'], ['joy', 'analytical', 'confident'], ['sadness'], ['joy'], ['sadness', 'analytical'], ['joy', 'tentative'], ['joy'], ['joy', 'tentative'], ['sadness', 'analytical', 'tentative'], [], ['fear'], ['sadness', 'analytical', 'confident'], ['tentative'], ['analytical'], ['fear', 'confident'], ['sadness', 'analytical'], ['fear', 'analytical', 'confident'], ['sadness', 'tentative'], ['fear'], ['fear', 'analytical', 'tentative'], ['sadness', 'analytical'], ['tentative'], ['tentative'], ['analytical'], ['sadness', 'tentative', 'analytical'], ['analytical'], ['joy'], ['joy', 'tentative'], ['sadness', 'analytical'], ['sadness'], ['sadness'], ['sadness', 'analytical', 'tentative'], ['sadness', 'tentative', 'analytical'], ['sadness'], ['tentative'], ['sadness'], ['joy', 'analytical'], ['sadness', 'analytical'], ['anger'], ['sadness'], ['joy'], ['analytical'], ['joy'], ['analytical'], [], ['sadness', 'tentative'], ['sadness'], ['joy'], ['tentative'], ['analytical'], ['analytical'], ['sadness', 'analytical', 'tentative'], ['sadness', 'analytical', 'confident'], ['sadness'], [], ['confident', 'analytical'], ['sadness', 'tentative'], ['analytical', 'tentative'], ['tentative'], ['sadness', 'analytical'], ['tentative'], ['joy', 'analytical'], ['tentative'], ['sadness', 'analytical', 'tentative'], [], ['joy'], [], ['joy', 'analytical'], [], ['sadness', 'analytical'], ['tentative'], ['joy', 'confident', 'analytical'], ['joy', 'confident'], ['joy', 'tentative'], ['sadness', 'tentative'], ['joy', 'analytical'], ['fear'], ['sadness', 'analytical'], ['tentative', 'analytical'], ['sadness', 'tentative'], ['analytical', 'confident'], [], ['tentative'], ['sadness'], ['tentative'], ['anger'], ['joy'], ['sadness', 'confident'], [], ['sadness'], ['analytical'], ['analytical', 'confident'], ['joy', 'analytical'], ['sadness', 'tentative', 'analytical'], [], ['tentative'], ['joy'], ['sadness'], ['fear', 'tentative', 'analytical'], ['tentative'], ['analytical', 'tentative'], ['tentative'], ['joy'], ['tentative'], ['tentative'], ['tentative'], [], ['joy', 'tentative', 'analytical'], ['tentative'], ['sadness', 'tentative'], ['joy'], ['sadness', 'tentative'], ['sadness'], ['tentative'], ['analytical'], ['sadness', 'analytical'], ['joy', 'analytical', 'tentative'], ['sadness', 'tentative', 'analytical'], ['joy', 'tentative'], ['confident', 'analytical'], ['sadness', 'analytical'], ['tentative'], ['analytical'], ['sadness'], ['tentative'], ['sadness', 'tentative'], ['analytical'], ['sadness'], ['joy', 'tentative'], ['joy'], ['anger', 'tentative', 'analytical'], ['sadness', 'tentative'], ['joy', 'tentative'], ['sadness', 'tentative'], ['analytical'], ['sadness', 'tentative'], ['joy', 'analytical'], ['sadness', 'tentative'], ['sadness', 'analytical'], ['sadness'], ['sadness'], ['fear'], ['sadness', 'tentative'], ['sadness', 'tentative'], ['joy', 'tentative'], ['joy'], ['tentative', 'analytical'], ['sadness', 'analytical'], ['sadness'], ['sadness', 'analytical'], ['sadness', 'confident', 'analytical'], ['fear', 'tentative'], ['joy', 'confident', 'analytical'], [], ['anger', 'confident', 'analytical'], ['sadness'], ['joy', 'analytical'], ['tentative'], ['tentative', 'analytical'], ['sadness', 'analytical', 'tentative'], ['sadness'], ['sadness', 'tentative'], ['sadness', 'tentative'], ['sadness', 'confident'], ['confident'], ['sadness', 'analytical'], ['confident'], ['sadness'], ['analytical'], ['fear'], ['analytical'], ['sadness', 'tentative'], ['joy'], ['sadness', 'tentative', 'analytical'], ['confident', 'analytical'], ['tentative'], ['joy'], ['analytical'], ['joy'], ['sadness'], ['joy', 'confident'], ['joy'], ['sadness', 'tentative'], ['joy'], ['joy', 'fear'], ['joy', 'tentative'], ['tentative'], ['sadness'], ['joy'], ['joy', 'tentative'], ['joy', 'analytical'], ['tentative'], ['tentative', 'analytical'], [], ['sadness'], ['sadness', 'tentative'], ['joy'], [], ['tentative'], ['joy', 'tentative'], ['sadness', 'tentative', 'analytical'], ['sadness', 'tentative'], ['joy', 'tentative'], ['joy', 'tentative'], ['joy', 'analytical'], ['joy', 'analytical'], ['anger', 'tentative'], ['joy'], ['analytical'], ['sadness', 'analytical'], ['sadness', 'analytical', 'tentative'], ['sadness', 'analytical', 'tentative'], ['confident', 'analytical'], ['analytical', 'tentative'], ['joy', 'tentative'], ['joy', 'analytical', 'tentative'], ['fear'], ['tentative', 'analytical'], ['sadness', 'analytical'], ['sadness', 'tentative'], [], ['analytical'], ['joy', 'confident'], ['sadness', 'tentative'], ['joy'], ['joy', 'analytical'], ['analytical', 'tentative'], ['joy'], ['joy', 'analytical'], ['joy'], ['sadness', 'analytical', 'tentative'], [], ['joy', 'tentative'], ['joy', 'analytical', 'tentative'], ['joy'], ['sadness'], ['analytical'], [], ['sadness', 'confident'], ['sadness', 'tentative'], ['sadness', 'tentative'], ['sadness', 'tentative'], ['sadness'], ['sadness', 'analytical'], ['fear'], ['sadness', 'tentative'], ['fear', 'analytical'], ['joy'], ['joy', 'tentative'], ['joy'], ['sadness', 'analytical', 'confident'], ['analytical'], ['anger', 'tentative'], ['anger'], ['tentative'], ['sadness'], ['tentative'], ['sadness', 'analytical'], [], ['joy', 'tentative'], ['analytical', 'tentative'], ['sadness', 'analytical'], ['analytical', 'tentative'], ['anger'], ['sadness', 'analytical', 'tentative'], ['sadness'], ['analytical'], ['sadness', 'analytical'], ['joy'], ['analytical'], [], ['fear'], ['anger', 'tentative'], ['sadness', 'analytical'], ['sadness', 'tentative'], ['joy'], ['sadness', 'tentative', 'analytical'], ['sadness', 'tentative'], [], ['fear', 'analytical'], ['sadness', 'confident'], ['sadness', 'analytical'], ['sadness', 'analytical'], [], ['joy'], ['fear', 'analytical'], ['joy', 'tentative'], ['sadness', 'analytical'], ['confident', 'analytical'], ['joy', 'analytical'], ['sadness', 'tentative'], ['fear', 'analytical'], ['sadness', 'tentative'], ['joy', 'analytical'], ['analytical', 'tentative'], ['confident'], ['joy', 'analytical'], ['tentative'], ['sadness', 'analytical'], ['fear'], ['sadness', 'analytical', 'tentative'], [], ['sadness', 'tentative'], ['anger', 'tentative'], ['joy'], ['fear', 'analytical', 'tentative'], ['sadness', 'tentative', 'analytical'], [], [], ['joy', 'tentative'], ['joy', 'analytical', 'confident'], ['sadness', 'tentative'], ['joy', 'analytical'], ['joy', 'confident'], ['sadness', 'confident'], ['sadness'], ['sadness', 'analytical'], ['anger', 'confident'], [], [], ['sadness', 'analytical'], ['sadness', 'analytical', 'tentative'], ['analytical'], ['joy'], ['anger', 'tentative'], ['sadness', 'tentative'], ['sadness', 'tentative'], ['sadness', 'tentative'], ['sadness', 'tentative'], ['analytical'], ['joy', 'tentative', 'analytical'], ['anger', 'confident', 'analytical'], ['analytical', 'tentative'], ['analytical'], ['sadness', 'analytical', 'tentative'], ['sadness', 'tentative'], ['confident'], ['confident'], ['analytical'], ['joy', 'analytical'], ['joy', 'analytical'], ['joy'], ['sadness', 'tentative'], ['sadness', 'analytical'], ['sadness', 'analytical'], ['tentative'], [], ['tentative'], ['sadness'], ['tentative'], ['tentative', 'analytical'], ['joy', 'tentative'], ['analytical'], ['sadness', 'tentative'], ['confident'], ['sadness', 'tentative'], ['analytical'], ['joy', 'analytical'], ['tentative'], ['tentative'], ['fear', 'tentative'], ['anger', 'tentative'], ['tentative'], ['confident'], ['analytical', 'tentative'], ['tentative'], ['sadness', 'tentative', 'analytical'], ['tentative'], ['analytical', 'tentative'], ['fear'], ['sadness', 'tentative'], ['joy'], ['joy', 'confident'], [], ['sadness'], ['sadness', 'tentative'], ['sadness'], ['fear', 'tentative'], ['tentative'], ['anger', 'analytical', 'tentative'], ['sadness'], ['fear'], ['joy', 'tentative'], ['analytical'], ['sadness'], ['joy', 'tentative'], ['joy', 'tentative'], ['sadness'], ['sadness', 'analytical', 'tentative'], ['sadness', 'tentative'], ['joy'], ['analytical'], ['sadness', 'confident'], ['joy', 'analytical', 'tentative'], ['fear', 'tentative'], ['confident'], ['anger', 'tentative'], ['sadness', 'tentative', 'analytical'], [], ['joy', 'tentative'], ['joy'], [], ['sadness', 'confident'], ['joy'], ['tentative'], ['tentative'], ['sadness', 'tentative'], ['sadness'], ['joy', 'tentative'], [], ['confident'], ['sadness', 'confident'], ['joy', 'analytical', 'confident'], ['anger'], ['sadness'], ['sadness', 'tentative'], ['tentative'], ['sadness', 'tentative'], ['analytical', 'tentative'], ['joy', 'analytical', 'tentative'], ['analytical', 'tentative'], ['analytical'], ['fear', 'tentative'], ['joy', 'analytical'], ['tentative'], ['joy', 'tentative'], [], [], [], ['sadness', 'tentative'], ['joy', 'analytical', 'tentative'], ['joy', 'analytical'], ['joy', 'confident', 'analytical'], ['tentative'], ['sadness', 'tentative'], ['fear', 'tentative'], ['joy', 'tentative'], ['analytical'], ['joy', 'tentative'], [], ['tentative'], ['sadness', 'tentative'], ['analytical'], [], ['sadness', 'tentative'], ['analytical'], ['tentative'], ['tentative', 'analytical'], [], ['tentative'], ['sadness', 'confident'], [], ['analytical', 'tentative'], ['sadness'], ['joy'], ['tentative'], [], ['sadness'], ['analytical'], ['confident'], ['joy', 'tentative'], ['sadness', 'analytical'], ['sadness'], ['sadness'], ['sadness'], ['tentative'], [], ['sadness', 'analytical'], ['sadness', 'anger', 'analytical', 'tentative'], ['joy'], ['analytical', 'tentative'], ['fear'], ['analytical', 'tentative'], ['sadness', 'tentative'], ['tentative'], ['sadness', 'analytical'], ['anger', 'sadness', 'tentative'], [], ['analytical', 'tentative'], ['joy', 'analytical'], [], ['joy', 'tentative'], ['sadness'], ['analytical'], ['sadness', 'analytical'], [], ['sadness'], ['sadness', 'tentative'], ['joy', 'analytical'], ['tentative'], ['joy'], ['analytical'], ['joy', 'confident'], ['sadness', 'tentative'], ['analytical'], [], ['analytical'], ['joy'], ['anger', 'tentative'], ['joy', 'analytical'], [], [], ['sadness', 'tentative'], ['sadness', 'analytical'], ['anger', 'analytical', 'tentative'], ['joy', 'analytical', 'tentative'], ['sadness', 'tentative'], [], ['sadness', 'analytical'], ['joy', 'tentative'], [], [], ['sadness', 'analytical'], ['tentative'], ['anger'], ['tentative'], ['joy'], ['tentative'], ['sadness'], ['sadness', 'tentative'], ['joy'], ['anger', 'confident'], ['tentative', 'analytical'], ['analytical'], ['fear', 'tentative'], ['tentative', 'analytical'], ['anger', 'tentative'], [], ['fear', 'sadness', 'anger', 'tentative'], ['joy'], ['sadness', 'tentative'], ['sadness'], ['fear'], ['anger', 'analytical', 'confident'], ['joy'], ['sadness', 'analytical', 'tentative'], [], ['analytical', 'tentative'], [], ['joy'], ['joy'], ['anger'], ['sadness', 'tentative'], ['analytical', 'tentative'], ['sadness', 'analytical'], ['joy', 'confident'], ['sadness'], ['confident', 'analytical'], ['sadness', 'tentative', 'analytical'], [], ['tentative'], ['joy', 'tentative'], ['sadness'], ['sadness'], ['sadness'], ['sadness', 'tentative'], ['sadness', 'tentative'], ['sadness', 'tentative'], ['sadness', 'analytical'], ['sadness', 'analytical'], ['joy', 'analytical'], [], ['analytical'], ['joy', 'analytical'], ['anger', 'tentative'], ['tentative'], ['confident'], ['joy', 'tentative'], ['sadness', 'tentative'], ['sadness', 'analytical'], ['tentative'], ['tentative'], ['sadness'], ['tentative'], ['sadness', 'tentative'], ['sadness', 'analytical'], ['sadness'], ['joy'], [], ['joy', 'tentative', 'analytical'], ['joy'], ['analytical'], ['sadness'], ['sadness', 'analytical', 'tentative'], ['sadness', 'tentative', 'analytical'], ['sadness', 'tentative', 'analytical'], ['sadness', 'tentative'], ['sadness', 'tentative'], ['tentative', 'analytical'], ['tentative'], ['fear', 'analytical', 'tentative'], ['tentative', 'analytical'], ['sadness'], ['sadness'], [], ['sadness'], ['joy'], ['analytical'], [], [], ['fear', 'tentative'], ['sadness'], ['sadness', 'analytical'], ['joy'], ['sadness', 'confident'], ['sadness'], ['joy', 'analytical'], [], ['sadness'], ['joy'], ['sadness', 'confident'], ['joy', 'confident'], [], ['joy', 'analytical'], ['sadness'], [], ['analytical', 'tentative'], ['sadness', 'analytical'], ['joy'], ['sadness', 'analytical', 'tentative'], ['joy', 'tentative'], [], ['fear', 'sadness', 'analytical', 'tentative'], ['analytical', 'tentative'], ['joy'], ['analytical', 'tentative'], ['sadness', 'tentative'], ['sadness', 'tentative'], ['fear', 'analytical'], ['sadness', 'tentative'], ['tentative'], ['analytical'], [], ['tentative'], ['sadness', 'tentative'], ['fear', 'analytical'], ['joy', 'analytical', 'confident'], ['sadness', 'tentative'], ['analytical', 'tentative'], ['joy', 'confident'], [], ['joy'], ['tentative'], ['sadness'], ['joy'], ['sadness'], ['sadness', 'analytical', 'tentative'], ['fear', 'tentative'], ['tentative'], ['analytical', 'tentative'], ['anger'], ['sadness'], ['joy', 'tentative', 'analytical'], ['sadness'], ['joy', 'tentative'], ['joy', 'tentative'], ['sadness', 'tentative'], [], ['analytical', 'confident'], ['sadness'], ['sadness', 'confident'], ['anger', 'tentative'], ['tentative'], ['tentative'], ['sadness'], ['joy'], ['sadness', 'analytical'], ['sadness', 'analytical'], ['sadness', 'tentative'], ['joy'], ['fear', 'confident'], ['joy'], ['sadness', 'analytical'], ['fear', 'tentative'], ['tentative'], ['tentative'], ['sadness'], ['sadness'], ['sadness', 'tentative'], ['analytical'], ['joy', 'confident'], [], ['fear'], [], ['joy'], ['analytical'], ['analytical', 'tentative'], [], ['anger', 'tentative'], ['sadness'], [], ['fear'], ['joy', 'tentative'], [], ['tentative'], ['analytical'], ['anger', 'analytical'], ['tentative'], ['sadness', 'anger', 'tentative'], ['joy', 'tentative'], ['joy', 'analytical'], ['sadness', 'tentative'], ['tentative'], ['joy'], ['tentative'], ['joy'], ['joy'], ['tentative'], ['sadness', 'confident'], ['joy', 'analytical'], [], ['sadness', 'fear', 'tentative'], ['fear'], ['analytical'], ['sadness', 'tentative'], ['tentative'], ['tentative', 'analytical'], ['sadness'], ['tentative'], ['sadness'], ['sadness', 'tentative'], ['fear', 'tentative'], ['joy', 'tentative'], [], ['fear', 'confident'], ['sadness', 'tentative'], ['sadness', 'tentative', 'analytical'], ['joy'], ['joy'], ['tentative', 'analytical'], ['analytical'], ['fear'], ['joy', 'tentative'], ['joy'], [], ['fear', 'tentative'], ['sadness', 'analytical'], ['sadness', 'tentative'], [], ['tentative'], ['analytical'], ['sadness'], ['sadness', 'analytical'], ['anger'], [], ['sadness', 'fear', 'tentative'], ['analytical'], ['sadness', 'tentative'], ['fear', 'tentative'], ['tentative', 'analytical'], ['sadness', 'tentative'], ['tentative'], ['sadness'], ['sadness', 'analytical'], [], ['sadness', 'tentative'], ['joy', 'confident'], ['joy', 'confident'], ['tentative'], ['sadness', 'analytical', 'tentative'], ['sadness', 'analytical'], ['joy'], [], ['tentative'], ['sadness', 'analytical'], ['sadness', 'tentative'], ['fear', 'tentative'], [], [], ['joy'], ['sadness', 'analytical', 'confident'], ['joy', 'tentative'], ['joy'], ['analytical'], ['tentative', 'analytical'], ['tentative'], ['analytical'], ['joy'], ['sadness', 'tentative'], ['sadness'], ['sadness', 'analytical'], ['sadness'], ['joy', 'tentative'], ['joy'], ['sadness', 'tentative'], ['joy', 'analytical', 'confident'], ['analytical', 'tentative'], ['tentative'], ['sadness', 'tentative', 'analytical'], [], ['sadness', 'analytical'], [], ['sadness', 'tentative'], ['sadness', 'tentative'], ['sadness', 'analytical'], ['anger', 'analytical'], ['confident'], ['tentative'], ['joy', 'analytical'], ['joy', 'analytical', 'confident'], [], ['sadness', 'analytical'], ['tentative'], ['anger', 'tentative'], ['tentative'], ['joy', 'confident'], ['confident', 'analytical'], ['sadness'], ['sadness', 'tentative'], ['tentative'], ['fear', 'analytical', 'tentative'], ['sadness', 'tentative'], ['joy', 'confident', 'analytical'], ['tentative'], ['sadness'], ['joy', 'confident'], ['fear', 'tentative'], ['sadness'], ['analytical'], ['joy', 'analytical'], ['sadness', 'analytical'], ['tentative'], [], ['joy'], ['joy', 'tentative', 'analytical'], ['joy'], ['sadness'], ['tentative'], ['sadness', 'analytical'], ['joy'], ['joy', 'analytical', 'tentative'], [], ['joy'], ['sadness', 'tentative'], ['sadness', 'tentative'], ['joy'], ['joy', 'analytical', 'tentative'], ['tentative', 'analytical'], ['anger'], ['sadness'], ['sadness', 'tentative'], ['tentative'], ['joy', 'tentative'], ['tentative', 'analytical'], ['joy', 'tentative'], [], ['joy', 'tentative'], ['anger'], ['joy', 'analytical', 'confident'], ['joy'], ['anger', 'tentative'], ['sadness', 'confident'], ['sadness', 'analytical'], ['sadness', 'tentative'], ['anger', 'tentative'], ['tentative', 'analytical'], ['sadness'], ['sadness', 'tentative'], ['sadness'], ['joy', 'tentative'], ['joy', 'analytical'], ['joy'], ['joy', 'confident'], ['joy'], ['analytical'], ['sadness', 'tentative'], ['sadness', 'analytical'], [], ['joy', 'tentative'], ['sadness', 'analytical', 'tentative'], ['sadness'], ['sadness', 'tentative'], ['joy'], ['joy'], ['joy', 'tentative'], ['sadness', 'analytical', 'tentative'], ['joy'], ['joy', 'tentative'], ['sadness'], ['joy', 'tentative', 'analytical'], ['joy', 'analytical'], ['sadness', 'analytical', 'tentative'], ['sadness', 'analytical'], ['fear', 'analytical', 'tentative'], ['sadness', 'analytical'], [], ['sadness', 'analytical', 'tentative'], ['anger', 'tentative', 'analytical'], ['fear', 'tentative'], ['tentative'], [], ['sadness', 'analytical'], [], ['fear', 'analytical', 'tentative'], ['joy'], ['sadness', 'confident'], ['anger', 'tentative'], ['joy'], ['joy', 'tentative'], ['tentative'], ['sadness', 'analytical'], ['sadness', 'analytical'], [], ['joy', 'analytical'], ['analytical', 'tentative'], ['joy', 'analytical'], ['joy'], ['joy', 'tentative'], ['joy'], ['analytical', 'tentative'], [], ['sadness'], ['joy'], ['joy'], ['sadness', 'analytical'], ['joy', 'analytical'], ['sadness', 'analytical'], ['joy', 'analytical'], ['joy'], ['analytical'], ['sadness', 'analytical'], ['joy', 'analytical', 'tentative'], ['joy', 'tentative'], ['sadness', 'analytical'], ['fear', 'confident'], ['analytical'], ['sadness', 'tentative'], ['tentative'], ['confident'], ['analytical', 'tentative'], ['sadness', 'fear', 'analytical'], ['analytical', 'confident'], ['sadness'], ['tentative'], ['joy'], ['analytical'], [], ['tentative'], ['joy', 'tentative'], ['joy', 'analytical'], ['analytical', 'tentative'], ['sadness', 'tentative'], ['sadness'], ['sadness', 'tentative'], ['anger'], ['sadness', 'analytical'], ['joy', 'analytical'], ['joy'], ['anger', 'confident'], ['sadness'], ['sadness'], ['analytical'], ['analytical', 'confident'], ['joy', 'confident'], ['joy', 'analytical'], ['analytical', 'tentative'], ['fear', 'tentative'], ['sadness'], [], ['joy'], ['joy', 'analytical', 'tentative'], ['fear'], ['sadness'], ['joy'], ['sadness', 'analytical', 'tentative'], ['sadness', 'analytical', 'tentative'], ['tentative', 'analytical'], ['sadness', 'tentative'], ['sadness'], [], ['joy', 'tentative', 'analytical'], [], ['joy', 'analytical'], ['confident'], ['sadness'], ['analytical', 'tentative'], ['joy', 'analytical', 'tentative'], ['tentative'], ['tentative'], ['sadness'], ['joy', 'tentative'], [], ['sadness', 'tentative'], ['joy', 'tentative'], ['sadness', 'analytical', 'confident'], ['joy', 'confident'], ['fear', 'confident'], ['tentative'], ['sadness'], ['anger'], ['tentative'], ['tentative', 'analytical'], ['fear'], ['sadness'], ['sadness'], ['anger'], [], ['analytical', 'tentative'], ['joy', 'tentative'], ['confident', 'analytical'], ['tentative', 'analytical'], ['joy', 'confident', 'analytical'], ['joy'], ['fear'], ['fear', 'tentative'], ['sadness', 'tentative'], ['joy', 'tentative'], ['tentative'], ['analytical'], ['analytical'], ['joy', 'tentative'], ['joy', 'analytical', 'confident'], ['joy'], ['sadness'], ['tentative'], ['confident'], ['joy', 'analytical', 'tentative'], ['sadness', 'tentative'], [], ['joy'], ['sadness', 'tentative'], ['sadness', 'analytical'], ['joy'], ['joy'], [], ['joy', 'analytical', 'tentative'], ['tentative'], ['fear'], ['sadness'], ['joy', 'analytical'], ['sadness', 'confident'], ['joy'], ['tentative'], ['analytical', 'tentative'], ['joy'], ['sadness', 'analytical'], ['analytical'], ['sadness', 'analytical'], ['joy', 'tentative'], ['anger', 'tentative'], ['analytical'], ['confident'], ['joy'], ['tentative'], ['joy', 'confident'], [], ['joy', 'confident', 'analytical'], ['sadness', 'confident'], ['sadness', 'analytical'], ['sadness'], ['sadness', 'analytical', 'tentative'], ['sadness', 'analytical', 'tentative'], ['sadness'], ['tentative'], ['fear', 'analytical'], ['analytical'], ['joy'], ['analytical'], ['sadness', 'tentative'], ['sadness', 'tentative'], ['analytical'], ['analytical', 'confident'], ['sadness', 'analytical'], ['joy', 'tentative'], ['fear'], ['sadness', 'analytical'], ['sadness', 'analytical'], ['fear', 'tentative'], ['joy']]\n",
            "6838\n"
          ],
          "name": "stdout"
        }
      ]
    },
    {
      "cell_type": "code",
      "metadata": {
        "colab": {
          "base_uri": "https://localhost:8080/",
          "height": 359
        },
        "id": "9fJ4rtnj9YMi",
        "outputId": "3a2c0a5e-1d10-4b22-c03c-85ce1b1be9fe"
      },
      "source": [
        "emo_df2.head(10)"
      ],
      "execution_count": 75,
      "outputs": [
        {
          "output_type": "execute_result",
          "data": {
            "text/html": [
              "<div>\n",
              "<style scoped>\n",
              "    .dataframe tbody tr th:only-of-type {\n",
              "        vertical-align: middle;\n",
              "    }\n",
              "\n",
              "    .dataframe tbody tr th {\n",
              "        vertical-align: top;\n",
              "    }\n",
              "\n",
              "    .dataframe thead th {\n",
              "        text-align: right;\n",
              "    }\n",
              "</style>\n",
              "<table border=\"1\" class=\"dataframe\">\n",
              "  <thead>\n",
              "    <tr style=\"text-align: right;\">\n",
              "      <th></th>\n",
              "      <th>Unnamed: 0</th>\n",
              "      <th>sentence</th>\n",
              "      <th>tones</th>\n",
              "      <th>tags</th>\n",
              "    </tr>\n",
              "  </thead>\n",
              "  <tbody>\n",
              "    <tr>\n",
              "      <th>0</th>\n",
              "      <td>0</td>\n",
              "      <td>i didnt feel humiliated</td>\n",
              "      <td>{  \"document_tone\": {    \"tones\": [      {    ...</td>\n",
              "      <td>[tentative]</td>\n",
              "    </tr>\n",
              "    <tr>\n",
              "      <th>1</th>\n",
              "      <td>1</td>\n",
              "      <td>i can go from feeling so hopeless to so damned...</td>\n",
              "      <td>{  \"document_tone\": {    \"tones\": [      {    ...</td>\n",
              "      <td>[sadness, tentative]</td>\n",
              "    </tr>\n",
              "    <tr>\n",
              "      <th>2</th>\n",
              "      <td>2</td>\n",
              "      <td>im grabbing a minute to post i feel greedy wrong</td>\n",
              "      <td>{  \"document_tone\": {    \"tones\": [      {    ...</td>\n",
              "      <td>[sadness]</td>\n",
              "    </tr>\n",
              "    <tr>\n",
              "      <th>3</th>\n",
              "      <td>3</td>\n",
              "      <td>i am ever feeling nostalgic about the fireplac...</td>\n",
              "      <td>{  \"document_tone\": {    \"tones\": [      {    ...</td>\n",
              "      <td>[sadness, analytical]</td>\n",
              "    </tr>\n",
              "    <tr>\n",
              "      <th>4</th>\n",
              "      <td>4</td>\n",
              "      <td>i am feeling grouchy</td>\n",
              "      <td>{  \"document_tone\": {    \"tones\": [      {    ...</td>\n",
              "      <td>[anger, sadness]</td>\n",
              "    </tr>\n",
              "    <tr>\n",
              "      <th>5</th>\n",
              "      <td>5</td>\n",
              "      <td>ive been feeling a little burdened lately wasn...</td>\n",
              "      <td>{  \"document_tone\": {    \"tones\": [      {    ...</td>\n",
              "      <td>[sadness, tentative]</td>\n",
              "    </tr>\n",
              "    <tr>\n",
              "      <th>6</th>\n",
              "      <td>6</td>\n",
              "      <td>ive been taking or milligrams or times recomme...</td>\n",
              "      <td>{  \"document_tone\": {    \"tones\": [      {    ...</td>\n",
              "      <td>[joy, tentative]</td>\n",
              "    </tr>\n",
              "    <tr>\n",
              "      <th>7</th>\n",
              "      <td>7</td>\n",
              "      <td>i feel as confused about life as a teenager or...</td>\n",
              "      <td>{  \"document_tone\": {    \"tones\": [      {    ...</td>\n",
              "      <td>[sadness, tentative]</td>\n",
              "    </tr>\n",
              "    <tr>\n",
              "      <th>8</th>\n",
              "      <td>8</td>\n",
              "      <td>i have been with petronas for years i feel tha...</td>\n",
              "      <td>{  \"document_tone\": {    \"tones\": [      {    ...</td>\n",
              "      <td>[joy]</td>\n",
              "    </tr>\n",
              "    <tr>\n",
              "      <th>9</th>\n",
              "      <td>9</td>\n",
              "      <td>i feel romantic too</td>\n",
              "      <td>{  \"document_tone\": {    \"tones\": [      {    ...</td>\n",
              "      <td>[joy, tentative]</td>\n",
              "    </tr>\n",
              "  </tbody>\n",
              "</table>\n",
              "</div>"
            ],
            "text/plain": [
              "   Unnamed: 0  ...                   tags\n",
              "0           0  ...            [tentative]\n",
              "1           1  ...   [sadness, tentative]\n",
              "2           2  ...              [sadness]\n",
              "3           3  ...  [sadness, analytical]\n",
              "4           4  ...       [anger, sadness]\n",
              "5           5  ...   [sadness, tentative]\n",
              "6           6  ...       [joy, tentative]\n",
              "7           7  ...   [sadness, tentative]\n",
              "8           8  ...                  [joy]\n",
              "9           9  ...       [joy, tentative]\n",
              "\n",
              "[10 rows x 4 columns]"
            ]
          },
          "metadata": {
            "tags": []
          },
          "execution_count": 75
        }
      ]
    },
    {
      "cell_type": "code",
      "metadata": {
        "id": "hmxu3IBna5yR",
        "outputId": "c2fc7755-b6b6-4445-d9a7-9daa078b6514",
        "colab": {
          "base_uri": "https://localhost:8080/",
          "height": 359
        }
      },
      "source": [
        "emo_df2_v2.head(10)"
      ],
      "execution_count": 76,
      "outputs": [
        {
          "output_type": "execute_result",
          "data": {
            "text/html": [
              "<div>\n",
              "<style scoped>\n",
              "    .dataframe tbody tr th:only-of-type {\n",
              "        vertical-align: middle;\n",
              "    }\n",
              "\n",
              "    .dataframe tbody tr th {\n",
              "        vertical-align: top;\n",
              "    }\n",
              "\n",
              "    .dataframe thead th {\n",
              "        text-align: right;\n",
              "    }\n",
              "</style>\n",
              "<table border=\"1\" class=\"dataframe\">\n",
              "  <thead>\n",
              "    <tr style=\"text-align: right;\">\n",
              "      <th></th>\n",
              "      <th>Unnamed: 0</th>\n",
              "      <th>sentence</th>\n",
              "      <th>tones</th>\n",
              "      <th>tags</th>\n",
              "    </tr>\n",
              "  </thead>\n",
              "  <tbody>\n",
              "    <tr>\n",
              "      <th>0</th>\n",
              "      <td>1500</td>\n",
              "      <td>i feel what the law states suggestions is opti...</td>\n",
              "      <td>{  \"document_tone\": {    \"tones\": []  }}</td>\n",
              "      <td>[]</td>\n",
              "    </tr>\n",
              "    <tr>\n",
              "      <th>1</th>\n",
              "      <td>1501</td>\n",
              "      <td>i feel on the verge of tears from weariness i ...</td>\n",
              "      <td>{  \"document_tone\": {    \"tones\": [      {    ...</td>\n",
              "      <td>[joy, analytical]</td>\n",
              "    </tr>\n",
              "    <tr>\n",
              "      <th>2</th>\n",
              "      <td>1502</td>\n",
              "      <td>i hope you can feel the presence of loved ones...</td>\n",
              "      <td>{  \"document_tone\": {    \"tones\": [      {    ...</td>\n",
              "      <td>[joy]</td>\n",
              "    </tr>\n",
              "    <tr>\n",
              "      <th>3</th>\n",
              "      <td>1503</td>\n",
              "      <td>i was feeling brave tonight so i decided to go...</td>\n",
              "      <td>{  \"document_tone\": {    \"tones\": [      {    ...</td>\n",
              "      <td>[analytical]</td>\n",
              "    </tr>\n",
              "    <tr>\n",
              "      <th>4</th>\n",
              "      <td>1504</td>\n",
              "      <td>i was feeling melancholy on a cloudy rainy lon...</td>\n",
              "      <td>{  \"document_tone\": {    \"tones\": [      {    ...</td>\n",
              "      <td>[sadness]</td>\n",
              "    </tr>\n",
              "    <tr>\n",
              "      <th>5</th>\n",
              "      <td>1505</td>\n",
              "      <td>i now feel like i look really ugly some people...</td>\n",
              "      <td>{  \"document_tone\": {    \"tones\": [      {    ...</td>\n",
              "      <td>[sadness, analytical, tentative]</td>\n",
              "    </tr>\n",
              "    <tr>\n",
              "      <th>6</th>\n",
              "      <td>1506</td>\n",
              "      <td>i already feel it is for the bursts and hesita...</td>\n",
              "      <td>{  \"document_tone\": {    \"tones\": [      {    ...</td>\n",
              "      <td>[tentative]</td>\n",
              "    </tr>\n",
              "    <tr>\n",
              "      <th>7</th>\n",
              "      <td>1507</td>\n",
              "      <td>i feel petty for saying shes fucked up because...</td>\n",
              "      <td>{  \"document_tone\": {    \"tones\": [      {    ...</td>\n",
              "      <td>[sadness, anger]</td>\n",
              "    </tr>\n",
              "    <tr>\n",
              "      <th>8</th>\n",
              "      <td>1508</td>\n",
              "      <td>i feel like it here are ten of the many sites ...</td>\n",
              "      <td>{  \"document_tone\": {    \"tones\": [      {    ...</td>\n",
              "      <td>[analytical]</td>\n",
              "    </tr>\n",
              "    <tr>\n",
              "      <th>9</th>\n",
              "      <td>1509</td>\n",
              "      <td>i don t care what sort of bs lifestyle you thi...</td>\n",
              "      <td>{  \"document_tone\": {    \"tones\": [      {    ...</td>\n",
              "      <td>[joy, tentative]</td>\n",
              "    </tr>\n",
              "  </tbody>\n",
              "</table>\n",
              "</div>"
            ],
            "text/plain": [
              "   Unnamed: 0  ...                              tags\n",
              "0        1500  ...                                []\n",
              "1        1501  ...                 [joy, analytical]\n",
              "2        1502  ...                             [joy]\n",
              "3        1503  ...                      [analytical]\n",
              "4        1504  ...                         [sadness]\n",
              "5        1505  ...  [sadness, analytical, tentative]\n",
              "6        1506  ...                       [tentative]\n",
              "7        1507  ...                  [sadness, anger]\n",
              "8        1508  ...                      [analytical]\n",
              "9        1509  ...                  [joy, tentative]\n",
              "\n",
              "[10 rows x 4 columns]"
            ]
          },
          "metadata": {
            "tags": []
          },
          "execution_count": 76
        }
      ]
    },
    {
      "cell_type": "code",
      "metadata": {
        "id": "1Z2zNQb9cG36"
      },
      "source": [
        "#To remove rows with null Tags\n",
        "emo_df2 = emo_df2[emo_df2[\"tags\"].str.len() != 0]\n",
        "emo_df2_v2 = emo_df2_v2[emo_df2_v2[\"tags\"].str.len() != 0]"
      ],
      "execution_count": 77,
      "outputs": []
    },
    {
      "cell_type": "code",
      "metadata": {
        "id": "3XryKRYac2zM",
        "outputId": "ccd249bd-e7d3-4633-fd1f-cae549bc905c",
        "colab": {
          "base_uri": "https://localhost:8080/"
        }
      },
      "source": [
        "emo_df2.shape\n",
        "emo_df2_v2.shape"
      ],
      "execution_count": 81,
      "outputs": [
        {
          "output_type": "execute_result",
          "data": {
            "text/plain": [
              "(4034, 4)"
            ]
          },
          "metadata": {
            "tags": []
          },
          "execution_count": 81
        }
      ]
    },
    {
      "cell_type": "markdown",
      "metadata": {
        "id": "dkYiOUsiLfeC"
      },
      "source": [
        "## Enron"
      ]
    },
    {
      "cell_type": "code",
      "metadata": {
        "colab": {
          "base_uri": "https://localhost:8080/",
          "height": 444
        },
        "id": "Kewjo9hEH83f",
        "outputId": "ccadb482-0bc6-418e-9b05-2ea001175bea"
      },
      "source": [
        "og_tone.rename(columns={'content': 'sentence'}, inplace=True)\n",
        "og_tone.head(10)"
      ],
      "execution_count": 82,
      "outputs": [
        {
          "output_type": "execute_result",
          "data": {
            "text/html": [
              "<div>\n",
              "<style scoped>\n",
              "    .dataframe tbody tr th:only-of-type {\n",
              "        vertical-align: middle;\n",
              "    }\n",
              "\n",
              "    .dataframe tbody tr th {\n",
              "        vertical-align: top;\n",
              "    }\n",
              "\n",
              "    .dataframe thead th {\n",
              "        text-align: right;\n",
              "    }\n",
              "</style>\n",
              "<table border=\"1\" class=\"dataframe\">\n",
              "  <thead>\n",
              "    <tr style=\"text-align: right;\">\n",
              "      <th></th>\n",
              "      <th>Unnamed: 0</th>\n",
              "      <th>Message-ID</th>\n",
              "      <th>sentence</th>\n",
              "      <th>tones</th>\n",
              "    </tr>\n",
              "  </thead>\n",
              "  <tbody>\n",
              "    <tr>\n",
              "      <th>0</th>\n",
              "      <td>0</td>\n",
              "      <td>&lt;18782981.1075855378110.JavaMail.evans@thyme&gt;</td>\n",
              "      <td>Here is our forecast\\n\\n</td>\n",
              "      <td>{  \"document_tone\": {    \"tones\": [      {    ...</td>\n",
              "    </tr>\n",
              "    <tr>\n",
              "      <th>1</th>\n",
              "      <td>1</td>\n",
              "      <td>&lt;15464986.1075855378456.JavaMail.evans@thyme&gt;</td>\n",
              "      <td>Traveling to have a business meeting takes the...</td>\n",
              "      <td>{  \"document_tone\": {    \"tones\": [      {    ...</td>\n",
              "    </tr>\n",
              "    <tr>\n",
              "      <th>2</th>\n",
              "      <td>2</td>\n",
              "      <td>&lt;24216240.1075855687451.JavaMail.evans@thyme&gt;</td>\n",
              "      <td>test successful.  way to go!!!</td>\n",
              "      <td>{  \"document_tone\": {    \"tones\": [      {    ...</td>\n",
              "    </tr>\n",
              "    <tr>\n",
              "      <th>3</th>\n",
              "      <td>3</td>\n",
              "      <td>&lt;13505866.1075863688222.JavaMail.evans@thyme&gt;</td>\n",
              "      <td>Randy,\\n\\n Can you send me a schedule of the s...</td>\n",
              "      <td>{  \"document_tone\": {    \"tones\": [      {    ...</td>\n",
              "    </tr>\n",
              "    <tr>\n",
              "      <th>4</th>\n",
              "      <td>4</td>\n",
              "      <td>&lt;30922949.1075863688243.JavaMail.evans@thyme&gt;</td>\n",
              "      <td>Let's shoot for Tuesday at 11:45.</td>\n",
              "      <td>{  \"document_tone\": {    \"tones\": []  }}</td>\n",
              "    </tr>\n",
              "    <tr>\n",
              "      <th>5</th>\n",
              "      <td>5</td>\n",
              "      <td>&lt;30965995.1075863688265.JavaMail.evans@thyme&gt;</td>\n",
              "      <td>Greg,\\n\\n How about either next Tuesday or Thu...</td>\n",
              "      <td>{  \"document_tone\": {    \"tones\": [      {    ...</td>\n",
              "    </tr>\n",
              "    <tr>\n",
              "      <th>6</th>\n",
              "      <td>6</td>\n",
              "      <td>&lt;16254169.1075863688286.JavaMail.evans@thyme&gt;</td>\n",
              "      <td>Please cc the following distribution list with...</td>\n",
              "      <td>{  \"document_tone\": {    \"tones\": []  },  \"sen...</td>\n",
              "    </tr>\n",
              "    <tr>\n",
              "      <th>7</th>\n",
              "      <td>7</td>\n",
              "      <td>&lt;17189699.1075863688308.JavaMail.evans@thyme&gt;</td>\n",
              "      <td>any morning between 10 and 11:30</td>\n",
              "      <td>{  \"document_tone\": {    \"tones\": [      {    ...</td>\n",
              "    </tr>\n",
              "    <tr>\n",
              "      <th>8</th>\n",
              "      <td>8</td>\n",
              "      <td>&lt;20641191.1075855687472.JavaMail.evans@thyme&gt;</td>\n",
              "      <td>1. login:  pallen pw: ke9davis\\n\\n I don't thi...</td>\n",
              "      <td>{  \"document_tone\": {    \"tones\": [      {    ...</td>\n",
              "    </tr>\n",
              "    <tr>\n",
              "      <th>9</th>\n",
              "      <td>9</td>\n",
              "      <td>&lt;30795301.1075855687494.JavaMail.evans@thyme&gt;</td>\n",
              "      <td>---------------------- Forwarded by Phillip K ...</td>\n",
              "      <td>{  \"document_tone\": {    \"tones\": [      {    ...</td>\n",
              "    </tr>\n",
              "  </tbody>\n",
              "</table>\n",
              "</div>"
            ],
            "text/plain": [
              "   Unnamed: 0  ...                                              tones\n",
              "0           0  ...  {  \"document_tone\": {    \"tones\": [      {    ...\n",
              "1           1  ...  {  \"document_tone\": {    \"tones\": [      {    ...\n",
              "2           2  ...  {  \"document_tone\": {    \"tones\": [      {    ...\n",
              "3           3  ...  {  \"document_tone\": {    \"tones\": [      {    ...\n",
              "4           4  ...           {  \"document_tone\": {    \"tones\": []  }}\n",
              "5           5  ...  {  \"document_tone\": {    \"tones\": [      {    ...\n",
              "6           6  ...  {  \"document_tone\": {    \"tones\": []  },  \"sen...\n",
              "7           7  ...  {  \"document_tone\": {    \"tones\": [      {    ...\n",
              "8           8  ...  {  \"document_tone\": {    \"tones\": [      {    ...\n",
              "9           9  ...  {  \"document_tone\": {    \"tones\": [      {    ...\n",
              "\n",
              "[10 rows x 4 columns]"
            ]
          },
          "metadata": {
            "tags": []
          },
          "execution_count": 82
        }
      ]
    },
    {
      "cell_type": "code",
      "metadata": {
        "id": "cSLBx0HWH8rI"
      },
      "source": [
        "og_tone = og_tone.drop(['Message-ID'], axis=1)"
      ],
      "execution_count": 86,
      "outputs": []
    },
    {
      "cell_type": "code",
      "metadata": {
        "id": "hvNfjpu4flBa"
      },
      "source": [
        "enron_df1 = og_tone.copy() "
      ],
      "execution_count": 87,
      "outputs": []
    },
    {
      "cell_type": "code",
      "metadata": {
        "id": "oADFcbHVftOK",
        "outputId": "e64d5a55-e2ca-4265-ffb2-b05f480a2e04",
        "colab": {
          "base_uri": "https://localhost:8080/",
          "height": 204
        }
      },
      "source": [
        "enron_df1.head()"
      ],
      "execution_count": 88,
      "outputs": [
        {
          "output_type": "execute_result",
          "data": {
            "text/html": [
              "<div>\n",
              "<style scoped>\n",
              "    .dataframe tbody tr th:only-of-type {\n",
              "        vertical-align: middle;\n",
              "    }\n",
              "\n",
              "    .dataframe tbody tr th {\n",
              "        vertical-align: top;\n",
              "    }\n",
              "\n",
              "    .dataframe thead th {\n",
              "        text-align: right;\n",
              "    }\n",
              "</style>\n",
              "<table border=\"1\" class=\"dataframe\">\n",
              "  <thead>\n",
              "    <tr style=\"text-align: right;\">\n",
              "      <th></th>\n",
              "      <th>Unnamed: 0</th>\n",
              "      <th>sentence</th>\n",
              "      <th>tones</th>\n",
              "    </tr>\n",
              "  </thead>\n",
              "  <tbody>\n",
              "    <tr>\n",
              "      <th>0</th>\n",
              "      <td>0</td>\n",
              "      <td>Here is our forecast\\n\\n</td>\n",
              "      <td>{  \"document_tone\": {    \"tones\": [      {    ...</td>\n",
              "    </tr>\n",
              "    <tr>\n",
              "      <th>1</th>\n",
              "      <td>1</td>\n",
              "      <td>Traveling to have a business meeting takes the...</td>\n",
              "      <td>{  \"document_tone\": {    \"tones\": [      {    ...</td>\n",
              "    </tr>\n",
              "    <tr>\n",
              "      <th>2</th>\n",
              "      <td>2</td>\n",
              "      <td>test successful.  way to go!!!</td>\n",
              "      <td>{  \"document_tone\": {    \"tones\": [      {    ...</td>\n",
              "    </tr>\n",
              "    <tr>\n",
              "      <th>3</th>\n",
              "      <td>3</td>\n",
              "      <td>Randy,\\n\\n Can you send me a schedule of the s...</td>\n",
              "      <td>{  \"document_tone\": {    \"tones\": [      {    ...</td>\n",
              "    </tr>\n",
              "    <tr>\n",
              "      <th>4</th>\n",
              "      <td>4</td>\n",
              "      <td>Let's shoot for Tuesday at 11:45.</td>\n",
              "      <td>{  \"document_tone\": {    \"tones\": []  }}</td>\n",
              "    </tr>\n",
              "  </tbody>\n",
              "</table>\n",
              "</div>"
            ],
            "text/plain": [
              "   Unnamed: 0  ...                                              tones\n",
              "0           0  ...  {  \"document_tone\": {    \"tones\": [      {    ...\n",
              "1           1  ...  {  \"document_tone\": {    \"tones\": [      {    ...\n",
              "2           2  ...  {  \"document_tone\": {    \"tones\": [      {    ...\n",
              "3           3  ...  {  \"document_tone\": {    \"tones\": [      {    ...\n",
              "4           4  ...           {  \"document_tone\": {    \"tones\": []  }}\n",
              "\n",
              "[5 rows x 3 columns]"
            ]
          },
          "metadata": {
            "tags": []
          },
          "execution_count": 88
        }
      ]
    },
    {
      "cell_type": "code",
      "metadata": {
        "colab": {
          "base_uri": "https://localhost:8080/"
        },
        "id": "67NsqdFSH8Rs",
        "outputId": "3a10df37-d1cf-499b-ff88-dd6f35bad02a"
      },
      "source": [
        "list_tones = []\n",
        "c = 0\n",
        "\n",
        "for json_data in enron_df1['tones']:\n",
        "    fresh_list = [] \n",
        "    data_dict = json.loads(str(json_data))\n",
        "\n",
        "    for document_tones in data_dict['document_tone']['tones']:\n",
        "      fresh_list.append(document_tones['tone_id'])\n",
        "      c+=1\n",
        "\n",
        "    list_tones.append(fresh_list)\n",
        "\n",
        "enron_df1['tags'] = pd.Series(list_tones)\n",
        "\n",
        "print(list_tones)\n",
        "print(c)"
      ],
      "execution_count": 89,
      "outputs": [
        {
          "output_type": "stream",
          "text": [
            "[['analytical'], ['joy', 'analytical', 'tentative'], ['joy'], ['analytical', 'tentative'], [], ['analytical', 'tentative'], [], ['tentative'], ['analytical'], ['analytical'], [], ['analytical'], ['joy', 'analytical'], ['joy', 'analytical'], ['analytical', 'confident'], [], ['tentative'], ['confident'], ['joy', 'analytical'], [], ['analytical'], ['joy', 'analytical'], [], ['analytical'], ['analytical'], ['analytical'], ['analytical'], [], ['joy', 'analytical'], [], [], [], ['tentative', 'analytical'], ['analytical'], [], [], ['joy'], [], ['confident'], ['tentative'], ['joy', 'analytical', 'tentative'], ['joy', 'sadness', 'tentative', 'analytical'], ['analytical'], [], ['analytical', 'tentative'], ['tentative'], ['analytical'], ['analytical'], [], [], [], ['joy', 'sadness', 'tentative', 'analytical'], ['joy', 'analytical'], [], ['tentative'], ['analytical', 'tentative'], ['analytical'], ['joy', 'sadness', 'tentative', 'analytical'], [], ['analytical', 'tentative'], ['joy', 'tentative', 'analytical'], [], [], ['sadness', 'joy', 'analytical'], [], [], ['analytical'], [], [], ['analytical', 'tentative'], ['analytical'], ['analytical'], [], [], [], ['joy', 'tentative'], [], [], [], [], [], ['analytical', 'tentative'], ['confident'], ['analytical'], ['tentative'], ['tentative', 'analytical'], ['analytical'], ['analytical'], ['confident', 'analytical'], [], ['joy'], ['joy', 'sadness', 'tentative'], [], ['joy', 'analytical', 'tentative'], [], ['analytical'], ['tentative'], ['confident'], [], ['analytical', 'tentative'], ['tentative'], [], [], ['analytical', 'tentative'], [], [], ['analytical'], ['sadness'], [], [], ['analytical'], ['joy', 'tentative'], [], [], [], ['analytical'], [], ['joy', 'tentative'], [], ['tentative'], ['tentative', 'analytical'], ['tentative'], [], [], [], ['tentative'], ['analytical', 'confident'], [], ['analytical', 'tentative'], [], [], [], [], [], ['joy', 'tentative'], ['tentative'], ['joy'], [], [], ['analytical', 'tentative'], ['analytical'], [], [], [], [], ['tentative'], [], ['joy', 'tentative'], ['analytical'], ['joy', 'tentative'], ['joy', 'analytical', 'tentative'], ['analytical'], ['tentative'], ['analytical', 'tentative'], [], ['joy'], [], [], ['joy', 'tentative'], ['sadness'], [], ['tentative', 'analytical'], ['joy', 'confident'], [], ['joy', 'tentative', 'analytical'], ['analytical', 'tentative'], [], ['sadness', 'joy', 'analytical', 'tentative'], ['analytical'], ['confident'], ['confident'], ['confident'], ['analytical'], [], ['tentative'], ['anger'], ['joy', 'tentative'], ['sadness', 'tentative'], ['tentative'], [], ['analytical'], ['tentative', 'analytical'], ['analytical'], ['analytical', 'tentative'], ['analytical'], ['analytical', 'tentative'], ['tentative'], [], ['sadness', 'fear', 'analytical'], ['joy', 'analytical'], ['sadness', 'tentative'], ['joy', 'tentative', 'analytical'], [], [], ['tentative'], ['joy'], ['joy', 'tentative'], [], [], [], [], [], [], [], ['sadness', 'analytical'], ['joy'], ['analytical', 'tentative'], ['analytical'], ['joy', 'tentative'], [], ['joy', 'tentative'], [], ['tentative'], [], ['tentative', 'analytical'], ['tentative'], ['joy'], ['analytical', 'tentative'], [], ['sadness', 'tentative', 'analytical'], [], ['tentative'], [], [], [], [], ['joy', 'sadness', 'tentative', 'analytical'], [], [], ['confident', 'analytical'], ['tentative'], ['joy', 'tentative'], ['analytical'], [], ['analytical'], ['joy'], [], ['tentative'], ['analytical'], ['tentative'], ['tentative'], [], ['analytical', 'tentative'], ['confident'], ['analytical', 'confident'], ['joy', 'analytical'], [], [], [], ['analytical', 'tentative'], ['analytical'], ['tentative'], [], ['analytical', 'tentative'], ['analytical'], [], [], [], [], [], ['tentative'], ['confident'], [], ['joy'], [], [], ['analytical', 'tentative'], ['analytical'], [], ['tentative', 'analytical'], [], ['analytical'], ['tentative'], ['joy'], ['tentative'], ['joy'], ['joy', 'analytical'], ['analytical'], [], ['sadness', 'joy', 'tentative', 'analytical'], [], ['tentative'], ['analytical'], ['confident'], ['tentative', 'analytical'], ['confident'], ['joy', 'analytical', 'tentative'], ['confident'], ['joy', 'analytical'], ['tentative'], [], ['joy', 'tentative'], [], [], ['analytical'], [], [], ['tentative', 'analytical'], ['joy', 'tentative', 'analytical'], ['tentative', 'analytical'], [], ['analytical'], ['tentative', 'analytical'], ['tentative'], ['joy'], [], ['analytical'], ['tentative', 'analytical'], ['tentative'], [], ['analytical'], ['tentative'], ['joy', 'tentative'], [], ['sadness', 'joy', 'analytical'], [], ['analytical'], [], ['tentative'], ['joy', 'sadness', 'analytical'], ['analytical'], ['tentative'], ['analytical'], ['tentative'], ['tentative'], ['tentative'], ['tentative'], [], [], [], [], ['sadness', 'tentative', 'analytical'], ['analytical'], [], ['analytical'], ['sadness', 'analytical', 'tentative'], ['analytical'], ['analytical'], ['tentative'], ['tentative'], [], [], ['analytical', 'tentative'], [], [], [], ['sadness', 'tentative'], ['analytical', 'tentative'], ['joy', 'tentative'], ['joy', 'tentative'], ['joy', 'tentative'], ['joy', 'tentative'], ['analytical'], ['analytical'], ['analytical', 'tentative'], ['tentative', 'analytical'], ['tentative', 'analytical'], [], [], ['analytical'], ['tentative'], ['analytical', 'confident'], ['tentative'], [], ['tentative', 'analytical'], [], ['analytical'], [], ['tentative'], ['analytical'], ['sadness', 'tentative', 'analytical'], [], [], ['sadness', 'analytical'], ['tentative'], ['sadness', 'tentative', 'analytical'], ['analytical', 'tentative'], ['analytical'], ['joy', 'sadness', 'tentative', 'analytical'], ['analytical'], ['analytical', 'tentative'], ['analytical'], [], ['sadness', 'tentative'], [], ['tentative'], ['joy', 'analytical'], [], ['sadness', 'joy', 'analytical', 'tentative'], ['tentative', 'analytical'], ['joy', 'analytical'], ['analytical', 'tentative'], ['tentative', 'analytical'], ['analytical'], ['joy', 'analytical', 'tentative'], [], ['analytical'], [], ['joy', 'tentative', 'analytical'], ['analytical'], ['analytical', 'tentative'], ['analytical', 'tentative'], [], ['joy', 'confident', 'analytical'], ['confident'], [], ['sadness', 'joy', 'tentative'], ['tentative'], ['joy', 'sadness', 'tentative'], [], [], ['sadness', 'analytical'], ['tentative'], ['analytical'], ['sadness', 'analytical'], ['analytical', 'tentative'], ['analytical', 'tentative'], ['confident'], ['analytical'], [], ['tentative'], ['tentative'], ['tentative'], ['analytical'], ['tentative'], ['joy'], [], ['tentative'], ['joy', 'sadness', 'tentative', 'analytical'], ['analytical'], ['joy', 'tentative', 'analytical'], ['joy', 'confident'], [], ['sadness', 'tentative'], ['sadness', 'tentative'], ['joy', 'analytical'], ['tentative'], ['joy', 'sadness', 'tentative', 'analytical'], ['tentative'], [], ['tentative', 'analytical'], ['joy', 'tentative'], ['tentative'], [], [], [], ['confident'], ['sadness', 'tentative'], [], ['tentative', 'analytical'], [], [], ['joy'], ['joy'], ['analytical'], [], ['joy', 'confident'], [], ['joy', 'confident'], ['joy'], ['fear', 'sadness', 'tentative'], ['tentative', 'analytical'], ['analytical'], ['analytical', 'tentative'], [], [], [], ['analytical', 'tentative'], ['tentative'], ['analytical', 'tentative'], ['tentative', 'analytical'], ['analytical', 'tentative'], ['tentative', 'analytical'], ['tentative'], ['analytical'], ['tentative'], ['joy', 'analytical'], ['tentative', 'analytical'], ['joy', 'tentative', 'analytical'], [], ['fear', 'tentative'], [], ['analytical'], [], ['tentative'], ['confident'], [], ['analytical'], ['tentative'], ['joy', 'analytical', 'tentative'], ['analytical', 'tentative'], ['tentative'], [], ['joy'], ['analytical'], ['joy'], ['analytical'], [], ['confident'], ['analytical'], ['joy'], ['analytical'], ['tentative', 'analytical'], ['tentative'], ['sadness', 'analytical'], [], [], ['analytical'], ['sadness'], ['analytical', 'tentative'], ['sadness', 'tentative'], ['tentative'], [], ['analytical', 'confident'], [], ['analytical'], [], ['tentative'], [], [], ['confident'], [], ['tentative', 'analytical'], ['sadness', 'analytical'], ['analytical', 'confident'], ['analytical'], ['analytical', 'tentative'], ['sadness', 'tentative'], [], [], [], [], ['joy', 'analytical', 'tentative'], ['tentative'], ['tentative'], ['joy', 'tentative', 'analytical'], ['tentative', 'analytical'], ['sadness', 'analytical', 'tentative'], ['analytical'], ['joy', 'tentative'], [], ['confident', 'analytical'], ['confident'], ['sadness', 'joy', 'confident', 'analytical'], [], ['joy', 'analytical'], ['analytical', 'tentative'], ['tentative'], ['analytical'], ['analytical'], ['analytical'], [], ['analytical', 'tentative'], ['confident', 'analytical'], ['joy', 'analytical', 'tentative'], ['joy'], [], [], [], ['tentative'], ['joy', 'tentative', 'analytical'], [], ['analytical', 'tentative'], ['tentative'], ['tentative'], [], ['joy', 'tentative'], ['confident'], ['analytical'], ['analytical', 'tentative'], ['analytical', 'tentative'], [], [], [], [], [], ['analytical'], ['tentative'], [], [], ['tentative', 'analytical'], [], ['analytical'], [], [], ['tentative'], ['tentative'], ['tentative', 'analytical'], ['sadness', 'analytical', 'tentative'], ['sadness', 'tentative', 'analytical'], ['analytical'], ['confident'], ['joy', 'analytical', 'tentative'], ['analytical', 'confident'], [], ['tentative'], ['analytical'], ['sadness', 'analytical', 'confident'], [], ['tentative'], ['analytical', 'confident'], ['analytical', 'tentative'], ['analytical'], ['joy', 'sadness'], ['joy', 'analytical'], ['joy', 'analytical'], ['analytical', 'confident'], [], ['tentative'], ['joy', 'analytical'], [], ['analytical'], ['joy', 'analytical'], [], ['tentative'], ['analytical'], ['analytical'], ['analytical'], ['analytical'], [], [], [], [], ['analytical', 'tentative'], ['analytical'], [], [], ['joy'], [], ['confident'], ['joy', 'tentative', 'analytical'], ['joy', 'sadness', 'analytical', 'tentative'], ['analytical'], [], ['tentative', 'analytical'], ['tentative'], ['analytical'], ['analytical'], [], [], ['joy', 'sadness', 'analytical', 'tentative'], ['joy', 'analytical'], [], ['tentative'], ['tentative', 'analytical'], ['analytical'], ['analytical'], ['joy', 'sadness', 'tentative', 'analytical'], [], ['tentative', 'analytical'], ['joy', 'analytical', 'tentative'], [], ['sadness', 'joy', 'analytical'], [], [], ['analytical'], ['joy', 'analytical'], [], [], ['analytical', 'tentative'], ['analytical'], ['analytical'], [], [], ['analytical'], ['joy', 'tentative'], [], ['joy'], [], [], [], [], ['tentative', 'analytical'], ['confident'], ['tentative'], ['tentative', 'analytical'], ['analytical'], ['analytical'], [], ['confident', 'analytical'], [], ['joy'], ['joy', 'sadness', 'tentative'], [], ['joy', 'analytical', 'tentative'], ['analytical'], ['tentative'], ['confident'], [], [], ['analytical', 'tentative'], ['tentative'], [], [], ['analytical', 'tentative'], [], ['analytical'], ['sadness'], ['confident', 'analytical'], [], ['joy', 'tentative'], [], ['analytical'], ['joy', 'tentative'], [], [], [], ['analytical'], [], ['tentative'], ['tentative', 'analytical'], ['joy', 'analytical'], ['tentative', 'analytical'], ['tentative'], [], ['tentative'], [], [], [], ['tentative'], ['confident', 'analytical'], [], [], ['analytical'], [], [], [], [], ['joy', 'tentative'], ['tentative'], ['joy'], [], [], ['analytical'], [], [], [], [], ['tentative'], [], ['joy', 'tentative'], ['analytical'], ['joy', 'tentative'], ['analytical'], ['analytical'], ['tentative'], ['tentative', 'analytical'], [], ['joy'], [], [], ['joy', 'tentative'], ['sadness'], [], ['joy', 'confident'], ['joy', 'confident', 'analytical'], [], ['joy', 'analytical', 'tentative'], ['tentative', 'analytical'], [], ['joy', 'sadness', 'tentative', 'analytical'], ['analytical'], ['confident'], ['confident'], ['confident'], [], ['analytical'], ['tentative'], ['anger'], ['joy', 'tentative'], ['sadness', 'tentative'], ['tentative'], [], ['analytical'], ['analytical', 'tentative'], ['analytical'], ['analytical'], [], ['analytical', 'tentative'], ['tentative'], [], ['sadness', 'fear', 'analytical'], ['joy', 'analytical'], ['sadness', 'tentative'], ['joy', 'tentative', 'analytical'], [], [], ['joy'], ['analytical'], ['joy', 'tentative'], [], [], [], [], [], [], [], ['sadness', 'analytical'], ['tentative', 'analytical'], ['joy', 'analytical'], ['analytical'], ['joy', 'tentative'], [], ['joy', 'tentative'], [], ['tentative'], [], ['tentative', 'analytical'], ['tentative'], ['analytical', 'tentative'], ['analytical', 'tentative'], [], ['sadness', 'tentative', 'analytical'], ['analytical', 'tentative'], [], ['tentative'], [], [], [], [], ['joy', 'analytical'], ['tentative', 'analytical'], [], ['confident', 'analytical'], ['tentative'], ['joy', 'tentative'], ['analytical'], [], ['analytical'], ['joy'], [], ['tentative'], [], ['tentative'], ['tentative'], [], ['analytical', 'tentative'], ['confident'], ['sadness', 'tentative', 'analytical'], ['joy', 'analytical'], ['analytical', 'confident'], ['joy', 'analytical'], ['tentative'], ['joy', 'analytical'], [], [], [], [], ['analytical'], ['tentative'], [], ['analytical', 'tentative'], ['analytical'], [], [], [], [], [], [], ['confident'], [], ['joy'], [], [], ['analytical', 'tentative'], ['analytical'], ['analytical'], [], ['analytical', 'tentative'], ['analytical'], ['tentative'], ['joy'], ['analytical'], ['analytical'], ['joy'], ['tentative'], [], ['tentative'], ['joy'], ['joy', 'analytical'], ['joy', 'tentative'], [], ['tentative'], [], ['tentative'], [], ['analytical'], ['analytical'], [], ['tentative', 'analytical'], ['sadness', 'joy', 'analytical', 'tentative'], ['joy', 'analytical', 'tentative'], [], ['tentative', 'analytical'], ['analytical'], ['confident'], ['tentative', 'analytical'], ['analytical'], ['confident'], ['joy', 'analytical', 'tentative'], ['confident'], ['joy', 'analytical'], ['tentative'], [], [], [], ['analytical'], [], ['joy', 'tentative'], [], ['joy', 'tentative'], ['analytical', 'tentative'], ['tentative', 'analytical'], ['joy', 'tentative', 'analytical'], ['tentative', 'analytical'], ['analytical'], ['tentative', 'analytical'], ['tentative'], ['joy'], ['joy', 'tentative'], ['joy'], [], ['analytical'], ['tentative', 'analytical'], ['tentative'], [], ['tentative'], ['joy', 'tentative'], [], ['analytical'], ['joy', 'analytical'], ['joy', 'tentative'], ['joy', 'sadness', 'analytical'], ['confident'], [], [], ['analytical'], [], ['tentative'], ['tentative'], ['analytical'], ['tentative'], [], ['analytical'], ['tentative'], ['tentative'], ['tentative'], ['tentative'], [], [], ['sadness', 'analytical', 'tentative'], ['analytical'], [], ['joy'], ['analytical'], ['sadness', 'tentative', 'analytical'], ['analytical'], ['analytical'], ['tentative'], ['tentative'], [], ['tentative', 'analytical'], [], [], ['analytical', 'tentative'], [], ['sadness', 'tentative'], ['analytical', 'tentative'], ['joy', 'tentative'], ['joy', 'tentative'], ['joy', 'tentative'], ['joy', 'tentative'], ['analytical'], ['analytical', 'tentative'], ['analytical', 'tentative'], ['analytical'], ['tentative', 'analytical'], [], [], ['analytical'], ['tentative'], ['analytical', 'confident'], ['tentative'], ['analytical', 'tentative'], [], ['analytical'], ['analytical'], [], ['tentative'], ['analytical'], ['sadness', 'analytical', 'tentative'], [], ['tentative', 'analytical'], [], [], ['sadness', 'analytical'], ['sadness', 'tentative', 'analytical'], ['confident'], ['tentative', 'analytical'], ['analytical'], ['joy', 'sadness', 'tentative', 'analytical'], ['analytical'], ['analytical', 'tentative'], ['analytical'], [], ['sadness', 'tentative'], [], ['joy', 'analytical'], ['analytical'], [], ['sadness', 'joy', 'tentative', 'analytical'], ['tentative', 'analytical'], ['joy', 'analytical'], ['analytical', 'tentative'], ['analytical', 'tentative'], ['analytical'], ['joy', 'analytical', 'tentative'], [], [], ['analytical'], ['joy', 'analytical', 'tentative'], ['analytical'], ['analytical', 'tentative'], ['analytical', 'tentative'], [], ['joy', 'analytical', 'confident'], ['confident'], [], ['joy', 'sadness', 'tentative'], ['joy', 'sadness', 'tentative'], [], [], [], ['sadness', 'analytical'], ['tentative'], ['analytical'], ['sadness', 'analytical'], ['analytical', 'tentative'], ['analytical', 'tentative'], ['confident'], [], ['analytical'], [], ['tentative'], ['tentative'], ['tentative'], ['analytical'], ['tentative'], ['joy'], [], ['tentative'], ['joy', 'sadness', 'analytical', 'tentative'], ['joy', 'tentative', 'analytical'], [], ['joy', 'confident'], [], ['sadness', 'tentative'], ['sadness', 'tentative'], ['joy', 'analytical'], ['tentative'], ['joy', 'sadness', 'analytical', 'tentative'], ['tentative'], [], ['tentative'], [], [], [], [], ['confident'], ['sadness', 'tentative'], [], ['analytical', 'tentative'], [], [], ['joy'], ['joy', 'tentative'], ['analytical'], [], [], ['joy', 'confident'], [], ['joy', 'confident'], ['joy'], ['sadness', 'fear', 'tentative'], ['tentative', 'analytical'], ['analytical'], [], [], [], [], ['analytical', 'tentative'], ['tentative'], ['tentative', 'analytical'], ['tentative', 'analytical'], ['analytical', 'tentative'], ['analytical', 'tentative'], ['tentative'], [], ['tentative'], ['joy', 'analytical'], ['analytical', 'tentative'], ['joy', 'tentative', 'analytical'], [], ['fear', 'tentative'], [], ['analytical'], [], ['analytical', 'tentative'], ['tentative'], ['tentative'], [], ['analytical'], ['tentative'], ['joy', 'analytical', 'tentative'], ['analytical', 'tentative'], ['tentative'], [], ['joy'], ['analytical'], ['joy', 'analytical', 'tentative'], ['joy'], [], ['confident'], ['analytical'], ['joy'], ['analytical'], ['analytical', 'tentative'], ['tentative'], ['sadness', 'analytical'], [], [], [], ['sadness'], ['tentative', 'analytical'], ['sadness', 'tentative'], ['tentative'], [], ['analytical', 'confident'], [], ['analytical'], [], ['tentative', 'analytical'], ['tentative'], [], ['confident'], [], ['tentative', 'analytical'], ['sadness', 'analytical'], ['confident', 'analytical'], ['analytical'], ['analytical', 'tentative'], ['tentative', 'analytical'], ['tentative'], ['sadness', 'tentative'], [], [], [], ['joy', 'tentative', 'analytical'], ['tentative'], ['tentative'], ['joy', 'tentative', 'analytical'], ['analytical', 'tentative'], ['sadness', 'tentative', 'analytical'], ['tentative'], ['analytical'], [], ['analytical', 'confident'], ['confident'], ['sadness', 'joy', 'confident', 'analytical'], [], ['joy', 'analytical'], ['tentative', 'analytical'], ['tentative'], ['analytical'], [], ['analytical'], ['tentative', 'analytical'], ['confident', 'analytical'], ['joy', 'tentative', 'analytical'], ['joy'], [], [], ['analytical'], ['joy', 'tentative'], ['analytical'], ['tentative', 'analytical'], ['analytical', 'tentative'], [], [], [], [], ['analytical'], ['tentative'], [], [], [], ['analytical'], [], ['analytical'], [], [], [], ['tentative'], ['analytical'], ['tentative'], ['analytical', 'tentative'], ['sadness', 'analytical', 'tentative'], ['sadness', 'analytical', 'tentative'], ['tentative', 'analytical'], [], ['analytical'], ['tentative', 'analytical'], [], ['tentative'], ['joy', 'analytical', 'tentative'], ['confident', 'analytical'], [], ['tentative'], ['analytical'], [], ['sadness', 'analytical', 'confident'], [], ['tentative'], ['confident', 'analytical'], ['tentative', 'analytical'], ['joy'], ['analytical'], ['analytical'], [], ['analytical'], [], [], ['analytical'], ['analytical'], ['analytical'], ['joy', 'confident'], ['analytical'], ['analytical'], ['joy'], ['analytical', 'confident'], ['sadness', 'analytical', 'tentative'], ['analytical'], ['sadness', 'joy', 'tentative', 'analytical'], ['analytical', 'tentative'], [], ['joy'], ['joy', 'analytical'], ['analytical'], [], ['joy', 'tentative'], ['analytical'], ['analytical'], ['analytical'], ['joy', 'tentative', 'analytical'], [], [], ['analytical'], [], [], ['sadness', 'analytical'], ['analytical', 'tentative'], [], ['tentative'], [], ['tentative', 'analytical'], ['joy'], ['joy', 'analytical', 'tentative'], [], ['analytical'], ['joy', 'analytical'], ['sadness', 'anger', 'joy', 'confident', 'analytical'], ['tentative', 'analytical'], [], ['joy', 'tentative'], ['analytical'], ['sadness', 'tentative'], [], [], ['joy'], [], ['analytical'], ['analytical'], ['analytical', 'tentative'], [], ['tentative'], ['tentative', 'analytical'], [], ['sadness', 'tentative'], ['confident'], ['sadness', 'joy', 'tentative', 'analytical'], ['analytical', 'tentative'], ['joy', 'analytical', 'tentative'], ['joy', 'analytical', 'tentative'], ['joy', 'tentative'], ['analytical'], ['tentative'], ['joy'], ['sadness', 'analytical'], [], [], ['analytical', 'tentative'], [], ['sadness', 'analytical'], ['joy', 'analytical', 'confident'], ['joy', 'analytical'], ['joy', 'tentative', 'analytical'], ['joy', 'tentative'], ['analytical'], ['analytical'], ['tentative'], ['analytical'], ['joy', 'analytical', 'confident'], ['joy'], ['joy', 'analytical', 'tentative'], [], ['joy'], [], ['joy'], [], ['joy', 'analytical', 'tentative'], ['joy', 'analytical', 'tentative'], ['joy', 'tentative', 'analytical'], [], [], ['joy'], ['confident'], ['sadness', 'joy', 'analytical', 'tentative'], ['joy', 'tentative'], ['analytical', 'tentative'], ['analytical'], ['analytical'], ['analytical'], ['sadness', 'analytical'], ['analytical'], ['tentative', 'analytical'], ['joy', 'confident'], [], ['analytical', 'tentative'], [], ['joy'], [], ['joy', 'analytical', 'tentative'], ['joy', 'analytical'], [], [], ['analytical'], ['joy', 'sadness', 'tentative'], ['joy', 'tentative'], ['tentative'], ['joy', 'analytical', 'tentative'], ['analytical'], ['sadness', 'tentative', 'analytical'], [], ['joy', 'analytical', 'confident'], ['analytical', 'tentative'], ['analytical'], ['joy'], [], ['analytical'], ['tentative', 'analytical'], ['analytical'], ['analytical'], ['analytical'], [], ['joy', 'analytical'], ['joy', 'analytical', 'tentative'], ['fear', 'confident', 'analytical'], ['sadness', 'tentative'], [], [], [], ['joy', 'analytical'], [], [], ['joy', 'analytical'], ['joy'], ['sadness', 'fear', 'analytical', 'tentative'], ['tentative'], ['analytical'], ['confident'], ['confident'], ['joy'], ['confident'], ['joy', 'analytical'], ['joy', 'analytical', 'tentative'], ['joy', 'analytical'], ['sadness', 'joy', 'analytical'], ['joy', 'analytical'], ['tentative', 'analytical'], ['joy', 'analytical'], ['analytical'], ['analytical', 'tentative'], ['analytical'], [], ['analytical', 'confident'], ['joy', 'analytical'], ['confident'], [], ['joy', 'tentative', 'analytical'], ['analytical', 'tentative'], ['analytical'], ['tentative'], ['joy', 'tentative'], ['tentative'], ['analytical', 'tentative'], ['joy', 'analytical'], ['analytical'], ['joy'], ['joy', 'analytical'], ['joy', 'sadness'], ['joy', 'analytical'], ['joy', 'analytical', 'tentative'], ['analytical', 'tentative'], ['joy', 'tentative'], [], ['joy', 'analytical', 'confident'], ['sadness', 'joy'], ['analytical', 'tentative'], ['joy', 'analytical'], ['analytical'], ['joy'], [], ['analytical'], [], [], ['joy', 'tentative'], ['sadness', 'joy'], ['joy'], ['analytical', 'tentative'], ['tentative'], ['tentative'], ['joy', 'tentative', 'analytical'], ['confident'], ['sadness', 'joy', 'analytical'], [], [], ['joy'], ['joy'], ['joy', 'confident'], ['sadness', 'analytical', 'tentative'], [], ['joy', 'sadness', 'tentative', 'analytical'], [], ['joy', 'sadness', 'analytical'], ['analytical'], ['analytical'], ['analytical'], ['joy', 'analytical'], ['confident'], [], [], ['analytical', 'tentative'], ['sadness', 'joy', 'analytical'], ['joy'], ['confident'], ['joy'], ['joy'], [], ['joy', 'tentative'], ['joy', 'analytical', 'tentative'], ['analytical'], ['confident'], ['joy'], ['sadness', 'joy'], ['analytical'], ['tentative'], ['tentative'], ['joy', 'tentative'], ['joy', 'sadness', 'analytical'], ['sadness', 'joy'], ['joy'], ['analytical'], ['analytical', 'tentative'], [], [], ['confident'], ['joy', 'tentative'], ['joy', 'sadness', 'analytical'], ['analytical'], ['joy', 'analytical'], [], ['analytical'], [], ['joy', 'analytical'], ['analytical', 'tentative'], ['analytical'], ['joy', 'analytical'], [], ['joy', 'tentative'], ['joy'], ['tentative'], [], ['analytical', 'tentative'], ['analytical'], ['analytical'], ['analytical'], ['joy', 'tentative'], ['tentative'], ['sadness', 'analytical'], ['joy', 'tentative', 'analytical'], ['analytical'], ['joy', 'sadness', 'analytical', 'tentative'], ['analytical'], ['joy', 'analytical'], ['joy', 'tentative', 'analytical'], ['joy', 'analytical'], ['joy', 'tentative', 'analytical'], [], ['analytical'], [], ['joy'], ['analytical'], ['confident'], [], [], [], ['analytical', 'tentative'], ['joy', 'analytical', 'tentative'], ['joy', 'tentative'], [], ['joy'], ['analytical'], ['confident'], ['tentative', 'analytical'], ['joy', 'analytical'], ['analytical'], ['analytical', 'tentative'], ['joy', 'tentative'], ['analytical'], [], ['analytical'], ['analytical', 'tentative'], ['anger', 'analytical'], ['tentative', 'analytical'], ['analytical'], [], ['confident', 'analytical'], ['analytical', 'tentative'], ['joy', 'analytical', 'confident'], [], ['tentative', 'analytical'], ['tentative'], [], ['joy', 'analytical'], ['sadness', 'analytical', 'tentative'], ['joy', 'analytical'], ['analytical'], ['tentative', 'analytical'], ['analytical'], ['analytical'], ['tentative', 'analytical'], ['joy', 'analytical'], ['analytical'], ['joy', 'tentative', 'analytical'], ['joy'], ['tentative', 'analytical'], ['tentative'], ['joy', 'tentative', 'analytical'], ['analytical'], ['tentative', 'analytical'], [], ['analytical'], ['sadness'], [], ['joy'], ['sadness', 'joy', 'analytical', 'tentative'], [], ['joy'], [], ['confident'], ['joy', 'tentative', 'analytical'], ['joy', 'analytical'], [], ['tentative', 'analytical'], ['analytical'], ['sadness', 'analytical', 'tentative'], ['joy'], [], ['joy', 'analytical'], [], ['joy', 'tentative', 'analytical'], ['analytical'], ['joy', 'tentative'], ['joy'], ['analytical'], ['analytical'], ['analytical'], ['analytical', 'tentative'], ['tentative', 'analytical'], ['tentative', 'analytical'], ['anger', 'joy', 'analytical'], ['sadness', 'analytical', 'tentative'], ['analytical'], ['joy', 'analytical'], ['analytical'], [], [], ['confident'], ['tentative'], ['analytical'], ['joy', 'tentative', 'analytical'], [], ['confident', 'analytical'], ['analytical'], ['confident'], [], ['tentative', 'analytical'], [], [], [], [], [], [], ['analytical'], ['analytical'], [], ['joy'], [], ['analytical'], [], ['sadness', 'joy', 'analytical'], [], ['joy', 'tentative', 'analytical'], ['analytical', 'tentative'], [], ['joy', 'sadness', 'analytical', 'tentative'], ['analytical'], [], [], ['sadness', 'joy', 'tentative', 'analytical'], [], [], ['analytical'], ['tentative'], [], ['analytical'], ['joy', 'sadness', 'tentative', 'analytical'], ['joy', 'tentative', 'analytical'], ['confident'], ['confident'], [], ['joy'], [], [], ['analytical'], ['tentative', 'analytical'], [], [], [], [], ['analytical'], ['analytical'], ['analytical'], ['analytical'], ['analytical'], [], ['joy', 'analytical'], ['tentative'], ['confident', 'analytical'], ['joy', 'analytical'], [], ['joy', 'analytical'], ['analytical'], ['analytical'], ['analytical', 'confident'], ['tentative'], ['sadness', 'confident', 'analytical'], ['analytical'], ['tentative'], ['confident', 'analytical'], ['joy', 'analytical', 'tentative'], [], ['sadness', 'analytical', 'tentative'], ['sadness', 'tentative', 'analytical'], ['analytical', 'tentative'], ['tentative'], [], [], ['tentative'], [], [], [], [], ['analytical'], ['joy', 'tentative'], ['analytical'], ['tentative'], ['tentative'], ['tentative', 'analytical'], [], [], ['joy', 'tentative'], [], [], [], [], ['confident'], ['analytical'], ['analytical'], ['analytical', 'tentative'], [], ['joy', 'tentative'], ['joy', 'tentative'], ['analytical'], ['joy'], [], ['analytical'], ['tentative'], ['analytical'], [], ['joy', 'analytical'], [], ['analytical', 'tentative'], ['joy', 'analytical'], ['analytical'], ['analytical'], ['joy', 'analytical'], ['joy', 'confident', 'analytical'], ['analytical'], ['analytical'], [], ['joy'], ['analytical', 'tentative'], ['joy', 'tentative'], [], ['joy', 'analytical'], ['joy', 'analytical'], ['analytical'], ['tentative'], ['sadness', 'joy'], [], ['analytical'], [], ['analytical', 'tentative'], ['analytical'], ['sadness', 'tentative', 'analytical'], ['joy', 'analytical'], ['joy', 'analytical'], ['joy', 'analytical'], ['analytical'], [], ['tentative'], [], ['joy'], [], ['analytical'], [], [], [], [], [], [], ['analytical', 'tentative'], [], [], ['joy'], ['joy', 'tentative', 'analytical'], ['analytical', 'confident'], ['analytical'], ['tentative'], ['analytical', 'confident'], ['analytical'], ['sadness', 'analytical', 'tentative'], ['analytical', 'tentative'], ['analytical', 'tentative'], ['joy', 'tentative', 'analytical'], ['tentative'], ['tentative'], ['joy', 'tentative', 'analytical'], [], ['sadness', 'tentative'], ['analytical', 'tentative'], ['analytical', 'confident'], ['sadness', 'analytical'], ['analytical', 'tentative'], [], ['tentative'], [], ['analytical'], [], ['tentative'], ['sadness', 'tentative'], ['analytical', 'tentative'], ['sadness'], ['analytical'], [], ['sadness', 'analytical'], ['tentative'], ['tentative', 'analytical'], ['analytical'], ['joy'], ['analytical'], ['confident'], ['joy'], ['analytical'], ['joy'], [], ['tentative', 'analytical'], ['tentative'], [], ['tentative'], ['analytical', 'tentative'], [], [], ['joy', 'analytical', 'tentative'], ['joy', 'analytical'], ['tentative'], [], ['tentative'], ['tentative', 'analytical'], ['analytical', 'tentative'], ['analytical', 'tentative'], ['tentative'], ['analytical', 'tentative'], [], [], ['analytical'], ['fear', 'sadness', 'tentative'], ['analytical'], ['joy'], ['joy', 'confident'], [], ['joy', 'confident'], [], [], [], ['tentative', 'analytical'], [], ['sadness', 'tentative'], ['sadness', 'analytical'], ['confident'], [], [], [], ['tentative'], ['joy', 'sadness', 'tentative', 'analytical'], ['sadness', 'tentative'], ['sadness', 'tentative'], ['sadness', 'joy', 'analytical', 'tentative'], ['tentative'], [], [], ['joy'], ['tentative'], ['tentative'], ['tentative'], [], ['confident'], ['sadness', 'analytical'], ['analytical'], ['tentative'], [], [], ['joy', 'sadness', 'tentative'], ['sadness', 'joy', 'tentative'], [], ['joy', 'analytical', 'confident'], ['tentative', 'analytical'], ['analytical'], [], [], ['joy', 'analytical', 'tentative'], [], ['analytical'], ['analytical', 'tentative'], ['analytical', 'tentative'], ['joy', 'analytical'], ['analytical', 'tentative'], ['sadness', 'joy', 'analytical', 'tentative'], [], ['joy', 'analytical'], [], ['sadness', 'tentative'], [], [], ['analytical', 'tentative'], ['sadness', 'joy', 'tentative', 'analytical'], ['analytical'], ['analytical', 'tentative'], ['sadness', 'analytical'], [], ['analytical', 'tentative'], [], ['sadness', 'tentative', 'analytical'], [], [], ['analytical', 'tentative'], ['tentative'], ['confident', 'analytical'], ['tentative'], ['analytical'], [], [], ['tentative', 'analytical'], ['analytical', 'tentative'], ['analytical'], ['sadness', 'tentative'], ['tentative', 'analytical'], ['joy', 'tentative'], ['joy', 'tentative'], ['joy', 'tentative'], ['joy', 'tentative'], ['analytical', 'tentative'], [], [], ['analytical', 'tentative'], [], ['joy', 'analytical'], ['tentative'], ['analytical'], ['sadness', 'tentative', 'analytical'], ['analytical'], ['sadness', 'analytical', 'tentative'], [], [], ['tentative'], ['tentative'], ['tentative'], ['tentative'], ['analytical'], ['tentative'], [], ['confident'], ['sadness', 'joy', 'analytical'], [], ['tentative'], [], ['joy'], ['analytical', 'tentative'], ['analytical'], ['tentative', 'analytical'], [], [], [], [], [], ['tentative'], ['joy', 'analytical'], ['confident'], ['confident'], ['analytical'], ['analytical', 'tentative'], ['confident'], ['analytical'], [], ['joy', 'tentative', 'analytical'], ['sadness', 'joy', 'tentative', 'analytical'], ['tentative', 'analytical'], ['analytical'], [], ['tentative'], ['tentative', 'analytical'], [], ['tentative'], [], ['joy', 'tentative'], [], ['analytical', 'tentative'], [], ['sadness', 'tentative'], ['tentative'], ['confident'], ['joy'], ['confident'], ['confident'], ['analytical'], ['sadness', 'joy', 'tentative', 'analytical'], [], [], ['joy', 'confident'], ['joy', 'tentative'], [], [], ['analytical'], [], ['analytical'], ['tentative'], [], [], ['analytical'], [], [], ['joy'], ['tentative'], ['analytical', 'tentative'], [], [], [], [], ['analytical', 'confident'], ['tentative'], [], [], ['tentative'], ['analytical', 'tentative'], ['tentative'], [], [], [], ['joy', 'tentative']]\n",
            "2279\n"
          ],
          "name": "stdout"
        }
      ]
    },
    {
      "cell_type": "code",
      "metadata": {
        "colab": {
          "base_uri": "https://localhost:8080/",
          "height": 204
        },
        "id": "dwv_M1lJMVhP",
        "outputId": "55fa5bcc-d304-411b-f254-30dc8676d977"
      },
      "source": [
        "enron_df1.head()"
      ],
      "execution_count": 90,
      "outputs": [
        {
          "output_type": "execute_result",
          "data": {
            "text/html": [
              "<div>\n",
              "<style scoped>\n",
              "    .dataframe tbody tr th:only-of-type {\n",
              "        vertical-align: middle;\n",
              "    }\n",
              "\n",
              "    .dataframe tbody tr th {\n",
              "        vertical-align: top;\n",
              "    }\n",
              "\n",
              "    .dataframe thead th {\n",
              "        text-align: right;\n",
              "    }\n",
              "</style>\n",
              "<table border=\"1\" class=\"dataframe\">\n",
              "  <thead>\n",
              "    <tr style=\"text-align: right;\">\n",
              "      <th></th>\n",
              "      <th>Unnamed: 0</th>\n",
              "      <th>sentence</th>\n",
              "      <th>tones</th>\n",
              "      <th>tags</th>\n",
              "    </tr>\n",
              "  </thead>\n",
              "  <tbody>\n",
              "    <tr>\n",
              "      <th>0</th>\n",
              "      <td>0</td>\n",
              "      <td>Here is our forecast\\n\\n</td>\n",
              "      <td>{  \"document_tone\": {    \"tones\": [      {    ...</td>\n",
              "      <td>[analytical]</td>\n",
              "    </tr>\n",
              "    <tr>\n",
              "      <th>1</th>\n",
              "      <td>1</td>\n",
              "      <td>Traveling to have a business meeting takes the...</td>\n",
              "      <td>{  \"document_tone\": {    \"tones\": [      {    ...</td>\n",
              "      <td>[joy, analytical, tentative]</td>\n",
              "    </tr>\n",
              "    <tr>\n",
              "      <th>2</th>\n",
              "      <td>2</td>\n",
              "      <td>test successful.  way to go!!!</td>\n",
              "      <td>{  \"document_tone\": {    \"tones\": [      {    ...</td>\n",
              "      <td>[joy]</td>\n",
              "    </tr>\n",
              "    <tr>\n",
              "      <th>3</th>\n",
              "      <td>3</td>\n",
              "      <td>Randy,\\n\\n Can you send me a schedule of the s...</td>\n",
              "      <td>{  \"document_tone\": {    \"tones\": [      {    ...</td>\n",
              "      <td>[analytical, tentative]</td>\n",
              "    </tr>\n",
              "    <tr>\n",
              "      <th>4</th>\n",
              "      <td>4</td>\n",
              "      <td>Let's shoot for Tuesday at 11:45.</td>\n",
              "      <td>{  \"document_tone\": {    \"tones\": []  }}</td>\n",
              "      <td>[]</td>\n",
              "    </tr>\n",
              "  </tbody>\n",
              "</table>\n",
              "</div>"
            ],
            "text/plain": [
              "   Unnamed: 0  ...                          tags\n",
              "0           0  ...                  [analytical]\n",
              "1           1  ...  [joy, analytical, tentative]\n",
              "2           2  ...                         [joy]\n",
              "3           3  ...       [analytical, tentative]\n",
              "4           4  ...                            []\n",
              "\n",
              "[5 rows x 4 columns]"
            ]
          },
          "metadata": {
            "tags": []
          },
          "execution_count": 90
        }
      ]
    },
    {
      "cell_type": "code",
      "metadata": {
        "id": "oBf2bhJXM9IX"
      },
      "source": [
        "#To remove rows with null Tags columns\n",
        "enron_df2 = enron_df1[enron_df1[\"tags\"].str.len() != 0]"
      ],
      "execution_count": 91,
      "outputs": []
    },
    {
      "cell_type": "code",
      "metadata": {
        "colab": {
          "base_uri": "https://localhost:8080/",
          "height": 359
        },
        "id": "AgfKrD2pMiYe",
        "outputId": "7c35976d-2299-40a5-8e8d-a4bd886ea224"
      },
      "source": [
        "enron_df2.head(10)"
      ],
      "execution_count": 92,
      "outputs": [
        {
          "output_type": "execute_result",
          "data": {
            "text/html": [
              "<div>\n",
              "<style scoped>\n",
              "    .dataframe tbody tr th:only-of-type {\n",
              "        vertical-align: middle;\n",
              "    }\n",
              "\n",
              "    .dataframe tbody tr th {\n",
              "        vertical-align: top;\n",
              "    }\n",
              "\n",
              "    .dataframe thead th {\n",
              "        text-align: right;\n",
              "    }\n",
              "</style>\n",
              "<table border=\"1\" class=\"dataframe\">\n",
              "  <thead>\n",
              "    <tr style=\"text-align: right;\">\n",
              "      <th></th>\n",
              "      <th>Unnamed: 0</th>\n",
              "      <th>sentence</th>\n",
              "      <th>tones</th>\n",
              "      <th>tags</th>\n",
              "    </tr>\n",
              "  </thead>\n",
              "  <tbody>\n",
              "    <tr>\n",
              "      <th>0</th>\n",
              "      <td>0</td>\n",
              "      <td>Here is our forecast\\n\\n</td>\n",
              "      <td>{  \"document_tone\": {    \"tones\": [      {    ...</td>\n",
              "      <td>[analytical]</td>\n",
              "    </tr>\n",
              "    <tr>\n",
              "      <th>1</th>\n",
              "      <td>1</td>\n",
              "      <td>Traveling to have a business meeting takes the...</td>\n",
              "      <td>{  \"document_tone\": {    \"tones\": [      {    ...</td>\n",
              "      <td>[joy, analytical, tentative]</td>\n",
              "    </tr>\n",
              "    <tr>\n",
              "      <th>2</th>\n",
              "      <td>2</td>\n",
              "      <td>test successful.  way to go!!!</td>\n",
              "      <td>{  \"document_tone\": {    \"tones\": [      {    ...</td>\n",
              "      <td>[joy]</td>\n",
              "    </tr>\n",
              "    <tr>\n",
              "      <th>3</th>\n",
              "      <td>3</td>\n",
              "      <td>Randy,\\n\\n Can you send me a schedule of the s...</td>\n",
              "      <td>{  \"document_tone\": {    \"tones\": [      {    ...</td>\n",
              "      <td>[analytical, tentative]</td>\n",
              "    </tr>\n",
              "    <tr>\n",
              "      <th>5</th>\n",
              "      <td>5</td>\n",
              "      <td>Greg,\\n\\n How about either next Tuesday or Thu...</td>\n",
              "      <td>{  \"document_tone\": {    \"tones\": [      {    ...</td>\n",
              "      <td>[analytical, tentative]</td>\n",
              "    </tr>\n",
              "    <tr>\n",
              "      <th>7</th>\n",
              "      <td>7</td>\n",
              "      <td>any morning between 10 and 11:30</td>\n",
              "      <td>{  \"document_tone\": {    \"tones\": [      {    ...</td>\n",
              "      <td>[tentative]</td>\n",
              "    </tr>\n",
              "    <tr>\n",
              "      <th>8</th>\n",
              "      <td>8</td>\n",
              "      <td>1. login:  pallen pw: ke9davis\\n\\n I don't thi...</td>\n",
              "      <td>{  \"document_tone\": {    \"tones\": [      {    ...</td>\n",
              "      <td>[analytical]</td>\n",
              "    </tr>\n",
              "    <tr>\n",
              "      <th>9</th>\n",
              "      <td>9</td>\n",
              "      <td>---------------------- Forwarded by Phillip K ...</td>\n",
              "      <td>{  \"document_tone\": {    \"tones\": [      {    ...</td>\n",
              "      <td>[analytical]</td>\n",
              "    </tr>\n",
              "    <tr>\n",
              "      <th>11</th>\n",
              "      <td>11</td>\n",
              "      <td>Lucy,\\n\\n Here are the rentrolls:\\n\\n\\n\\n Open...</td>\n",
              "      <td>{  \"document_tone\": {    \"tones\": [      {    ...</td>\n",
              "      <td>[analytical]</td>\n",
              "    </tr>\n",
              "    <tr>\n",
              "      <th>12</th>\n",
              "      <td>12</td>\n",
              "      <td>---------------------- Forwarded by Phillip K ...</td>\n",
              "      <td>{  \"document_tone\": {    \"tones\": [      {    ...</td>\n",
              "      <td>[joy, analytical]</td>\n",
              "    </tr>\n",
              "  </tbody>\n",
              "</table>\n",
              "</div>"
            ],
            "text/plain": [
              "    Unnamed: 0  ...                          tags\n",
              "0            0  ...                  [analytical]\n",
              "1            1  ...  [joy, analytical, tentative]\n",
              "2            2  ...                         [joy]\n",
              "3            3  ...       [analytical, tentative]\n",
              "5            5  ...       [analytical, tentative]\n",
              "7            7  ...                   [tentative]\n",
              "8            8  ...                  [analytical]\n",
              "9            9  ...                  [analytical]\n",
              "11          11  ...                  [analytical]\n",
              "12          12  ...             [joy, analytical]\n",
              "\n",
              "[10 rows x 4 columns]"
            ]
          },
          "metadata": {
            "tags": []
          },
          "execution_count": 92
        }
      ]
    },
    {
      "cell_type": "code",
      "metadata": {
        "colab": {
          "base_uri": "https://localhost:8080/"
        },
        "id": "kH9vr5JpMiMu",
        "outputId": "dc090524-5c55-4655-9d64-e65fe3119fa5"
      },
      "source": [
        "enron_df2.shape"
      ],
      "execution_count": 93,
      "outputs": [
        {
          "output_type": "execute_result",
          "data": {
            "text/plain": [
              "(1379, 4)"
            ]
          },
          "metadata": {
            "tags": []
          },
          "execution_count": 93
        }
      ]
    },
    {
      "cell_type": "code",
      "metadata": {
        "id": "yDIe-gW2geV0"
      },
      "source": [
        "result = pd.concat([emo_df2, emo_df2_v2, enron_df2], axis=0)"
      ],
      "execution_count": 94,
      "outputs": []
    },
    {
      "cell_type": "code",
      "metadata": {
        "id": "mQfEg4OdgeHq",
        "outputId": "f2aba2b5-286c-42a6-fa4f-76d777cd13ca",
        "colab": {
          "base_uri": "https://localhost:8080/"
        }
      },
      "source": [
        "result.shape"
      ],
      "execution_count": 95,
      "outputs": [
        {
          "output_type": "execute_result",
          "data": {
            "text/plain": [
              "(6740, 4)"
            ]
          },
          "metadata": {
            "tags": []
          },
          "execution_count": 95
        }
      ]
    },
    {
      "cell_type": "code",
      "metadata": {
        "id": "Cez3lCHRiHjp",
        "outputId": "5529aea9-8e39-4697-e88b-9efe4bb82aa7",
        "colab": {
          "base_uri": "https://localhost:8080/",
          "height": 359
        }
      },
      "source": [
        "result.head(10)"
      ],
      "execution_count": 99,
      "outputs": [
        {
          "output_type": "execute_result",
          "data": {
            "text/html": [
              "<div>\n",
              "<style scoped>\n",
              "    .dataframe tbody tr th:only-of-type {\n",
              "        vertical-align: middle;\n",
              "    }\n",
              "\n",
              "    .dataframe tbody tr th {\n",
              "        vertical-align: top;\n",
              "    }\n",
              "\n",
              "    .dataframe thead th {\n",
              "        text-align: right;\n",
              "    }\n",
              "</style>\n",
              "<table border=\"1\" class=\"dataframe\">\n",
              "  <thead>\n",
              "    <tr style=\"text-align: right;\">\n",
              "      <th></th>\n",
              "      <th>Unnamed: 0</th>\n",
              "      <th>sentence</th>\n",
              "      <th>tones</th>\n",
              "      <th>tags</th>\n",
              "    </tr>\n",
              "  </thead>\n",
              "  <tbody>\n",
              "    <tr>\n",
              "      <th>0</th>\n",
              "      <td>0</td>\n",
              "      <td>i didnt feel humiliated</td>\n",
              "      <td>{  \"document_tone\": {    \"tones\": [      {    ...</td>\n",
              "      <td>[tentative]</td>\n",
              "    </tr>\n",
              "    <tr>\n",
              "      <th>1</th>\n",
              "      <td>1</td>\n",
              "      <td>i can go from feeling so hopeless to so damned...</td>\n",
              "      <td>{  \"document_tone\": {    \"tones\": [      {    ...</td>\n",
              "      <td>[sadness, tentative]</td>\n",
              "    </tr>\n",
              "    <tr>\n",
              "      <th>2</th>\n",
              "      <td>2</td>\n",
              "      <td>im grabbing a minute to post i feel greedy wrong</td>\n",
              "      <td>{  \"document_tone\": {    \"tones\": [      {    ...</td>\n",
              "      <td>[sadness]</td>\n",
              "    </tr>\n",
              "    <tr>\n",
              "      <th>3</th>\n",
              "      <td>3</td>\n",
              "      <td>i am ever feeling nostalgic about the fireplac...</td>\n",
              "      <td>{  \"document_tone\": {    \"tones\": [      {    ...</td>\n",
              "      <td>[sadness, analytical]</td>\n",
              "    </tr>\n",
              "    <tr>\n",
              "      <th>4</th>\n",
              "      <td>4</td>\n",
              "      <td>i am feeling grouchy</td>\n",
              "      <td>{  \"document_tone\": {    \"tones\": [      {    ...</td>\n",
              "      <td>[anger, sadness]</td>\n",
              "    </tr>\n",
              "    <tr>\n",
              "      <th>5</th>\n",
              "      <td>5</td>\n",
              "      <td>ive been feeling a little burdened lately wasn...</td>\n",
              "      <td>{  \"document_tone\": {    \"tones\": [      {    ...</td>\n",
              "      <td>[sadness, tentative]</td>\n",
              "    </tr>\n",
              "    <tr>\n",
              "      <th>6</th>\n",
              "      <td>6</td>\n",
              "      <td>ive been taking or milligrams or times recomme...</td>\n",
              "      <td>{  \"document_tone\": {    \"tones\": [      {    ...</td>\n",
              "      <td>[joy, tentative]</td>\n",
              "    </tr>\n",
              "    <tr>\n",
              "      <th>7</th>\n",
              "      <td>7</td>\n",
              "      <td>i feel as confused about life as a teenager or...</td>\n",
              "      <td>{  \"document_tone\": {    \"tones\": [      {    ...</td>\n",
              "      <td>[sadness, tentative]</td>\n",
              "    </tr>\n",
              "    <tr>\n",
              "      <th>8</th>\n",
              "      <td>8</td>\n",
              "      <td>i have been with petronas for years i feel tha...</td>\n",
              "      <td>{  \"document_tone\": {    \"tones\": [      {    ...</td>\n",
              "      <td>[joy]</td>\n",
              "    </tr>\n",
              "    <tr>\n",
              "      <th>9</th>\n",
              "      <td>9</td>\n",
              "      <td>i feel romantic too</td>\n",
              "      <td>{  \"document_tone\": {    \"tones\": [      {    ...</td>\n",
              "      <td>[joy, tentative]</td>\n",
              "    </tr>\n",
              "  </tbody>\n",
              "</table>\n",
              "</div>"
            ],
            "text/plain": [
              "   Unnamed: 0  ...                   tags\n",
              "0           0  ...            [tentative]\n",
              "1           1  ...   [sadness, tentative]\n",
              "2           2  ...              [sadness]\n",
              "3           3  ...  [sadness, analytical]\n",
              "4           4  ...       [anger, sadness]\n",
              "5           5  ...   [sadness, tentative]\n",
              "6           6  ...       [joy, tentative]\n",
              "7           7  ...   [sadness, tentative]\n",
              "8           8  ...                  [joy]\n",
              "9           9  ...       [joy, tentative]\n",
              "\n",
              "[10 rows x 4 columns]"
            ]
          },
          "metadata": {
            "tags": []
          },
          "execution_count": 99
        }
      ]
    },
    {
      "cell_type": "code",
      "metadata": {
        "id": "D1T7q1FQioT0",
        "outputId": "3a09a247-7e21-4e3c-de5e-63ec8f4e44aa",
        "colab": {
          "base_uri": "https://localhost:8080/",
          "height": 419
        }
      },
      "source": [
        "result.reset_index(drop=True)"
      ],
      "execution_count": 100,
      "outputs": [
        {
          "output_type": "execute_result",
          "data": {
            "text/html": [
              "<div>\n",
              "<style scoped>\n",
              "    .dataframe tbody tr th:only-of-type {\n",
              "        vertical-align: middle;\n",
              "    }\n",
              "\n",
              "    .dataframe tbody tr th {\n",
              "        vertical-align: top;\n",
              "    }\n",
              "\n",
              "    .dataframe thead th {\n",
              "        text-align: right;\n",
              "    }\n",
              "</style>\n",
              "<table border=\"1\" class=\"dataframe\">\n",
              "  <thead>\n",
              "    <tr style=\"text-align: right;\">\n",
              "      <th></th>\n",
              "      <th>Unnamed: 0</th>\n",
              "      <th>sentence</th>\n",
              "      <th>tones</th>\n",
              "      <th>tags</th>\n",
              "    </tr>\n",
              "  </thead>\n",
              "  <tbody>\n",
              "    <tr>\n",
              "      <th>0</th>\n",
              "      <td>0</td>\n",
              "      <td>i didnt feel humiliated</td>\n",
              "      <td>{  \"document_tone\": {    \"tones\": [      {    ...</td>\n",
              "      <td>[tentative]</td>\n",
              "    </tr>\n",
              "    <tr>\n",
              "      <th>1</th>\n",
              "      <td>1</td>\n",
              "      <td>i can go from feeling so hopeless to so damned...</td>\n",
              "      <td>{  \"document_tone\": {    \"tones\": [      {    ...</td>\n",
              "      <td>[sadness, tentative]</td>\n",
              "    </tr>\n",
              "    <tr>\n",
              "      <th>2</th>\n",
              "      <td>2</td>\n",
              "      <td>im grabbing a minute to post i feel greedy wrong</td>\n",
              "      <td>{  \"document_tone\": {    \"tones\": [      {    ...</td>\n",
              "      <td>[sadness]</td>\n",
              "    </tr>\n",
              "    <tr>\n",
              "      <th>3</th>\n",
              "      <td>3</td>\n",
              "      <td>i am ever feeling nostalgic about the fireplac...</td>\n",
              "      <td>{  \"document_tone\": {    \"tones\": [      {    ...</td>\n",
              "      <td>[sadness, analytical]</td>\n",
              "    </tr>\n",
              "    <tr>\n",
              "      <th>4</th>\n",
              "      <td>4</td>\n",
              "      <td>i am feeling grouchy</td>\n",
              "      <td>{  \"document_tone\": {    \"tones\": [      {    ...</td>\n",
              "      <td>[anger, sadness]</td>\n",
              "    </tr>\n",
              "    <tr>\n",
              "      <th>...</th>\n",
              "      <td>...</td>\n",
              "      <td>...</td>\n",
              "      <td>...</td>\n",
              "      <td>...</td>\n",
              "    </tr>\n",
              "    <tr>\n",
              "      <th>6735</th>\n",
              "      <td>1990</td>\n",
              "      <td>---------------------- Forwarded by Phillip K ...</td>\n",
              "      <td>{  \"document_tone\": {    \"tones\": [      {    ...</td>\n",
              "      <td>[tentative]</td>\n",
              "    </tr>\n",
              "    <tr>\n",
              "      <th>6736</th>\n",
              "      <td>1993</td>\n",
              "      <td>John,\\n\\n\\nThe only long term deal in the west...</td>\n",
              "      <td>{  \"document_tone\": {    \"tones\": [      {    ...</td>\n",
              "      <td>[tentative]</td>\n",
              "    </tr>\n",
              "    <tr>\n",
              "      <th>6737</th>\n",
              "      <td>1994</td>\n",
              "      <td>can you build something to look at historical ...</td>\n",
              "      <td>{  \"document_tone\": {    \"tones\": [      {    ...</td>\n",
              "      <td>[analytical, tentative]</td>\n",
              "    </tr>\n",
              "    <tr>\n",
              "      <th>6738</th>\n",
              "      <td>1995</td>\n",
              "      <td>Hunter,\\n\\nAre you watching Alberto?  Do you h...</td>\n",
              "      <td>{  \"document_tone\": {    \"tones\": [      {    ...</td>\n",
              "      <td>[tentative]</td>\n",
              "    </tr>\n",
              "    <tr>\n",
              "      <th>6739</th>\n",
              "      <td>1999</td>\n",
              "      <td>Ina,\\n\\n How many times do you think Jeff want...</td>\n",
              "      <td>{  \"document_tone\": {    \"tones\": [      {    ...</td>\n",
              "      <td>[joy, tentative]</td>\n",
              "    </tr>\n",
              "  </tbody>\n",
              "</table>\n",
              "<p>6740 rows × 4 columns</p>\n",
              "</div>"
            ],
            "text/plain": [
              "      Unnamed: 0  ...                     tags\n",
              "0              0  ...              [tentative]\n",
              "1              1  ...     [sadness, tentative]\n",
              "2              2  ...                [sadness]\n",
              "3              3  ...    [sadness, analytical]\n",
              "4              4  ...         [anger, sadness]\n",
              "...          ...  ...                      ...\n",
              "6735        1990  ...              [tentative]\n",
              "6736        1993  ...              [tentative]\n",
              "6737        1994  ...  [analytical, tentative]\n",
              "6738        1995  ...              [tentative]\n",
              "6739        1999  ...         [joy, tentative]\n",
              "\n",
              "[6740 rows x 4 columns]"
            ]
          },
          "metadata": {
            "tags": []
          },
          "execution_count": 100
        }
      ]
    },
    {
      "cell_type": "code",
      "metadata": {
        "id": "toYi5JbTi0uv",
        "outputId": "82e25a10-5455-4199-c8de-410a9ef61e25",
        "colab": {
          "base_uri": "https://localhost:8080/",
          "height": 17
        }
      },
      "source": [
        "from google.colab import files\n",
        "result.to_csv('Tones.csv') \n",
        "files.download('Tones.csv')"
      ],
      "execution_count": 101,
      "outputs": [
        {
          "output_type": "display_data",
          "data": {
            "application/javascript": [
              "\n",
              "    async function download(id, filename, size) {\n",
              "      if (!google.colab.kernel.accessAllowed) {\n",
              "        return;\n",
              "      }\n",
              "      const div = document.createElement('div');\n",
              "      const label = document.createElement('label');\n",
              "      label.textContent = `Downloading \"${filename}\": `;\n",
              "      div.appendChild(label);\n",
              "      const progress = document.createElement('progress');\n",
              "      progress.max = size;\n",
              "      div.appendChild(progress);\n",
              "      document.body.appendChild(div);\n",
              "\n",
              "      const buffers = [];\n",
              "      let downloaded = 0;\n",
              "\n",
              "      const channel = await google.colab.kernel.comms.open(id);\n",
              "      // Send a message to notify the kernel that we're ready.\n",
              "      channel.send({})\n",
              "\n",
              "      for await (const message of channel.messages) {\n",
              "        // Send a message to notify the kernel that we're ready.\n",
              "        channel.send({})\n",
              "        if (message.buffers) {\n",
              "          for (const buffer of message.buffers) {\n",
              "            buffers.push(buffer);\n",
              "            downloaded += buffer.byteLength;\n",
              "            progress.value = downloaded;\n",
              "          }\n",
              "        }\n",
              "      }\n",
              "      const blob = new Blob(buffers, {type: 'application/binary'});\n",
              "      const a = document.createElement('a');\n",
              "      a.href = window.URL.createObjectURL(blob);\n",
              "      a.download = filename;\n",
              "      div.appendChild(a);\n",
              "      a.click();\n",
              "      div.remove();\n",
              "    }\n",
              "  "
            ],
            "text/plain": [
              "<IPython.core.display.Javascript object>"
            ]
          },
          "metadata": {
            "tags": []
          }
        },
        {
          "output_type": "display_data",
          "data": {
            "application/javascript": [
              "download(\"download_d9ad0679-61ad-43a4-a822-e30f69326e1e\", \"Tones.csv\", 10793986)"
            ],
            "text/plain": [
              "<IPython.core.display.Javascript object>"
            ]
          },
          "metadata": {
            "tags": []
          }
        }
      ]
    },
    {
      "cell_type": "markdown",
      "metadata": {
        "id": "-MpziZejgfCl"
      },
      "source": [
        "## Categorical Encoding"
      ]
    },
    {
      "cell_type": "code",
      "metadata": {
        "id": "04jioGR57ARr"
      },
      "source": [
        "y = pd.Series(emo_df2['tags'])\n",
        "x = pd.Series(emo_df2['sentence'])"
      ],
      "execution_count": 78,
      "outputs": []
    },
    {
      "cell_type": "code",
      "metadata": {
        "colab": {
          "base_uri": "https://localhost:8080/"
        },
        "id": "qQaqLyLd0DzR",
        "outputId": "3621a905-379e-42fb-e7e0-69fc68142291"
      },
      "source": [
        "# Encode the tags(labels) in a binary format in order to be used for training\n",
        "from sklearn.preprocessing import MultiLabelBinarizer\n",
        "mlb = MultiLabelBinarizer()\n",
        " \n",
        "yt = mlb.fit_transform(y)\n",
        "yt.shape"
      ],
      "execution_count": 79,
      "outputs": [
        {
          "output_type": "execute_result",
          "data": {
            "text/plain": [
              "(1500, 7)"
            ]
          },
          "metadata": {
            "tags": []
          },
          "execution_count": 79
        }
      ]
    },
    {
      "cell_type": "code",
      "metadata": {
        "colab": {
          "base_uri": "https://localhost:8080/"
        },
        "id": "6xZcSdtd9HmE",
        "outputId": "57ff03f6-0f0f-4716-bdcf-91d18691af1f"
      },
      "source": [
        "# Getting a sense of how the tags data looks like\n",
        "print(yt[6])\n",
        "print(mlb.inverse_transform(yt[6].reshape(1,-1)))\n",
        "print(mlb.classes_)"
      ],
      "execution_count": 80,
      "outputs": [
        {
          "output_type": "stream",
          "text": [
            "[0 0 0 0 1 0 1]\n",
            "[('joy', 'tentative')]\n",
            "['analytical' 'anger' 'confident' 'fear' 'joy' 'sadness' 'tentative']\n"
          ],
          "name": "stdout"
        }
      ]
    },
    {
      "cell_type": "code",
      "metadata": {
        "colab": {
          "base_uri": "https://localhost:8080/",
          "height": 355
        },
        "id": "1SLDO7gF7_CV",
        "outputId": "23dda737-1d36-4494-93a1-f1035fd48022"
      },
      "source": [
        "# compute no. of words in each question\n",
        "questions = x\n",
        "word_cnt = [len(quest.split()) for quest in questions]\n",
        "# Plot the distribution\n",
        "plt.figure(figsize=[8,5])\n",
        "plt.hist(word_cnt, bins = 40)\n",
        "plt.xlabel('Word Count/Question')\n",
        "plt.ylabel('# of Occurences')\n",
        "plt.title(\"Frequency of Word Counts/sentence\")\n",
        "plt.show()"
      ],
      "execution_count": 81,
      "outputs": [
        {
          "output_type": "display_data",
          "data": {
            "image/png": "[encoded data removed]",
            "text/plain": [
              "<Figure size 576x360 with 1 Axes>"
            ]
          },
          "metadata": {
            "tags": []
          }
        }
      ]
    },
    {
      "cell_type": "code",
      "metadata": {
        "id": "sjMjI-DZGgQ3"
      },
      "source": [
        ""
      ],
      "execution_count": 81,
      "outputs": []
    }
  ]
}