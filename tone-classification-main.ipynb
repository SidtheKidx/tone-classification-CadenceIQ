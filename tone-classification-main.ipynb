{
  "nbformat": 4,
  "nbformat_minor": 0,
  "metadata": {
    "kernelspec": {
      "display_name": "Python 3",
      "language": "python",
      "name": "python3"
    },
    "language_info": {
      "codemirror_mode": {
        "name": "ipython",
        "version": 3
      },
      "file_extension": ".py",
      "mimetype": "text/x-python",
      "name": "python",
      "nbconvert_exporter": "python",
      "pygments_lexer": "ipython3",
      "version": "3.7.4"
    },
    "colab": {
      "name": "tone-classification-main.ipynb",
      "provenance": [],
      "toc_visible": true,
      "include_colab_link": true
    }
  },
  "cells": [
    {
      "cell_type": "markdown",
      "metadata": {
        "id": "view-in-github",
        "colab_type": "text"
      },
      "source": [
        "<a href=\"https://colab.research.google.com/github/SidtheKidx/tone-classification-CadenceIQ/blob/main/tone-classification-main.ipynb\" target=\"_parent\"><img src=\"https://colab.research.google.com/assets/colab-badge.svg\" alt=\"Open In Colab\"/></a>"
      ]
    },
    {
      "cell_type": "markdown",
      "metadata": {
        "id": "PMANt7jeI1to"
      },
      "source": [
        "## Tone Classification-CadenceIQ using BERT Transformers\n"
      ]
    },
    {
      "cell_type": "markdown",
      "metadata": {
        "id": "841hEy3bJLEP"
      },
      "source": [
        "## Dataset :\n",
        "\n",
        "\n",
        "*   [Enron Dataset](https://www.kaggle.com/wcukierski/enron-email-dataset)\n",
        "*   [Emotions Dataset](https://www.kaggle.com/praveengovi/emotions-dataset-for-nlp?select=val.txt)\n",
        "\n"
      ]
    },
    {
      "cell_type": "code",
      "metadata": {
        "colab": {
          "base_uri": "https://localhost:8080/"
        },
        "id": "G3uQxtX6e5Bi",
        "outputId": "8777b0d0-340d-44de-e8b2-9472156e862b"
      },
      "source": [
        "import json\n",
        "!pip install --upgrade \"ibm-watson>=5.1.0\"\n",
        "\n",
        "from ibm_watson import ToneAnalyzerV3\n",
        "from ibm_cloud_sdk_core.authenticators import IAMAuthenticator\n",
        "\n",
        "import pandas as pd \n",
        "import numpy as np\n",
        "import os, sys, email, re\n",
        "\n",
        "from nltk.corpus import stopwords \n",
        "from nltk.stem.wordnet import WordNetLemmatizer\n",
        "import string"
      ],
      "execution_count": 1,
      "outputs": [
        {
          "output_type": "stream",
          "text": [
            "Requirement already up-to-date: ibm-watson>=5.1.0 in /usr/local/lib/python3.7/dist-packages (5.1.0)\n",
            "Requirement already satisfied, skipping upgrade: ibm-cloud-sdk-core>=3.3.6 in /usr/local/lib/python3.7/dist-packages (from ibm-watson>=5.1.0) (3.9.0)\n",
            "Requirement already satisfied, skipping upgrade: python-dateutil>=2.5.3 in /usr/local/lib/python3.7/dist-packages (from ibm-watson>=5.1.0) (2.8.1)\n",
            "Requirement already satisfied, skipping upgrade: websocket-client==0.48.0 in /usr/local/lib/python3.7/dist-packages (from ibm-watson>=5.1.0) (0.48.0)\n",
            "Requirement already satisfied, skipping upgrade: requests<3.0,>=2.0 in /usr/local/lib/python3.7/dist-packages (from ibm-watson>=5.1.0) (2.23.0)\n",
            "Requirement already satisfied, skipping upgrade: PyJWT<3.0.0,>=2.0.1 in /usr/local/lib/python3.7/dist-packages (from ibm-cloud-sdk-core>=3.3.6->ibm-watson>=5.1.0) (2.1.0)\n",
            "Requirement already satisfied, skipping upgrade: six>=1.5 in /usr/local/lib/python3.7/dist-packages (from python-dateutil>=2.5.3->ibm-watson>=5.1.0) (1.15.0)\n",
            "Requirement already satisfied, skipping upgrade: urllib3!=1.25.0,!=1.25.1,<1.26,>=1.21.1 in /usr/local/lib/python3.7/dist-packages (from requests<3.0,>=2.0->ibm-watson>=5.1.0) (1.24.3)\n",
            "Requirement already satisfied, skipping upgrade: idna<3,>=2.5 in /usr/local/lib/python3.7/dist-packages (from requests<3.0,>=2.0->ibm-watson>=5.1.0) (2.10)\n",
            "Requirement already satisfied, skipping upgrade: certifi>=2017.4.17 in /usr/local/lib/python3.7/dist-packages (from requests<3.0,>=2.0->ibm-watson>=5.1.0) (2020.12.5)\n",
            "Requirement already satisfied, skipping upgrade: chardet<4,>=3.0.2 in /usr/local/lib/python3.7/dist-packages (from requests<3.0,>=2.0->ibm-watson>=5.1.0) (3.0.4)\n"
          ],
          "name": "stdout"
        }
      ]
    },
    {
      "cell_type": "code",
      "metadata": {
        "colab": {
          "base_uri": "https://localhost:8080/",
          "height": 0
        },
        "id": "aPeZYFLQe5B3",
        "outputId": "987b6b73-5070-4078-bbed-7a7427241728"
      },
      "source": [
        "'''emails = pd.read_csv('emails.csv')'''"
      ],
      "execution_count": 2,
      "outputs": [
        {
          "output_type": "execute_result",
          "data": {
            "application/vnd.google.colaboratory.intrinsic+json": {
              "type": "string"
            },
            "text/plain": [
              "\"emails = pd.read_csv('emails.csv')\""
            ]
          },
          "metadata": {
            "tags": []
          },
          "execution_count": 2
        }
      ]
    },
    {
      "cell_type": "code",
      "metadata": {
        "colab": {
          "base_uri": "https://localhost:8080/",
          "height": 0
        },
        "id": "GGsU9M_ke5B6",
        "outputId": "d748a506-db22-4cf0-96df-fc9d11558fd2"
      },
      "source": [
        "'''emails.head()'''"
      ],
      "execution_count": 3,
      "outputs": [
        {
          "output_type": "execute_result",
          "data": {
            "application/vnd.google.colaboratory.intrinsic+json": {
              "type": "string"
            },
            "text/plain": [
              "'emails.head()'"
            ]
          },
          "metadata": {
            "tags": []
          },
          "execution_count": 3
        }
      ]
    },
    {
      "cell_type": "code",
      "metadata": {
        "colab": {
          "base_uri": "https://localhost:8080/",
          "height": 0
        },
        "id": "MLf4Q7A4e5B7",
        "outputId": "aeb60488-ee59-4d82-d431-f9bdf06107d5"
      },
      "source": [
        "'''emails.shape'''"
      ],
      "execution_count": 4,
      "outputs": [
        {
          "output_type": "execute_result",
          "data": {
            "application/vnd.google.colaboratory.intrinsic+json": {
              "type": "string"
            },
            "text/plain": [
              "'emails.shape'"
            ]
          },
          "metadata": {
            "tags": []
          },
          "execution_count": 4
        }
      ]
    },
    {
      "cell_type": "code",
      "metadata": {
        "colab": {
          "base_uri": "https://localhost:8080/",
          "height": 0
        },
        "id": "VUFTzPZme5B7",
        "outputId": "70b40ac2-1c10-4e77-9194-d9a2b7d81a49"
      },
      "source": [
        "'''emails.message[1]'''"
      ],
      "execution_count": 5,
      "outputs": [
        {
          "output_type": "execute_result",
          "data": {
            "application/vnd.google.colaboratory.intrinsic+json": {
              "type": "string"
            },
            "text/plain": [
              "'emails.message[1]'"
            ]
          },
          "metadata": {
            "tags": []
          },
          "execution_count": 5
        }
      ]
    },
    {
      "cell_type": "code",
      "metadata": {
        "colab": {
          "base_uri": "https://localhost:8080/",
          "height": 0
        },
        "id": "fFLhcgOEe5B8",
        "outputId": "0765e353-02f0-4773-e0a8-b25d7dd80083"
      },
      "source": [
        "'''emails.info()'''"
      ],
      "execution_count": 6,
      "outputs": [
        {
          "output_type": "execute_result",
          "data": {
            "application/vnd.google.colaboratory.intrinsic+json": {
              "type": "string"
            },
            "text/plain": [
              "'emails.info()'"
            ]
          },
          "metadata": {
            "tags": []
          },
          "execution_count": 6
        }
      ]
    },
    {
      "cell_type": "code",
      "metadata": {
        "colab": {
          "base_uri": "https://localhost:8080/",
          "height": 0
        },
        "id": "PDHbn90ve5B8",
        "outputId": "ce87e149-9f9e-4510-e6bc-b8e1f83598db"
      },
      "source": [
        "'''emails.describe()'''"
      ],
      "execution_count": 7,
      "outputs": [
        {
          "output_type": "execute_result",
          "data": {
            "application/vnd.google.colaboratory.intrinsic+json": {
              "type": "string"
            },
            "text/plain": [
              "'emails.describe()'"
            ]
          },
          "metadata": {
            "tags": []
          },
          "execution_count": 7
        }
      ]
    },
    {
      "cell_type": "markdown",
      "metadata": {
        "id": "wnsaUGmle5B9"
      },
      "source": [
        "## Data Preprocessing"
      ]
    },
    {
      "cell_type": "code",
      "metadata": {
        "colab": {
          "base_uri": "https://localhost:8080/",
          "height": 0
        },
        "id": "SaU1seZKe5B9",
        "outputId": "4229b15e-53db-4b4d-c210-87712cab8887"
      },
      "source": [
        "#To get the content from email objects\n",
        "'''\n",
        "def get_text_from_email(msg):\n",
        "    parts = []\n",
        "    for part in msg.walk():\n",
        "        if part.get_content_type() == 'text/plain':\n",
        "            parts.append(part.get_payload())\n",
        "    return ''.join(parts) \n",
        "    '''"
      ],
      "execution_count": 8,
      "outputs": [
        {
          "output_type": "execute_result",
          "data": {
            "application/vnd.google.colaboratory.intrinsic+json": {
              "type": "string"
            },
            "text/plain": [
              "\"\\ndef get_text_from_email(msg):\\n    parts = []\\n    for part in msg.walk():\\n        if part.get_content_type() == 'text/plain':\\n            parts.append(part.get_payload())\\n    return ''.join(parts) \\n    \""
            ]
          },
          "metadata": {
            "tags": []
          },
          "execution_count": 8
        }
      ]
    },
    {
      "cell_type": "code",
      "metadata": {
        "colab": {
          "base_uri": "https://localhost:8080/",
          "height": 0
        },
        "id": "HfmNQoqke5B_",
        "outputId": "8daeae2b-78d0-49b5-b0f6-06973b30a669"
      },
      "source": [
        "#To separate multiple email addresses\n",
        "'''\n",
        "def split_email_addresses(line):\n",
        "    if line:\n",
        "        addrs = line.split(',')\n",
        "        addrs = frozenset(map(lambda x: x.strip(), addrs))\n",
        "    \n",
        "    else:\n",
        "        addrs = None\n",
        "    return addrs '''"
      ],
      "execution_count": 9,
      "outputs": [
        {
          "output_type": "execute_result",
          "data": {
            "application/vnd.google.colaboratory.intrinsic+json": {
              "type": "string"
            },
            "text/plain": [
              "\"\\ndef split_email_addresses(line):\\n    if line:\\n        addrs = line.split(',')\\n        addrs = frozenset(map(lambda x: x.strip(), addrs))\\n    \\n    else:\\n        addrs = None\\n    return addrs \""
            ]
          },
          "metadata": {
            "tags": []
          },
          "execution_count": 9
        }
      ]
    },
    {
      "cell_type": "code",
      "metadata": {
        "colab": {
          "base_uri": "https://localhost:8080/",
          "height": 0
        },
        "id": "lc_5rIi5e5B_",
        "outputId": "5be553a6-9f65-4d05-b78a-85442151514b"
      },
      "source": [
        "# Parse the emails into a list email objects\n",
        "'''\n",
        "messages = list(map(email.message_from_string, emails['message']))\n",
        "emails.drop('message', axis=1, inplace=True)\n",
        "\n",
        "# Get fields from parsed email objects\n",
        "keys = messages[0].keys()\n",
        "\n",
        "for key in keys:\n",
        "    emails[key] = [doc[key] for doc in messages]\n",
        "    \n",
        "# Parse content from emails\n",
        "emails['content'] = list(map(get_text_from_email, messages))\n",
        "\n",
        "# Split multiple email addresses\n",
        "emails['From'] = emails['From'].map(split_email_addresses)\n",
        "emails['To'] = emails['To'].map(split_email_addresses)\n",
        "\n",
        "# Extract the root of 'file' as 'user'\n",
        "emails['user'] = emails['file'].map(lambda x:x.split('/')[0])\n",
        "del messages\n",
        "\n",
        "emails.head(10) '''"
      ],
      "execution_count": 10,
      "outputs": [
        {
          "output_type": "execute_result",
          "data": {
            "application/vnd.google.colaboratory.intrinsic+json": {
              "type": "string"
            },
            "text/plain": [
              "\"\\nmessages = list(map(email.message_from_string, emails['message']))\\nemails.drop('message', axis=1, inplace=True)\\n\\n# Get fields from parsed email objects\\nkeys = messages[0].keys()\\n\\nfor key in keys:\\n    emails[key] = [doc[key] for doc in messages]\\n    \\n# Parse content from emails\\nemails['content'] = list(map(get_text_from_email, messages))\\n\\n# Split multiple email addresses\\nemails['From'] = emails['From'].map(split_email_addresses)\\nemails['To'] = emails['To'].map(split_email_addresses)\\n\\n# Extract the root of 'file' as 'user'\\nemails['user'] = emails['file'].map(lambda x:x.split('/')[0])\\ndel messages\\n\\nemails.head(10) \""
            ]
          },
          "metadata": {
            "tags": []
          },
          "execution_count": 10
        }
      ]
    },
    {
      "cell_type": "code",
      "metadata": {
        "colab": {
          "base_uri": "https://localhost:8080/",
          "height": 0
        },
        "id": "k766wcq8e5CA",
        "outputId": "5fd3ad30-78b8-43c8-930e-6867847e3bed"
      },
      "source": [
        "# Set index and drop columns with two few values\n",
        "'''\n",
        "emails = emails.set_index('Message-ID')\\\n",
        "    .drop(['file', 'Mime-Version', 'Content-Type', 'Content-Transfer-Encoding'], axis=1)\n",
        "# Parse datetime\n",
        "emails['Date'] = pd.to_datetime(emails['Date'], infer_datetime_format=True)\n",
        "emails.dtypes '''"
      ],
      "execution_count": 11,
      "outputs": [
        {
          "output_type": "execute_result",
          "data": {
            "application/vnd.google.colaboratory.intrinsic+json": {
              "type": "string"
            },
            "text/plain": [
              "\"\\nemails = emails.set_index('Message-ID')    .drop(['file', 'Mime-Version', 'Content-Type', 'Content-Transfer-Encoding'], axis=1)\\n# Parse datetime\\nemails['Date'] = pd.to_datetime(emails['Date'], infer_datetime_format=True)\\nemails.dtypes \""
            ]
          },
          "metadata": {
            "tags": []
          },
          "execution_count": 11
        }
      ]
    },
    {
      "cell_type": "code",
      "metadata": {
        "colab": {
          "base_uri": "https://localhost:8080/",
          "height": 0
        },
        "id": "1ubWfaike5CA",
        "outputId": "5297a4ca-e9f0-4737-ba82-c768603e5531"
      },
      "source": [
        "#Don't need to clean dataset as IBM watson analyser will do it. Might have to do during MODELLING.\n",
        "\n",
        "'''\n",
        "def clean(text):\n",
        "    stop = set(stopwords.words('english'))\n",
        "    stop.update((\"to\", \"cc\", \"subject\", \"http\", \"from\", \"sent\"))\n",
        "    exclude = set(string.punctuation)\n",
        "    \n",
        "    #lemmatization is preferred over Stemming because lemmatization does morphological analysis of the words.\n",
        "    \n",
        "'''"
      ],
      "execution_count": 12,
      "outputs": [
        {
          "output_type": "execute_result",
          "data": {
            "application/vnd.google.colaboratory.intrinsic+json": {
              "type": "string"
            },
            "text/plain": [
              "'\\ndef clean(text):\\n    stop = set(stopwords.words(\\'english\\'))\\n    stop.update((\"to\", \"cc\", \"subject\", \"http\", \"from\", \"sent\"))\\n    exclude = set(string.punctuation)\\n    \\n    #lemmatization is preferred over Stemming because lemmatization does morphological analysis of the words.\\n    \\n'"
            ]
          },
          "metadata": {
            "tags": []
          },
          "execution_count": 12
        }
      ]
    },
    {
      "cell_type": "code",
      "metadata": {
        "colab": {
          "base_uri": "https://localhost:8080/",
          "height": 0
        },
        "id": "_TzucPTGe5CB",
        "outputId": "4c1bff62-d221-4bfd-a5ec-a600e34f22ac"
      },
      "source": [
        "''' emails['content'][10] '''"
      ],
      "execution_count": 13,
      "outputs": [
        {
          "output_type": "execute_result",
          "data": {
            "application/vnd.google.colaboratory.intrinsic+json": {
              "type": "string"
            },
            "text/plain": [
              "\" emails['content'][10] \""
            ]
          },
          "metadata": {
            "tags": []
          },
          "execution_count": 13
        }
      ]
    },
    {
      "cell_type": "code",
      "metadata": {
        "colab": {
          "base_uri": "https://localhost:8080/",
          "height": 0
        },
        "id": "-CtXCpIHe5CC",
        "outputId": "beec86df-e2f5-45fd-e47d-5f95f7ad44f7"
      },
      "source": [
        "''' tone_df = emails[['content']][:2000] '''"
      ],
      "execution_count": 14,
      "outputs": [
        {
          "output_type": "execute_result",
          "data": {
            "application/vnd.google.colaboratory.intrinsic+json": {
              "type": "string"
            },
            "text/plain": [
              "\" tone_df = emails[['content']][:2000] \""
            ]
          },
          "metadata": {
            "tags": []
          },
          "execution_count": 14
        }
      ]
    },
    {
      "cell_type": "code",
      "metadata": {
        "id": "Eq5o6k5Oe5CC"
      },
      "source": [
        "#new dataset for message content and its tone\n",
        "#tone_df.to_csv(r'/Users/siddharthsingh/CadenceIQ/tone_Analyzer/tone-content-data.csv')\n",
        "#tone_df = pd.read_csv('tone-content-data.csv')"
      ],
      "execution_count": 15,
      "outputs": []
    },
    {
      "cell_type": "code",
      "metadata": {
        "colab": {
          "base_uri": "https://localhost:8080/",
          "height": 0
        },
        "id": "tMN1SQhme5CD",
        "outputId": "11344631-24bd-4a09-ce0a-01b9e3f53298"
      },
      "source": [
        "'''tone_df.head()'''"
      ],
      "execution_count": 16,
      "outputs": [
        {
          "output_type": "execute_result",
          "data": {
            "application/vnd.google.colaboratory.intrinsic+json": {
              "type": "string"
            },
            "text/plain": [
              "'tone_df.head()'"
            ]
          },
          "metadata": {
            "tags": []
          },
          "execution_count": 16
        }
      ]
    },
    {
      "cell_type": "code",
      "metadata": {
        "colab": {
          "base_uri": "https://localhost:8080/",
          "height": 0
        },
        "id": "-sLV4okae5CD",
        "outputId": "51573477-c887-4903-e0ad-5391bb85458a"
      },
      "source": [
        "'''tone_df.shape'''"
      ],
      "execution_count": 17,
      "outputs": [
        {
          "output_type": "execute_result",
          "data": {
            "application/vnd.google.colaboratory.intrinsic+json": {
              "type": "string"
            },
            "text/plain": [
              "'tone_df.shape'"
            ]
          },
          "metadata": {
            "tags": []
          },
          "execution_count": 17
        }
      ]
    },
    {
      "cell_type": "code",
      "metadata": {
        "colab": {
          "base_uri": "https://localhost:8080/",
          "height": 0
        },
        "id": "8ovqDW_Fe5CD",
        "outputId": "4170787a-733f-4795-ff7f-5fda0e4b3ae0"
      },
      "source": [
        "#IBM watson tone analyser API endpoint \n",
        "'''\n",
        "authenticator = IAMAuthenticator('7UkBO29yBlRAuDZzA5s8Nl-IbmlR3mK1yINRazApqitf')\n",
        "tone_analyzer = ToneAnalyzerV3(\n",
        "    version='2017-09-21',\n",
        "    authenticator=authenticator\n",
        ")\n",
        "tone_analyzer.set_service_url('https://api.us-south.tone-analyzer.watson.cloud.ibm.com/instances/cd914da7-f09f-4298-862d-d4c6005ac8b3')\n",
        "'''"
      ],
      "execution_count": 18,
      "outputs": [
        {
          "output_type": "execute_result",
          "data": {
            "application/vnd.google.colaboratory.intrinsic+json": {
              "type": "string"
            },
            "text/plain": [
              "\"\\nauthenticator = IAMAuthenticator('7UkBO29yBlRAuDZzA5s8Nl-IbmlR3mK1yINRazApqitf')\\ntone_analyzer = ToneAnalyzerV3(\\n    version='2017-09-21',\\n    authenticator=authenticator\\n)\\ntone_analyzer.set_service_url('https://api.us-south.tone-analyzer.watson.cloud.ibm.com/instances/cd914da7-f09f-4298-862d-d4c6005ac8b3')\\n\""
            ]
          },
          "metadata": {
            "tags": []
          },
          "execution_count": 18
        }
      ]
    },
    {
      "cell_type": "code",
      "metadata": {
        "colab": {
          "base_uri": "https://localhost:8080/",
          "height": 0
        },
        "id": "L7CBc4Lre5CE",
        "outputId": "9d81f9b3-1f2b-44c4-b413-54c3ee85b03f"
      },
      "source": [
        "#Converting column to list. We could also use df['column'].tolist() OR list(tone_df['content'])\n",
        "'''\n",
        "text = list(tone_df['content'])\n",
        "text '''"
      ],
      "execution_count": 19,
      "outputs": [
        {
          "output_type": "execute_result",
          "data": {
            "application/vnd.google.colaboratory.intrinsic+json": {
              "type": "string"
            },
            "text/plain": [
              "\"\\ntext = list(tone_df['content'])\\ntext \""
            ]
          },
          "metadata": {
            "tags": []
          },
          "execution_count": 19
        }
      ]
    },
    {
      "cell_type": "code",
      "metadata": {
        "colab": {
          "base_uri": "https://localhost:8080/",
          "height": 0
        },
        "id": "nhwoXMWhe5CF",
        "outputId": "c5d7827f-0bb0-4faf-f122-b15f64381c0d"
      },
      "source": [
        "'''c = 0\n",
        "list_tones = [] '''"
      ],
      "execution_count": 20,
      "outputs": [
        {
          "output_type": "execute_result",
          "data": {
            "application/vnd.google.colaboratory.intrinsic+json": {
              "type": "string"
            },
            "text/plain": [
              "'c = 0\\nlist_tones = [] '"
            ]
          },
          "metadata": {
            "tags": []
          },
          "execution_count": 20
        }
      ]
    },
    {
      "cell_type": "code",
      "metadata": {
        "colab": {
          "base_uri": "https://localhost:8080/",
          "height": 0
        },
        "id": "ODk2XmSAe5CF",
        "outputId": "0df042c2-cced-4de8-9c9f-c58258b56dc2"
      },
      "source": [
        "'''\n",
        "for i in text:\n",
        "    print(i)\n",
        "    tone_analysis = tone_analyzer.tone(\n",
        "        {'text': i},\n",
        "        content_type='application/json'\n",
        "    ).get_result()\n",
        "    \n",
        "    list_tones.append(json.dumps(tone_analysis, indent=2))\n",
        "    c+=1\n",
        "    \n",
        "tone_df = tone_df.assign(tones = list_tones)\n",
        "#print(json.dumps(tone_analysis, indent=2))     '''"
      ],
      "execution_count": 21,
      "outputs": [
        {
          "output_type": "execute_result",
          "data": {
            "application/vnd.google.colaboratory.intrinsic+json": {
              "type": "string"
            },
            "text/plain": [
              "\"\\nfor i in text:\\n    print(i)\\n    tone_analysis = tone_analyzer.tone(\\n        {'text': i},\\n        content_type='application/json'\\n    ).get_result()\\n    \\n    list_tones.append(json.dumps(tone_analysis, indent=2))\\n    c+=1\\n    \\ntone_df = tone_df.assign(tones = list_tones)\\n#print(json.dumps(tone_analysis, indent=2))     \""
            ]
          },
          "metadata": {
            "tags": []
          },
          "execution_count": 21
        }
      ]
    },
    {
      "cell_type": "code",
      "metadata": {
        "colab": {
          "base_uri": "https://localhost:8080/",
          "height": 0
        },
        "id": "-Hvcb_bVe5CF",
        "outputId": "0baed60c-eb18-4a38-f06a-9fb5840c6c72"
      },
      "source": [
        "'''tone_df.head()'''"
      ],
      "execution_count": 22,
      "outputs": [
        {
          "output_type": "execute_result",
          "data": {
            "application/vnd.google.colaboratory.intrinsic+json": {
              "type": "string"
            },
            "text/plain": [
              "'tone_df.head()'"
            ]
          },
          "metadata": {
            "tags": []
          },
          "execution_count": 22
        }
      ]
    },
    {
      "cell_type": "code",
      "metadata": {
        "colab": {
          "base_uri": "https://localhost:8080/",
          "height": 0
        },
        "id": "1R3avQPwe5CG",
        "outputId": "71553d17-9a36-4515-855b-e4e59a2ba8f2"
      },
      "source": [
        "'''tone_df.to_csv(r'/Users/siddharthsingh/CadenceIQ/tone_Analyzer/tone-content-data-og.csv')'''"
      ],
      "execution_count": 23,
      "outputs": [
        {
          "output_type": "execute_result",
          "data": {
            "application/vnd.google.colaboratory.intrinsic+json": {
              "type": "string"
            },
            "text/plain": [
              "\"tone_df.to_csv(r'/Users/siddharthsingh/CadenceIQ/tone_Analyzer/tone-content-data-og.csv')\""
            ]
          },
          "metadata": {
            "tags": []
          },
          "execution_count": 23
        }
      ]
    },
    {
      "cell_type": "code",
      "metadata": {
        "id": "awI7bn9ge5CG"
      },
      "source": [
        "#print(json.dumps(tone_analysis, indent=2)) "
      ],
      "execution_count": 24,
      "outputs": []
    },
    {
      "cell_type": "code",
      "metadata": {
        "id": "DiiQhmhWe5CG"
      },
      "source": [
        "#print(tone_analysis['sentences_tone'][1]['tones'][0])"
      ],
      "execution_count": 25,
      "outputs": []
    },
    {
      "cell_type": "markdown",
      "metadata": {
        "id": "aErVhek5e5CH"
      },
      "source": [
        "## Accessing JSON data to visualize distribution of Enron dataset tones"
      ]
    },
    {
      "cell_type": "code",
      "metadata": {
        "id": "3p7t7k3de5CH"
      },
      "source": [
        "og_tone = pd.read_csv('https://raw.githubusercontent.com/SidtheKidx/tone-classification-CadenceIQ/main/tone-content-data-og.csv?token=AJVH2HYIV7IQOQYGTXJ3XI3AUPGRE')"
      ],
      "execution_count": 26,
      "outputs": []
    },
    {
      "cell_type": "code",
      "metadata": {
        "colab": {
          "base_uri": "https://localhost:8080/",
          "height": 0
        },
        "id": "2t7tayJ0e5CH",
        "outputId": "ffed95cd-b8ad-42c8-be8b-d4d063dca84c"
      },
      "source": [
        "og_tone['tones'][5]"
      ],
      "execution_count": 27,
      "outputs": [
        {
          "output_type": "execute_result",
          "data": {
            "application/vnd.google.colaboratory.intrinsic+json": {
              "type": "string"
            },
            "text/plain": [
              "'{\\n  \"document_tone\": {\\n    \"tones\": [\\n      {\\n        \"score\": 0.883404,\\n        \"tone_id\": \"analytical\",\\n        \"tone_name\": \"Analytical\"\\n      },\\n      {\\n        \"score\": 0.994704,\\n        \"tone_id\": \"tentative\",\\n        \"tone_name\": \"Tentative\"\\n      }\\n    ]\\n  },\\n  \"sentences_tone\": [\\n    {\\n      \"sentence_id\": 0,\\n      \"text\": \"Greg,\",\\n      \"tones\": []\\n    },\\n    {\\n      \"sentence_id\": 1,\\n      \"text\": \"\",\\n      \"tones\": []\\n    },\\n    {\\n      \"sentence_id\": 2,\\n      \"text\": \" How about either next Tuesday or Thursday?\",\\n      \"tones\": [\\n        {\\n          \"score\": 0.801827,\\n          \"tone_id\": \"analytical\",\\n          \"tone_name\": \"Analytical\"\\n        },\\n        {\\n          \"score\": 0.974201,\\n          \"tone_id\": \"tentative\",\\n          \"tone_name\": \"Tentative\"\\n        }\\n      ]\\n    },\\n    {\\n      \"sentence_id\": 3,\\n      \"text\": \"Phillip\",\\n      \"tones\": []\\n    }\\n  ]\\n}'"
            ]
          },
          "metadata": {
            "tags": []
          },
          "execution_count": 27
        }
      ]
    },
    {
      "cell_type": "code",
      "metadata": {
        "id": "vlmTDolce5CH"
      },
      "source": [
        "import json"
      ],
      "execution_count": 28,
      "outputs": []
    },
    {
      "cell_type": "code",
      "metadata": {
        "id": "_SMcrECqe5CI"
      },
      "source": [
        "#To replce \\\\n with \\n. Helps in visaualising JSON data.\n",
        "og_tone['tones'].replace(to_replace=[r\"\\\\t|\\\\n|\\\\r\", \"\\t|\\n|\\r\"], value=[\"\",\"\"], regex=True, inplace=True)"
      ],
      "execution_count": 29,
      "outputs": []
    },
    {
      "cell_type": "code",
      "metadata": {
        "colab": {
          "base_uri": "https://localhost:8080/",
          "height": 444
        },
        "id": "ADgksJ6xe5CI",
        "outputId": "083c951a-8fef-448f-aefc-d2d35635a21e"
      },
      "source": [
        "#Any content with just ONE sentence does NOT have a sentence-id in JSON data.\n",
        "og_tone.head(10)"
      ],
      "execution_count": 30,
      "outputs": [
        {
          "output_type": "execute_result",
          "data": {
            "text/html": [
              "<div>\n",
              "<style scoped>\n",
              "    .dataframe tbody tr th:only-of-type {\n",
              "        vertical-align: middle;\n",
              "    }\n",
              "\n",
              "    .dataframe tbody tr th {\n",
              "        vertical-align: top;\n",
              "    }\n",
              "\n",
              "    .dataframe thead th {\n",
              "        text-align: right;\n",
              "    }\n",
              "</style>\n",
              "<table border=\"1\" class=\"dataframe\">\n",
              "  <thead>\n",
              "    <tr style=\"text-align: right;\">\n",
              "      <th></th>\n",
              "      <th>Unnamed: 0</th>\n",
              "      <th>Message-ID</th>\n",
              "      <th>content</th>\n",
              "      <th>tones</th>\n",
              "    </tr>\n",
              "  </thead>\n",
              "  <tbody>\n",
              "    <tr>\n",
              "      <th>0</th>\n",
              "      <td>0</td>\n",
              "      <td>&lt;18782981.1075855378110.JavaMail.evans@thyme&gt;</td>\n",
              "      <td>Here is our forecast\\n\\n</td>\n",
              "      <td>{  \"document_tone\": {    \"tones\": [      {    ...</td>\n",
              "    </tr>\n",
              "    <tr>\n",
              "      <th>1</th>\n",
              "      <td>1</td>\n",
              "      <td>&lt;15464986.1075855378456.JavaMail.evans@thyme&gt;</td>\n",
              "      <td>Traveling to have a business meeting takes the...</td>\n",
              "      <td>{  \"document_tone\": {    \"tones\": [      {    ...</td>\n",
              "    </tr>\n",
              "    <tr>\n",
              "      <th>2</th>\n",
              "      <td>2</td>\n",
              "      <td>&lt;24216240.1075855687451.JavaMail.evans@thyme&gt;</td>\n",
              "      <td>test successful.  way to go!!!</td>\n",
              "      <td>{  \"document_tone\": {    \"tones\": [      {    ...</td>\n",
              "    </tr>\n",
              "    <tr>\n",
              "      <th>3</th>\n",
              "      <td>3</td>\n",
              "      <td>&lt;13505866.1075863688222.JavaMail.evans@thyme&gt;</td>\n",
              "      <td>Randy,\\n\\n Can you send me a schedule of the s...</td>\n",
              "      <td>{  \"document_tone\": {    \"tones\": [      {    ...</td>\n",
              "    </tr>\n",
              "    <tr>\n",
              "      <th>4</th>\n",
              "      <td>4</td>\n",
              "      <td>&lt;30922949.1075863688243.JavaMail.evans@thyme&gt;</td>\n",
              "      <td>Let's shoot for Tuesday at 11:45.</td>\n",
              "      <td>{  \"document_tone\": {    \"tones\": []  }}</td>\n",
              "    </tr>\n",
              "    <tr>\n",
              "      <th>5</th>\n",
              "      <td>5</td>\n",
              "      <td>&lt;30965995.1075863688265.JavaMail.evans@thyme&gt;</td>\n",
              "      <td>Greg,\\n\\n How about either next Tuesday or Thu...</td>\n",
              "      <td>{  \"document_tone\": {    \"tones\": [      {    ...</td>\n",
              "    </tr>\n",
              "    <tr>\n",
              "      <th>6</th>\n",
              "      <td>6</td>\n",
              "      <td>&lt;16254169.1075863688286.JavaMail.evans@thyme&gt;</td>\n",
              "      <td>Please cc the following distribution list with...</td>\n",
              "      <td>{  \"document_tone\": {    \"tones\": []  },  \"sen...</td>\n",
              "    </tr>\n",
              "    <tr>\n",
              "      <th>7</th>\n",
              "      <td>7</td>\n",
              "      <td>&lt;17189699.1075863688308.JavaMail.evans@thyme&gt;</td>\n",
              "      <td>any morning between 10 and 11:30</td>\n",
              "      <td>{  \"document_tone\": {    \"tones\": [      {    ...</td>\n",
              "    </tr>\n",
              "    <tr>\n",
              "      <th>8</th>\n",
              "      <td>8</td>\n",
              "      <td>&lt;20641191.1075855687472.JavaMail.evans@thyme&gt;</td>\n",
              "      <td>1. login:  pallen pw: ke9davis\\n\\n I don't thi...</td>\n",
              "      <td>{  \"document_tone\": {    \"tones\": [      {    ...</td>\n",
              "    </tr>\n",
              "    <tr>\n",
              "      <th>9</th>\n",
              "      <td>9</td>\n",
              "      <td>&lt;30795301.1075855687494.JavaMail.evans@thyme&gt;</td>\n",
              "      <td>---------------------- Forwarded by Phillip K ...</td>\n",
              "      <td>{  \"document_tone\": {    \"tones\": [      {    ...</td>\n",
              "    </tr>\n",
              "  </tbody>\n",
              "</table>\n",
              "</div>"
            ],
            "text/plain": [
              "   Unnamed: 0  ...                                              tones\n",
              "0           0  ...  {  \"document_tone\": {    \"tones\": [      {    ...\n",
              "1           1  ...  {  \"document_tone\": {    \"tones\": [      {    ...\n",
              "2           2  ...  {  \"document_tone\": {    \"tones\": [      {    ...\n",
              "3           3  ...  {  \"document_tone\": {    \"tones\": [      {    ...\n",
              "4           4  ...           {  \"document_tone\": {    \"tones\": []  }}\n",
              "5           5  ...  {  \"document_tone\": {    \"tones\": [      {    ...\n",
              "6           6  ...  {  \"document_tone\": {    \"tones\": []  },  \"sen...\n",
              "7           7  ...  {  \"document_tone\": {    \"tones\": [      {    ...\n",
              "8           8  ...  {  \"document_tone\": {    \"tones\": [      {    ...\n",
              "9           9  ...  {  \"document_tone\": {    \"tones\": [      {    ...\n",
              "\n",
              "[10 rows x 4 columns]"
            ]
          },
          "metadata": {
            "tags": []
          },
          "execution_count": 30
        }
      ]
    },
    {
      "cell_type": "code",
      "metadata": {
        "colab": {
          "base_uri": "https://localhost:8080/",
          "height": 137
        },
        "id": "CyzXTRDoe5CI",
        "outputId": "27aed9e1-aee4-4ff6-a50b-22f955b2a55d"
      },
      "source": [
        "og_tone['tones'][5]"
      ],
      "execution_count": 31,
      "outputs": [
        {
          "output_type": "execute_result",
          "data": {
            "application/vnd.google.colaboratory.intrinsic+json": {
              "type": "string"
            },
            "text/plain": [
              "'{  \"document_tone\": {    \"tones\": [      {        \"score\": 0.883404,        \"tone_id\": \"analytical\",        \"tone_name\": \"Analytical\"      },      {        \"score\": 0.994704,        \"tone_id\": \"tentative\",        \"tone_name\": \"Tentative\"      }    ]  },  \"sentences_tone\": [    {      \"sentence_id\": 0,      \"text\": \"Greg,\",      \"tones\": []    },    {      \"sentence_id\": 1,      \"text\": \"\",      \"tones\": []    },    {      \"sentence_id\": 2,      \"text\": \" How about either next Tuesday or Thursday?\",      \"tones\": [        {          \"score\": 0.801827,          \"tone_id\": \"analytical\",          \"tone_name\": \"Analytical\"        },        {          \"score\": 0.974201,          \"tone_id\": \"tentative\",          \"tone_name\": \"Tentative\"        }      ]    },    {      \"sentence_id\": 3,      \"text\": \"Phillip\",      \"tones\": []    }  ]}'"
            ]
          },
          "metadata": {
            "tags": []
          },
          "execution_count": 31
        }
      ]
    },
    {
      "cell_type": "code",
      "metadata": {
        "id": "8w5EtMate5CJ"
      },
      "source": [
        "json_data = pd.read_json('https://raw.githubusercontent.com/SidtheKidx/tone-classification-CadenceIQ/main/ibm-tones.json?token=AJVH2H7DUOT4GHHA25USOGLAUPGXA', lines = True)"
      ],
      "execution_count": 33,
      "outputs": []
    },
    {
      "cell_type": "code",
      "metadata": {
        "colab": {
          "base_uri": "https://localhost:8080/"
        },
        "id": "a0LDD4W9e5CJ",
        "outputId": "36bdaa46-8fe2-4feb-af31-3f87aa19ef4d"
      },
      "source": [
        "counter_dict = {\n",
        "    \n",
        "        'anger' : {\n",
        "            'score' : 0,\n",
        "            'count' : 0\n",
        "        }, \n",
        "        'analytical' : {\n",
        "            'score' : 0,\n",
        "            'count' : 0\n",
        "        },\n",
        "        'fear' :{\n",
        "            'score' : 0,\n",
        "            'count' : 0\n",
        "        },\n",
        "        'joy' : {\n",
        "            'score' : 0,\n",
        "            'count' : 0\n",
        "        },\n",
        "        'sadness' : {\n",
        "            'score' : 0,\n",
        "            'count' : 0\n",
        "        },\n",
        "        'confident' : {\n",
        "            'score' : 0,\n",
        "            'count' : 0\n",
        "        },\n",
        "        'tentative' : {\n",
        "            'score' : 0,\n",
        "            'count' : 0\n",
        "        }\n",
        "}\n",
        "\n",
        "for json_data in og_tone['tones']:\n",
        "    data_dict = json.loads(str(json_data))\n",
        "    \n",
        "    for document_tones in data_dict['document_tone']['tones']:\n",
        "        counter_dict[document_tones['tone_id']]['count']+=1\n",
        "        counter_dict[document_tones['tone_id']]['score']= (counter_dict[document_tones['tone_id']]['score'] + document_tones['score'])/2\n",
        "\n",
        "print(counter_dict)"
      ],
      "execution_count": 34,
      "outputs": [
        {
          "output_type": "stream",
          "text": [
            "{'anger': {'score': 0.5338457812499999, 'count': 5}, 'analytical': {'score': 0.8817075917647587, 'count': 857}, 'fear': {'score': 0.6245237031249999, 'count': 9}, 'joy': {'score': 0.627133168507743, 'count': 406}, 'sadness': {'score': 0.5510907781760023, 'count': 164}, 'confident': {'score': 0.8262343132838654, 'count': 137}, 'tentative': {'score': 0.7295375807820894, 'count': 701}}\n"
          ],
          "name": "stdout"
        }
      ]
    },
    {
      "cell_type": "markdown",
      "metadata": {
        "id": "KfEYHtere5CK"
      },
      "source": [
        "### Visualizating Enron tones as a bar plot\n"
      ]
    },
    {
      "cell_type": "code",
      "metadata": {
        "colab": {
          "base_uri": "https://localhost:8080/"
        },
        "id": "4bAqMaZJe5CL",
        "outputId": "023ade8e-70a4-450e-cca2-40ceed2de452"
      },
      "source": [
        "#The dictionary of tones, count & score converted to DATAFRAME for visualization\n",
        "vis_df = pd.DataFrame.from_dict(counter_dict)\n",
        "vis_ax = vis_df.transpose()\n",
        "vis_ax.reset_index(level=0, inplace=True)\n",
        "print(vis_ax)\n",
        "vis_ax['count'].sum()"
      ],
      "execution_count": 35,
      "outputs": [
        {
          "output_type": "stream",
          "text": [
            "        index     score  count\n",
            "0       anger  0.533846    5.0\n",
            "1  analytical  0.881708  857.0\n",
            "2        fear  0.624524    9.0\n",
            "3         joy  0.627133  406.0\n",
            "4     sadness  0.551091  164.0\n",
            "5   confident  0.826234  137.0\n",
            "6   tentative  0.729538  701.0\n"
          ],
          "name": "stdout"
        },
        {
          "output_type": "execute_result",
          "data": {
            "text/plain": [
              "2279.0"
            ]
          },
          "metadata": {
            "tags": []
          },
          "execution_count": 35
        }
      ]
    },
    {
      "cell_type": "markdown",
      "metadata": {
        "id": "k8hemFA-e5CL"
      },
      "source": [
        "### Distribution of tones"
      ]
    },
    {
      "cell_type": "code",
      "metadata": {
        "colab": {
          "base_uri": "https://localhost:8080/",
          "height": 0
        },
        "id": "ex-eNG5fe5CM",
        "outputId": "2b846db1-59c1-4621-fc2c-8dd2d26c549c"
      },
      "source": [
        "import matplotlib.pyplot as plt\n",
        "import seaborn as sns\n",
        "sns.set()\n",
        "\n",
        "sns.barplot(x = vis_ax['index'], y = vis_ax['count'], data=vis_ax).set_title('Enron tone distribution')"
      ],
      "execution_count": 36,
      "outputs": [
        {
          "output_type": "execute_result",
          "data": {
            "text/plain": [
              "Text(0.5, 1.0, 'Enron tone distribution')"
            ]
          },
          "metadata": {
            "tags": []
          },
          "execution_count": 36
        },
        {
          "output_type": "display_data",
          "data": {
            "image/png": "[encoded data removed]",
            "text/plain": [
              "<Figure size 432x288 with 1 Axes>"
            ]
          },
          "metadata": {
            "tags": []
          }
        }
      ]
    },
    {
      "cell_type": "code",
      "metadata": {
        "id": "L7SAFwNEe5CM"
      },
      "source": [
        "# Indent keyword while dumping the\n",
        "# data decides to what level \n",
        "# spaces the user wants.\n",
        "#print(json.dumps(data_dict, indent = 1))\n",
        "\n",
        "#print(data_dict['sentences_tone'])\n",
        "\n",
        "# Difference in the spaces \n",
        "# near the brackets can be seen\n",
        "#print(json.dumps(data_dict, indent = 3))"
      ],
      "execution_count": 37,
      "outputs": []
    },
    {
      "cell_type": "code",
      "metadata": {
        "id": "bIigCMMae5CN"
      },
      "source": [
        "#df_train = pd.read_csv(\"/Users/siddharthsingh/CadenceIQ/tone_Analyzer/emotions-dataset/train.txt\", delimiter=';', header=None, names=['sentence','label'])\n",
        "#df_test = pd.read_csv(\"/Users/siddharthsingh/CadenceIQ/tone_Analyzer/emotions-dataset/test.txt\", delimiter=';', header=None, names=['sentence','label'])\n",
        "#df_val = pd.read_csv(\"/Users/siddharthsingh/CadenceIQ/tone_Analyzer/emotions-dataset/val.txt\", delimiter=';', header=None, names=['sentence','label'])"
      ],
      "execution_count": 38,
      "outputs": []
    },
    {
      "cell_type": "code",
      "metadata": {
        "id": "DQKHNzBBe5CN"
      },
      "source": [
        "#emo_df = pd.concat([df_train,df_test,df_val])"
      ],
      "execution_count": 39,
      "outputs": []
    },
    {
      "cell_type": "code",
      "metadata": {
        "id": "IZEfSv5Ee5CN"
      },
      "source": [
        "#emo_df['label'].unique()"
      ],
      "execution_count": 40,
      "outputs": []
    },
    {
      "cell_type": "code",
      "metadata": {
        "id": "mTAJjm1Ae5CN"
      },
      "source": [
        "#emo_df.head(10)"
      ],
      "execution_count": 41,
      "outputs": []
    },
    {
      "cell_type": "code",
      "metadata": {
        "id": "sx5SMlT4e5CO"
      },
      "source": [
        "#emo_df.describe()"
      ],
      "execution_count": 42,
      "outputs": []
    },
    {
      "cell_type": "code",
      "metadata": {
        "colab": {
          "base_uri": "https://localhost:8080/",
          "height": 0
        },
        "id": "uCtLiEgle5CO",
        "outputId": "6dac05b1-5f2c-4978-e378-6f7609cea2c5"
      },
      "source": [
        "'''\n",
        "count = emo_df['label'].value_counts()\n",
        "print(count)\n",
        "count.sum()\n",
        "'''"
      ],
      "execution_count": 43,
      "outputs": [
        {
          "output_type": "execute_result",
          "data": {
            "application/vnd.google.colaboratory.intrinsic+json": {
              "type": "string"
            },
            "text/plain": [
              "\"\\ncount = emo_df['label'].value_counts()\\nprint(count)\\ncount.sum()\\n\""
            ]
          },
          "metadata": {
            "tags": []
          },
          "execution_count": 43
        }
      ]
    },
    {
      "cell_type": "code",
      "metadata": {
        "id": "sEef6ckae5CP"
      },
      "source": [
        "#emo_df1 = emo_df[:1500].copy()"
      ],
      "execution_count": 44,
      "outputs": []
    },
    {
      "cell_type": "code",
      "metadata": {
        "id": "xkywrTKCe5CP"
      },
      "source": [
        "#emo_df1.shape"
      ],
      "execution_count": 45,
      "outputs": []
    },
    {
      "cell_type": "code",
      "metadata": {
        "id": "CVSEq75we5CP"
      },
      "source": [
        "#emo_df1.head()"
      ],
      "execution_count": 46,
      "outputs": []
    },
    {
      "cell_type": "code",
      "metadata": {
        "id": "cpyHrBRge5CQ"
      },
      "source": [
        "#emo_df1.describe()"
      ],
      "execution_count": 47,
      "outputs": []
    },
    {
      "cell_type": "code",
      "metadata": {
        "colab": {
          "base_uri": "https://localhost:8080/",
          "height": 0
        },
        "id": "idbsGVRne5CQ",
        "outputId": "14d16b8c-592c-412d-edf9-f1ad46e9eeda"
      },
      "source": [
        "'''\n",
        "count_df1 = emo_df1['label'].value_counts()\n",
        "print(count_df1)\n",
        "count_df1.sum()\n",
        "'''"
      ],
      "execution_count": 48,
      "outputs": [
        {
          "output_type": "execute_result",
          "data": {
            "application/vnd.google.colaboratory.intrinsic+json": {
              "type": "string"
            },
            "text/plain": [
              "\"\\ncount_df1 = emo_df1['label'].value_counts()\\nprint(count_df1)\\ncount_df1.sum()\\n\""
            ]
          },
          "metadata": {
            "tags": []
          },
          "execution_count": 48
        }
      ]
    },
    {
      "cell_type": "code",
      "metadata": {
        "id": "jF5nH2oAe5CR"
      },
      "source": [
        "#sns.countplot(x=count_df1, data = emo_df1['label'])"
      ],
      "execution_count": 49,
      "outputs": []
    },
    {
      "cell_type": "markdown",
      "metadata": {
        "id": "Mn0SNNO7e5CR"
      },
      "source": [
        "## Accessing JSON data to visualize distribution of Emotions dataset tones"
      ]
    },
    {
      "cell_type": "code",
      "metadata": {
        "colab": {
          "base_uri": "https://localhost:8080/",
          "height": 69
        },
        "id": "531rgEuAe5CR",
        "outputId": "06542544-8a43-4682-f1b2-ef7ef979a7e3"
      },
      "source": [
        "#IBM watson tone analyser API endpoint \n",
        "'''\n",
        "authenticator = IAMAuthenticator('SwdiI5vCKkgeyJuYIEwhOkajctEnxTR-F7OYZ4pvF9GE')\n",
        "tone_analyzer = ToneAnalyzerV3(\n",
        "    version='2017-09-21',\n",
        "    authenticator=authenticator\n",
        ")\n",
        "tone_analyzer.set_service_url('https://api.us-south.tone-analyzer.watson.cloud.ibm.com/instances/3e193de0-bcaa-47c0-8898-4c68a520ce78')\n",
        "'''"
      ],
      "execution_count": 50,
      "outputs": [
        {
          "output_type": "execute_result",
          "data": {
            "application/vnd.google.colaboratory.intrinsic+json": {
              "type": "string"
            },
            "text/plain": [
              "\"\\nauthenticator = IAMAuthenticator('SwdiI5vCKkgeyJuYIEwhOkajctEnxTR-F7OYZ4pvF9GE')\\ntone_analyzer = ToneAnalyzerV3(\\n    version='2017-09-21',\\n    authenticator=authenticator\\n)\\ntone_analyzer.set_service_url('https://api.us-south.tone-analyzer.watson.cloud.ibm.com/instances/3e193de0-bcaa-47c0-8898-4c68a520ce78')\\n\""
            ]
          },
          "metadata": {
            "tags": []
          },
          "execution_count": 50
        }
      ]
    },
    {
      "cell_type": "code",
      "metadata": {
        "colab": {
          "base_uri": "https://localhost:8080/",
          "height": 35
        },
        "id": "LevUdTsHe5CR",
        "outputId": "c298cf00-5677-4940-edfc-27cbd73ff534"
      },
      "source": [
        "#Converting column to list. \n",
        "'''\n",
        "text = list(emo_df1['sentence'])\n",
        "text\n",
        "''' "
      ],
      "execution_count": 51,
      "outputs": [
        {
          "output_type": "execute_result",
          "data": {
            "application/vnd.google.colaboratory.intrinsic+json": {
              "type": "string"
            },
            "text/plain": [
              "\"\\ntext = list(emo_df1['sentence'])\\ntext\\n\""
            ]
          },
          "metadata": {
            "tags": []
          },
          "execution_count": 51
        }
      ]
    },
    {
      "cell_type": "code",
      "metadata": {
        "colab": {
          "base_uri": "https://localhost:8080/",
          "height": 69
        },
        "id": "2N5Nwq17e5CS",
        "outputId": "44ec242d-eaba-4471-b6d9-e4d814d15ae3"
      },
      "source": [
        "'''\n",
        "c = 0\n",
        "list_tones = []\n",
        "\n",
        "\n",
        "for i in text:\n",
        "    print(i)\n",
        "    tone_analysis = tone_analyzer.tone(\n",
        "        {'text': i},\n",
        "        content_type='application/json'\n",
        "    ).get_result()\n",
        "\n",
        "    list_tones.append(json.dumps(tone_analysis, indent=2))\n",
        "    c+=1\n",
        "\n",
        "emo_df1 = emo_df1.assign(tones = list_tones)\n",
        "#print(json.dumps(tone_analysis, indent=2)) \n",
        "'''"
      ],
      "execution_count": 52,
      "outputs": [
        {
          "output_type": "execute_result",
          "data": {
            "application/vnd.google.colaboratory.intrinsic+json": {
              "type": "string"
            },
            "text/plain": [
              "\"\\nc = 0\\nlist_tones = []\\n\\n\\nfor i in text:\\n    print(i)\\n    tone_analysis = tone_analyzer.tone(\\n        {'text': i},\\n        content_type='application/json'\\n    ).get_result()\\n\\n    list_tones.append(json.dumps(tone_analysis, indent=2))\\n    c+=1\\n\\nemo_df1 = emo_df1.assign(tones = list_tones)\\n#print(json.dumps(tone_analysis, indent=2)) \\n\""
            ]
          },
          "metadata": {
            "tags": []
          },
          "execution_count": 52
        }
      ]
    },
    {
      "cell_type": "code",
      "metadata": {
        "id": "-OIiq_Ebe5CS"
      },
      "source": [
        "#emo_df1.head(10)"
      ],
      "execution_count": 53,
      "outputs": []
    },
    {
      "cell_type": "code",
      "metadata": {
        "id": "ptmrGUVoe5CT"
      },
      "source": [
        "#emo_df1['sentence'][9]"
      ],
      "execution_count": 54,
      "outputs": []
    },
    {
      "cell_type": "code",
      "metadata": {
        "id": "yebWStzxe5CT"
      },
      "source": [
        "#emo_df1['tones'][7]"
      ],
      "execution_count": 55,
      "outputs": []
    },
    {
      "cell_type": "code",
      "metadata": {
        "id": "0SkJHYnne5CU"
      },
      "source": [
        "#emo_df1['tones'].replace(to_replace=[r\"\\\\t|\\\\n|\\\\r\", \"\\t|\\n|\\r\"], value=[\"\",\"\"], regex=True, inplace=True)"
      ],
      "execution_count": 56,
      "outputs": []
    },
    {
      "cell_type": "code",
      "metadata": {
        "id": "l_QvhxD7e5CU"
      },
      "source": [
        "#emo_df1['tones'][7]"
      ],
      "execution_count": 57,
      "outputs": []
    },
    {
      "cell_type": "code",
      "metadata": {
        "id": "pXveHO5Re5CU"
      },
      "source": [
        "emo_df1 = pd.read_csv('https://raw.githubusercontent.com/SidtheKidx/tone-classification-CadenceIQ/main/Emotions-tone-data-og.csv?token=AJVH2H5UPGH7S3G6U7QCX23AUPG2C')"
      ],
      "execution_count": 59,
      "outputs": []
    },
    {
      "cell_type": "code",
      "metadata": {
        "id": "tfIvc99Qe5CU"
      },
      "source": [
        "json_df1 = pd.read_json('https://raw.githubusercontent.com/SidtheKidx/tone-classification-CadenceIQ/main/emotions-tones.json?token=AJVH2HZ43QZOIEERHYLU3FTAUPG5K', lines=True)"
      ],
      "execution_count": 61,
      "outputs": []
    },
    {
      "cell_type": "code",
      "metadata": {
        "colab": {
          "base_uri": "https://localhost:8080/"
        },
        "id": "ZjbE4XDme5CV",
        "outputId": "6ccf4cb6-642b-40a7-b9ff-ca50ecd2efde"
      },
      "source": [
        "counter_dict_df1 = {\n",
        "    \n",
        "        'anger' : {\n",
        "            'score' : 0,\n",
        "            'count' : 0\n",
        "        }, \n",
        "        'analytical' : {\n",
        "            'score' : 0,\n",
        "            'count' : 0\n",
        "        },\n",
        "        'fear' :{\n",
        "            'score' : 0,\n",
        "            'count' : 0\n",
        "        },\n",
        "        'joy' : {\n",
        "            'score' : 0,\n",
        "            'count' : 0\n",
        "        },\n",
        "        'sadness' : {\n",
        "            'score' : 0,\n",
        "            'count' : 0\n",
        "        },\n",
        "        'confident' : {\n",
        "            'score' : 0,\n",
        "            'count' : 0\n",
        "        },\n",
        "        'tentative' : {\n",
        "            'score' : 0,\n",
        "            'count' : 0\n",
        "        }\n",
        "}\n",
        "\n",
        "for json_df1 in emo_df1['tones']:\n",
        "    data_dict_df1 = json.loads(str(json_df1))\n",
        "    \n",
        "    for document_tones_df1 in data_dict_df1['document_tone']['tones']:\n",
        "        counter_dict_df1[document_tones_df1['tone_id']]['count']+=1\n",
        "        counter_dict_df1[document_tones_df1['tone_id']]['score']= (counter_dict_df1[document_tones_df1['tone_id']]['score'] + document_tones_df1['score'])/2\n",
        "\n",
        "print(counter_dict_df1)"
      ],
      "execution_count": 62,
      "outputs": [
        {
          "output_type": "stream",
          "text": [
            "{'anger': {'score': 0.8169358478850066, 'count': 65}, 'analytical': {'score': 0.6774187241612544, 'count': 486}, 'fear': {'score': 0.6939395931996024, 'count': 88}, 'joy': {'score': 0.809484227948831, 'count': 425}, 'sadness': {'score': 0.5923032265169048, 'count': 473}, 'confident': {'score': 0.6064177371491613, 'count': 133}, 'tentative': {'score': 0.9124142916008007, 'count': 588}}\n"
          ],
          "name": "stdout"
        }
      ]
    },
    {
      "cell_type": "markdown",
      "metadata": {
        "id": "6uCaDpTCe5CV"
      },
      "source": [
        "### Visualizing Emotions tones as bar plot"
      ]
    },
    {
      "cell_type": "code",
      "metadata": {
        "colab": {
          "base_uri": "https://localhost:8080/"
        },
        "id": "vSq8OB8ye5CW",
        "outputId": "8f686d98-9370-42a5-d454-8cc4ea5c9801"
      },
      "source": [
        "#The dictionary of tones, count & score converted to DATAFRAME for visualization\n",
        "\n",
        "vis_df1 = pd.DataFrame.from_dict(counter_dict_df1)\n",
        "vis_ax1 = vis_df1.transpose()\n",
        "vis_ax1.reset_index(level=0, inplace=True)\n",
        "print(vis_ax1)\n",
        "vis_ax1['count'].sum()"
      ],
      "execution_count": 63,
      "outputs": [
        {
          "output_type": "stream",
          "text": [
            "        index     score  count\n",
            "0       anger  0.816936   65.0\n",
            "1  analytical  0.677419  486.0\n",
            "2        fear  0.693940   88.0\n",
            "3         joy  0.809484  425.0\n",
            "4     sadness  0.592303  473.0\n",
            "5   confident  0.606418  133.0\n",
            "6   tentative  0.912414  588.0\n"
          ],
          "name": "stdout"
        },
        {
          "output_type": "execute_result",
          "data": {
            "text/plain": [
              "2258.0"
            ]
          },
          "metadata": {
            "tags": []
          },
          "execution_count": 63
        }
      ]
    },
    {
      "cell_type": "markdown",
      "metadata": {
        "id": "j9zYA5-VJ2pq"
      },
      "source": [
        "### Distribution of tones"
      ]
    },
    {
      "cell_type": "code",
      "metadata": {
        "colab": {
          "base_uri": "https://localhost:8080/",
          "height": 0
        },
        "id": "NqWbKIWhe5CX",
        "outputId": "353a67b1-c561-452b-869c-b5e8447c0773"
      },
      "source": [
        "sns.barplot(x = vis_ax1['index'], y = vis_ax1['count'], data=vis_ax1).set_title('Emotions tone distribution')"
      ],
      "execution_count": 64,
      "outputs": [
        {
          "output_type": "execute_result",
          "data": {
            "text/plain": [
              "Text(0.5, 1.0, 'Emotions tone distribution')"
            ]
          },
          "metadata": {
            "tags": []
          },
          "execution_count": 64
        },
        {
          "output_type": "display_data",
          "data": {
            "image/png": "[encoded data removed]",
            "text/plain": [
              "<Figure size 432x288 with 1 Axes>"
            ]
          },
          "metadata": {
            "tags": []
          }
        }
      ]
    },
    {
      "cell_type": "markdown",
      "metadata": {
        "id": "c8GFw9kg7ElU"
      },
      "source": [
        "## Text encoding & Tokenization for BERT"
      ]
    },
    {
      "cell_type": "code",
      "metadata": {
        "colab": {
          "base_uri": "https://localhost:8080/",
          "height": 204
        },
        "id": "qtIvuvrjQgqf",
        "outputId": "90bf715c-0799-4c4b-8117-001ae637867f"
      },
      "source": [
        "emo_df1.head()"
      ],
      "execution_count": 65,
      "outputs": [
        {
          "output_type": "execute_result",
          "data": {
            "text/html": [
              "<div>\n",
              "<style scoped>\n",
              "    .dataframe tbody tr th:only-of-type {\n",
              "        vertical-align: middle;\n",
              "    }\n",
              "\n",
              "    .dataframe tbody tr th {\n",
              "        vertical-align: top;\n",
              "    }\n",
              "\n",
              "    .dataframe thead th {\n",
              "        text-align: right;\n",
              "    }\n",
              "</style>\n",
              "<table border=\"1\" class=\"dataframe\">\n",
              "  <thead>\n",
              "    <tr style=\"text-align: right;\">\n",
              "      <th></th>\n",
              "      <th>Unnamed: 0</th>\n",
              "      <th>sentence</th>\n",
              "      <th>label</th>\n",
              "      <th>tones</th>\n",
              "    </tr>\n",
              "  </thead>\n",
              "  <tbody>\n",
              "    <tr>\n",
              "      <th>0</th>\n",
              "      <td>0</td>\n",
              "      <td>i didnt feel humiliated</td>\n",
              "      <td>sadness</td>\n",
              "      <td>{  \"document_tone\": {    \"tones\": [      {    ...</td>\n",
              "    </tr>\n",
              "    <tr>\n",
              "      <th>1</th>\n",
              "      <td>1</td>\n",
              "      <td>i can go from feeling so hopeless to so damned...</td>\n",
              "      <td>sadness</td>\n",
              "      <td>{  \"document_tone\": {    \"tones\": [      {    ...</td>\n",
              "    </tr>\n",
              "    <tr>\n",
              "      <th>2</th>\n",
              "      <td>2</td>\n",
              "      <td>im grabbing a minute to post i feel greedy wrong</td>\n",
              "      <td>anger</td>\n",
              "      <td>{  \"document_tone\": {    \"tones\": [      {    ...</td>\n",
              "    </tr>\n",
              "    <tr>\n",
              "      <th>3</th>\n",
              "      <td>3</td>\n",
              "      <td>i am ever feeling nostalgic about the fireplac...</td>\n",
              "      <td>love</td>\n",
              "      <td>{  \"document_tone\": {    \"tones\": [      {    ...</td>\n",
              "    </tr>\n",
              "    <tr>\n",
              "      <th>4</th>\n",
              "      <td>4</td>\n",
              "      <td>i am feeling grouchy</td>\n",
              "      <td>anger</td>\n",
              "      <td>{  \"document_tone\": {    \"tones\": [      {    ...</td>\n",
              "    </tr>\n",
              "  </tbody>\n",
              "</table>\n",
              "</div>"
            ],
            "text/plain": [
              "   Unnamed: 0  ...                                              tones\n",
              "0           0  ...  {  \"document_tone\": {    \"tones\": [      {    ...\n",
              "1           1  ...  {  \"document_tone\": {    \"tones\": [      {    ...\n",
              "2           2  ...  {  \"document_tone\": {    \"tones\": [      {    ...\n",
              "3           3  ...  {  \"document_tone\": {    \"tones\": [      {    ...\n",
              "4           4  ...  {  \"document_tone\": {    \"tones\": [      {    ...\n",
              "\n",
              "[5 rows x 4 columns]"
            ]
          },
          "metadata": {
            "tags": []
          },
          "execution_count": 65
        }
      ]
    },
    {
      "cell_type": "code",
      "metadata": {
        "colab": {
          "base_uri": "https://localhost:8080/",
          "height": 69
        },
        "id": "Z21pdwSEPz6j",
        "outputId": "855dd114-e1b3-4df3-d76b-415b493de5bf"
      },
      "source": [
        "emo_df1['tones'][7]"
      ],
      "execution_count": 66,
      "outputs": [
        {
          "output_type": "execute_result",
          "data": {
            "application/vnd.google.colaboratory.intrinsic+json": {
              "type": "string"
            },
            "text/plain": [
              "'{  \"document_tone\": {    \"tones\": [      {        \"score\": 0.707291,        \"tone_id\": \"sadness\",        \"tone_name\": \"Sadness\"      },      {        \"score\": 0.954099,        \"tone_id\": \"tentative\",        \"tone_name\": \"Tentative\"      }    ]  }}'"
            ]
          },
          "metadata": {
            "tags": []
          },
          "execution_count": 66
        }
      ]
    },
    {
      "cell_type": "code",
      "metadata": {
        "colab": {
          "base_uri": "https://localhost:8080/"
        },
        "id": "iFUG47d5y7OP",
        "outputId": "39bb3f4c-4cb1-48d9-8702-f26c51686f89"
      },
      "source": [
        "missing_values_check = emo_df1.isnull().sum()\n",
        "print(missing_values_check)"
      ],
      "execution_count": 67,
      "outputs": [
        {
          "output_type": "stream",
          "text": [
            "Unnamed: 0    0\n",
            "sentence      0\n",
            "label         0\n",
            "tones         0\n",
            "dtype: int64\n"
          ],
          "name": "stdout"
        }
      ]
    },
    {
      "cell_type": "code",
      "metadata": {
        "id": "fHUR8tV5NqlO"
      },
      "source": [
        "emo_df1 = emo_df1.drop(['label'], axis=1)"
      ],
      "execution_count": 68,
      "outputs": []
    },
    {
      "cell_type": "code",
      "metadata": {
        "colab": {
          "base_uri": "https://localhost:8080/",
          "height": 204
        },
        "id": "-f-V63k6Nyz7",
        "outputId": "1a50ef77-3550-4116-b070-e81a93640848"
      },
      "source": [
        "emo_df1.head()"
      ],
      "execution_count": 69,
      "outputs": [
        {
          "output_type": "execute_result",
          "data": {
            "text/html": [
              "<div>\n",
              "<style scoped>\n",
              "    .dataframe tbody tr th:only-of-type {\n",
              "        vertical-align: middle;\n",
              "    }\n",
              "\n",
              "    .dataframe tbody tr th {\n",
              "        vertical-align: top;\n",
              "    }\n",
              "\n",
              "    .dataframe thead th {\n",
              "        text-align: right;\n",
              "    }\n",
              "</style>\n",
              "<table border=\"1\" class=\"dataframe\">\n",
              "  <thead>\n",
              "    <tr style=\"text-align: right;\">\n",
              "      <th></th>\n",
              "      <th>Unnamed: 0</th>\n",
              "      <th>sentence</th>\n",
              "      <th>tones</th>\n",
              "    </tr>\n",
              "  </thead>\n",
              "  <tbody>\n",
              "    <tr>\n",
              "      <th>0</th>\n",
              "      <td>0</td>\n",
              "      <td>i didnt feel humiliated</td>\n",
              "      <td>{  \"document_tone\": {    \"tones\": [      {    ...</td>\n",
              "    </tr>\n",
              "    <tr>\n",
              "      <th>1</th>\n",
              "      <td>1</td>\n",
              "      <td>i can go from feeling so hopeless to so damned...</td>\n",
              "      <td>{  \"document_tone\": {    \"tones\": [      {    ...</td>\n",
              "    </tr>\n",
              "    <tr>\n",
              "      <th>2</th>\n",
              "      <td>2</td>\n",
              "      <td>im grabbing a minute to post i feel greedy wrong</td>\n",
              "      <td>{  \"document_tone\": {    \"tones\": [      {    ...</td>\n",
              "    </tr>\n",
              "    <tr>\n",
              "      <th>3</th>\n",
              "      <td>3</td>\n",
              "      <td>i am ever feeling nostalgic about the fireplac...</td>\n",
              "      <td>{  \"document_tone\": {    \"tones\": [      {    ...</td>\n",
              "    </tr>\n",
              "    <tr>\n",
              "      <th>4</th>\n",
              "      <td>4</td>\n",
              "      <td>i am feeling grouchy</td>\n",
              "      <td>{  \"document_tone\": {    \"tones\": [      {    ...</td>\n",
              "    </tr>\n",
              "  </tbody>\n",
              "</table>\n",
              "</div>"
            ],
            "text/plain": [
              "   Unnamed: 0  ...                                              tones\n",
              "0           0  ...  {  \"document_tone\": {    \"tones\": [      {    ...\n",
              "1           1  ...  {  \"document_tone\": {    \"tones\": [      {    ...\n",
              "2           2  ...  {  \"document_tone\": {    \"tones\": [      {    ...\n",
              "3           3  ...  {  \"document_tone\": {    \"tones\": [      {    ...\n",
              "4           4  ...  {  \"document_tone\": {    \"tones\": [      {    ...\n",
              "\n",
              "[5 rows x 3 columns]"
            ]
          },
          "metadata": {
            "tags": []
          },
          "execution_count": 69
        }
      ]
    },
    {
      "cell_type": "code",
      "metadata": {
        "colab": {
          "base_uri": "https://localhost:8080/",
          "height": 86
        },
        "id": "QnmgPbA2KAIj",
        "outputId": "ee8f704c-2cd1-417e-99f2-f063748508d2"
      },
      "source": [
        "'''\n",
        "# creating initial dataframe\n",
        "tone_df1 = emo_df1.copy()\n",
        "tone_types = ('Anger','Analytical','Fear','Joy','Sadness','Confident','Tentative')\n",
        "tone_df1 = pd.DataFrame(tone_types, columns=['Bridge_Types'])\n",
        "# generate binary values using get_dummies\n",
        "dum_df = pd.get_dummies(tone_df1)\n",
        "# merge with main df emo_df1 on key values\n",
        "tone_df1 = tone_df1.join(dum_df)\n",
        "tone_df1\n",
        "'''"
      ],
      "execution_count": 70,
      "outputs": [
        {
          "output_type": "execute_result",
          "data": {
            "application/vnd.google.colaboratory.intrinsic+json": {
              "type": "string"
            },
            "text/plain": [
              "\"\\n# creating initial dataframe\\ntone_df1 = emo_df1.copy()\\ntone_types = ('Anger','Analytical','Fear','Joy','Sadness','Confident','Tentative')\\ntone_df1 = pd.DataFrame(tone_types, columns=['Bridge_Types'])\\n# generate binary values using get_dummies\\ndum_df = pd.get_dummies(tone_df1)\\n# merge with main df emo_df1 on key values\\ntone_df1 = tone_df1.join(dum_df)\\ntone_df1\\n\""
            ]
          },
          "metadata": {
            "tags": []
          },
          "execution_count": 70
        }
      ]
    },
    {
      "cell_type": "code",
      "metadata": {
        "colab": {
          "base_uri": "https://localhost:8080/",
          "height": 204
        },
        "id": "c4TebbWJOtbA",
        "outputId": "7d656533-49a6-4131-d3c9-a5868d25e815"
      },
      "source": [
        "emo_df2 = emo_df1.copy()\n",
        "emo_df2.head()"
      ],
      "execution_count": 71,
      "outputs": [
        {
          "output_type": "execute_result",
          "data": {
            "text/html": [
              "<div>\n",
              "<style scoped>\n",
              "    .dataframe tbody tr th:only-of-type {\n",
              "        vertical-align: middle;\n",
              "    }\n",
              "\n",
              "    .dataframe tbody tr th {\n",
              "        vertical-align: top;\n",
              "    }\n",
              "\n",
              "    .dataframe thead th {\n",
              "        text-align: right;\n",
              "    }\n",
              "</style>\n",
              "<table border=\"1\" class=\"dataframe\">\n",
              "  <thead>\n",
              "    <tr style=\"text-align: right;\">\n",
              "      <th></th>\n",
              "      <th>Unnamed: 0</th>\n",
              "      <th>sentence</th>\n",
              "      <th>tones</th>\n",
              "    </tr>\n",
              "  </thead>\n",
              "  <tbody>\n",
              "    <tr>\n",
              "      <th>0</th>\n",
              "      <td>0</td>\n",
              "      <td>i didnt feel humiliated</td>\n",
              "      <td>{  \"document_tone\": {    \"tones\": [      {    ...</td>\n",
              "    </tr>\n",
              "    <tr>\n",
              "      <th>1</th>\n",
              "      <td>1</td>\n",
              "      <td>i can go from feeling so hopeless to so damned...</td>\n",
              "      <td>{  \"document_tone\": {    \"tones\": [      {    ...</td>\n",
              "    </tr>\n",
              "    <tr>\n",
              "      <th>2</th>\n",
              "      <td>2</td>\n",
              "      <td>im grabbing a minute to post i feel greedy wrong</td>\n",
              "      <td>{  \"document_tone\": {    \"tones\": [      {    ...</td>\n",
              "    </tr>\n",
              "    <tr>\n",
              "      <th>3</th>\n",
              "      <td>3</td>\n",
              "      <td>i am ever feeling nostalgic about the fireplac...</td>\n",
              "      <td>{  \"document_tone\": {    \"tones\": [      {    ...</td>\n",
              "    </tr>\n",
              "    <tr>\n",
              "      <th>4</th>\n",
              "      <td>4</td>\n",
              "      <td>i am feeling grouchy</td>\n",
              "      <td>{  \"document_tone\": {    \"tones\": [      {    ...</td>\n",
              "    </tr>\n",
              "  </tbody>\n",
              "</table>\n",
              "</div>"
            ],
            "text/plain": [
              "   Unnamed: 0  ...                                              tones\n",
              "0           0  ...  {  \"document_tone\": {    \"tones\": [      {    ...\n",
              "1           1  ...  {  \"document_tone\": {    \"tones\": [      {    ...\n",
              "2           2  ...  {  \"document_tone\": {    \"tones\": [      {    ...\n",
              "3           3  ...  {  \"document_tone\": {    \"tones\": [      {    ...\n",
              "4           4  ...  {  \"document_tone\": {    \"tones\": [      {    ...\n",
              "\n",
              "[5 rows x 3 columns]"
            ]
          },
          "metadata": {
            "tags": []
          },
          "execution_count": 71
        }
      ]
    },
    {
      "cell_type": "code",
      "metadata": {
        "colab": {
          "base_uri": "https://localhost:8080/"
        },
        "id": "T2Ra6XCOPKMG",
        "outputId": "5eab0db1-ddc4-4ce7-95b3-088f648a1dbc"
      },
      "source": [
        "list_tones = []\n",
        "c = 0\n",
        "\n",
        "for json_df1 in emo_df2['tones']:\n",
        "    fresh_list = [] \n",
        "    data_dict_df2 = json.loads(str(json_df1))\n",
        "\n",
        "    for document_tones_df2 in data_dict_df2['document_tone']['tones']:\n",
        "      fresh_list.append(document_tones_df2['tone_id'])\n",
        "      c+=1\n",
        "\n",
        "    list_tones.append(fresh_list)\n",
        "\n",
        "emo_df2['tags'] = pd.Series(list_tones)\n",
        "\n",
        "print(list_tones)\n",
        "print(c)"
      ],
      "execution_count": 72,
      "outputs": [
        {
          "output_type": "stream",
          "text": [
            "[['tentative'], ['sadness', 'tentative'], ['sadness'], ['sadness', 'analytical'], ['anger', 'sadness'], ['sadness', 'tentative'], ['joy', 'tentative'], ['sadness', 'tentative'], ['joy'], ['joy', 'tentative'], ['sadness', 'analytical'], ['tentative'], ['joy', 'analytical'], ['tentative'], ['sadness', 'tentative'], ['fear'], ['analytical', 'tentative'], ['sadness', 'tentative'], ['joy'], [], ['tentative'], ['joy'], [], ['joy'], ['sadness'], ['anger'], ['tentative'], ['sadness', 'fear', 'tentative'], ['tentative'], ['sadness', 'tentative'], ['joy', 'confident'], ['analytical'], ['sadness'], ['anger', 'analytical'], ['sadness', 'analytical'], ['tentative', 'analytical'], [], ['sadness', 'analytical', 'tentative'], ['sadness', 'tentative', 'analytical'], ['sadness', 'tentative', 'analytical'], ['joy', 'tentative'], ['joy'], ['joy'], ['joy'], ['sadness'], ['tentative'], ['sadness'], ['sadness'], [], [], ['joy', 'confident'], ['sadness', 'analytical'], ['tentative'], ['tentative'], ['joy'], ['sadness', 'tentative', 'analytical'], ['anger'], ['joy'], ['sadness'], ['joy'], [], ['sadness', 'tentative'], ['joy', 'tentative'], ['sadness'], ['joy', 'tentative'], ['analytical'], ['sadness', 'analytical'], ['tentative'], [], ['joy', 'confident'], ['joy'], ['sadness', 'tentative', 'analytical'], ['confident'], ['sadness', 'tentative'], ['sadness', 'tentative'], ['sadness', 'analytical'], ['joy'], ['joy', 'analytical'], ['joy'], ['sadness', 'tentative'], ['sadness', 'analytical'], ['sadness', 'analytical', 'tentative'], [], ['sadness'], ['joy', 'confident'], ['joy', 'tentative', 'analytical'], [], ['tentative'], ['sadness'], ['fear'], ['joy', 'tentative'], ['sadness'], ['sadness'], ['sadness', 'tentative'], ['analytical'], ['anger'], ['sadness'], ['analytical'], ['tentative'], ['sadness'], ['sadness'], ['joy', 'tentative'], ['joy', 'analytical', 'tentative'], ['joy'], ['sadness', 'tentative', 'analytical'], ['joy', 'analytical'], ['tentative'], ['joy'], ['analytical'], ['sadness'], ['sadness', 'analytical', 'tentative'], ['confident'], ['sadness', 'tentative', 'analytical'], [], [], ['joy', 'tentative'], ['joy', 'confident'], ['joy'], [], [], [], ['fear', 'analytical', 'tentative'], [], ['analytical', 'tentative'], ['joy', 'confident'], ['joy', 'analytical', 'tentative'], ['joy', 'tentative', 'analytical'], [], ['joy', 'analytical'], ['joy'], ['joy'], ['joy', 'tentative'], ['sadness'], ['sadness', 'tentative', 'analytical'], [], ['sadness'], ['confident'], ['joy', 'analytical'], ['joy', 'analytical'], ['joy', 'tentative', 'analytical'], ['joy'], ['fear', 'tentative', 'analytical'], ['fear', 'tentative'], ['sadness', 'analytical', 'tentative'], ['joy', 'analytical'], ['analytical'], ['sadness', 'analytical'], ['tentative'], ['joy'], ['sadness', 'analytical'], [], ['sadness', 'tentative'], ['sadness', 'analytical'], [], ['fear', 'analytical'], ['sadness', 'analytical', 'tentative'], [], [], ['joy'], ['joy'], [], ['joy', 'analytical'], [], ['sadness', 'anger'], ['sadness', 'tentative'], [], ['sadness'], ['confident'], ['sadness'], ['fear'], ['joy', 'tentative', 'analytical'], ['analytical'], ['joy', 'confident'], ['tentative'], ['joy', 'analytical'], ['sadness'], [], [], ['sadness', 'tentative', 'analytical'], ['tentative'], ['analytical'], ['analytical'], ['joy', 'tentative'], ['sadness', 'tentative'], ['analytical'], ['sadness', 'analytical', 'confident'], ['joy', 'analytical', 'tentative'], ['joy', 'analytical', 'tentative'], ['joy', 'tentative'], ['fear', 'analytical', 'tentative'], ['tentative'], ['joy', 'analytical'], [], [], ['sadness', 'tentative'], ['sadness'], ['joy'], ['anger', 'confident', 'analytical'], ['sadness'], [], ['analytical'], ['analytical', 'tentative'], ['joy', 'analytical'], ['sadness'], ['joy', 'tentative'], ['tentative', 'analytical'], ['tentative'], ['sadness', 'analytical'], ['joy'], ['fear', 'tentative'], ['joy', 'tentative'], [], [], ['sadness', 'analytical'], ['sadness', 'tentative'], ['analytical', 'tentative'], ['joy'], ['tentative'], ['sadness'], ['joy', 'analytical'], ['joy', 'tentative'], ['sadness', 'analytical'], [], [], ['sadness', 'analytical', 'confident'], ['joy', 'analytical', 'tentative'], [], ['joy', 'confident'], ['joy', 'analytical'], ['sadness', 'analytical'], ['joy', 'analytical', 'confident'], ['sadness', 'confident'], [], ['sadness'], ['tentative'], ['sadness'], ['joy', 'tentative'], ['anger'], [], ['sadness', 'tentative', 'analytical'], ['confident'], ['sadness', 'analytical'], ['joy', 'tentative'], ['joy', 'analytical'], [], ['joy', 'confident'], ['sadness', 'tentative', 'analytical'], ['joy', 'tentative', 'analytical'], ['analytical'], [], ['fear', 'tentative'], [], ['sadness'], ['tentative', 'analytical'], ['sadness', 'tentative', 'analytical'], ['analytical'], ['tentative', 'analytical'], [], [], ['tentative'], ['joy', 'analytical'], [], ['fear', 'tentative'], ['joy', 'tentative'], [], ['analytical'], ['joy', 'analytical', 'tentative'], ['sadness', 'analytical'], ['joy', 'analytical', 'tentative'], ['sadness', 'analytical'], ['analytical'], ['analytical'], ['fear', 'tentative'], ['tentative', 'analytical'], ['analytical'], ['joy', 'analytical', 'tentative'], ['joy'], ['sadness', 'tentative'], ['sadness'], ['sadness', 'analytical', 'tentative'], ['tentative'], [], ['anger', 'tentative'], ['sadness', 'confident'], ['sadness', 'tentative'], ['analytical'], ['tentative'], ['fear'], ['sadness', 'tentative'], ['sadness'], ['joy'], ['sadness', 'tentative'], ['joy'], ['joy'], ['joy', 'tentative'], ['sadness'], ['sadness', 'confident', 'analytical'], ['tentative'], ['sadness'], [], ['analytical'], ['joy', 'confident'], ['joy'], ['fear'], ['tentative'], [], ['anger', 'analytical', 'tentative'], ['sadness'], ['sadness', 'analytical', 'tentative'], ['joy'], ['sadness', 'analytical'], [], ['joy', 'tentative'], ['confident', 'analytical'], [], ['joy'], ['confident'], ['sadness'], ['fear', 'tentative', 'analytical'], [], [], [], ['sadness', 'tentative'], ['sadness'], [], ['joy'], ['sadness', 'confident', 'analytical'], ['tentative'], ['fear'], ['joy'], ['analytical'], ['joy', 'tentative'], ['analytical'], ['tentative'], ['tentative', 'analytical'], ['joy', 'tentative'], [], ['joy'], ['joy', 'confident'], ['tentative'], ['joy', 'tentative'], ['joy', 'analytical'], ['sadness', 'analytical'], [], ['joy'], ['joy'], ['sadness', 'tentative', 'analytical'], ['joy', 'confident', 'analytical'], ['joy', 'analytical'], ['fear'], ['sadness', 'tentative'], ['sadness', 'analytical'], ['joy'], ['fear', 'tentative'], ['joy'], ['sadness'], ['sadness'], ['sadness', 'tentative'], ['tentative'], ['joy', 'tentative'], ['joy', 'tentative'], ['joy'], ['sadness', 'analytical'], ['confident'], ['fear'], ['fear'], [], [], ['joy', 'analytical', 'confident'], ['sadness', 'anger', 'tentative'], ['sadness'], ['joy', 'tentative'], ['anger', 'tentative'], [], ['joy', 'analytical', 'tentative'], ['sadness', 'analytical'], ['sadness', 'tentative'], ['tentative'], ['joy'], [], ['sadness', 'analytical', 'tentative'], ['sadness'], ['joy', 'tentative'], ['joy', 'tentative'], [], ['sadness', 'tentative'], ['joy', 'tentative', 'analytical'], [], ['joy', 'tentative'], ['sadness'], ['joy'], ['confident', 'analytical'], ['sadness', 'analytical'], ['joy', 'confident'], ['confident'], ['joy', 'analytical'], ['sadness'], ['sadness', 'analytical'], ['joy', 'tentative'], ['sadness', 'tentative'], ['joy', 'tentative'], ['sadness'], ['tentative'], ['confident'], ['sadness', 'tentative'], ['anger', 'tentative'], ['sadness'], ['sadness', 'tentative'], ['tentative'], [], ['sadness'], ['fear', 'tentative', 'analytical'], ['joy', 'tentative'], ['joy', 'tentative'], ['sadness', 'analytical'], ['sadness'], ['sadness', 'tentative', 'analytical'], ['joy', 'analytical', 'confident'], ['fear', 'tentative'], [], ['tentative', 'analytical'], ['sadness', 'analytical'], ['joy', 'confident'], ['tentative'], ['sadness', 'analytical'], [], ['joy', 'analytical'], ['joy', 'tentative'], ['joy'], ['analytical'], ['joy', 'analytical'], ['sadness', 'analytical'], ['analytical', 'confident'], ['joy'], ['joy', 'analytical', 'tentative'], ['fear', 'tentative'], ['tentative'], [], ['anger', 'analytical'], ['sadness'], ['joy', 'tentative'], ['analytical'], ['sadness', 'analytical'], ['analytical'], ['tentative'], ['sadness', 'analytical'], ['analytical', 'confident'], ['joy', 'analytical', 'tentative'], ['sadness'], ['joy'], ['joy', 'tentative'], ['joy'], ['analytical'], [], ['sadness', 'analytical'], ['analytical'], ['joy'], ['joy', 'tentative'], ['sadness'], ['joy'], ['joy'], ['joy', 'tentative'], ['tentative'], ['sadness', 'tentative'], ['confident', 'analytical'], ['joy', 'analytical', 'tentative'], ['sadness'], ['sadness', 'analytical', 'tentative'], [], ['fear', 'sadness'], ['joy', 'tentative'], ['analytical', 'tentative'], ['joy', 'tentative', 'analytical'], ['joy'], ['joy'], ['joy', 'analytical'], ['sadness', 'tentative'], ['tentative'], ['analytical'], ['joy'], ['sadness'], ['joy'], ['tentative'], ['sadness', 'analytical', 'tentative'], ['joy', 'confident'], ['sadness', 'tentative'], ['sadness', 'tentative'], ['joy'], ['analytical'], ['joy', 'tentative'], ['joy'], ['sadness', 'analytical', 'tentative'], ['fear', 'tentative'], ['joy'], ['fear', 'tentative'], ['joy', 'analytical'], ['sadness', 'tentative'], ['analytical'], ['joy'], ['joy', 'tentative'], ['joy'], [], ['confident'], ['anger'], ['joy', 'confident', 'analytical'], ['sadness', 'confident', 'analytical'], ['joy', 'tentative'], [], ['joy', 'analytical'], ['sadness', 'tentative'], ['analytical'], ['joy'], ['analytical'], ['joy', 'analytical'], ['joy', 'tentative', 'analytical'], ['confident'], [], ['joy', 'tentative'], ['joy', 'analytical', 'tentative'], ['tentative'], ['sadness'], ['joy', 'tentative', 'analytical'], ['joy', 'analytical'], ['joy'], ['sadness', 'confident'], ['joy', 'tentative'], ['sadness'], ['joy'], ['sadness', 'tentative'], ['sadness', 'tentative'], ['sadness', 'tentative'], [], ['tentative'], ['sadness', 'fear', 'tentative'], ['sadness'], ['fear'], ['anger', 'tentative'], ['sadness', 'analytical'], ['sadness', 'tentative'], ['joy', 'tentative'], ['joy'], ['joy', 'confident'], ['sadness', 'tentative', 'analytical'], ['analytical'], ['sadness', 'analytical'], [], ['sadness'], [], ['joy'], ['confident'], ['sadness'], ['sadness', 'tentative'], ['joy', 'analytical'], ['joy', 'tentative'], ['anger', 'tentative'], ['joy', 'analytical'], ['joy', 'confident'], [], ['fear', 'analytical'], ['fear'], [], [], ['sadness', 'tentative'], ['sadness', 'tentative'], ['fear'], ['joy', 'tentative'], [], ['fear', 'confident', 'analytical'], ['analytical'], ['sadness', 'analytical'], ['joy'], ['tentative'], ['sadness', 'analytical'], ['anger', 'analytical'], ['joy', 'tentative'], ['anger', 'analytical'], ['joy'], ['joy', 'analytical', 'tentative'], ['joy', 'analytical'], ['analytical'], ['tentative'], ['sadness', 'tentative'], [], ['anger', 'tentative'], [], ['sadness', 'confident'], ['anger', 'confident'], [], ['confident'], ['confident'], ['fear', 'tentative'], ['joy'], ['tentative', 'analytical'], [], ['sadness', 'tentative'], ['sadness', 'tentative'], ['analytical', 'tentative'], ['analytical'], ['joy'], ['fear', 'analytical'], ['tentative'], ['analytical'], ['sadness'], ['tentative'], ['joy'], ['sadness'], ['sadness'], ['analytical'], ['sadness', 'analytical'], ['analytical'], ['sadness', 'tentative'], ['sadness', 'analytical'], ['joy', 'analytical'], ['sadness'], [], ['joy', 'analytical', 'confident'], ['analytical', 'confident'], ['joy', 'analytical', 'tentative'], ['sadness', 'tentative'], [], ['sadness', 'analytical', 'tentative'], [], ['joy', 'analytical'], [], ['sadness'], ['fear'], ['joy', 'confident'], ['fear', 'confident'], ['anger', 'tentative'], ['tentative'], ['sadness', 'tentative'], ['sadness'], ['sadness'], ['tentative'], ['joy', 'analytical', 'confident'], ['analytical'], ['sadness', 'analytical', 'tentative'], ['sadness', 'confident', 'analytical'], ['fear', 'tentative'], ['tentative'], ['joy', 'tentative'], ['joy', 'tentative'], ['sadness'], ['fear'], ['joy', 'analytical'], ['sadness', 'tentative'], ['sadness'], ['tentative'], ['joy', 'tentative'], ['tentative'], ['sadness', 'analytical'], ['sadness', 'analytical'], ['joy'], ['joy', 'tentative'], ['sadness', 'tentative'], ['sadness'], ['joy', 'analytical'], ['sadness', 'tentative'], ['sadness', 'analytical'], ['joy'], [], ['sadness'], [], ['joy', 'tentative'], [], [], ['tentative'], ['anger', 'tentative'], ['fear', 'tentative'], ['sadness', 'analytical'], ['tentative'], ['joy', 'analytical'], ['joy', 'analytical'], ['sadness', 'analytical'], ['sadness', 'analytical'], [], ['analytical', 'confident'], ['sadness', 'tentative'], ['joy', 'confident', 'analytical'], ['tentative', 'analytical'], ['joy', 'analytical'], ['sadness', 'tentative'], ['anger', 'tentative', 'analytical'], ['sadness', 'tentative'], ['sadness'], ['sadness', 'tentative'], ['joy'], ['tentative', 'analytical'], ['tentative'], ['joy', 'analytical'], ['sadness', 'tentative'], ['sadness'], ['analytical'], ['analytical'], ['joy'], ['sadness', 'analytical'], ['fear'], ['sadness', 'analytical', 'tentative'], ['sadness', 'analytical'], ['joy'], ['joy'], ['analytical'], ['joy', 'confident', 'analytical'], [], ['sadness', 'analytical'], ['sadness'], ['sadness', 'tentative'], ['sadness', 'tentative'], ['sadness', 'analytical'], ['joy', 'analytical'], [], ['tentative', 'analytical'], ['joy', 'analytical'], ['tentative'], ['joy'], ['joy'], ['joy', 'analytical', 'tentative'], ['fear', 'tentative'], ['anger', 'tentative'], ['tentative'], ['sadness'], ['joy', 'analytical'], ['joy', 'analytical'], ['analytical'], ['anger', 'tentative'], ['joy', 'tentative'], ['sadness'], ['confident'], ['anger', 'tentative'], ['sadness', 'analytical', 'tentative'], [], [], [], ['joy', 'tentative'], ['sadness', 'tentative'], ['sadness', 'tentative'], [], ['sadness', 'tentative'], ['joy', 'tentative'], ['joy', 'analytical'], ['tentative'], ['tentative'], ['confident'], ['fear', 'tentative', 'analytical'], ['tentative'], ['tentative'], [], ['sadness', 'tentative'], ['sadness', 'tentative'], ['joy', 'analytical'], ['sadness', 'analytical'], ['joy', 'analytical'], ['sadness', 'tentative'], ['sadness'], ['tentative'], [], ['confident'], ['joy', 'analytical'], ['analytical'], ['sadness', 'analytical'], ['analytical'], [], ['sadness'], ['joy'], ['joy', 'tentative'], ['sadness', 'analytical', 'tentative'], ['sadness'], ['tentative'], ['joy', 'analytical', 'tentative'], [], [], ['joy', 'tentative'], ['joy', 'analytical'], ['tentative'], ['joy', 'confident'], ['joy', 'tentative'], ['fear', 'tentative'], ['sadness', 'tentative'], [], ['sadness', 'tentative', 'analytical'], ['fear'], ['confident'], ['sadness', 'tentative'], ['sadness'], [], ['sadness', 'analytical'], ['sadness', 'tentative'], ['joy', 'tentative'], ['confident'], ['fear', 'tentative'], ['joy', 'tentative'], ['analytical'], ['joy'], ['sadness', 'analytical'], ['anger', 'tentative'], ['tentative', 'analytical'], ['joy'], ['tentative'], ['sadness', 'analytical'], [], ['sadness'], ['tentative'], ['joy'], ['fear', 'analytical'], ['sadness'], ['joy'], ['sadness', 'tentative'], ['fear'], ['sadness', 'analytical', 'confident'], ['joy'], ['fear'], ['tentative'], ['joy'], ['tentative'], ['joy', 'analytical', 'tentative'], ['sadness', 'tentative', 'analytical'], [], ['joy', 'tentative'], ['joy', 'tentative'], ['analytical'], [], ['sadness'], ['tentative'], ['sadness', 'tentative', 'analytical'], ['sadness', 'analytical', 'tentative'], ['sadness', 'tentative'], ['analytical'], ['sadness', 'tentative'], ['analytical'], ['sadness', 'tentative', 'analytical'], ['sadness'], ['analytical'], ['joy'], ['sadness'], ['sadness', 'tentative', 'analytical'], ['sadness', 'tentative'], ['tentative'], ['sadness', 'tentative'], ['sadness', 'analytical', 'tentative'], ['joy', 'confident'], ['joy', 'tentative'], ['anger'], ['sadness'], ['sadness', 'analytical'], ['tentative'], ['tentative'], ['joy'], ['sadness', 'analytical'], ['tentative'], ['anger', 'sadness', 'fear'], ['joy', 'tentative'], ['joy', 'tentative'], [], ['joy'], ['joy', 'tentative'], ['tentative', 'analytical'], ['tentative'], ['analytical'], ['sadness', 'tentative'], ['sadness', 'analytical'], ['tentative'], ['sadness', 'confident'], ['sadness', 'analytical'], ['sadness', 'tentative'], ['sadness'], ['joy'], ['tentative'], ['confident'], ['fear', 'tentative'], ['joy'], ['joy'], ['joy', 'tentative'], ['joy', 'confident'], ['confident'], ['analytical'], ['sadness', 'tentative', 'analytical'], ['anger', 'tentative'], ['joy'], ['joy'], ['sadness', 'tentative'], ['fear', 'analytical'], ['confident'], ['sadness', 'analytical', 'tentative'], ['sadness', 'tentative', 'analytical'], ['tentative'], ['analytical'], ['joy'], ['joy', 'tentative'], ['anger', 'sadness', 'tentative'], ['joy'], ['analytical'], ['analytical', 'tentative'], ['sadness'], ['sadness', 'tentative'], [], [], ['joy', 'tentative'], ['joy'], ['tentative'], ['joy', 'tentative', 'analytical'], ['sadness'], [], ['sadness'], ['fear', 'tentative'], ['tentative'], [], ['sadness', 'analytical'], ['sadness', 'analytical', 'tentative'], ['tentative', 'analytical'], ['confident'], [], ['sadness', 'anger', 'tentative'], ['joy', 'analytical'], ['sadness'], ['tentative'], ['sadness', 'tentative'], ['sadness', 'tentative', 'analytical'], ['sadness', 'analytical'], ['tentative', 'analytical'], ['analytical', 'tentative'], ['sadness', 'tentative'], ['sadness'], ['sadness', 'tentative'], ['joy', 'tentative'], ['joy', 'analytical'], ['sadness'], ['sadness', 'analytical'], ['analytical', 'tentative'], ['joy'], ['sadness', 'tentative'], ['joy', 'analytical', 'tentative'], ['joy', 'tentative'], ['joy', 'analytical', 'tentative'], ['sadness', 'analytical'], ['joy', 'confident'], ['sadness', 'analytical', 'tentative'], [], ['sadness'], ['analytical'], ['analytical'], ['joy'], ['sadness'], ['sadness', 'confident', 'analytical'], ['joy', 'analytical'], ['sadness'], ['sadness', 'analytical'], [], ['sadness', 'tentative'], [], ['joy', 'tentative'], ['joy'], ['joy', 'tentative'], ['sadness', 'analytical'], ['joy', 'analytical'], ['sadness', 'analytical'], ['joy'], ['sadness', 'tentative'], ['analytical'], ['sadness', 'tentative'], ['sadness'], ['fear'], ['sadness', 'tentative'], ['sadness', 'analytical', 'tentative'], ['joy', 'tentative'], ['sadness'], ['sadness', 'analytical'], [], [], ['joy', 'analytical', 'tentative'], ['joy', 'analytical'], [], ['sadness', 'tentative'], ['sadness', 'analytical', 'tentative'], ['joy', 'tentative'], ['sadness'], ['joy', 'analytical'], ['sadness', 'tentative'], ['sadness', 'confident'], ['anger', 'tentative'], ['sadness', 'tentative', 'analytical'], ['sadness'], ['sadness', 'tentative'], ['joy', 'tentative'], ['tentative'], ['joy', 'tentative'], [], [], ['analytical', 'tentative'], ['sadness', 'tentative'], ['fear'], ['joy'], ['joy'], ['analytical'], ['analytical'], ['joy'], ['sadness', 'confident'], ['sadness', 'analytical'], ['tentative'], ['sadness', 'tentative'], [], ['joy', 'tentative'], ['tentative'], ['joy'], ['sadness', 'analytical'], ['analytical'], ['joy'], ['sadness', 'analytical', 'tentative'], [], ['anger', 'tentative'], ['joy', 'tentative'], [], ['sadness', 'tentative', 'analytical'], ['joy', 'analytical'], ['sadness', 'analytical', 'confident'], ['anger'], ['joy', 'analytical', 'tentative'], ['joy', 'tentative'], ['analytical', 'confident'], [], ['sadness', 'analytical'], ['sadness', 'analytical'], ['joy', 'analytical'], ['sadness', 'tentative'], ['anger'], ['joy', 'analytical'], ['sadness'], [], ['joy', 'tentative'], ['joy', 'analytical'], ['sadness', 'analytical'], ['sadness'], ['tentative'], ['joy'], ['anger', 'analytical', 'confident'], ['joy'], ['fear', 'tentative'], ['sadness'], ['joy', 'confident'], ['confident'], ['anger'], ['sadness'], ['sadness', 'analytical', 'tentative'], ['sadness'], ['sadness'], [], [], ['joy'], ['analytical', 'confident'], ['joy', 'analytical'], ['sadness', 'tentative'], ['analytical'], ['analytical'], ['sadness', 'tentative'], ['fear', 'confident'], ['tentative'], ['analytical'], ['tentative'], ['analytical'], ['joy', 'tentative'], ['sadness', 'tentative'], [], ['sadness', 'analytical', 'tentative'], [], ['tentative', 'analytical'], ['confident'], ['joy', 'analytical', 'tentative'], ['sadness', 'tentative', 'analytical'], ['sadness', 'tentative'], ['tentative'], ['analytical'], ['sadness'], ['sadness', 'confident'], ['joy', 'confident', 'analytical'], ['sadness', 'fear', 'tentative', 'analytical'], ['fear'], ['tentative'], ['joy', 'analytical', 'tentative'], ['sadness'], ['joy', 'tentative'], ['joy', 'confident'], ['tentative'], ['joy', 'tentative'], ['fear', 'analytical', 'tentative'], ['tentative'], ['confident', 'analytical'], [], ['joy', 'analytical', 'tentative'], ['tentative', 'analytical'], ['joy', 'tentative'], ['joy'], ['sadness', 'tentative'], ['sadness', 'tentative'], ['sadness'], ['sadness', 'tentative'], ['anger', 'tentative'], ['joy', 'tentative', 'analytical'], ['tentative'], [], [], ['joy', 'analytical'], ['joy'], ['sadness'], ['tentative'], ['sadness', 'tentative'], ['joy', 'tentative'], ['joy'], ['fear'], ['fear', 'sadness'], [], [], ['joy'], ['tentative'], ['fear', 'analytical'], ['joy', 'analytical', 'tentative'], ['sadness'], ['analytical'], ['joy', 'analytical', 'tentative'], ['sadness', 'tentative'], ['sadness', 'tentative'], ['sadness', 'confident'], ['tentative'], ['joy', 'analytical'], ['sadness', 'confident'], ['joy'], ['sadness', 'analytical'], ['joy', 'analytical'], ['joy', 'analytical', 'confident'], [], ['tentative'], ['sadness'], [], ['tentative'], ['joy', 'tentative'], ['joy'], ['tentative'], ['fear', 'analytical'], ['sadness'], ['joy', 'analytical', 'tentative'], ['tentative'], [], ['sadness', 'analytical'], ['sadness', 'tentative'], ['joy', 'analytical'], ['tentative', 'analytical'], ['sadness', 'tentative'], ['sadness', 'tentative'], ['joy', 'tentative'], ['tentative'], ['sadness', 'analytical', 'tentative'], ['sadness', 'tentative'], ['sadness', 'analytical', 'confident'], ['joy', 'tentative'], ['fear'], ['joy', 'confident'], ['sadness', 'analytical'], ['joy', 'analytical'], ['joy', 'analytical', 'tentative'], ['joy', 'analytical'], ['joy'], ['sadness', 'tentative'], ['joy'], ['sadness', 'tentative'], ['analytical'], ['sadness', 'tentative'], [], ['analytical'], ['analytical'], [], [], ['analytical'], ['sadness', 'confident'], ['tentative'], ['fear', 'analytical'], ['sadness', 'analytical', 'tentative'], ['joy'], ['anger'], ['joy'], [], ['joy'], [], ['sadness', 'analytical', 'tentative'], ['joy', 'tentative'], ['sadness'], ['fear'], ['joy', 'analytical'], ['fear', 'sadness'], ['joy', 'confident', 'analytical'], ['joy'], ['anger'], ['sadness', 'tentative'], ['joy', 'tentative', 'analytical'], ['sadness', 'confident'], ['sadness', 'tentative'], ['sadness'], ['sadness'], ['sadness', 'tentative'], ['joy'], ['joy', 'analytical', 'confident'], ['joy'], ['sadness'], ['tentative'], ['anger', 'analytical', 'tentative'], ['confident', 'analytical'], ['analytical'], [], ['sadness', 'tentative', 'analytical'], ['anger', 'tentative', 'analytical'], ['sadness', 'tentative'], ['joy', 'analytical'], ['tentative'], ['sadness', 'tentative'], ['joy', 'analytical'], ['sadness', 'confident', 'analytical'], ['sadness', 'tentative'], ['sadness', 'confident'], ['joy', 'tentative'], ['joy', 'confident'], ['sadness', 'analytical'], ['analytical'], ['sadness', 'analytical'], ['joy'], ['sadness', 'analytical', 'tentative'], [], ['sadness', 'tentative'], ['analytical'], [], ['fear', 'tentative'], ['sadness', 'tentative'], ['sadness'], ['analytical'], ['joy', 'tentative'], [], [], ['sadness'], ['sadness', 'tentative'], ['sadness', 'tentative'], [], ['analytical'], ['tentative'], ['sadness', 'analytical'], ['joy', 'confident'], ['fear', 'confident'], [], ['tentative'], ['sadness', 'tentative'], ['joy', 'analytical'], ['analytical', 'tentative'], [], ['joy', 'analytical'], ['joy', 'tentative'], ['anger'], ['analytical', 'tentative'], ['joy', 'tentative'], ['anger'], ['sadness', 'tentative'], [], ['sadness', 'tentative', 'analytical'], ['sadness'], ['analytical'], ['joy', 'analytical'], ['sadness', 'analytical'], ['joy', 'tentative'], ['sadness', 'tentative'], ['joy', 'confident'], ['analytical', 'tentative'], ['joy', 'analytical'], ['anger'], ['tentative'], ['sadness', 'fear', 'confident'], ['analytical', 'tentative'], ['sadness'], ['joy', 'tentative'], ['sadness'], ['sadness', 'tentative'], ['tentative'], ['sadness'], ['sadness'], ['analytical'], ['joy'], ['joy', 'confident', 'analytical'], ['joy'], ['sadness'], ['tentative', 'analytical'], ['sadness', 'tentative'], ['tentative', 'analytical'], ['sadness'], [], ['joy'], ['joy', 'tentative'], ['confident', 'analytical'], ['sadness', 'confident'], ['joy'], [], [], ['sadness', 'confident', 'analytical'], ['joy', 'tentative'], ['sadness', 'analytical'], ['sadness', 'tentative'], [], ['joy', 'tentative'], [], [], ['analytical'], ['confident'], ['anger', 'analytical'], ['analytical', 'tentative'], ['sadness', 'analytical', 'tentative'], ['anger', 'analytical'], ['sadness', 'analytical'], ['joy', 'analytical'], ['confident', 'analytical'], ['sadness'], ['sadness', 'analytical'], ['joy'], ['sadness'], ['sadness', 'analytical', 'tentative'], ['fear', 'tentative'], ['analytical'], ['joy', 'tentative'], ['joy', 'analytical'], ['fear', 'analytical'], ['tentative'], ['joy'], [], ['sadness', 'tentative', 'analytical'], ['joy'], ['sadness', 'tentative', 'analytical'], ['sadness', 'confident'], ['joy', 'analytical', 'tentative'], ['tentative'], ['sadness'], ['joy', 'tentative'], ['sadness'], ['sadness', 'tentative'], ['sadness'], ['sadness'], ['joy', 'analytical'], ['sadness', 'tentative'], ['analytical'], ['sadness', 'tentative'], ['joy'], ['fear', 'tentative', 'analytical'], ['joy'], ['sadness', 'analytical', 'tentative'], ['anger', 'tentative'], ['joy'], ['sadness', 'tentative'], ['sadness', 'analytical', 'confident'], ['joy'], ['joy', 'analytical'], ['joy'], ['sadness', 'confident'], ['joy', 'tentative'], ['tentative'], ['joy', 'analytical'], ['joy', 'tentative'], ['sadness', 'analytical', 'tentative'], ['tentative'], ['fear', 'analytical'], ['joy'], ['sadness', 'tentative', 'analytical'], [], ['anger', 'tentative'], [], [], ['fear', 'analytical'], ['tentative'], [], ['joy', 'analytical', 'tentative'], ['tentative'], ['sadness', 'analytical'], ['analytical'], ['joy'], ['sadness', 'tentative'], ['joy', 'confident'], ['joy', 'tentative'], ['fear', 'analytical'], ['tentative', 'analytical'], ['sadness', 'tentative'], [], ['anger'], [], [], [], ['sadness', 'tentative'], ['confident', 'analytical'], ['tentative'], ['anger'], ['sadness', 'tentative'], ['fear', 'tentative'], ['tentative', 'analytical'], ['joy'], ['fear', 'tentative'], ['fear', 'confident'], ['anger', 'analytical'], ['joy', 'analytical', 'confident'], ['analytical'], ['joy'], [], ['sadness', 'tentative', 'analytical'], ['anger'], ['sadness', 'analytical'], ['joy', 'tentative'], ['sadness', 'tentative'], ['sadness'], ['sadness', 'analytical'], ['anger', 'tentative'], ['sadness', 'confident'], ['joy', 'analytical', 'confident'], ['sadness', 'tentative'], ['analytical'], ['sadness', 'analytical'], ['fear', 'tentative'], ['sadness', 'tentative'], [], ['anger'], ['joy'], ['fear'], ['tentative'], ['anger'], ['joy', 'tentative'], ['sadness'], ['anger', 'confident'], ['anger', 'tentative'], ['joy', 'analytical'], ['sadness', 'confident'], ['anger', 'analytical'], ['sadness'], ['joy', 'confident'], ['sadness', 'analytical'], ['confident', 'analytical'], ['sadness', 'analytical'], ['sadness'], ['tentative'], ['tentative'], ['tentative'], ['joy', 'analytical', 'confident'], ['tentative'], [], [], ['tentative'], ['anger', 'sadness'], [], ['joy'], ['joy', 'confident'], ['sadness', 'analytical'], ['sadness', 'tentative'], ['fear', 'confident'], ['sadness', 'analytical', 'tentative'], ['analytical', 'tentative'], ['analytical'], ['analytical'], ['sadness'], ['joy'], ['tentative'], ['confident'], ['sadness'], ['sadness', 'tentative'], ['analytical'], [], ['joy'], ['joy'], ['joy'], ['sadness', 'analytical', 'tentative'], ['analytical', 'tentative'], ['joy', 'tentative', 'analytical'], ['joy'], ['anger', 'analytical'], ['sadness', 'analytical', 'confident'], ['fear'], ['tentative'], ['sadness', 'tentative'], ['joy', 'tentative'], ['analytical'], [], ['joy', 'analytical'], ['fear', 'tentative'], ['analytical', 'confident'], ['tentative'], ['fear'], [], ['sadness'], ['joy', 'tentative'], ['joy', 'tentative'], ['joy', 'analytical', 'tentative'], ['fear', 'tentative'], ['sadness', 'analytical'], ['joy', 'tentative'], ['tentative'], ['anger'], ['joy', 'tentative'], ['joy', 'tentative'], ['fear', 'tentative'], ['tentative'], ['analytical'], ['anger'], ['sadness', 'tentative'], ['sadness', 'tentative'], ['joy'], ['sadness', 'tentative']]\n",
            "2258\n"
          ],
          "name": "stdout"
        }
      ]
    },
    {
      "cell_type": "code",
      "metadata": {
        "colab": {
          "base_uri": "https://localhost:8080/",
          "height": 204
        },
        "id": "9fJ4rtnj9YMi",
        "outputId": "fb35c3d0-e929-4ec3-e4d1-ad3b05fa3c4d"
      },
      "source": [
        "emo_df2.head()"
      ],
      "execution_count": 73,
      "outputs": [
        {
          "output_type": "execute_result",
          "data": {
            "text/html": [
              "<div>\n",
              "<style scoped>\n",
              "    .dataframe tbody tr th:only-of-type {\n",
              "        vertical-align: middle;\n",
              "    }\n",
              "\n",
              "    .dataframe tbody tr th {\n",
              "        vertical-align: top;\n",
              "    }\n",
              "\n",
              "    .dataframe thead th {\n",
              "        text-align: right;\n",
              "    }\n",
              "</style>\n",
              "<table border=\"1\" class=\"dataframe\">\n",
              "  <thead>\n",
              "    <tr style=\"text-align: right;\">\n",
              "      <th></th>\n",
              "      <th>Unnamed: 0</th>\n",
              "      <th>sentence</th>\n",
              "      <th>tones</th>\n",
              "      <th>tags</th>\n",
              "    </tr>\n",
              "  </thead>\n",
              "  <tbody>\n",
              "    <tr>\n",
              "      <th>0</th>\n",
              "      <td>0</td>\n",
              "      <td>i didnt feel humiliated</td>\n",
              "      <td>{  \"document_tone\": {    \"tones\": [      {    ...</td>\n",
              "      <td>[tentative]</td>\n",
              "    </tr>\n",
              "    <tr>\n",
              "      <th>1</th>\n",
              "      <td>1</td>\n",
              "      <td>i can go from feeling so hopeless to so damned...</td>\n",
              "      <td>{  \"document_tone\": {    \"tones\": [      {    ...</td>\n",
              "      <td>[sadness, tentative]</td>\n",
              "    </tr>\n",
              "    <tr>\n",
              "      <th>2</th>\n",
              "      <td>2</td>\n",
              "      <td>im grabbing a minute to post i feel greedy wrong</td>\n",
              "      <td>{  \"document_tone\": {    \"tones\": [      {    ...</td>\n",
              "      <td>[sadness]</td>\n",
              "    </tr>\n",
              "    <tr>\n",
              "      <th>3</th>\n",
              "      <td>3</td>\n",
              "      <td>i am ever feeling nostalgic about the fireplac...</td>\n",
              "      <td>{  \"document_tone\": {    \"tones\": [      {    ...</td>\n",
              "      <td>[sadness, analytical]</td>\n",
              "    </tr>\n",
              "    <tr>\n",
              "      <th>4</th>\n",
              "      <td>4</td>\n",
              "      <td>i am feeling grouchy</td>\n",
              "      <td>{  \"document_tone\": {    \"tones\": [      {    ...</td>\n",
              "      <td>[anger, sadness]</td>\n",
              "    </tr>\n",
              "  </tbody>\n",
              "</table>\n",
              "</div>"
            ],
            "text/plain": [
              "   Unnamed: 0  ...                   tags\n",
              "0           0  ...            [tentative]\n",
              "1           1  ...   [sadness, tentative]\n",
              "2           2  ...              [sadness]\n",
              "3           3  ...  [sadness, analytical]\n",
              "4           4  ...       [anger, sadness]\n",
              "\n",
              "[5 rows x 4 columns]"
            ]
          },
          "metadata": {
            "tags": []
          },
          "execution_count": 73
        }
      ]
    },
    {
      "cell_type": "code",
      "metadata": {
        "id": "qQaqLyLd0DzR"
      },
      "source": [
        ""
      ],
      "execution_count": null,
      "outputs": []
    },
    {
      "cell_type": "code",
      "metadata": {
        "id": "6xZcSdtd9HmE"
      },
      "source": [
        ""
      ],
      "execution_count": 73,
      "outputs": []
    }
  ]
}