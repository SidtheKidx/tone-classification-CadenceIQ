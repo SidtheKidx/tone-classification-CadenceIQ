{
  "nbformat": 4,
  "nbformat_minor": 0,
  "metadata": {
    "kernelspec": {
      "display_name": "Python 3",
      "language": "python",
      "name": "python3"
    },
    "language_info": {
      "codemirror_mode": {
        "name": "ipython",
        "version": 3
      },
      "file_extension": ".py",
      "mimetype": "text/x-python",
      "name": "python",
      "nbconvert_exporter": "python",
      "pygments_lexer": "ipython3",
      "version": "3.7.4"
    },
    "colab": {
      "name": "tone-classification-main.ipynb",
      "provenance": [],
      "toc_visible": true,
      "include_colab_link": true
    }
  },
  "cells": [
    {
      "cell_type": "markdown",
      "metadata": {
        "id": "view-in-github",
        "colab_type": "text"
      },
      "source": [
        "<a href=\"https://colab.research.google.com/github/SidtheKidx/tone-classification-CadenceIQ/blob/main/tone-classification-main.ipynb\" target=\"_parent\"><img src=\"https://colab.research.google.com/assets/colab-badge.svg\" alt=\"Open In Colab\"/></a>"
      ]
    },
    {
      "cell_type": "markdown",
      "metadata": {
        "id": "PMANt7jeI1to"
      },
      "source": [
        "## Tone Classification-CadenceIQ using BERT Transformers\n"
      ]
    },
    {
      "cell_type": "markdown",
      "metadata": {
        "id": "841hEy3bJLEP"
      },
      "source": [
        "## Dataset :\n",
        "\n",
        "\n",
        "*   [Enron Dataset](https://www.kaggle.com/wcukierski/enron-email-dataset)\n",
        "*   [Emotions Dataset](https://www.kaggle.com/praveengovi/emotions-dataset-for-nlp?select=val.txt)\n",
        "\n"
      ]
    },
    {
      "cell_type": "code",
      "metadata": {
        "colab": {
          "base_uri": "https://localhost:8080/"
        },
        "id": "G3uQxtX6e5Bi",
        "outputId": "20d4323b-9e32-4f6e-81b5-9dd626843f6c"
      },
      "source": [
        "import json\n",
        "!pip install --upgrade \"ibm-watson>=5.1.0\"\n",
        "\n",
        "from ibm_watson import ToneAnalyzerV3\n",
        "from ibm_cloud_sdk_core.authenticators import IAMAuthenticator\n",
        "\n",
        "import pandas as pd \n",
        "import numpy as np\n",
        "import os, sys, email, re\n",
        "\n",
        "from nltk.corpus import stopwords \n",
        "from nltk.stem.wordnet import WordNetLemmatizer\n",
        "import string"
      ],
      "execution_count": 1,
      "outputs": [
        {
          "output_type": "stream",
          "text": [
            "Requirement already up-to-date: ibm-watson>=5.1.0 in /usr/local/lib/python3.7/dist-packages (5.1.0)\n",
            "Requirement already satisfied, skipping upgrade: ibm-cloud-sdk-core>=3.3.6 in /usr/local/lib/python3.7/dist-packages (from ibm-watson>=5.1.0) (3.9.0)\n",
            "Requirement already satisfied, skipping upgrade: requests<3.0,>=2.0 in /usr/local/lib/python3.7/dist-packages (from ibm-watson>=5.1.0) (2.23.0)\n",
            "Requirement already satisfied, skipping upgrade: websocket-client==0.48.0 in /usr/local/lib/python3.7/dist-packages (from ibm-watson>=5.1.0) (0.48.0)\n",
            "Requirement already satisfied, skipping upgrade: python-dateutil>=2.5.3 in /usr/local/lib/python3.7/dist-packages (from ibm-watson>=5.1.0) (2.8.1)\n",
            "Requirement already satisfied, skipping upgrade: PyJWT<3.0.0,>=2.0.1 in /usr/local/lib/python3.7/dist-packages (from ibm-cloud-sdk-core>=3.3.6->ibm-watson>=5.1.0) (2.1.0)\n",
            "Requirement already satisfied, skipping upgrade: idna<3,>=2.5 in /usr/local/lib/python3.7/dist-packages (from requests<3.0,>=2.0->ibm-watson>=5.1.0) (2.10)\n",
            "Requirement already satisfied, skipping upgrade: certifi>=2017.4.17 in /usr/local/lib/python3.7/dist-packages (from requests<3.0,>=2.0->ibm-watson>=5.1.0) (2020.12.5)\n",
            "Requirement already satisfied, skipping upgrade: urllib3!=1.25.0,!=1.25.1,<1.26,>=1.21.1 in /usr/local/lib/python3.7/dist-packages (from requests<3.0,>=2.0->ibm-watson>=5.1.0) (1.24.3)\n",
            "Requirement already satisfied, skipping upgrade: chardet<4,>=3.0.2 in /usr/local/lib/python3.7/dist-packages (from requests<3.0,>=2.0->ibm-watson>=5.1.0) (3.0.4)\n",
            "Requirement already satisfied, skipping upgrade: six in /usr/local/lib/python3.7/dist-packages (from websocket-client==0.48.0->ibm-watson>=5.1.0) (1.15.0)\n"
          ],
          "name": "stdout"
        }
      ]
    },
    {
      "cell_type": "code",
      "metadata": {
        "colab": {
          "base_uri": "https://localhost:8080/",
          "height": 0
        },
        "id": "aPeZYFLQe5B3",
        "outputId": "c279bcfe-8ed8-4430-f743-02592eb73fb7"
      },
      "source": [
        "'''emails = pd.read_csv('emails.csv')'''"
      ],
      "execution_count": 2,
      "outputs": [
        {
          "output_type": "execute_result",
          "data": {
            "application/vnd.google.colaboratory.intrinsic+json": {
              "type": "string"
            },
            "text/plain": [
              "\"emails = pd.read_csv('emails.csv')\""
            ]
          },
          "metadata": {
            "tags": []
          },
          "execution_count": 2
        }
      ]
    },
    {
      "cell_type": "code",
      "metadata": {
        "colab": {
          "base_uri": "https://localhost:8080/",
          "height": 0
        },
        "id": "GGsU9M_ke5B6",
        "outputId": "5bb48fd9-c707-446e-d5d4-cc285ccb7700"
      },
      "source": [
        "'''emails.head()'''"
      ],
      "execution_count": 3,
      "outputs": [
        {
          "output_type": "execute_result",
          "data": {
            "application/vnd.google.colaboratory.intrinsic+json": {
              "type": "string"
            },
            "text/plain": [
              "'emails.head()'"
            ]
          },
          "metadata": {
            "tags": []
          },
          "execution_count": 3
        }
      ]
    },
    {
      "cell_type": "code",
      "metadata": {
        "colab": {
          "base_uri": "https://localhost:8080/",
          "height": 0
        },
        "id": "MLf4Q7A4e5B7",
        "outputId": "5a082c89-5c75-4276-ca54-2078333e0e99"
      },
      "source": [
        "'''emails.shape'''"
      ],
      "execution_count": 4,
      "outputs": [
        {
          "output_type": "execute_result",
          "data": {
            "application/vnd.google.colaboratory.intrinsic+json": {
              "type": "string"
            },
            "text/plain": [
              "'emails.shape'"
            ]
          },
          "metadata": {
            "tags": []
          },
          "execution_count": 4
        }
      ]
    },
    {
      "cell_type": "code",
      "metadata": {
        "colab": {
          "base_uri": "https://localhost:8080/",
          "height": 0
        },
        "id": "VUFTzPZme5B7",
        "outputId": "74576088-56ea-4a23-da5f-e392f7e93588"
      },
      "source": [
        "'''emails.message[1]'''"
      ],
      "execution_count": 5,
      "outputs": [
        {
          "output_type": "execute_result",
          "data": {
            "application/vnd.google.colaboratory.intrinsic+json": {
              "type": "string"
            },
            "text/plain": [
              "'emails.message[1]'"
            ]
          },
          "metadata": {
            "tags": []
          },
          "execution_count": 5
        }
      ]
    },
    {
      "cell_type": "code",
      "metadata": {
        "colab": {
          "base_uri": "https://localhost:8080/",
          "height": 0
        },
        "id": "fFLhcgOEe5B8",
        "outputId": "37e88f9d-d9d7-472b-e0fb-3954c1e24de4"
      },
      "source": [
        "'''emails.info()'''"
      ],
      "execution_count": 6,
      "outputs": [
        {
          "output_type": "execute_result",
          "data": {
            "application/vnd.google.colaboratory.intrinsic+json": {
              "type": "string"
            },
            "text/plain": [
              "'emails.info()'"
            ]
          },
          "metadata": {
            "tags": []
          },
          "execution_count": 6
        }
      ]
    },
    {
      "cell_type": "code",
      "metadata": {
        "colab": {
          "base_uri": "https://localhost:8080/",
          "height": 0
        },
        "id": "PDHbn90ve5B8",
        "outputId": "3813db89-f6ca-4c0f-e258-817ba0ddb915"
      },
      "source": [
        "'''emails.describe()'''"
      ],
      "execution_count": 7,
      "outputs": [
        {
          "output_type": "execute_result",
          "data": {
            "application/vnd.google.colaboratory.intrinsic+json": {
              "type": "string"
            },
            "text/plain": [
              "'emails.describe()'"
            ]
          },
          "metadata": {
            "tags": []
          },
          "execution_count": 7
        }
      ]
    },
    {
      "cell_type": "markdown",
      "metadata": {
        "id": "wnsaUGmle5B9"
      },
      "source": [
        "## Data Preprocessing"
      ]
    },
    {
      "cell_type": "code",
      "metadata": {
        "colab": {
          "base_uri": "https://localhost:8080/",
          "height": 0
        },
        "id": "SaU1seZKe5B9",
        "outputId": "fb4c3d64-db32-4925-9b5b-64a9f8754739"
      },
      "source": [
        "#To get the content from email objects\n",
        "'''\n",
        "def get_text_from_email(msg):\n",
        "    parts = []\n",
        "    for part in msg.walk():\n",
        "        if part.get_content_type() == 'text/plain':\n",
        "            parts.append(part.get_payload())\n",
        "    return ''.join(parts) \n",
        "    '''"
      ],
      "execution_count": 8,
      "outputs": [
        {
          "output_type": "execute_result",
          "data": {
            "application/vnd.google.colaboratory.intrinsic+json": {
              "type": "string"
            },
            "text/plain": [
              "\"\\ndef get_text_from_email(msg):\\n    parts = []\\n    for part in msg.walk():\\n        if part.get_content_type() == 'text/plain':\\n            parts.append(part.get_payload())\\n    return ''.join(parts) \\n    \""
            ]
          },
          "metadata": {
            "tags": []
          },
          "execution_count": 8
        }
      ]
    },
    {
      "cell_type": "code",
      "metadata": {
        "colab": {
          "base_uri": "https://localhost:8080/",
          "height": 0
        },
        "id": "HfmNQoqke5B_",
        "outputId": "640b8411-0bf1-49d4-f908-5e4a6361a3e7"
      },
      "source": [
        "#To separate multiple email addresses\n",
        "'''\n",
        "def split_email_addresses(line):\n",
        "    if line:\n",
        "        addrs = line.split(',')\n",
        "        addrs = frozenset(map(lambda x: x.strip(), addrs))\n",
        "    \n",
        "    else:\n",
        "        addrs = None\n",
        "    return addrs '''"
      ],
      "execution_count": 9,
      "outputs": [
        {
          "output_type": "execute_result",
          "data": {
            "application/vnd.google.colaboratory.intrinsic+json": {
              "type": "string"
            },
            "text/plain": [
              "\"\\ndef split_email_addresses(line):\\n    if line:\\n        addrs = line.split(',')\\n        addrs = frozenset(map(lambda x: x.strip(), addrs))\\n    \\n    else:\\n        addrs = None\\n    return addrs \""
            ]
          },
          "metadata": {
            "tags": []
          },
          "execution_count": 9
        }
      ]
    },
    {
      "cell_type": "code",
      "metadata": {
        "colab": {
          "base_uri": "https://localhost:8080/",
          "height": 0
        },
        "id": "lc_5rIi5e5B_",
        "outputId": "107b3909-19b7-4b95-9342-85805e161be1"
      },
      "source": [
        "# Parse the emails into a list email objects\n",
        "'''\n",
        "messages = list(map(email.message_from_string, emails['message']))\n",
        "emails.drop('message', axis=1, inplace=True)\n",
        "\n",
        "# Get fields from parsed email objects\n",
        "keys = messages[0].keys()\n",
        "\n",
        "for key in keys:\n",
        "    emails[key] = [doc[key] for doc in messages]\n",
        "    \n",
        "# Parse content from emails\n",
        "emails['content'] = list(map(get_text_from_email, messages))\n",
        "\n",
        "# Split multiple email addresses\n",
        "emails['From'] = emails['From'].map(split_email_addresses)\n",
        "emails['To'] = emails['To'].map(split_email_addresses)\n",
        "\n",
        "# Extract the root of 'file' as 'user'\n",
        "emails['user'] = emails['file'].map(lambda x:x.split('/')[0])\n",
        "del messages\n",
        "\n",
        "emails.head(10) '''"
      ],
      "execution_count": 10,
      "outputs": [
        {
          "output_type": "execute_result",
          "data": {
            "application/vnd.google.colaboratory.intrinsic+json": {
              "type": "string"
            },
            "text/plain": [
              "\"\\nmessages = list(map(email.message_from_string, emails['message']))\\nemails.drop('message', axis=1, inplace=True)\\n\\n# Get fields from parsed email objects\\nkeys = messages[0].keys()\\n\\nfor key in keys:\\n    emails[key] = [doc[key] for doc in messages]\\n    \\n# Parse content from emails\\nemails['content'] = list(map(get_text_from_email, messages))\\n\\n# Split multiple email addresses\\nemails['From'] = emails['From'].map(split_email_addresses)\\nemails['To'] = emails['To'].map(split_email_addresses)\\n\\n# Extract the root of 'file' as 'user'\\nemails['user'] = emails['file'].map(lambda x:x.split('/')[0])\\ndel messages\\n\\nemails.head(10) \""
            ]
          },
          "metadata": {
            "tags": []
          },
          "execution_count": 10
        }
      ]
    },
    {
      "cell_type": "code",
      "metadata": {
        "colab": {
          "base_uri": "https://localhost:8080/",
          "height": 0
        },
        "id": "k766wcq8e5CA",
        "outputId": "0bf8cf68-5005-4542-9dfd-0b6e60630fbf"
      },
      "source": [
        "# Set index and drop columns with two few values\n",
        "'''\n",
        "emails = emails.set_index('Message-ID')\\\n",
        "    .drop(['file', 'Mime-Version', 'Content-Type', 'Content-Transfer-Encoding'], axis=1)\n",
        "# Parse datetime\n",
        "emails['Date'] = pd.to_datetime(emails['Date'], infer_datetime_format=True)\n",
        "emails.dtypes '''"
      ],
      "execution_count": 11,
      "outputs": [
        {
          "output_type": "execute_result",
          "data": {
            "application/vnd.google.colaboratory.intrinsic+json": {
              "type": "string"
            },
            "text/plain": [
              "\"\\nemails = emails.set_index('Message-ID')    .drop(['file', 'Mime-Version', 'Content-Type', 'Content-Transfer-Encoding'], axis=1)\\n# Parse datetime\\nemails['Date'] = pd.to_datetime(emails['Date'], infer_datetime_format=True)\\nemails.dtypes \""
            ]
          },
          "metadata": {
            "tags": []
          },
          "execution_count": 11
        }
      ]
    },
    {
      "cell_type": "code",
      "metadata": {
        "colab": {
          "base_uri": "https://localhost:8080/",
          "height": 0
        },
        "id": "1ubWfaike5CA",
        "outputId": "ad64387c-25d0-4ecc-ea0b-29fbda5079fd"
      },
      "source": [
        "#Don't need to clean dataset as IBM watson analyser will do it. Might have to do during MODELLING.\n",
        "\n",
        "'''\n",
        "def clean(text):\n",
        "    stop = set(stopwords.words('english'))\n",
        "    stop.update((\"to\", \"cc\", \"subject\", \"http\", \"from\", \"sent\"))\n",
        "    exclude = set(string.punctuation)\n",
        "    \n",
        "    #lemmatization is preferred over Stemming because lemmatization does morphological analysis of the words.\n",
        "    \n",
        "'''"
      ],
      "execution_count": 12,
      "outputs": [
        {
          "output_type": "execute_result",
          "data": {
            "application/vnd.google.colaboratory.intrinsic+json": {
              "type": "string"
            },
            "text/plain": [
              "'\\ndef clean(text):\\n    stop = set(stopwords.words(\\'english\\'))\\n    stop.update((\"to\", \"cc\", \"subject\", \"http\", \"from\", \"sent\"))\\n    exclude = set(string.punctuation)\\n    \\n    #lemmatization is preferred over Stemming because lemmatization does morphological analysis of the words.\\n    \\n'"
            ]
          },
          "metadata": {
            "tags": []
          },
          "execution_count": 12
        }
      ]
    },
    {
      "cell_type": "code",
      "metadata": {
        "colab": {
          "base_uri": "https://localhost:8080/",
          "height": 0
        },
        "id": "_TzucPTGe5CB",
        "outputId": "53132e07-f8aa-40cb-a1a9-6e565fe7064d"
      },
      "source": [
        "''' emails['content'][10] '''"
      ],
      "execution_count": 13,
      "outputs": [
        {
          "output_type": "execute_result",
          "data": {
            "application/vnd.google.colaboratory.intrinsic+json": {
              "type": "string"
            },
            "text/plain": [
              "\" emails['content'][10] \""
            ]
          },
          "metadata": {
            "tags": []
          },
          "execution_count": 13
        }
      ]
    },
    {
      "cell_type": "code",
      "metadata": {
        "colab": {
          "base_uri": "https://localhost:8080/",
          "height": 0
        },
        "id": "-CtXCpIHe5CC",
        "outputId": "a7d41be9-875b-46f2-fd5a-6b2e2ed17fc4"
      },
      "source": [
        "''' tone_df = emails[['content']][:2000] '''"
      ],
      "execution_count": 14,
      "outputs": [
        {
          "output_type": "execute_result",
          "data": {
            "application/vnd.google.colaboratory.intrinsic+json": {
              "type": "string"
            },
            "text/plain": [
              "\" tone_df = emails[['content']][:2000] \""
            ]
          },
          "metadata": {
            "tags": []
          },
          "execution_count": 14
        }
      ]
    },
    {
      "cell_type": "code",
      "metadata": {
        "id": "Eq5o6k5Oe5CC"
      },
      "source": [
        "#new dataset for message content and its tone\n",
        "#tone_df.to_csv(r'/Users/siddharthsingh/CadenceIQ/tone_Analyzer/tone-content-data.csv')\n",
        "#tone_df = pd.read_csv('tone-content-data.csv')"
      ],
      "execution_count": 15,
      "outputs": []
    },
    {
      "cell_type": "code",
      "metadata": {
        "colab": {
          "base_uri": "https://localhost:8080/",
          "height": 0
        },
        "id": "tMN1SQhme5CD",
        "outputId": "cc1454ce-234e-4599-e93f-64fac66597c2"
      },
      "source": [
        "'''tone_df.head()'''"
      ],
      "execution_count": 16,
      "outputs": [
        {
          "output_type": "execute_result",
          "data": {
            "application/vnd.google.colaboratory.intrinsic+json": {
              "type": "string"
            },
            "text/plain": [
              "'tone_df.head()'"
            ]
          },
          "metadata": {
            "tags": []
          },
          "execution_count": 16
        }
      ]
    },
    {
      "cell_type": "code",
      "metadata": {
        "colab": {
          "base_uri": "https://localhost:8080/",
          "height": 0
        },
        "id": "-sLV4okae5CD",
        "outputId": "a5caf63e-3c61-49ef-9421-6311f31f1464"
      },
      "source": [
        "'''tone_df.shape'''"
      ],
      "execution_count": 17,
      "outputs": [
        {
          "output_type": "execute_result",
          "data": {
            "application/vnd.google.colaboratory.intrinsic+json": {
              "type": "string"
            },
            "text/plain": [
              "'tone_df.shape'"
            ]
          },
          "metadata": {
            "tags": []
          },
          "execution_count": 17
        }
      ]
    },
    {
      "cell_type": "code",
      "metadata": {
        "colab": {
          "base_uri": "https://localhost:8080/",
          "height": 0
        },
        "id": "8ovqDW_Fe5CD",
        "outputId": "eaa845be-00fb-46b9-dfbf-bbb61cf82a21"
      },
      "source": [
        "#IBM watson tone analyser API endpoint \n",
        "'''\n",
        "authenticator = IAMAuthenticator('7UkBO29yBlRAuDZzA5s8Nl-IbmlR3mK1yINRazApqitf')\n",
        "tone_analyzer = ToneAnalyzerV3(\n",
        "    version='2017-09-21',\n",
        "    authenticator=authenticator\n",
        ")\n",
        "tone_analyzer.set_service_url('https://api.us-south.tone-analyzer.watson.cloud.ibm.com/instances/cd914da7-f09f-4298-862d-d4c6005ac8b3')\n",
        "'''"
      ],
      "execution_count": 18,
      "outputs": [
        {
          "output_type": "execute_result",
          "data": {
            "application/vnd.google.colaboratory.intrinsic+json": {
              "type": "string"
            },
            "text/plain": [
              "\"\\nauthenticator = IAMAuthenticator('7UkBO29yBlRAuDZzA5s8Nl-IbmlR3mK1yINRazApqitf')\\ntone_analyzer = ToneAnalyzerV3(\\n    version='2017-09-21',\\n    authenticator=authenticator\\n)\\ntone_analyzer.set_service_url('https://api.us-south.tone-analyzer.watson.cloud.ibm.com/instances/cd914da7-f09f-4298-862d-d4c6005ac8b3')\\n\""
            ]
          },
          "metadata": {
            "tags": []
          },
          "execution_count": 18
        }
      ]
    },
    {
      "cell_type": "code",
      "metadata": {
        "colab": {
          "base_uri": "https://localhost:8080/",
          "height": 0
        },
        "id": "L7CBc4Lre5CE",
        "outputId": "968e71c4-752b-4ec0-9592-b67e85987738"
      },
      "source": [
        "#Converting column to list. We could also use df['column'].tolist() OR list(tone_df['content'])\n",
        "'''\n",
        "text = list(tone_df['content'])\n",
        "text '''"
      ],
      "execution_count": 19,
      "outputs": [
        {
          "output_type": "execute_result",
          "data": {
            "application/vnd.google.colaboratory.intrinsic+json": {
              "type": "string"
            },
            "text/plain": [
              "\"\\ntext = list(tone_df['content'])\\ntext \""
            ]
          },
          "metadata": {
            "tags": []
          },
          "execution_count": 19
        }
      ]
    },
    {
      "cell_type": "code",
      "metadata": {
        "colab": {
          "base_uri": "https://localhost:8080/",
          "height": 0
        },
        "id": "nhwoXMWhe5CF",
        "outputId": "a22f57ff-99cb-4fe0-85f8-ca6488077e4a"
      },
      "source": [
        "'''c = 0\n",
        "list_tones = [] '''"
      ],
      "execution_count": 20,
      "outputs": [
        {
          "output_type": "execute_result",
          "data": {
            "application/vnd.google.colaboratory.intrinsic+json": {
              "type": "string"
            },
            "text/plain": [
              "'c = 0\\nlist_tones = [] '"
            ]
          },
          "metadata": {
            "tags": []
          },
          "execution_count": 20
        }
      ]
    },
    {
      "cell_type": "code",
      "metadata": {
        "colab": {
          "base_uri": "https://localhost:8080/",
          "height": 0
        },
        "id": "ODk2XmSAe5CF",
        "outputId": "e64763ff-3b3f-45d3-d05d-80d68d7cdb37"
      },
      "source": [
        "'''\n",
        "for i in text:\n",
        "    print(i)\n",
        "    tone_analysis = tone_analyzer.tone(\n",
        "        {'text': i},\n",
        "        content_type='application/json'\n",
        "    ).get_result()\n",
        "    \n",
        "    list_tones.append(json.dumps(tone_analysis, indent=2))\n",
        "    c+=1\n",
        "    \n",
        "tone_df = tone_df.assign(tones = list_tones)\n",
        "#print(json.dumps(tone_analysis, indent=2))     '''"
      ],
      "execution_count": 21,
      "outputs": [
        {
          "output_type": "execute_result",
          "data": {
            "application/vnd.google.colaboratory.intrinsic+json": {
              "type": "string"
            },
            "text/plain": [
              "\"\\nfor i in text:\\n    print(i)\\n    tone_analysis = tone_analyzer.tone(\\n        {'text': i},\\n        content_type='application/json'\\n    ).get_result()\\n    \\n    list_tones.append(json.dumps(tone_analysis, indent=2))\\n    c+=1\\n    \\ntone_df = tone_df.assign(tones = list_tones)\\n#print(json.dumps(tone_analysis, indent=2))     \""
            ]
          },
          "metadata": {
            "tags": []
          },
          "execution_count": 21
        }
      ]
    },
    {
      "cell_type": "code",
      "metadata": {
        "colab": {
          "base_uri": "https://localhost:8080/",
          "height": 0
        },
        "id": "-Hvcb_bVe5CF",
        "outputId": "3b033ee4-a1e5-456f-e7ca-42470aeb9754"
      },
      "source": [
        "'''tone_df.head()'''"
      ],
      "execution_count": 22,
      "outputs": [
        {
          "output_type": "execute_result",
          "data": {
            "application/vnd.google.colaboratory.intrinsic+json": {
              "type": "string"
            },
            "text/plain": [
              "'tone_df.head()'"
            ]
          },
          "metadata": {
            "tags": []
          },
          "execution_count": 22
        }
      ]
    },
    {
      "cell_type": "code",
      "metadata": {
        "colab": {
          "base_uri": "https://localhost:8080/",
          "height": 0
        },
        "id": "1R3avQPwe5CG",
        "outputId": "38b4e6ae-d3a3-4201-b3fd-9e9dc5edbfb3"
      },
      "source": [
        "'''tone_df.to_csv(r'/Users/siddharthsingh/CadenceIQ/tone_Analyzer/tone-content-data-og.csv')'''"
      ],
      "execution_count": 23,
      "outputs": [
        {
          "output_type": "execute_result",
          "data": {
            "application/vnd.google.colaboratory.intrinsic+json": {
              "type": "string"
            },
            "text/plain": [
              "\"tone_df.to_csv(r'/Users/siddharthsingh/CadenceIQ/tone_Analyzer/tone-content-data-og.csv')\""
            ]
          },
          "metadata": {
            "tags": []
          },
          "execution_count": 23
        }
      ]
    },
    {
      "cell_type": "code",
      "metadata": {
        "id": "awI7bn9ge5CG"
      },
      "source": [
        "#print(json.dumps(tone_analysis, indent=2)) "
      ],
      "execution_count": 24,
      "outputs": []
    },
    {
      "cell_type": "code",
      "metadata": {
        "id": "DiiQhmhWe5CG"
      },
      "source": [
        "#print(tone_analysis['sentences_tone'][1]['tones'][0])"
      ],
      "execution_count": 25,
      "outputs": []
    },
    {
      "cell_type": "markdown",
      "metadata": {
        "id": "aErVhek5e5CH"
      },
      "source": [
        "## Accessing JSON data to visualize distribution of Enron dataset tones"
      ]
    },
    {
      "cell_type": "code",
      "metadata": {
        "id": "3p7t7k3de5CH",
        "colab": {
          "base_uri": "https://localhost:8080/",
          "height": 324
        },
        "outputId": "33c6facb-669d-4ad4-8f53-3cc96ef38f0b"
      },
      "source": [
        "og_tone = pd.read_csv('https://raw.githubusercontent.com/SidtheKidx/tone-classification-CadenceIQ/main/tone-content-data-og.csv?token=AJVH2H3VF6XLJSAM55EQ5ILATE5JM')"
      ],
      "execution_count": 26,
      "outputs": [
        {
          "output_type": "error",
          "ename": "HTTPError",
          "evalue": "ignored",
          "traceback": [
            "\u001b[0;31m---------------------------------------------------------------------------\u001b[0m",
            "\u001b[0;31mHTTPError\u001b[0m                                 Traceback (most recent call last)",
            "\u001b[0;32m<ipython-input-26-195331a38152>\u001b[0m in \u001b[0;36m<module>\u001b[0;34m()\u001b[0m\n\u001b[0;32m----> 1\u001b[0;31m \u001b[0mog_tone\u001b[0m \u001b[0;34m=\u001b[0m \u001b[0mpd\u001b[0m\u001b[0;34m.\u001b[0m\u001b[0mread_csv\u001b[0m\u001b[0;34m(\u001b[0m\u001b[0;34m'https://raw.githubusercontent.com/SidtheKidx/tone-classification-CadenceIQ/main/tone-content-data-og.csv?token=AJVH2H3VF6XLJSAM55EQ5ILATE5JM'\u001b[0m\u001b[0;34m)\u001b[0m\u001b[0;34m\u001b[0m\u001b[0;34m\u001b[0m\u001b[0m\n\u001b[0m",
            "\u001b[0;32m/usr/local/lib/python3.7/dist-packages/pandas/io/parsers.py\u001b[0m in \u001b[0;36mread_csv\u001b[0;34m(filepath_or_buffer, sep, delimiter, header, names, index_col, usecols, squeeze, prefix, mangle_dupe_cols, dtype, engine, converters, true_values, false_values, skipinitialspace, skiprows, skipfooter, nrows, na_values, keep_default_na, na_filter, verbose, skip_blank_lines, parse_dates, infer_datetime_format, keep_date_col, date_parser, dayfirst, cache_dates, iterator, chunksize, compression, thousands, decimal, lineterminator, quotechar, quoting, doublequote, escapechar, comment, encoding, dialect, error_bad_lines, warn_bad_lines, delim_whitespace, low_memory, memory_map, float_precision)\u001b[0m\n\u001b[1;32m    686\u001b[0m     )\n\u001b[1;32m    687\u001b[0m \u001b[0;34m\u001b[0m\u001b[0m\n\u001b[0;32m--> 688\u001b[0;31m     \u001b[0;32mreturn\u001b[0m \u001b[0m_read\u001b[0m\u001b[0;34m(\u001b[0m\u001b[0mfilepath_or_buffer\u001b[0m\u001b[0;34m,\u001b[0m \u001b[0mkwds\u001b[0m\u001b[0;34m)\u001b[0m\u001b[0;34m\u001b[0m\u001b[0;34m\u001b[0m\u001b[0m\n\u001b[0m\u001b[1;32m    689\u001b[0m \u001b[0;34m\u001b[0m\u001b[0m\n\u001b[1;32m    690\u001b[0m \u001b[0;34m\u001b[0m\u001b[0m\n",
            "\u001b[0;32m/usr/local/lib/python3.7/dist-packages/pandas/io/parsers.py\u001b[0m in \u001b[0;36m_read\u001b[0;34m(filepath_or_buffer, kwds)\u001b[0m\n\u001b[1;32m    435\u001b[0m     \u001b[0;31m# See https://github.com/python/mypy/issues/1297\u001b[0m\u001b[0;34m\u001b[0m\u001b[0;34m\u001b[0m\u001b[0;34m\u001b[0m\u001b[0m\n\u001b[1;32m    436\u001b[0m     fp_or_buf, _, compression, should_close = get_filepath_or_buffer(\n\u001b[0;32m--> 437\u001b[0;31m         \u001b[0mfilepath_or_buffer\u001b[0m\u001b[0;34m,\u001b[0m \u001b[0mencoding\u001b[0m\u001b[0;34m,\u001b[0m \u001b[0mcompression\u001b[0m\u001b[0;34m\u001b[0m\u001b[0;34m\u001b[0m\u001b[0m\n\u001b[0m\u001b[1;32m    438\u001b[0m     )\n\u001b[1;32m    439\u001b[0m     \u001b[0mkwds\u001b[0m\u001b[0;34m[\u001b[0m\u001b[0;34m\"compression\"\u001b[0m\u001b[0;34m]\u001b[0m \u001b[0;34m=\u001b[0m \u001b[0mcompression\u001b[0m\u001b[0;34m\u001b[0m\u001b[0;34m\u001b[0m\u001b[0m\n",
            "\u001b[0;32m/usr/local/lib/python3.7/dist-packages/pandas/io/common.py\u001b[0m in \u001b[0;36mget_filepath_or_buffer\u001b[0;34m(filepath_or_buffer, encoding, compression, mode, storage_options)\u001b[0m\n\u001b[1;32m    181\u001b[0m     \u001b[0;32mif\u001b[0m \u001b[0misinstance\u001b[0m\u001b[0;34m(\u001b[0m\u001b[0mfilepath_or_buffer\u001b[0m\u001b[0;34m,\u001b[0m \u001b[0mstr\u001b[0m\u001b[0;34m)\u001b[0m \u001b[0;32mand\u001b[0m \u001b[0mis_url\u001b[0m\u001b[0;34m(\u001b[0m\u001b[0mfilepath_or_buffer\u001b[0m\u001b[0;34m)\u001b[0m\u001b[0;34m:\u001b[0m\u001b[0;34m\u001b[0m\u001b[0;34m\u001b[0m\u001b[0m\n\u001b[1;32m    182\u001b[0m         \u001b[0;31m# TODO: fsspec can also handle HTTP via requests, but leaving this unchanged\u001b[0m\u001b[0;34m\u001b[0m\u001b[0;34m\u001b[0m\u001b[0;34m\u001b[0m\u001b[0m\n\u001b[0;32m--> 183\u001b[0;31m         \u001b[0mreq\u001b[0m \u001b[0;34m=\u001b[0m \u001b[0murlopen\u001b[0m\u001b[0;34m(\u001b[0m\u001b[0mfilepath_or_buffer\u001b[0m\u001b[0;34m)\u001b[0m\u001b[0;34m\u001b[0m\u001b[0;34m\u001b[0m\u001b[0m\n\u001b[0m\u001b[1;32m    184\u001b[0m         \u001b[0mcontent_encoding\u001b[0m \u001b[0;34m=\u001b[0m \u001b[0mreq\u001b[0m\u001b[0;34m.\u001b[0m\u001b[0mheaders\u001b[0m\u001b[0;34m.\u001b[0m\u001b[0mget\u001b[0m\u001b[0;34m(\u001b[0m\u001b[0;34m\"Content-Encoding\"\u001b[0m\u001b[0;34m,\u001b[0m \u001b[0;32mNone\u001b[0m\u001b[0;34m)\u001b[0m\u001b[0;34m\u001b[0m\u001b[0;34m\u001b[0m\u001b[0m\n\u001b[1;32m    185\u001b[0m         \u001b[0;32mif\u001b[0m \u001b[0mcontent_encoding\u001b[0m \u001b[0;34m==\u001b[0m \u001b[0;34m\"gzip\"\u001b[0m\u001b[0;34m:\u001b[0m\u001b[0;34m\u001b[0m\u001b[0;34m\u001b[0m\u001b[0m\n",
            "\u001b[0;32m/usr/local/lib/python3.7/dist-packages/pandas/io/common.py\u001b[0m in \u001b[0;36murlopen\u001b[0;34m(*args, **kwargs)\u001b[0m\n\u001b[1;32m    135\u001b[0m     \u001b[0;32mimport\u001b[0m \u001b[0murllib\u001b[0m\u001b[0;34m.\u001b[0m\u001b[0mrequest\u001b[0m\u001b[0;34m\u001b[0m\u001b[0;34m\u001b[0m\u001b[0m\n\u001b[1;32m    136\u001b[0m \u001b[0;34m\u001b[0m\u001b[0m\n\u001b[0;32m--> 137\u001b[0;31m     \u001b[0;32mreturn\u001b[0m \u001b[0murllib\u001b[0m\u001b[0;34m.\u001b[0m\u001b[0mrequest\u001b[0m\u001b[0;34m.\u001b[0m\u001b[0murlopen\u001b[0m\u001b[0;34m(\u001b[0m\u001b[0;34m*\u001b[0m\u001b[0margs\u001b[0m\u001b[0;34m,\u001b[0m \u001b[0;34m**\u001b[0m\u001b[0mkwargs\u001b[0m\u001b[0;34m)\u001b[0m\u001b[0;34m\u001b[0m\u001b[0;34m\u001b[0m\u001b[0m\n\u001b[0m\u001b[1;32m    138\u001b[0m \u001b[0;34m\u001b[0m\u001b[0m\n\u001b[1;32m    139\u001b[0m \u001b[0;34m\u001b[0m\u001b[0m\n",
            "\u001b[0;32m/usr/lib/python3.7/urllib/request.py\u001b[0m in \u001b[0;36murlopen\u001b[0;34m(url, data, timeout, cafile, capath, cadefault, context)\u001b[0m\n\u001b[1;32m    220\u001b[0m     \u001b[0;32melse\u001b[0m\u001b[0;34m:\u001b[0m\u001b[0;34m\u001b[0m\u001b[0;34m\u001b[0m\u001b[0m\n\u001b[1;32m    221\u001b[0m         \u001b[0mopener\u001b[0m \u001b[0;34m=\u001b[0m \u001b[0m_opener\u001b[0m\u001b[0;34m\u001b[0m\u001b[0;34m\u001b[0m\u001b[0m\n\u001b[0;32m--> 222\u001b[0;31m     \u001b[0;32mreturn\u001b[0m \u001b[0mopener\u001b[0m\u001b[0;34m.\u001b[0m\u001b[0mopen\u001b[0m\u001b[0;34m(\u001b[0m\u001b[0murl\u001b[0m\u001b[0;34m,\u001b[0m \u001b[0mdata\u001b[0m\u001b[0;34m,\u001b[0m \u001b[0mtimeout\u001b[0m\u001b[0;34m)\u001b[0m\u001b[0;34m\u001b[0m\u001b[0;34m\u001b[0m\u001b[0m\n\u001b[0m\u001b[1;32m    223\u001b[0m \u001b[0;34m\u001b[0m\u001b[0m\n\u001b[1;32m    224\u001b[0m \u001b[0;32mdef\u001b[0m \u001b[0minstall_opener\u001b[0m\u001b[0;34m(\u001b[0m\u001b[0mopener\u001b[0m\u001b[0;34m)\u001b[0m\u001b[0;34m:\u001b[0m\u001b[0;34m\u001b[0m\u001b[0;34m\u001b[0m\u001b[0m\n",
            "\u001b[0;32m/usr/lib/python3.7/urllib/request.py\u001b[0m in \u001b[0;36mopen\u001b[0;34m(self, fullurl, data, timeout)\u001b[0m\n\u001b[1;32m    529\u001b[0m         \u001b[0;32mfor\u001b[0m \u001b[0mprocessor\u001b[0m \u001b[0;32min\u001b[0m \u001b[0mself\u001b[0m\u001b[0;34m.\u001b[0m\u001b[0mprocess_response\u001b[0m\u001b[0;34m.\u001b[0m\u001b[0mget\u001b[0m\u001b[0;34m(\u001b[0m\u001b[0mprotocol\u001b[0m\u001b[0;34m,\u001b[0m \u001b[0;34m[\u001b[0m\u001b[0;34m]\u001b[0m\u001b[0;34m)\u001b[0m\u001b[0;34m:\u001b[0m\u001b[0;34m\u001b[0m\u001b[0;34m\u001b[0m\u001b[0m\n\u001b[1;32m    530\u001b[0m             \u001b[0mmeth\u001b[0m \u001b[0;34m=\u001b[0m \u001b[0mgetattr\u001b[0m\u001b[0;34m(\u001b[0m\u001b[0mprocessor\u001b[0m\u001b[0;34m,\u001b[0m \u001b[0mmeth_name\u001b[0m\u001b[0;34m)\u001b[0m\u001b[0;34m\u001b[0m\u001b[0;34m\u001b[0m\u001b[0m\n\u001b[0;32m--> 531\u001b[0;31m             \u001b[0mresponse\u001b[0m \u001b[0;34m=\u001b[0m \u001b[0mmeth\u001b[0m\u001b[0;34m(\u001b[0m\u001b[0mreq\u001b[0m\u001b[0;34m,\u001b[0m \u001b[0mresponse\u001b[0m\u001b[0;34m)\u001b[0m\u001b[0;34m\u001b[0m\u001b[0;34m\u001b[0m\u001b[0m\n\u001b[0m\u001b[1;32m    532\u001b[0m \u001b[0;34m\u001b[0m\u001b[0m\n\u001b[1;32m    533\u001b[0m         \u001b[0;32mreturn\u001b[0m \u001b[0mresponse\u001b[0m\u001b[0;34m\u001b[0m\u001b[0;34m\u001b[0m\u001b[0m\n",
            "\u001b[0;32m/usr/lib/python3.7/urllib/request.py\u001b[0m in \u001b[0;36mhttp_response\u001b[0;34m(self, request, response)\u001b[0m\n\u001b[1;32m    639\u001b[0m         \u001b[0;32mif\u001b[0m \u001b[0;32mnot\u001b[0m \u001b[0;34m(\u001b[0m\u001b[0;36m200\u001b[0m \u001b[0;34m<=\u001b[0m \u001b[0mcode\u001b[0m \u001b[0;34m<\u001b[0m \u001b[0;36m300\u001b[0m\u001b[0;34m)\u001b[0m\u001b[0;34m:\u001b[0m\u001b[0;34m\u001b[0m\u001b[0;34m\u001b[0m\u001b[0m\n\u001b[1;32m    640\u001b[0m             response = self.parent.error(\n\u001b[0;32m--> 641\u001b[0;31m                 'http', request, response, code, msg, hdrs)\n\u001b[0m\u001b[1;32m    642\u001b[0m \u001b[0;34m\u001b[0m\u001b[0m\n\u001b[1;32m    643\u001b[0m         \u001b[0;32mreturn\u001b[0m \u001b[0mresponse\u001b[0m\u001b[0;34m\u001b[0m\u001b[0;34m\u001b[0m\u001b[0m\n",
            "\u001b[0;32m/usr/lib/python3.7/urllib/request.py\u001b[0m in \u001b[0;36merror\u001b[0;34m(self, proto, *args)\u001b[0m\n\u001b[1;32m    567\u001b[0m         \u001b[0;32mif\u001b[0m \u001b[0mhttp_err\u001b[0m\u001b[0;34m:\u001b[0m\u001b[0;34m\u001b[0m\u001b[0;34m\u001b[0m\u001b[0m\n\u001b[1;32m    568\u001b[0m             \u001b[0margs\u001b[0m \u001b[0;34m=\u001b[0m \u001b[0;34m(\u001b[0m\u001b[0mdict\u001b[0m\u001b[0;34m,\u001b[0m \u001b[0;34m'default'\u001b[0m\u001b[0;34m,\u001b[0m \u001b[0;34m'http_error_default'\u001b[0m\u001b[0;34m)\u001b[0m \u001b[0;34m+\u001b[0m \u001b[0morig_args\u001b[0m\u001b[0;34m\u001b[0m\u001b[0;34m\u001b[0m\u001b[0m\n\u001b[0;32m--> 569\u001b[0;31m             \u001b[0;32mreturn\u001b[0m \u001b[0mself\u001b[0m\u001b[0;34m.\u001b[0m\u001b[0m_call_chain\u001b[0m\u001b[0;34m(\u001b[0m\u001b[0;34m*\u001b[0m\u001b[0margs\u001b[0m\u001b[0;34m)\u001b[0m\u001b[0;34m\u001b[0m\u001b[0;34m\u001b[0m\u001b[0m\n\u001b[0m\u001b[1;32m    570\u001b[0m \u001b[0;34m\u001b[0m\u001b[0m\n\u001b[1;32m    571\u001b[0m \u001b[0;31m# XXX probably also want an abstract factory that knows when it makes\u001b[0m\u001b[0;34m\u001b[0m\u001b[0;34m\u001b[0m\u001b[0;34m\u001b[0m\u001b[0m\n",
            "\u001b[0;32m/usr/lib/python3.7/urllib/request.py\u001b[0m in \u001b[0;36m_call_chain\u001b[0;34m(self, chain, kind, meth_name, *args)\u001b[0m\n\u001b[1;32m    501\u001b[0m         \u001b[0;32mfor\u001b[0m \u001b[0mhandler\u001b[0m \u001b[0;32min\u001b[0m \u001b[0mhandlers\u001b[0m\u001b[0;34m:\u001b[0m\u001b[0;34m\u001b[0m\u001b[0;34m\u001b[0m\u001b[0m\n\u001b[1;32m    502\u001b[0m             \u001b[0mfunc\u001b[0m \u001b[0;34m=\u001b[0m \u001b[0mgetattr\u001b[0m\u001b[0;34m(\u001b[0m\u001b[0mhandler\u001b[0m\u001b[0;34m,\u001b[0m \u001b[0mmeth_name\u001b[0m\u001b[0;34m)\u001b[0m\u001b[0;34m\u001b[0m\u001b[0;34m\u001b[0m\u001b[0m\n\u001b[0;32m--> 503\u001b[0;31m             \u001b[0mresult\u001b[0m \u001b[0;34m=\u001b[0m \u001b[0mfunc\u001b[0m\u001b[0;34m(\u001b[0m\u001b[0;34m*\u001b[0m\u001b[0margs\u001b[0m\u001b[0;34m)\u001b[0m\u001b[0;34m\u001b[0m\u001b[0;34m\u001b[0m\u001b[0m\n\u001b[0m\u001b[1;32m    504\u001b[0m             \u001b[0;32mif\u001b[0m \u001b[0mresult\u001b[0m \u001b[0;32mis\u001b[0m \u001b[0;32mnot\u001b[0m \u001b[0;32mNone\u001b[0m\u001b[0;34m:\u001b[0m\u001b[0;34m\u001b[0m\u001b[0;34m\u001b[0m\u001b[0m\n\u001b[1;32m    505\u001b[0m                 \u001b[0;32mreturn\u001b[0m \u001b[0mresult\u001b[0m\u001b[0;34m\u001b[0m\u001b[0;34m\u001b[0m\u001b[0m\n",
            "\u001b[0;32m/usr/lib/python3.7/urllib/request.py\u001b[0m in \u001b[0;36mhttp_error_default\u001b[0;34m(self, req, fp, code, msg, hdrs)\u001b[0m\n\u001b[1;32m    647\u001b[0m \u001b[0;32mclass\u001b[0m \u001b[0mHTTPDefaultErrorHandler\u001b[0m\u001b[0;34m(\u001b[0m\u001b[0mBaseHandler\u001b[0m\u001b[0;34m)\u001b[0m\u001b[0;34m:\u001b[0m\u001b[0;34m\u001b[0m\u001b[0;34m\u001b[0m\u001b[0m\n\u001b[1;32m    648\u001b[0m     \u001b[0;32mdef\u001b[0m \u001b[0mhttp_error_default\u001b[0m\u001b[0;34m(\u001b[0m\u001b[0mself\u001b[0m\u001b[0;34m,\u001b[0m \u001b[0mreq\u001b[0m\u001b[0;34m,\u001b[0m \u001b[0mfp\u001b[0m\u001b[0;34m,\u001b[0m \u001b[0mcode\u001b[0m\u001b[0;34m,\u001b[0m \u001b[0mmsg\u001b[0m\u001b[0;34m,\u001b[0m \u001b[0mhdrs\u001b[0m\u001b[0;34m)\u001b[0m\u001b[0;34m:\u001b[0m\u001b[0;34m\u001b[0m\u001b[0;34m\u001b[0m\u001b[0m\n\u001b[0;32m--> 649\u001b[0;31m         \u001b[0;32mraise\u001b[0m \u001b[0mHTTPError\u001b[0m\u001b[0;34m(\u001b[0m\u001b[0mreq\u001b[0m\u001b[0;34m.\u001b[0m\u001b[0mfull_url\u001b[0m\u001b[0;34m,\u001b[0m \u001b[0mcode\u001b[0m\u001b[0;34m,\u001b[0m \u001b[0mmsg\u001b[0m\u001b[0;34m,\u001b[0m \u001b[0mhdrs\u001b[0m\u001b[0;34m,\u001b[0m \u001b[0mfp\u001b[0m\u001b[0;34m)\u001b[0m\u001b[0;34m\u001b[0m\u001b[0;34m\u001b[0m\u001b[0m\n\u001b[0m\u001b[1;32m    650\u001b[0m \u001b[0;34m\u001b[0m\u001b[0m\n\u001b[1;32m    651\u001b[0m \u001b[0;32mclass\u001b[0m \u001b[0mHTTPRedirectHandler\u001b[0m\u001b[0;34m(\u001b[0m\u001b[0mBaseHandler\u001b[0m\u001b[0;34m)\u001b[0m\u001b[0;34m:\u001b[0m\u001b[0;34m\u001b[0m\u001b[0;34m\u001b[0m\u001b[0m\n",
            "\u001b[0;31mHTTPError\u001b[0m: HTTP Error 404: Not Found"
          ]
        }
      ]
    },
    {
      "cell_type": "code",
      "metadata": {
        "id": "2t7tayJ0e5CH"
      },
      "source": [
        "og_tone['tones'][5]"
      ],
      "execution_count": null,
      "outputs": []
    },
    {
      "cell_type": "code",
      "metadata": {
        "id": "vlmTDolce5CH"
      },
      "source": [
        "import json"
      ],
      "execution_count": null,
      "outputs": []
    },
    {
      "cell_type": "code",
      "metadata": {
        "id": "_SMcrECqe5CI"
      },
      "source": [
        "#To replce \\\\n with \\n. Helps in visaualising JSON data.\n",
        "og_tone['tones'].replace(to_replace=[r\"\\\\t|\\\\n|\\\\r\", \"\\t|\\n|\\r\"], value=[\"\",\"\"], regex=True, inplace=True)"
      ],
      "execution_count": null,
      "outputs": []
    },
    {
      "cell_type": "code",
      "metadata": {
        "id": "ADgksJ6xe5CI"
      },
      "source": [
        "#Any content with just ONE sentence does NOT have a sentence-id in JSON data.\n",
        "og_tone.head(10)"
      ],
      "execution_count": null,
      "outputs": []
    },
    {
      "cell_type": "code",
      "metadata": {
        "id": "CyzXTRDoe5CI"
      },
      "source": [
        "og_tone['tones'][5]"
      ],
      "execution_count": null,
      "outputs": []
    },
    {
      "cell_type": "code",
      "metadata": {
        "id": "8w5EtMate5CJ"
      },
      "source": [
        "json_data = pd.read_json('https://raw.githubusercontent.com/SidtheKidx/tone-classification-CadenceIQ/main/ibm-tones.json?token=AJVH2H3633D2MWP2YHF4YODATE5RI', lines = True)"
      ],
      "execution_count": null,
      "outputs": []
    },
    {
      "cell_type": "code",
      "metadata": {
        "id": "a0LDD4W9e5CJ"
      },
      "source": [
        "counter_dict = {\n",
        "    \n",
        "        'anger' : {\n",
        "            'score' : 0,\n",
        "            'count' : 0\n",
        "        }, \n",
        "        'analytical' : {\n",
        "            'score' : 0,\n",
        "            'count' : 0\n",
        "        },\n",
        "        'fear' :{\n",
        "            'score' : 0,\n",
        "            'count' : 0\n",
        "        },\n",
        "        'joy' : {\n",
        "            'score' : 0,\n",
        "            'count' : 0\n",
        "        },\n",
        "        'sadness' : {\n",
        "            'score' : 0,\n",
        "            'count' : 0\n",
        "        },\n",
        "        'confident' : {\n",
        "            'score' : 0,\n",
        "            'count' : 0\n",
        "        },\n",
        "        'tentative' : {\n",
        "            'score' : 0,\n",
        "            'count' : 0\n",
        "        }\n",
        "}\n",
        "\n",
        "for json_data in og_tone['tones']:\n",
        "    data_dict = json.loads(str(json_data))\n",
        "    \n",
        "    for document_tones in data_dict['document_tone']['tones']:\n",
        "        counter_dict[document_tones['tone_id']]['count']+=1\n",
        "        counter_dict[document_tones['tone_id']]['score']= (counter_dict[document_tones['tone_id']]['score'] + document_tones['score'])/2\n",
        "\n",
        "print(counter_dict)"
      ],
      "execution_count": null,
      "outputs": []
    },
    {
      "cell_type": "markdown",
      "metadata": {
        "id": "KfEYHtere5CK"
      },
      "source": [
        "### Visualizating Enron tones as a bar plot\n"
      ]
    },
    {
      "cell_type": "code",
      "metadata": {
        "id": "4bAqMaZJe5CL"
      },
      "source": [
        "#The dictionary of tones, count & score converted to DATAFRAME for visualization\n",
        "vis_df = pd.DataFrame.from_dict(counter_dict)\n",
        "vis_ax = vis_df.transpose()\n",
        "vis_ax.reset_index(level=0, inplace=True)\n",
        "print(vis_ax)\n",
        "vis_ax['count'].sum()"
      ],
      "execution_count": null,
      "outputs": []
    },
    {
      "cell_type": "markdown",
      "metadata": {
        "id": "k8hemFA-e5CL"
      },
      "source": [
        "### Distribution of tones"
      ]
    },
    {
      "cell_type": "code",
      "metadata": {
        "id": "ex-eNG5fe5CM"
      },
      "source": [
        "import matplotlib.pyplot as plt\n",
        "import seaborn as sns\n",
        "sns.set()\n",
        "\n",
        "sns.barplot(x = vis_ax['index'], y = vis_ax['count'], data=vis_ax).set_title('Enron tone distribution')"
      ],
      "execution_count": null,
      "outputs": []
    },
    {
      "cell_type": "code",
      "metadata": {
        "id": "L7SAFwNEe5CM"
      },
      "source": [
        "# Indent keyword while dumping the\n",
        "# data decides to what level \n",
        "# spaces the user wants.\n",
        "#print(json.dumps(data_dict, indent = 1))\n",
        "\n",
        "#print(data_dict['sentences_tone'])\n",
        "\n",
        "# Difference in the spaces \n",
        "# near the brackets can be seen\n",
        "#print(json.dumps(data_dict, indent = 3))"
      ],
      "execution_count": null,
      "outputs": []
    },
    {
      "cell_type": "code",
      "metadata": {
        "id": "bIigCMMae5CN"
      },
      "source": [
        "#df_train = pd.read_csv(\"/Users/siddharthsingh/CadenceIQ/tone_Analyzer/emotions-dataset/train.txt\", delimiter=';', header=None, names=['sentence','label'])\n",
        "#df_test = pd.read_csv(\"/Users/siddharthsingh/CadenceIQ/tone_Analyzer/emotions-dataset/test.txt\", delimiter=';', header=None, names=['sentence','label'])\n",
        "#df_val = pd.read_csv(\"/Users/siddharthsingh/CadenceIQ/tone_Analyzer/emotions-dataset/val.txt\", delimiter=';', header=None, names=['sentence','label'])"
      ],
      "execution_count": null,
      "outputs": []
    },
    {
      "cell_type": "code",
      "metadata": {
        "id": "DQKHNzBBe5CN"
      },
      "source": [
        "#emo_df = pd.concat([df_train,df_test,df_val])"
      ],
      "execution_count": null,
      "outputs": []
    },
    {
      "cell_type": "code",
      "metadata": {
        "id": "IZEfSv5Ee5CN"
      },
      "source": [
        "#emo_df['label'].unique()"
      ],
      "execution_count": null,
      "outputs": []
    },
    {
      "cell_type": "code",
      "metadata": {
        "id": "mTAJjm1Ae5CN"
      },
      "source": [
        "#emo_df.head(10)"
      ],
      "execution_count": null,
      "outputs": []
    },
    {
      "cell_type": "code",
      "metadata": {
        "id": "sx5SMlT4e5CO"
      },
      "source": [
        "#emo_df.describe()"
      ],
      "execution_count": null,
      "outputs": []
    },
    {
      "cell_type": "code",
      "metadata": {
        "id": "uCtLiEgle5CO"
      },
      "source": [
        "'''\n",
        "count = emo_df['label'].value_counts()\n",
        "print(count)\n",
        "count.sum()\n",
        "'''"
      ],
      "execution_count": null,
      "outputs": []
    },
    {
      "cell_type": "code",
      "metadata": {
        "id": "sEef6ckae5CP"
      },
      "source": [
        "#emo_df1 = emo_df[:1500].copy()"
      ],
      "execution_count": null,
      "outputs": []
    },
    {
      "cell_type": "code",
      "metadata": {
        "id": "xkywrTKCe5CP"
      },
      "source": [
        "#emo_df1.shape"
      ],
      "execution_count": null,
      "outputs": []
    },
    {
      "cell_type": "code",
      "metadata": {
        "id": "CVSEq75we5CP"
      },
      "source": [
        "#emo_df1.head()"
      ],
      "execution_count": null,
      "outputs": []
    },
    {
      "cell_type": "code",
      "metadata": {
        "id": "cpyHrBRge5CQ"
      },
      "source": [
        "#emo_df1.describe()"
      ],
      "execution_count": null,
      "outputs": []
    },
    {
      "cell_type": "code",
      "metadata": {
        "id": "idbsGVRne5CQ"
      },
      "source": [
        "'''\n",
        "count_df1 = emo_df1['label'].value_counts()\n",
        "print(count_df1)\n",
        "count_df1.sum()\n",
        "'''"
      ],
      "execution_count": null,
      "outputs": []
    },
    {
      "cell_type": "code",
      "metadata": {
        "id": "jF5nH2oAe5CR"
      },
      "source": [
        "#sns.countplot(x=count_df1, data = emo_df1['label'])"
      ],
      "execution_count": null,
      "outputs": []
    },
    {
      "cell_type": "markdown",
      "metadata": {
        "id": "Mn0SNNO7e5CR"
      },
      "source": [
        "## Accessing JSON data to visualize distribution of Emotions dataset tones"
      ]
    },
    {
      "cell_type": "code",
      "metadata": {
        "id": "531rgEuAe5CR"
      },
      "source": [
        "#IBM watson tone analyser API endpoint \n",
        "'''\n",
        "authenticator = IAMAuthenticator('SwdiI5vCKkgeyJuYIEwhOkajctEnxTR-F7OYZ4pvF9GE')\n",
        "tone_analyzer = ToneAnalyzerV3(\n",
        "    version='2017-09-21',\n",
        "    authenticator=authenticator\n",
        ")\n",
        "tone_analyzer.set_service_url('https://api.us-south.tone-analyzer.watson.cloud.ibm.com/instances/3e193de0-bcaa-47c0-8898-4c68a520ce78')\n",
        "'''"
      ],
      "execution_count": null,
      "outputs": []
    },
    {
      "cell_type": "code",
      "metadata": {
        "id": "LevUdTsHe5CR"
      },
      "source": [
        "#Converting column to list. \n",
        "'''\n",
        "text = list(emo_df1['sentence'])\n",
        "text\n",
        "''' "
      ],
      "execution_count": null,
      "outputs": []
    },
    {
      "cell_type": "code",
      "metadata": {
        "id": "2N5Nwq17e5CS"
      },
      "source": [
        "'''\n",
        "c = 0\n",
        "list_tones = []\n",
        "\n",
        "\n",
        "for i in text:\n",
        "    print(i)\n",
        "    tone_analysis = tone_analyzer.tone(\n",
        "        {'text': i},\n",
        "        content_type='application/json'\n",
        "    ).get_result()\n",
        "\n",
        "    list_tones.append(json.dumps(tone_analysis, indent=2))\n",
        "    c+=1\n",
        "\n",
        "emo_df1 = emo_df1.assign(tones = list_tones)\n",
        "#print(json.dumps(tone_analysis, indent=2)) \n",
        "'''"
      ],
      "execution_count": null,
      "outputs": []
    },
    {
      "cell_type": "code",
      "metadata": {
        "id": "-OIiq_Ebe5CS"
      },
      "source": [
        "#emo_df1.head(10)"
      ],
      "execution_count": null,
      "outputs": []
    },
    {
      "cell_type": "code",
      "metadata": {
        "id": "ptmrGUVoe5CT"
      },
      "source": [
        "#emo_df1['sentence'][9]"
      ],
      "execution_count": null,
      "outputs": []
    },
    {
      "cell_type": "code",
      "metadata": {
        "id": "yebWStzxe5CT"
      },
      "source": [
        "#emo_df1['tones'][7]"
      ],
      "execution_count": null,
      "outputs": []
    },
    {
      "cell_type": "code",
      "metadata": {
        "id": "0SkJHYnne5CU"
      },
      "source": [
        "#emo_df1['tones'].replace(to_replace=[r\"\\\\t|\\\\n|\\\\r\", \"\\t|\\n|\\r\"], value=[\"\",\"\"], regex=True, inplace=True)"
      ],
      "execution_count": null,
      "outputs": []
    },
    {
      "cell_type": "code",
      "metadata": {
        "id": "l_QvhxD7e5CU"
      },
      "source": [
        "#emo_df1['tones'][7]"
      ],
      "execution_count": null,
      "outputs": []
    },
    {
      "cell_type": "code",
      "metadata": {
        "id": "pXveHO5Re5CU"
      },
      "source": [
        "emo_df1 = pd.read_csv('https://raw.githubusercontent.com/SidtheKidx/tone-classification-CadenceIQ/main/Emotions-tone-data-og.csv?token=AJVH2HZ7S2LTSAWXB2ENDVTATE56A')"
      ],
      "execution_count": null,
      "outputs": []
    },
    {
      "cell_type": "code",
      "metadata": {
        "id": "tfIvc99Qe5CU"
      },
      "source": [
        "json_df1 = pd.read_json('https://raw.githubusercontent.com/SidtheKidx/tone-classification-CadenceIQ/main/emotions-tones.json?token=AJVH2H2KBQGBQCXXV4ERCETATE6BE', lines=True)"
      ],
      "execution_count": null,
      "outputs": []
    },
    {
      "cell_type": "code",
      "metadata": {
        "id": "ZjbE4XDme5CV"
      },
      "source": [
        "counter_dict_df1 = {\n",
        "    \n",
        "        'anger' : {\n",
        "            'score' : 0,\n",
        "            'count' : 0\n",
        "        }, \n",
        "        'analytical' : {\n",
        "            'score' : 0,\n",
        "            'count' : 0\n",
        "        },\n",
        "        'fear' :{\n",
        "            'score' : 0,\n",
        "            'count' : 0\n",
        "        },\n",
        "        'joy' : {\n",
        "            'score' : 0,\n",
        "            'count' : 0\n",
        "        },\n",
        "        'sadness' : {\n",
        "            'score' : 0,\n",
        "            'count' : 0\n",
        "        },\n",
        "        'confident' : {\n",
        "            'score' : 0,\n",
        "            'count' : 0\n",
        "        },\n",
        "        'tentative' : {\n",
        "            'score' : 0,\n",
        "            'count' : 0\n",
        "        }\n",
        "}\n",
        "\n",
        "for json_df1 in emo_df1['tones']:\n",
        "    data_dict_df1 = json.loads(str(json_df1))\n",
        "    \n",
        "    for document_tones_df1 in data_dict_df1['document_tone']['tones']:\n",
        "        counter_dict_df1[document_tones_df1['tone_id']]['count']+=1\n",
        "        counter_dict_df1[document_tones_df1['tone_id']]['score']= (counter_dict_df1[document_tones_df1['tone_id']]['score'] + document_tones_df1['score'])/2\n",
        "\n",
        "print(counter_dict_df1)"
      ],
      "execution_count": null,
      "outputs": []
    },
    {
      "cell_type": "markdown",
      "metadata": {
        "id": "6uCaDpTCe5CV"
      },
      "source": [
        "### Visualizing Emotions tones as bar plot"
      ]
    },
    {
      "cell_type": "code",
      "metadata": {
        "id": "vSq8OB8ye5CW"
      },
      "source": [
        "#The dictionary of tones, count & score converted to DATAFRAME for visualization\n",
        "\n",
        "vis_df1 = pd.DataFrame.from_dict(counter_dict_df1)\n",
        "vis_ax1 = vis_df1.transpose()\n",
        "vis_ax1.reset_index(level=0, inplace=True)\n",
        "print(vis_ax1)\n",
        "vis_ax1['count'].sum()"
      ],
      "execution_count": null,
      "outputs": []
    },
    {
      "cell_type": "markdown",
      "metadata": {
        "id": "j9zYA5-VJ2pq"
      },
      "source": [
        "### Distribution of tones"
      ]
    },
    {
      "cell_type": "code",
      "metadata": {
        "id": "NqWbKIWhe5CX"
      },
      "source": [
        "sns.barplot(x = vis_ax1['index'], y = vis_ax1['count'], data=vis_ax1).set_title('Emotions tone distribution')"
      ],
      "execution_count": null,
      "outputs": []
    },
    {
      "cell_type": "markdown",
      "metadata": {
        "id": "c8GFw9kg7ElU"
      },
      "source": [
        "## Text encoding & Tokenization for BERT"
      ]
    },
    {
      "cell_type": "code",
      "metadata": {
        "id": "qtIvuvrjQgqf"
      },
      "source": [
        "emo_df1.head()"
      ],
      "execution_count": null,
      "outputs": []
    },
    {
      "cell_type": "code",
      "metadata": {
        "id": "Z21pdwSEPz6j"
      },
      "source": [
        "emo_df1['tones'][7]"
      ],
      "execution_count": null,
      "outputs": []
    },
    {
      "cell_type": "code",
      "metadata": {
        "id": "iFUG47d5y7OP"
      },
      "source": [
        "missing_values_check = emo_df1.isnull().sum()\n",
        "print(missing_values_check)"
      ],
      "execution_count": null,
      "outputs": []
    },
    {
      "cell_type": "code",
      "metadata": {
        "id": "fHUR8tV5NqlO"
      },
      "source": [
        "emo_df1 = emo_df1.drop(['label'], axis=1)"
      ],
      "execution_count": null,
      "outputs": []
    },
    {
      "cell_type": "code",
      "metadata": {
        "id": "-f-V63k6Nyz7"
      },
      "source": [
        "emo_df1.head()"
      ],
      "execution_count": null,
      "outputs": []
    },
    {
      "cell_type": "code",
      "metadata": {
        "id": "QnmgPbA2KAIj"
      },
      "source": [
        "'''\n",
        "# creating initial dataframe\n",
        "tone_df1 = emo_df1.copy()\n",
        "tone_types = ('Anger','Analytical','Fear','Joy','Sadness','Confident','Tentative')\n",
        "tone_df1 = pd.DataFrame(tone_types, columns=['Bridge_Types'])\n",
        "# generate binary values using get_dummies\n",
        "dum_df = pd.get_dummies(tone_df1)\n",
        "# merge with main df emo_df1 on key values\n",
        "tone_df1 = tone_df1.join(dum_df)\n",
        "tone_df1\n",
        "'''"
      ],
      "execution_count": null,
      "outputs": []
    },
    {
      "cell_type": "code",
      "metadata": {
        "id": "c4TebbWJOtbA"
      },
      "source": [
        "emo_df2 = emo_df1.copy()\n",
        "emo_df2.head()"
      ],
      "execution_count": null,
      "outputs": []
    },
    {
      "cell_type": "code",
      "metadata": {
        "id": "T2Ra6XCOPKMG"
      },
      "source": [
        "list_tones = []\n",
        "c = 0\n",
        "\n",
        "for json_df1 in emo_df2['tones']:\n",
        "    fresh_list = [] \n",
        "    data_dict_df2 = json.loads(str(json_df1))\n",
        "\n",
        "    for document_tones_df2 in data_dict_df2['document_tone']['tones']:\n",
        "      fresh_list.append(document_tones_df2['tone_id'])\n",
        "      c+=1\n",
        "\n",
        "    list_tones.append(fresh_list)\n",
        "\n",
        "emo_df2['tags'] = pd.Series(list_tones)\n",
        "\n",
        "print(list_tones)\n",
        "print(c)"
      ],
      "execution_count": null,
      "outputs": []
    },
    {
      "cell_type": "code",
      "metadata": {
        "id": "9fJ4rtnj9YMi"
      },
      "source": [
        "emo_df2.head()"
      ],
      "execution_count": null,
      "outputs": []
    },
    {
      "cell_type": "code",
      "metadata": {
        "id": "6xZcSdtd9HmE"
      },
      "source": [
        ""
      ],
      "execution_count": null,
      "outputs": []
    }
  ]
}