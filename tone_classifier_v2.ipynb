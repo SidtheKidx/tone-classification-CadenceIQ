{
  "nbformat": 4,
  "nbformat_minor": 0,
  "metadata": {
    "colab": {
      "name": "tone-classifier-v2.ipynb",
      "provenance": [],
      "collapsed_sections": [
        "JHkRXadpATU4"
      ],
      "toc_visible": true,
      "authorship_tag": "ABX9TyNerbvfCbfem122rhCbsftw",
      "include_colab_link": true
    },
    "kernelspec": {
      "name": "python3",
      "display_name": "Python 3"
    },
    "language_info": {
      "name": "python"
    }
  },
  "cells": [
    {
      "cell_type": "markdown",
      "metadata": {
        "id": "view-in-github",
        "colab_type": "text"
      },
      "source": [
        "<a href=\"https://colab.research.google.com/github/SidtheKidx/tone-classification-CadenceIQ/blob/main/tone_classifier_v2.ipynb\" target=\"_parent\"><img src=\"https://colab.research.google.com/assets/colab-badge.svg\" alt=\"Open In Colab\"/></a>"
      ]
    },
    {
      "cell_type": "markdown",
      "metadata": {
        "id": "4kgSEIJ58WIX"
      },
      "source": [
        "## Tone Classification-CadenceIQ using BERT Transformers\n"
      ]
    },
    {
      "cell_type": "code",
      "metadata": {
        "id": "tXKFpMCL84BW"
      },
      "source": [
        "import pandas as pd \n",
        "import numpy as np\n",
        "\n",
        "from nltk.corpus import stopwords \n",
        "from nltk.stem.wordnet import WordNetLemmatizer\n",
        "import string\n",
        "import json\n",
        "import matplotlib.pyplot as plt\n",
        "import seaborn as sns\n",
        "sns.set()"
      ],
      "execution_count": 1,
      "outputs": []
    },
    {
      "cell_type": "code",
      "metadata": {
        "colab": {
          "base_uri": "https://localhost:8080/",
          "height": 1000
        },
        "id": "pW_32Y-gJjpO",
        "outputId": "c9d79541-46de-40f8-c90d-3a293dd99b90"
      },
      "source": [
        "from tqdm.auto import tqdm\n",
        "import torch\n",
        "import torch.nn as nn\n",
        "from torch.utils.data import Dataset, DataLoader\n",
        "!pip install transformers\n",
        "from transformers import BertTokenizerFast as BertTokenizer, BertModel, AdamW, get_linear_schedule_with_warmup\n",
        "!pip install --upgrade pytorch-lightning\n",
        "import pytorch_lightning as pl\n",
        "from pytorch_lightning.metrics.functional import accuracy, f1, auroc\n",
        "from pytorch_lightning.callbacks import ModelCheckpoint, EarlyStopping\n",
        "from pytorch_lightning.loggers import TensorBoardLogger\n",
        "from sklearn.model_selection import train_test_split\n",
        "from sklearn.metrics import classification_report, multilabel_confusion_matrix\n",
        "from pylab import rcParams\n",
        "from matplotlib import rc\n",
        "%matplotlib inline\n",
        "%config InlineBackend.figure_format='retina'\n",
        "RANDOM_SEED = 42\n",
        "sns.set(style='whitegrid', palette='muted', font_scale=1.2)\n",
        "HAPPY_COLORS_PALETTE = [\"#01BEFE\", \"#FFDD00\", \"#FF7D00\", \"#FF006D\", \"#ADFF02\", \"#8F00FF\"]\n",
        "sns.set_palette(sns.color_palette(HAPPY_COLORS_PALETTE))\n",
        "rcParams['figure.figsize'] = 12, 8\n",
        "pl.seed_everything(RANDOM_SEED)"
      ],
      "execution_count": 63,
      "outputs": [
        {
          "output_type": "stream",
          "text": [
            "Requirement already satisfied: transformers in /usr/local/lib/python3.7/dist-packages (4.6.0)\n",
            "Requirement already satisfied: tqdm>=4.27 in /usr/local/lib/python3.7/dist-packages (from transformers) (4.41.1)\n",
            "Requirement already satisfied: tokenizers<0.11,>=0.10.1 in /usr/local/lib/python3.7/dist-packages (from transformers) (0.10.2)\n",
            "Requirement already satisfied: packaging in /usr/local/lib/python3.7/dist-packages (from transformers) (20.9)\n",
            "Requirement already satisfied: numpy>=1.17 in /usr/local/lib/python3.7/dist-packages (from transformers) (1.19.5)\n",
            "Requirement already satisfied: filelock in /usr/local/lib/python3.7/dist-packages (from transformers) (3.0.12)\n",
            "Requirement already satisfied: importlib-metadata; python_version < \"3.8\" in /usr/local/lib/python3.7/dist-packages (from transformers) (4.0.1)\n",
            "Requirement already satisfied: requests in /usr/local/lib/python3.7/dist-packages (from transformers) (2.23.0)\n",
            "Requirement already satisfied: huggingface-hub==0.0.8 in /usr/local/lib/python3.7/dist-packages (from transformers) (0.0.8)\n",
            "Requirement already satisfied: sacremoses in /usr/local/lib/python3.7/dist-packages (from transformers) (0.0.45)\n",
            "Requirement already satisfied: regex!=2019.12.17 in /usr/local/lib/python3.7/dist-packages (from transformers) (2019.12.20)\n",
            "Requirement already satisfied: pyparsing>=2.0.2 in /usr/local/lib/python3.7/dist-packages (from packaging->transformers) (2.4.7)\n",
            "Requirement already satisfied: zipp>=0.5 in /usr/local/lib/python3.7/dist-packages (from importlib-metadata; python_version < \"3.8\"->transformers) (3.4.1)\n",
            "Requirement already satisfied: typing-extensions>=3.6.4; python_version < \"3.8\" in /usr/local/lib/python3.7/dist-packages (from importlib-metadata; python_version < \"3.8\"->transformers) (3.7.4.3)\n",
            "Requirement already satisfied: chardet<4,>=3.0.2 in /usr/local/lib/python3.7/dist-packages (from requests->transformers) (3.0.4)\n",
            "Requirement already satisfied: urllib3!=1.25.0,!=1.25.1,<1.26,>=1.21.1 in /usr/local/lib/python3.7/dist-packages (from requests->transformers) (1.24.3)\n",
            "Requirement already satisfied: idna<3,>=2.5 in /usr/local/lib/python3.7/dist-packages (from requests->transformers) (2.10)\n",
            "Requirement already satisfied: certifi>=2017.4.17 in /usr/local/lib/python3.7/dist-packages (from requests->transformers) (2020.12.5)\n",
            "Requirement already satisfied: six in /usr/local/lib/python3.7/dist-packages (from sacremoses->transformers) (1.15.0)\n",
            "Requirement already satisfied: click in /usr/local/lib/python3.7/dist-packages (from sacremoses->transformers) (8.0.0)\n",
            "Requirement already satisfied: joblib in /usr/local/lib/python3.7/dist-packages (from sacremoses->transformers) (1.0.1)\n",
            "Collecting pytorch-lightning\n",
            "\u001b[?25l  Downloading https://files.pythonhosted.org/packages/c2/a1/a991780873b5fd760fb99dfda01916fe9e5b186f0ba70a120e6b4f79cfaa/pytorch_lightning-1.3.1-py3-none-any.whl (805kB)\n",
            "\u001b[K     |████████████████████████████████| 808kB 28.2MB/s \n",
            "\u001b[?25hCollecting future>=0.17.1\n",
            "\u001b[?25l  Downloading https://files.pythonhosted.org/packages/45/0b/38b06fd9b92dc2b68d58b75f900e97884c45bedd2ff83203d933cf5851c9/future-0.18.2.tar.gz (829kB)\n",
            "\u001b[K     |████████████████████████████████| 829kB 26.6MB/s \n",
            "\u001b[?25hRequirement already satisfied, skipping upgrade: numpy>=1.17.2 in /usr/local/lib/python3.7/dist-packages (from pytorch-lightning) (1.19.5)\n",
            "Collecting fsspec[http]>=2021.4.0\n",
            "\u001b[?25l  Downloading https://files.pythonhosted.org/packages/bc/52/816d1a3a599176057bf29dfacb1f8fadb61d35fbd96cb1bab4aaa7df83c0/fsspec-2021.5.0-py3-none-any.whl (111kB)\n",
            "\u001b[K     |████████████████████████████████| 112kB 36.3MB/s \n",
            "\u001b[?25hRequirement already satisfied, skipping upgrade: tqdm>=4.41.0 in /usr/local/lib/python3.7/dist-packages (from pytorch-lightning) (4.41.1)\n",
            "Collecting torchmetrics>=0.2.0\n",
            "\u001b[?25l  Downloading https://files.pythonhosted.org/packages/3b/e8/513cd9d0b1c83dc14cd8f788d05cd6a34758d4fd7e4f9e5ecd5d7d599c95/torchmetrics-0.3.2-py3-none-any.whl (274kB)\n",
            "\u001b[K     |████████████████████████████████| 276kB 40.1MB/s \n",
            "\u001b[?25hRequirement already satisfied, skipping upgrade: torch>=1.4 in /usr/local/lib/python3.7/dist-packages (from pytorch-lightning) (1.8.1+cu101)\n",
            "Requirement already satisfied, skipping upgrade: packaging in /usr/local/lib/python3.7/dist-packages (from pytorch-lightning) (20.9)\n",
            "Collecting PyYAML<=5.4.1,>=5.1\n",
            "\u001b[?25l  Downloading https://files.pythonhosted.org/packages/7a/a5/393c087efdc78091afa2af9f1378762f9821c9c1d7a22c5753fb5ac5f97a/PyYAML-5.4.1-cp37-cp37m-manylinux1_x86_64.whl (636kB)\n",
            "\u001b[K     |████████████████████████████████| 645kB 34.5MB/s \n",
            "\u001b[?25hCollecting pyDeprecate==0.3.0\n",
            "  Downloading https://files.pythonhosted.org/packages/14/52/aa227a0884df71ed1957649085adf2b8bc2a1816d037c2f18b3078854516/pyDeprecate-0.3.0-py3-none-any.whl\n",
            "Requirement already satisfied, skipping upgrade: tensorboard!=2.5.0,>=2.2.0 in /usr/local/lib/python3.7/dist-packages (from pytorch-lightning) (2.4.1)\n",
            "Requirement already satisfied, skipping upgrade: requests; extra == \"http\" in /usr/local/lib/python3.7/dist-packages (from fsspec[http]>=2021.4.0->pytorch-lightning) (2.23.0)\n",
            "Collecting aiohttp; extra == \"http\"\n",
            "\u001b[?25l  Downloading https://files.pythonhosted.org/packages/88/c0/5890b4c8b04a79b7360e8fe4490feb0bb3ab179743f199f0e6220cebd568/aiohttp-3.7.4.post0-cp37-cp37m-manylinux2014_x86_64.whl (1.3MB)\n",
            "\u001b[K     |████████████████████████████████| 1.3MB 33.2MB/s \n",
            "\u001b[?25hRequirement already satisfied, skipping upgrade: typing-extensions in /usr/local/lib/python3.7/dist-packages (from torch>=1.4->pytorch-lightning) (3.7.4.3)\n",
            "Requirement already satisfied, skipping upgrade: pyparsing>=2.0.2 in /usr/local/lib/python3.7/dist-packages (from packaging->pytorch-lightning) (2.4.7)\n",
            "Requirement already satisfied, skipping upgrade: markdown>=2.6.8 in /usr/local/lib/python3.7/dist-packages (from tensorboard!=2.5.0,>=2.2.0->pytorch-lightning) (3.3.4)\n",
            "Requirement already satisfied, skipping upgrade: wheel>=0.26; python_version >= \"3\" in /usr/local/lib/python3.7/dist-packages (from tensorboard!=2.5.0,>=2.2.0->pytorch-lightning) (0.36.2)\n",
            "Requirement already satisfied, skipping upgrade: protobuf>=3.6.0 in /usr/local/lib/python3.7/dist-packages (from tensorboard!=2.5.0,>=2.2.0->pytorch-lightning) (3.12.4)\n",
            "Requirement already satisfied, skipping upgrade: grpcio>=1.24.3 in /usr/local/lib/python3.7/dist-packages (from tensorboard!=2.5.0,>=2.2.0->pytorch-lightning) (1.32.0)\n",
            "Requirement already satisfied, skipping upgrade: google-auth<2,>=1.6.3 in /usr/local/lib/python3.7/dist-packages (from tensorboard!=2.5.0,>=2.2.0->pytorch-lightning) (1.30.0)\n",
            "Requirement already satisfied, skipping upgrade: werkzeug>=0.11.15 in /usr/local/lib/python3.7/dist-packages (from tensorboard!=2.5.0,>=2.2.0->pytorch-lightning) (2.0.0)\n",
            "Requirement already satisfied, skipping upgrade: absl-py>=0.4 in /usr/local/lib/python3.7/dist-packages (from tensorboard!=2.5.0,>=2.2.0->pytorch-lightning) (0.12.0)\n",
            "Requirement already satisfied, skipping upgrade: setuptools>=41.0.0 in /usr/local/lib/python3.7/dist-packages (from tensorboard!=2.5.0,>=2.2.0->pytorch-lightning) (56.1.0)\n",
            "Requirement already satisfied, skipping upgrade: tensorboard-plugin-wit>=1.6.0 in /usr/local/lib/python3.7/dist-packages (from tensorboard!=2.5.0,>=2.2.0->pytorch-lightning) (1.8.0)\n",
            "Requirement already satisfied, skipping upgrade: six>=1.10.0 in /usr/local/lib/python3.7/dist-packages (from tensorboard!=2.5.0,>=2.2.0->pytorch-lightning) (1.15.0)\n",
            "Requirement already satisfied, skipping upgrade: google-auth-oauthlib<0.5,>=0.4.1 in /usr/local/lib/python3.7/dist-packages (from tensorboard!=2.5.0,>=2.2.0->pytorch-lightning) (0.4.4)\n",
            "Requirement already satisfied, skipping upgrade: urllib3!=1.25.0,!=1.25.1,<1.26,>=1.21.1 in /usr/local/lib/python3.7/dist-packages (from requests; extra == \"http\"->fsspec[http]>=2021.4.0->pytorch-lightning) (1.24.3)\n",
            "Requirement already satisfied, skipping upgrade: idna<3,>=2.5 in /usr/local/lib/python3.7/dist-packages (from requests; extra == \"http\"->fsspec[http]>=2021.4.0->pytorch-lightning) (2.10)\n",
            "Requirement already satisfied, skipping upgrade: certifi>=2017.4.17 in /usr/local/lib/python3.7/dist-packages (from requests; extra == \"http\"->fsspec[http]>=2021.4.0->pytorch-lightning) (2020.12.5)\n",
            "Requirement already satisfied, skipping upgrade: chardet<4,>=3.0.2 in /usr/local/lib/python3.7/dist-packages (from requests; extra == \"http\"->fsspec[http]>=2021.4.0->pytorch-lightning) (3.0.4)\n",
            "Collecting async-timeout<4.0,>=3.0\n",
            "  Downloading https://files.pythonhosted.org/packages/e1/1e/5a4441be21b0726c4464f3f23c8b19628372f606755a9d2e46c187e65ec4/async_timeout-3.0.1-py3-none-any.whl\n",
            "Collecting yarl<2.0,>=1.0\n",
            "\u001b[?25l  Downloading https://files.pythonhosted.org/packages/f1/62/046834c5fc998c88ab2ef722f5d42122230a632212c8afa76418324f53ff/yarl-1.6.3-cp37-cp37m-manylinux2014_x86_64.whl (294kB)\n",
            "\u001b[K     |████████████████████████████████| 296kB 47.2MB/s \n",
            "\u001b[?25hCollecting multidict<7.0,>=4.5\n",
            "\u001b[?25l  Downloading https://files.pythonhosted.org/packages/7c/a6/4123b8165acbe773d1a8dc8e3f0d1edea16d29f7de018eda769abb56bd30/multidict-5.1.0-cp37-cp37m-manylinux2014_x86_64.whl (142kB)\n",
            "\u001b[K     |████████████████████████████████| 143kB 41.0MB/s \n",
            "\u001b[?25hRequirement already satisfied, skipping upgrade: attrs>=17.3.0 in /usr/local/lib/python3.7/dist-packages (from aiohttp; extra == \"http\"->fsspec[http]>=2021.4.0->pytorch-lightning) (21.2.0)\n",
            "Requirement already satisfied, skipping upgrade: importlib-metadata; python_version < \"3.8\" in /usr/local/lib/python3.7/dist-packages (from markdown>=2.6.8->tensorboard!=2.5.0,>=2.2.0->pytorch-lightning) (4.0.1)\n",
            "Requirement already satisfied, skipping upgrade: pyasn1-modules>=0.2.1 in /usr/local/lib/python3.7/dist-packages (from google-auth<2,>=1.6.3->tensorboard!=2.5.0,>=2.2.0->pytorch-lightning) (0.2.8)\n",
            "Requirement already satisfied, skipping upgrade: rsa<5,>=3.1.4; python_version >= \"3.6\" in /usr/local/lib/python3.7/dist-packages (from google-auth<2,>=1.6.3->tensorboard!=2.5.0,>=2.2.0->pytorch-lightning) (4.7.2)\n",
            "Requirement already satisfied, skipping upgrade: cachetools<5.0,>=2.0.0 in /usr/local/lib/python3.7/dist-packages (from google-auth<2,>=1.6.3->tensorboard!=2.5.0,>=2.2.0->pytorch-lightning) (4.2.2)\n",
            "Requirement already satisfied, skipping upgrade: requests-oauthlib>=0.7.0 in /usr/local/lib/python3.7/dist-packages (from google-auth-oauthlib<0.5,>=0.4.1->tensorboard!=2.5.0,>=2.2.0->pytorch-lightning) (1.3.0)\n",
            "Requirement already satisfied, skipping upgrade: zipp>=0.5 in /usr/local/lib/python3.7/dist-packages (from importlib-metadata; python_version < \"3.8\"->markdown>=2.6.8->tensorboard!=2.5.0,>=2.2.0->pytorch-lightning) (3.4.1)\n",
            "Requirement already satisfied, skipping upgrade: pyasn1<0.5.0,>=0.4.6 in /usr/local/lib/python3.7/dist-packages (from pyasn1-modules>=0.2.1->google-auth<2,>=1.6.3->tensorboard!=2.5.0,>=2.2.0->pytorch-lightning) (0.4.8)\n",
            "Requirement already satisfied, skipping upgrade: oauthlib>=3.0.0 in /usr/local/lib/python3.7/dist-packages (from requests-oauthlib>=0.7.0->google-auth-oauthlib<0.5,>=0.4.1->tensorboard!=2.5.0,>=2.2.0->pytorch-lightning) (3.1.0)\n",
            "Building wheels for collected packages: future\n",
            "  Building wheel for future (setup.py) ... \u001b[?25l\u001b[?25hdone\n",
            "  Created wheel for future: filename=future-0.18.2-cp37-none-any.whl size=491058 sha256=5bcc6d9d336c89d6e6a72c0a468b22b463c6173ec63a2100aa828bcf8601aaa2\n",
            "  Stored in directory: /root/.cache/pip/wheels/8b/99/a0/81daf51dcd359a9377b110a8a886b3895921802d2fc1b2397e\n",
            "Successfully built future\n",
            "Installing collected packages: future, async-timeout, multidict, yarl, aiohttp, fsspec, torchmetrics, PyYAML, pyDeprecate, pytorch-lightning\n",
            "  Found existing installation: future 0.16.0\n",
            "    Uninstalling future-0.16.0:\n",
            "      Successfully uninstalled future-0.16.0\n",
            "  Found existing installation: PyYAML 3.13\n",
            "    Uninstalling PyYAML-3.13:\n",
            "      Successfully uninstalled PyYAML-3.13\n",
            "Successfully installed PyYAML-5.4.1 aiohttp-3.7.4.post0 async-timeout-3.0.1 fsspec-2021.5.0 future-0.18.2 multidict-5.1.0 pyDeprecate-0.3.0 pytorch-lightning-1.3.1 torchmetrics-0.3.2 yarl-1.6.3\n"
          ],
          "name": "stdout"
        },
        {
          "output_type": "display_data",
          "data": {
            "application/vnd.colab-display-data+json": {
              "pip_warning": {
                "packages": [
                  "yaml"
                ]
              }
            }
          },
          "metadata": {
            "tags": []
          }
        },
        {
          "output_type": "stream",
          "text": [
            "Global seed set to 42\n"
          ],
          "name": "stderr"
        },
        {
          "output_type": "execute_result",
          "data": {
            "text/plain": [
              "42"
            ]
          },
          "metadata": {
            "tags": []
          },
          "execution_count": 63
        }
      ]
    },
    {
      "cell_type": "code",
      "metadata": {
        "id": "9bxzo30u8ZfY"
      },
      "source": [
        "df = pd.read_csv('https://raw.githubusercontent.com/SidtheKidx/tone-classification-CadenceIQ/main/datasets/Tones.csv?token=AJVH2HYYDHA7F3BZ44OVHFTAU7XYI')"
      ],
      "execution_count": 2,
      "outputs": []
    },
    {
      "cell_type": "code",
      "metadata": {
        "id": "7RBQuBjg82nT"
      },
      "source": [
        "df = df.drop(columns=[\"Unnamed: 0\", \"Unnamed: 0.1\"], axis=1)"
      ],
      "execution_count": 3,
      "outputs": []
    },
    {
      "cell_type": "code",
      "metadata": {
        "colab": {
          "base_uri": "https://localhost:8080/",
          "height": 1000
        },
        "id": "SrDpw5lS9gQl",
        "outputId": "d991c6f4-afd2-44a7-c3ff-271bec72ae36"
      },
      "source": [
        "df.head(40)"
      ],
      "execution_count": 4,
      "outputs": [
        {
          "output_type": "execute_result",
          "data": {
            "text/html": [
              "<div>\n",
              "<style scoped>\n",
              "    .dataframe tbody tr th:only-of-type {\n",
              "        vertical-align: middle;\n",
              "    }\n",
              "\n",
              "    .dataframe tbody tr th {\n",
              "        vertical-align: top;\n",
              "    }\n",
              "\n",
              "    .dataframe thead th {\n",
              "        text-align: right;\n",
              "    }\n",
              "</style>\n",
              "<table border=\"1\" class=\"dataframe\">\n",
              "  <thead>\n",
              "    <tr style=\"text-align: right;\">\n",
              "      <th></th>\n",
              "      <th>sentence</th>\n",
              "      <th>tones</th>\n",
              "      <th>tags</th>\n",
              "    </tr>\n",
              "  </thead>\n",
              "  <tbody>\n",
              "    <tr>\n",
              "      <th>0</th>\n",
              "      <td>i didnt feel humiliated</td>\n",
              "      <td>{  \"document_tone\": {    \"tones\": [      {    ...</td>\n",
              "      <td>['tentative']</td>\n",
              "    </tr>\n",
              "    <tr>\n",
              "      <th>1</th>\n",
              "      <td>i can go from feeling so hopeless to so damned...</td>\n",
              "      <td>{  \"document_tone\": {    \"tones\": [      {    ...</td>\n",
              "      <td>['sadness', 'tentative']</td>\n",
              "    </tr>\n",
              "    <tr>\n",
              "      <th>2</th>\n",
              "      <td>im grabbing a minute to post i feel greedy wrong</td>\n",
              "      <td>{  \"document_tone\": {    \"tones\": [      {    ...</td>\n",
              "      <td>['sadness']</td>\n",
              "    </tr>\n",
              "    <tr>\n",
              "      <th>3</th>\n",
              "      <td>i am ever feeling nostalgic about the fireplac...</td>\n",
              "      <td>{  \"document_tone\": {    \"tones\": [      {    ...</td>\n",
              "      <td>['sadness', 'analytical']</td>\n",
              "    </tr>\n",
              "    <tr>\n",
              "      <th>4</th>\n",
              "      <td>i am feeling grouchy</td>\n",
              "      <td>{  \"document_tone\": {    \"tones\": [      {    ...</td>\n",
              "      <td>['anger', 'sadness']</td>\n",
              "    </tr>\n",
              "    <tr>\n",
              "      <th>5</th>\n",
              "      <td>ive been feeling a little burdened lately wasn...</td>\n",
              "      <td>{  \"document_tone\": {    \"tones\": [      {    ...</td>\n",
              "      <td>['sadness', 'tentative']</td>\n",
              "    </tr>\n",
              "    <tr>\n",
              "      <th>6</th>\n",
              "      <td>ive been taking or milligrams or times recomme...</td>\n",
              "      <td>{  \"document_tone\": {    \"tones\": [      {    ...</td>\n",
              "      <td>['joy', 'tentative']</td>\n",
              "    </tr>\n",
              "    <tr>\n",
              "      <th>7</th>\n",
              "      <td>i feel as confused about life as a teenager or...</td>\n",
              "      <td>{  \"document_tone\": {    \"tones\": [      {    ...</td>\n",
              "      <td>['sadness', 'tentative']</td>\n",
              "    </tr>\n",
              "    <tr>\n",
              "      <th>8</th>\n",
              "      <td>i have been with petronas for years i feel tha...</td>\n",
              "      <td>{  \"document_tone\": {    \"tones\": [      {    ...</td>\n",
              "      <td>['joy']</td>\n",
              "    </tr>\n",
              "    <tr>\n",
              "      <th>9</th>\n",
              "      <td>i feel romantic too</td>\n",
              "      <td>{  \"document_tone\": {    \"tones\": [      {    ...</td>\n",
              "      <td>['joy', 'tentative']</td>\n",
              "    </tr>\n",
              "    <tr>\n",
              "      <th>10</th>\n",
              "      <td>i feel like i have to make the suffering i m s...</td>\n",
              "      <td>{  \"document_tone\": {    \"tones\": [      {    ...</td>\n",
              "      <td>['sadness', 'analytical']</td>\n",
              "    </tr>\n",
              "    <tr>\n",
              "      <th>11</th>\n",
              "      <td>i do feel that running is a divine experience ...</td>\n",
              "      <td>{  \"document_tone\": {    \"tones\": [      {    ...</td>\n",
              "      <td>['tentative']</td>\n",
              "    </tr>\n",
              "    <tr>\n",
              "      <th>12</th>\n",
              "      <td>i think it s the easiest time of year to feel ...</td>\n",
              "      <td>{  \"document_tone\": {    \"tones\": [      {    ...</td>\n",
              "      <td>['joy', 'analytical']</td>\n",
              "    </tr>\n",
              "    <tr>\n",
              "      <th>13</th>\n",
              "      <td>i feel low energy i m just thirsty</td>\n",
              "      <td>{  \"document_tone\": {    \"tones\": [      {    ...</td>\n",
              "      <td>['tentative']</td>\n",
              "    </tr>\n",
              "    <tr>\n",
              "      <th>14</th>\n",
              "      <td>i have immense sympathy with the general point...</td>\n",
              "      <td>{  \"document_tone\": {    \"tones\": [      {    ...</td>\n",
              "      <td>['sadness', 'tentative']</td>\n",
              "    </tr>\n",
              "    <tr>\n",
              "      <th>15</th>\n",
              "      <td>i do not feel reassured anxiety is on each side</td>\n",
              "      <td>{  \"document_tone\": {    \"tones\": [      {    ...</td>\n",
              "      <td>['fear']</td>\n",
              "    </tr>\n",
              "    <tr>\n",
              "      <th>16</th>\n",
              "      <td>i didnt really feel that embarrassed</td>\n",
              "      <td>{  \"document_tone\": {    \"tones\": [      {    ...</td>\n",
              "      <td>['analytical', 'tentative']</td>\n",
              "    </tr>\n",
              "    <tr>\n",
              "      <th>17</th>\n",
              "      <td>i feel pretty pathetic most of the time</td>\n",
              "      <td>{  \"document_tone\": {    \"tones\": [      {    ...</td>\n",
              "      <td>['sadness', 'tentative']</td>\n",
              "    </tr>\n",
              "    <tr>\n",
              "      <th>18</th>\n",
              "      <td>i started feeling sentimental about dolls i ha...</td>\n",
              "      <td>{  \"document_tone\": {    \"tones\": [      {    ...</td>\n",
              "      <td>['joy']</td>\n",
              "    </tr>\n",
              "    <tr>\n",
              "      <th>19</th>\n",
              "      <td>i feel irritated and rejected without anyone d...</td>\n",
              "      <td>{  \"document_tone\": {    \"tones\": [      {    ...</td>\n",
              "      <td>['tentative']</td>\n",
              "    </tr>\n",
              "    <tr>\n",
              "      <th>20</th>\n",
              "      <td>i am feeling completely overwhelmed i have two...</td>\n",
              "      <td>{  \"document_tone\": {    \"tones\": [      {    ...</td>\n",
              "      <td>['joy']</td>\n",
              "    </tr>\n",
              "    <tr>\n",
              "      <th>21</th>\n",
              "      <td>i was able to help chai lifeline with your sup...</td>\n",
              "      <td>{  \"document_tone\": {    \"tones\": [      {    ...</td>\n",
              "      <td>['joy']</td>\n",
              "    </tr>\n",
              "    <tr>\n",
              "      <th>22</th>\n",
              "      <td>i already feel like i fucked up though because...</td>\n",
              "      <td>{  \"document_tone\": {    \"tones\": [      {    ...</td>\n",
              "      <td>['sadness']</td>\n",
              "    </tr>\n",
              "    <tr>\n",
              "      <th>23</th>\n",
              "      <td>i still love my so and wish the best for him i...</td>\n",
              "      <td>{  \"document_tone\": {    \"tones\": [      {    ...</td>\n",
              "      <td>['anger']</td>\n",
              "    </tr>\n",
              "    <tr>\n",
              "      <th>24</th>\n",
              "      <td>i feel so inhibited in someone elses kitchen l...</td>\n",
              "      <td>{  \"document_tone\": {    \"tones\": [      {    ...</td>\n",
              "      <td>['tentative']</td>\n",
              "    </tr>\n",
              "    <tr>\n",
              "      <th>25</th>\n",
              "      <td>i become overwhelmed and feel defeated</td>\n",
              "      <td>{  \"document_tone\": {    \"tones\": [      {    ...</td>\n",
              "      <td>['sadness', 'fear', 'tentative']</td>\n",
              "    </tr>\n",
              "    <tr>\n",
              "      <th>26</th>\n",
              "      <td>i feel kinda appalled that she feels like she ...</td>\n",
              "      <td>{  \"document_tone\": {    \"tones\": [      {    ...</td>\n",
              "      <td>['tentative']</td>\n",
              "    </tr>\n",
              "    <tr>\n",
              "      <th>27</th>\n",
              "      <td>i feel more superior dead chicken or grieving ...</td>\n",
              "      <td>{  \"document_tone\": {    \"tones\": [      {    ...</td>\n",
              "      <td>['sadness', 'tentative']</td>\n",
              "    </tr>\n",
              "    <tr>\n",
              "      <th>28</th>\n",
              "      <td>i get giddy over feeling elegant in a perfectl...</td>\n",
              "      <td>{  \"document_tone\": {    \"tones\": [      {    ...</td>\n",
              "      <td>['joy', 'confident']</td>\n",
              "    </tr>\n",
              "    <tr>\n",
              "      <th>29</th>\n",
              "      <td>i remember feeling acutely distressed for a fe...</td>\n",
              "      <td>{  \"document_tone\": {    \"tones\": [      {    ...</td>\n",
              "      <td>['analytical']</td>\n",
              "    </tr>\n",
              "    <tr>\n",
              "      <th>30</th>\n",
              "      <td>i have seen heard and read over the past coupl...</td>\n",
              "      <td>{  \"document_tone\": {    \"tones\": [      {    ...</td>\n",
              "      <td>['sadness']</td>\n",
              "    </tr>\n",
              "    <tr>\n",
              "      <th>31</th>\n",
              "      <td>i climbed the hill feeling frustrated that id ...</td>\n",
              "      <td>{  \"document_tone\": {    \"tones\": [      {    ...</td>\n",
              "      <td>['anger', 'analytical']</td>\n",
              "    </tr>\n",
              "    <tr>\n",
              "      <th>32</th>\n",
              "      <td>i can t imagine a real life scenario where i w...</td>\n",
              "      <td>{  \"document_tone\": {    \"tones\": [      {    ...</td>\n",
              "      <td>['sadness', 'analytical']</td>\n",
              "    </tr>\n",
              "    <tr>\n",
              "      <th>33</th>\n",
              "      <td>i am not sure what would make me feel content ...</td>\n",
              "      <td>{  \"document_tone\": {    \"tones\": [      {    ...</td>\n",
              "      <td>['tentative', 'analytical']</td>\n",
              "    </tr>\n",
              "    <tr>\n",
              "      <th>34</th>\n",
              "      <td>i do however want you to know that if somethin...</td>\n",
              "      <td>{  \"document_tone\": {    \"tones\": [      {    ...</td>\n",
              "      <td>['sadness', 'analytical', 'tentative']</td>\n",
              "    </tr>\n",
              "    <tr>\n",
              "      <th>35</th>\n",
              "      <td>i feel a bit rude writing to an elderly gentle...</td>\n",
              "      <td>{  \"document_tone\": {    \"tones\": [      {    ...</td>\n",
              "      <td>['sadness', 'tentative', 'analytical']</td>\n",
              "    </tr>\n",
              "    <tr>\n",
              "      <th>36</th>\n",
              "      <td>i need you i need someone i need to be protect...</td>\n",
              "      <td>{  \"document_tone\": {    \"tones\": [      {    ...</td>\n",
              "      <td>['sadness', 'tentative', 'analytical']</td>\n",
              "    </tr>\n",
              "    <tr>\n",
              "      <th>37</th>\n",
              "      <td>i plan to share my everyday life stories trave...</td>\n",
              "      <td>{  \"document_tone\": {    \"tones\": [      {    ...</td>\n",
              "      <td>['joy', 'tentative']</td>\n",
              "    </tr>\n",
              "    <tr>\n",
              "      <th>38</th>\n",
              "      <td>i already have my christmas trees up i got two...</td>\n",
              "      <td>{  \"document_tone\": {    \"tones\": [      {    ...</td>\n",
              "      <td>['joy']</td>\n",
              "    </tr>\n",
              "    <tr>\n",
              "      <th>39</th>\n",
              "      <td>ive worn it once on its own with a little conc...</td>\n",
              "      <td>{  \"document_tone\": {    \"tones\": [      {    ...</td>\n",
              "      <td>['joy']</td>\n",
              "    </tr>\n",
              "  </tbody>\n",
              "</table>\n",
              "</div>"
            ],
            "text/plain": [
              "                                             sentence  ...                                    tags\n",
              "0                             i didnt feel humiliated  ...                           ['tentative']\n",
              "1   i can go from feeling so hopeless to so damned...  ...                ['sadness', 'tentative']\n",
              "2    im grabbing a minute to post i feel greedy wrong  ...                             ['sadness']\n",
              "3   i am ever feeling nostalgic about the fireplac...  ...               ['sadness', 'analytical']\n",
              "4                                i am feeling grouchy  ...                    ['anger', 'sadness']\n",
              "5   ive been feeling a little burdened lately wasn...  ...                ['sadness', 'tentative']\n",
              "6   ive been taking or milligrams or times recomme...  ...                    ['joy', 'tentative']\n",
              "7   i feel as confused about life as a teenager or...  ...                ['sadness', 'tentative']\n",
              "8   i have been with petronas for years i feel tha...  ...                                 ['joy']\n",
              "9                                 i feel romantic too  ...                    ['joy', 'tentative']\n",
              "10  i feel like i have to make the suffering i m s...  ...               ['sadness', 'analytical']\n",
              "11  i do feel that running is a divine experience ...  ...                           ['tentative']\n",
              "12  i think it s the easiest time of year to feel ...  ...                   ['joy', 'analytical']\n",
              "13                 i feel low energy i m just thirsty  ...                           ['tentative']\n",
              "14  i have immense sympathy with the general point...  ...                ['sadness', 'tentative']\n",
              "15    i do not feel reassured anxiety is on each side  ...                                ['fear']\n",
              "16               i didnt really feel that embarrassed  ...             ['analytical', 'tentative']\n",
              "17            i feel pretty pathetic most of the time  ...                ['sadness', 'tentative']\n",
              "18  i started feeling sentimental about dolls i ha...  ...                                 ['joy']\n",
              "19  i feel irritated and rejected without anyone d...  ...                           ['tentative']\n",
              "20  i am feeling completely overwhelmed i have two...  ...                                 ['joy']\n",
              "21  i was able to help chai lifeline with your sup...  ...                                 ['joy']\n",
              "22  i already feel like i fucked up though because...  ...                             ['sadness']\n",
              "23  i still love my so and wish the best for him i...  ...                               ['anger']\n",
              "24  i feel so inhibited in someone elses kitchen l...  ...                           ['tentative']\n",
              "25             i become overwhelmed and feel defeated  ...        ['sadness', 'fear', 'tentative']\n",
              "26  i feel kinda appalled that she feels like she ...  ...                           ['tentative']\n",
              "27  i feel more superior dead chicken or grieving ...  ...                ['sadness', 'tentative']\n",
              "28  i get giddy over feeling elegant in a perfectl...  ...                    ['joy', 'confident']\n",
              "29  i remember feeling acutely distressed for a fe...  ...                          ['analytical']\n",
              "30  i have seen heard and read over the past coupl...  ...                             ['sadness']\n",
              "31  i climbed the hill feeling frustrated that id ...  ...                 ['anger', 'analytical']\n",
              "32  i can t imagine a real life scenario where i w...  ...               ['sadness', 'analytical']\n",
              "33  i am not sure what would make me feel content ...  ...             ['tentative', 'analytical']\n",
              "34  i do however want you to know that if somethin...  ...  ['sadness', 'analytical', 'tentative']\n",
              "35  i feel a bit rude writing to an elderly gentle...  ...  ['sadness', 'tentative', 'analytical']\n",
              "36  i need you i need someone i need to be protect...  ...  ['sadness', 'tentative', 'analytical']\n",
              "37  i plan to share my everyday life stories trave...  ...                    ['joy', 'tentative']\n",
              "38  i already have my christmas trees up i got two...  ...                                 ['joy']\n",
              "39  ive worn it once on its own with a little conc...  ...                                 ['joy']\n",
              "\n",
              "[40 rows x 3 columns]"
            ]
          },
          "metadata": {
            "tags": []
          },
          "execution_count": 4
        }
      ]
    },
    {
      "cell_type": "code",
      "metadata": {
        "colab": {
          "base_uri": "https://localhost:8080/"
        },
        "id": "niCldqK8Raa5",
        "outputId": "06b8e5c6-d567-4437-869a-b71043d28fa5"
      },
      "source": [
        "#Forced to convert Tags column from LIST type to PANDAS DATAFRAME type\n",
        "list_tones = []\n",
        "c = 0\n",
        "\n",
        "for json_data in df['tones']:\n",
        "    fresh_list = [] \n",
        "    data_dict = json.loads(str(json_data))\n",
        "\n",
        "    for document_tones in data_dict['document_tone']['tones']:\n",
        "      fresh_list.append(document_tones['tone_id'])\n",
        "      c+=1\n",
        "\n",
        "    list_tones.append(fresh_list)\n",
        "\n",
        "df['Tags'] = pd.Series(list_tones)\n",
        "\n",
        "print(list_tones)\n",
        "print(c)"
      ],
      "execution_count": 5,
      "outputs": [
        {
          "output_type": "stream",
          "text": [
            "[['tentative'], ['sadness', 'tentative'], ['sadness'], ['sadness', 'analytical'], ['anger', 'sadness'], ['sadness', 'tentative'], ['joy', 'tentative'], ['sadness', 'tentative'], ['joy'], ['joy', 'tentative'], ['sadness', 'analytical'], ['tentative'], ['joy', 'analytical'], ['tentative'], ['sadness', 'tentative'], ['fear'], ['analytical', 'tentative'], ['sadness', 'tentative'], ['joy'], ['tentative'], ['joy'], ['joy'], ['sadness'], ['anger'], ['tentative'], ['sadness', 'fear', 'tentative'], ['tentative'], ['sadness', 'tentative'], ['joy', 'confident'], ['analytical'], ['sadness'], ['anger', 'analytical'], ['sadness', 'analytical'], ['tentative', 'analytical'], ['sadness', 'analytical', 'tentative'], ['sadness', 'tentative', 'analytical'], ['sadness', 'tentative', 'analytical'], ['joy', 'tentative'], ['joy'], ['joy'], ['joy'], ['sadness'], ['tentative'], ['sadness'], ['sadness'], ['joy', 'confident'], ['sadness', 'analytical'], ['tentative'], ['tentative'], ['joy'], ['sadness', 'tentative', 'analytical'], ['anger'], ['joy'], ['sadness'], ['joy'], ['sadness', 'tentative'], ['joy', 'tentative'], ['sadness'], ['joy', 'tentative'], ['analytical'], ['sadness', 'analytical'], ['tentative'], ['joy', 'confident'], ['joy'], ['sadness', 'tentative', 'analytical'], ['confident'], ['sadness', 'tentative'], ['sadness', 'tentative'], ['sadness', 'analytical'], ['joy'], ['joy', 'analytical'], ['joy'], ['sadness', 'tentative'], ['sadness', 'analytical'], ['sadness', 'analytical', 'tentative'], ['sadness'], ['joy', 'confident'], ['joy', 'tentative', 'analytical'], ['tentative'], ['sadness'], ['fear'], ['joy', 'tentative'], ['sadness'], ['sadness'], ['sadness', 'tentative'], ['analytical'], ['anger'], ['sadness'], ['analytical'], ['tentative'], ['sadness'], ['sadness'], ['joy', 'tentative'], ['joy', 'analytical', 'tentative'], ['joy'], ['sadness', 'tentative', 'analytical'], ['joy', 'analytical'], ['tentative'], ['joy'], ['analytical'], ['sadness'], ['sadness', 'analytical', 'tentative'], ['confident'], ['sadness', 'tentative', 'analytical'], ['joy', 'tentative'], ['joy', 'confident'], ['joy'], ['fear', 'analytical', 'tentative'], ['analytical', 'tentative'], ['joy', 'confident'], ['joy', 'analytical', 'tentative'], ['joy', 'tentative', 'analytical'], ['joy', 'analytical'], ['joy'], ['joy'], ['joy', 'tentative'], ['sadness'], ['sadness', 'tentative', 'analytical'], ['sadness'], ['confident'], ['joy', 'analytical'], ['joy', 'analytical'], ['joy', 'tentative', 'analytical'], ['joy'], ['fear', 'tentative', 'analytical'], ['fear', 'tentative'], ['sadness', 'analytical', 'tentative'], ['joy', 'analytical'], ['analytical'], ['sadness', 'analytical'], ['tentative'], ['joy'], ['sadness', 'analytical'], ['sadness', 'tentative'], ['sadness', 'analytical'], ['fear', 'analytical'], ['sadness', 'analytical', 'tentative'], ['joy'], ['joy'], ['joy', 'analytical'], ['sadness', 'anger'], ['sadness', 'tentative'], ['sadness'], ['confident'], ['sadness'], ['fear'], ['joy', 'tentative', 'analytical'], ['analytical'], ['joy', 'confident'], ['tentative'], ['joy', 'analytical'], ['sadness'], ['sadness', 'tentative', 'analytical'], ['tentative'], ['analytical'], ['analytical'], ['joy', 'tentative'], ['sadness', 'tentative'], ['analytical'], ['sadness', 'analytical', 'confident'], ['joy', 'analytical', 'tentative'], ['joy', 'analytical', 'tentative'], ['joy', 'tentative'], ['fear', 'analytical', 'tentative'], ['tentative'], ['joy', 'analytical'], ['sadness', 'tentative'], ['sadness'], ['joy'], ['anger', 'confident', 'analytical'], ['sadness'], ['analytical'], ['analytical', 'tentative'], ['joy', 'analytical'], ['sadness'], ['joy', 'tentative'], ['tentative', 'analytical'], ['tentative'], ['sadness', 'analytical'], ['joy'], ['fear', 'tentative'], ['joy', 'tentative'], ['sadness', 'analytical'], ['sadness', 'tentative'], ['analytical', 'tentative'], ['joy'], ['tentative'], ['sadness'], ['joy', 'analytical'], ['joy', 'tentative'], ['sadness', 'analytical'], ['sadness', 'analytical', 'confident'], ['joy', 'analytical', 'tentative'], ['joy', 'confident'], ['joy', 'analytical'], ['sadness', 'analytical'], ['joy', 'analytical', 'confident'], ['sadness', 'confident'], ['sadness'], ['tentative'], ['sadness'], ['joy', 'tentative'], ['anger'], ['sadness', 'tentative', 'analytical'], ['confident'], ['sadness', 'analytical'], ['joy', 'tentative'], ['joy', 'analytical'], ['joy', 'confident'], ['sadness', 'tentative', 'analytical'], ['joy', 'tentative', 'analytical'], ['analytical'], ['fear', 'tentative'], ['sadness'], ['tentative', 'analytical'], ['sadness', 'tentative', 'analytical'], ['analytical'], ['tentative', 'analytical'], ['tentative'], ['joy', 'analytical'], ['fear', 'tentative'], ['joy', 'tentative'], ['analytical'], ['joy', 'analytical', 'tentative'], ['sadness', 'analytical'], ['joy', 'analytical', 'tentative'], ['sadness', 'analytical'], ['analytical'], ['analytical'], ['fear', 'tentative'], ['tentative', 'analytical'], ['analytical'], ['joy', 'analytical', 'tentative'], ['joy'], ['sadness', 'tentative'], ['sadness'], ['sadness', 'analytical', 'tentative'], ['tentative'], ['anger', 'tentative'], ['sadness', 'confident'], ['sadness', 'tentative'], ['analytical'], ['tentative'], ['fear'], ['sadness', 'tentative'], ['sadness'], ['joy'], ['sadness', 'tentative'], ['joy'], ['joy'], ['joy', 'tentative'], ['sadness'], ['sadness', 'confident', 'analytical'], ['tentative'], ['sadness'], ['analytical'], ['joy', 'confident'], ['joy'], ['fear'], ['tentative'], ['anger', 'analytical', 'tentative'], ['sadness'], ['sadness', 'analytical', 'tentative'], ['joy'], ['sadness', 'analytical'], ['joy', 'tentative'], ['confident', 'analytical'], ['joy'], ['confident'], ['sadness'], ['fear', 'tentative', 'analytical'], ['sadness', 'tentative'], ['sadness'], ['joy'], ['sadness', 'confident', 'analytical'], ['tentative'], ['fear'], ['joy'], ['analytical'], ['joy', 'tentative'], ['analytical'], ['tentative'], ['tentative', 'analytical'], ['joy', 'tentative'], ['joy'], ['joy', 'confident'], ['tentative'], ['joy', 'tentative'], ['joy', 'analytical'], ['sadness', 'analytical'], ['joy'], ['joy'], ['sadness', 'tentative', 'analytical'], ['joy', 'confident', 'analytical'], ['joy', 'analytical'], ['fear'], ['sadness', 'tentative'], ['sadness', 'analytical'], ['joy'], ['fear', 'tentative'], ['joy'], ['sadness'], ['sadness'], ['sadness', 'tentative'], ['tentative'], ['joy', 'tentative'], ['joy', 'tentative'], ['joy'], ['sadness', 'analytical'], ['confident'], ['fear'], ['fear'], ['joy', 'analytical', 'confident'], ['sadness', 'anger', 'tentative'], ['sadness'], ['joy', 'tentative'], ['anger', 'tentative'], ['joy', 'analytical', 'tentative'], ['sadness', 'analytical'], ['sadness', 'tentative'], ['tentative'], ['joy'], ['sadness', 'analytical', 'tentative'], ['sadness'], ['joy', 'tentative'], ['joy', 'tentative'], ['sadness', 'tentative'], ['joy', 'tentative', 'analytical'], ['joy', 'tentative'], ['sadness'], ['joy'], ['confident', 'analytical'], ['sadness', 'analytical'], ['joy', 'confident'], ['confident'], ['joy', 'analytical'], ['sadness'], ['sadness', 'analytical'], ['joy', 'tentative'], ['sadness', 'tentative'], ['joy', 'tentative'], ['sadness'], ['tentative'], ['confident'], ['sadness', 'tentative'], ['anger', 'tentative'], ['sadness'], ['sadness', 'tentative'], ['tentative'], ['sadness'], ['fear', 'tentative', 'analytical'], ['joy', 'tentative'], ['joy', 'tentative'], ['sadness', 'analytical'], ['sadness'], ['sadness', 'tentative', 'analytical'], ['joy', 'analytical', 'confident'], ['fear', 'tentative'], ['tentative', 'analytical'], ['sadness', 'analytical'], ['joy', 'confident'], ['tentative'], ['sadness', 'analytical'], ['joy', 'analytical'], ['joy', 'tentative'], ['joy'], ['analytical'], ['joy', 'analytical'], ['sadness', 'analytical'], ['analytical', 'confident'], ['joy'], ['joy', 'analytical', 'tentative'], ['fear', 'tentative'], ['tentative'], ['anger', 'analytical'], ['sadness'], ['joy', 'tentative'], ['analytical'], ['sadness', 'analytical'], ['analytical'], ['tentative'], ['sadness', 'analytical'], ['analytical', 'confident'], ['joy', 'analytical', 'tentative'], ['sadness'], ['joy'], ['joy', 'tentative'], ['joy'], ['analytical'], ['sadness', 'analytical'], ['analytical'], ['joy'], ['joy', 'tentative'], ['sadness'], ['joy'], ['joy'], ['joy', 'tentative'], ['tentative'], ['sadness', 'tentative'], ['confident', 'analytical'], ['joy', 'analytical', 'tentative'], ['sadness'], ['sadness', 'analytical', 'tentative'], ['fear', 'sadness'], ['joy', 'tentative'], ['analytical', 'tentative'], ['joy', 'tentative', 'analytical'], ['joy'], ['joy'], ['joy', 'analytical'], ['sadness', 'tentative'], ['tentative'], ['analytical'], ['joy'], ['sadness'], ['joy'], ['tentative'], ['sadness', 'analytical', 'tentative'], ['joy', 'confident'], ['sadness', 'tentative'], ['sadness', 'tentative'], ['joy'], ['analytical'], ['joy', 'tentative'], ['joy'], ['sadness', 'analytical', 'tentative'], ['fear', 'tentative'], ['joy'], ['fear', 'tentative'], ['joy', 'analytical'], ['sadness', 'tentative'], ['analytical'], ['joy'], ['joy', 'tentative'], ['joy'], ['confident'], ['anger'], ['joy', 'confident', 'analytical'], ['sadness', 'confident', 'analytical'], ['joy', 'tentative'], ['joy', 'analytical'], ['sadness', 'tentative'], ['analytical'], ['joy'], ['analytical'], ['joy', 'analytical'], ['joy', 'tentative', 'analytical'], ['confident'], ['joy', 'tentative'], ['joy', 'analytical', 'tentative'], ['tentative'], ['sadness'], ['joy', 'tentative', 'analytical'], ['joy', 'analytical'], ['joy'], ['sadness', 'confident'], ['joy', 'tentative'], ['sadness'], ['joy'], ['sadness', 'tentative'], ['sadness', 'tentative'], ['sadness', 'tentative'], ['tentative'], ['sadness', 'fear', 'tentative'], ['sadness'], ['fear'], ['anger', 'tentative'], ['sadness', 'analytical'], ['sadness', 'tentative'], ['joy', 'tentative'], ['joy'], ['joy', 'confident'], ['sadness', 'tentative', 'analytical'], ['analytical'], ['sadness', 'analytical'], ['sadness'], ['joy'], ['confident'], ['sadness'], ['sadness', 'tentative'], ['joy', 'analytical'], ['joy', 'tentative'], ['anger', 'tentative'], ['joy', 'analytical'], ['joy', 'confident'], ['fear', 'analytical'], ['fear'], ['sadness', 'tentative'], ['sadness', 'tentative'], ['fear'], ['joy', 'tentative'], ['fear', 'confident', 'analytical'], ['analytical'], ['sadness', 'analytical'], ['joy'], ['tentative'], ['sadness', 'analytical'], ['anger', 'analytical'], ['joy', 'tentative'], ['anger', 'analytical'], ['joy'], ['joy', 'analytical', 'tentative'], ['joy', 'analytical'], ['analytical'], ['tentative'], ['sadness', 'tentative'], ['anger', 'tentative'], ['sadness', 'confident'], ['anger', 'confident'], ['confident'], ['confident'], ['fear', 'tentative'], ['joy'], ['tentative', 'analytical'], ['sadness', 'tentative'], ['sadness', 'tentative'], ['analytical', 'tentative'], ['analytical'], ['joy'], ['fear', 'analytical'], ['tentative'], ['analytical'], ['sadness'], ['tentative'], ['joy'], ['sadness'], ['sadness'], ['analytical'], ['sadness', 'analytical'], ['analytical'], ['sadness', 'tentative'], ['sadness', 'analytical'], ['joy', 'analytical'], ['sadness'], ['joy', 'analytical', 'confident'], ['analytical', 'confident'], ['joy', 'analytical', 'tentative'], ['sadness', 'tentative'], ['sadness', 'analytical', 'tentative'], ['joy', 'analytical'], ['sadness'], ['fear'], ['joy', 'confident'], ['fear', 'confident'], ['anger', 'tentative'], ['tentative'], ['sadness', 'tentative'], ['sadness'], ['sadness'], ['tentative'], ['joy', 'analytical', 'confident'], ['analytical'], ['sadness', 'analytical', 'tentative'], ['sadness', 'confident', 'analytical'], ['fear', 'tentative'], ['tentative'], ['joy', 'tentative'], ['joy', 'tentative'], ['sadness'], ['fear'], ['joy', 'analytical'], ['sadness', 'tentative'], ['sadness'], ['tentative'], ['joy', 'tentative'], ['tentative'], ['sadness', 'analytical'], ['sadness', 'analytical'], ['joy'], ['joy', 'tentative'], ['sadness', 'tentative'], ['sadness'], ['joy', 'analytical'], ['sadness', 'tentative'], ['sadness', 'analytical'], ['joy'], ['sadness'], ['joy', 'tentative'], ['tentative'], ['anger', 'tentative'], ['fear', 'tentative'], ['sadness', 'analytical'], ['tentative'], ['joy', 'analytical'], ['joy', 'analytical'], ['sadness', 'analytical'], ['sadness', 'analytical'], ['analytical', 'confident'], ['sadness', 'tentative'], ['joy', 'confident', 'analytical'], ['tentative', 'analytical'], ['joy', 'analytical'], ['sadness', 'tentative'], ['anger', 'tentative', 'analytical'], ['sadness', 'tentative'], ['sadness'], ['sadness', 'tentative'], ['joy'], ['tentative', 'analytical'], ['tentative'], ['joy', 'analytical'], ['sadness', 'tentative'], ['sadness'], ['analytical'], ['analytical'], ['joy'], ['sadness', 'analytical'], ['fear'], ['sadness', 'analytical', 'tentative'], ['sadness', 'analytical'], ['joy'], ['joy'], ['analytical'], ['joy', 'confident', 'analytical'], ['sadness', 'analytical'], ['sadness'], ['sadness', 'tentative'], ['sadness', 'tentative'], ['sadness', 'analytical'], ['joy', 'analytical'], ['tentative', 'analytical'], ['joy', 'analytical'], ['tentative'], ['joy'], ['joy'], ['joy', 'analytical', 'tentative'], ['fear', 'tentative'], ['anger', 'tentative'], ['tentative'], ['sadness'], ['joy', 'analytical'], ['joy', 'analytical'], ['analytical'], ['anger', 'tentative'], ['joy', 'tentative'], ['sadness'], ['confident'], ['anger', 'tentative'], ['sadness', 'analytical', 'tentative'], ['joy', 'tentative'], ['sadness', 'tentative'], ['sadness', 'tentative'], ['sadness', 'tentative'], ['joy', 'tentative'], ['joy', 'analytical'], ['tentative'], ['tentative'], ['confident'], ['fear', 'tentative', 'analytical'], ['tentative'], ['tentative'], ['sadness', 'tentative'], ['sadness', 'tentative'], ['joy', 'analytical'], ['sadness', 'analytical'], ['joy', 'analytical'], ['sadness', 'tentative'], ['sadness'], ['tentative'], ['confident'], ['joy', 'analytical'], ['analytical'], ['sadness', 'analytical'], ['analytical'], ['sadness'], ['joy'], ['joy', 'tentative'], ['sadness', 'analytical', 'tentative'], ['sadness'], ['tentative'], ['joy', 'analytical', 'tentative'], ['joy', 'tentative'], ['joy', 'analytical'], ['tentative'], ['joy', 'confident'], ['joy', 'tentative'], ['fear', 'tentative'], ['sadness', 'tentative'], ['sadness', 'tentative', 'analytical'], ['fear'], ['confident'], ['sadness', 'tentative'], ['sadness'], ['sadness', 'analytical'], ['sadness', 'tentative'], ['joy', 'tentative'], ['confident'], ['fear', 'tentative'], ['joy', 'tentative'], ['analytical'], ['joy'], ['sadness', 'analytical'], ['anger', 'tentative'], ['tentative', 'analytical'], ['joy'], ['tentative'], ['sadness', 'analytical'], ['sadness'], ['tentative'], ['joy'], ['fear', 'analytical'], ['sadness'], ['joy'], ['sadness', 'tentative'], ['fear'], ['sadness', 'analytical', 'confident'], ['joy'], ['fear'], ['tentative'], ['joy'], ['tentative'], ['joy', 'analytical', 'tentative'], ['sadness', 'tentative', 'analytical'], ['joy', 'tentative'], ['joy', 'tentative'], ['analytical'], ['sadness'], ['tentative'], ['sadness', 'tentative', 'analytical'], ['sadness', 'analytical', 'tentative'], ['sadness', 'tentative'], ['analytical'], ['sadness', 'tentative'], ['analytical'], ['sadness', 'tentative', 'analytical'], ['sadness'], ['analytical'], ['joy'], ['sadness'], ['sadness', 'tentative', 'analytical'], ['sadness', 'tentative'], ['tentative'], ['sadness', 'tentative'], ['sadness', 'analytical', 'tentative'], ['joy', 'confident'], ['joy', 'tentative'], ['anger'], ['sadness'], ['sadness', 'analytical'], ['tentative'], ['tentative'], ['joy'], ['sadness', 'analytical'], ['tentative'], ['anger', 'sadness', 'fear'], ['joy', 'tentative'], ['joy', 'tentative'], ['joy'], ['joy', 'tentative'], ['tentative', 'analytical'], ['tentative'], ['analytical'], ['sadness', 'tentative'], ['sadness', 'analytical'], ['tentative'], ['sadness', 'confident'], ['sadness', 'analytical'], ['sadness', 'tentative'], ['sadness'], ['joy'], ['tentative'], ['confident'], ['fear', 'tentative'], ['joy'], ['joy'], ['joy', 'tentative'], ['joy', 'confident'], ['confident'], ['analytical'], ['sadness', 'tentative', 'analytical'], ['anger', 'tentative'], ['joy'], ['joy'], ['sadness', 'tentative'], ['fear', 'analytical'], ['confident'], ['sadness', 'analytical', 'tentative'], ['sadness', 'tentative', 'analytical'], ['tentative'], ['analytical'], ['joy'], ['joy', 'tentative'], ['anger', 'sadness', 'tentative'], ['joy'], ['analytical'], ['analytical', 'tentative'], ['sadness'], ['sadness', 'tentative'], ['joy', 'tentative'], ['joy'], ['tentative'], ['joy', 'tentative', 'analytical'], ['sadness'], ['sadness'], ['fear', 'tentative'], ['tentative'], ['sadness', 'analytical'], ['sadness', 'analytical', 'tentative'], ['tentative', 'analytical'], ['confident'], ['sadness', 'anger', 'tentative'], ['joy', 'analytical'], ['sadness'], ['tentative'], ['sadness', 'tentative'], ['sadness', 'tentative', 'analytical'], ['sadness', 'analytical'], ['tentative', 'analytical'], ['analytical', 'tentative'], ['sadness', 'tentative'], ['sadness'], ['sadness', 'tentative'], ['joy', 'tentative'], ['joy', 'analytical'], ['sadness'], ['sadness', 'analytical'], ['analytical', 'tentative'], ['joy'], ['sadness', 'tentative'], ['joy', 'analytical', 'tentative'], ['joy', 'tentative'], ['joy', 'analytical', 'tentative'], ['sadness', 'analytical'], ['joy', 'confident'], ['sadness', 'analytical', 'tentative'], ['sadness'], ['analytical'], ['analytical'], ['joy'], ['sadness'], ['sadness', 'confident', 'analytical'], ['joy', 'analytical'], ['sadness'], ['sadness', 'analytical'], ['sadness', 'tentative'], ['joy', 'tentative'], ['joy'], ['joy', 'tentative'], ['sadness', 'analytical'], ['joy', 'analytical'], ['sadness', 'analytical'], ['joy'], ['sadness', 'tentative'], ['analytical'], ['sadness', 'tentative'], ['sadness'], ['fear'], ['sadness', 'tentative'], ['sadness', 'analytical', 'tentative'], ['joy', 'tentative'], ['sadness'], ['sadness', 'analytical'], ['joy', 'analytical', 'tentative'], ['joy', 'analytical'], ['sadness', 'tentative'], ['sadness', 'analytical', 'tentative'], ['joy', 'tentative'], ['sadness'], ['joy', 'analytical'], ['sadness', 'tentative'], ['sadness', 'confident'], ['anger', 'tentative'], ['sadness', 'tentative', 'analytical'], ['sadness'], ['sadness', 'tentative'], ['joy', 'tentative'], ['tentative'], ['joy', 'tentative'], ['analytical', 'tentative'], ['sadness', 'tentative'], ['fear'], ['joy'], ['joy'], ['analytical'], ['analytical'], ['joy'], ['sadness', 'confident'], ['sadness', 'analytical'], ['tentative'], ['sadness', 'tentative'], ['joy', 'tentative'], ['tentative'], ['joy'], ['sadness', 'analytical'], ['analytical'], ['joy'], ['sadness', 'analytical', 'tentative'], ['anger', 'tentative'], ['joy', 'tentative'], ['sadness', 'tentative', 'analytical'], ['joy', 'analytical'], ['sadness', 'analytical', 'confident'], ['anger'], ['joy', 'analytical', 'tentative'], ['joy', 'tentative'], ['analytical', 'confident'], ['sadness', 'analytical'], ['sadness', 'analytical'], ['joy', 'analytical'], ['sadness', 'tentative'], ['anger'], ['joy', 'analytical'], ['sadness'], ['joy', 'tentative'], ['joy', 'analytical'], ['sadness', 'analytical'], ['sadness'], ['tentative'], ['joy'], ['anger', 'analytical', 'confident'], ['joy'], ['fear', 'tentative'], ['sadness'], ['joy', 'confident'], ['confident'], ['anger'], ['sadness'], ['sadness', 'analytical', 'tentative'], ['sadness'], ['sadness'], ['joy'], ['analytical', 'confident'], ['joy', 'analytical'], ['sadness', 'tentative'], ['analytical'], ['analytical'], ['sadness', 'tentative'], ['fear', 'confident'], ['tentative'], ['analytical'], ['tentative'], ['analytical'], ['joy', 'tentative'], ['sadness', 'tentative'], ['sadness', 'analytical', 'tentative'], ['tentative', 'analytical'], ['confident'], ['joy', 'analytical', 'tentative'], ['sadness', 'tentative', 'analytical'], ['sadness', 'tentative'], ['tentative'], ['analytical'], ['sadness'], ['sadness', 'confident'], ['joy', 'confident', 'analytical'], ['sadness', 'fear', 'tentative', 'analytical'], ['fear'], ['tentative'], ['joy', 'analytical', 'tentative'], ['sadness'], ['joy', 'tentative'], ['joy', 'confident'], ['tentative'], ['joy', 'tentative'], ['fear', 'analytical', 'tentative'], ['tentative'], ['confident', 'analytical'], ['joy', 'analytical', 'tentative'], ['tentative', 'analytical'], ['joy', 'tentative'], ['joy'], ['sadness', 'tentative'], ['sadness', 'tentative'], ['sadness'], ['sadness', 'tentative'], ['anger', 'tentative'], ['joy', 'tentative', 'analytical'], ['tentative'], ['joy', 'analytical'], ['joy'], ['sadness'], ['tentative'], ['sadness', 'tentative'], ['joy', 'tentative'], ['joy'], ['fear'], ['fear', 'sadness'], ['joy'], ['tentative'], ['fear', 'analytical'], ['joy', 'analytical', 'tentative'], ['sadness'], ['analytical'], ['joy', 'analytical', 'tentative'], ['sadness', 'tentative'], ['sadness', 'tentative'], ['sadness', 'confident'], ['tentative'], ['joy', 'analytical'], ['sadness', 'confident'], ['joy'], ['sadness', 'analytical'], ['joy', 'analytical'], ['joy', 'analytical', 'confident'], ['tentative'], ['sadness'], ['tentative'], ['joy', 'tentative'], ['joy'], ['tentative'], ['fear', 'analytical'], ['sadness'], ['joy', 'analytical', 'tentative'], ['tentative'], ['sadness', 'analytical'], ['sadness', 'tentative'], ['joy', 'analytical'], ['tentative', 'analytical'], ['sadness', 'tentative'], ['sadness', 'tentative'], ['joy', 'tentative'], ['tentative'], ['sadness', 'analytical', 'tentative'], ['sadness', 'tentative'], ['sadness', 'analytical', 'confident'], ['joy', 'tentative'], ['fear'], ['joy', 'confident'], ['sadness', 'analytical'], ['joy', 'analytical'], ['joy', 'analytical', 'tentative'], ['joy', 'analytical'], ['joy'], ['sadness', 'tentative'], ['joy'], ['sadness', 'tentative'], ['analytical'], ['sadness', 'tentative'], ['analytical'], ['analytical'], ['analytical'], ['sadness', 'confident'], ['tentative'], ['fear', 'analytical'], ['sadness', 'analytical', 'tentative'], ['joy'], ['anger'], ['joy'], ['joy'], ['sadness', 'analytical', 'tentative'], ['joy', 'tentative'], ['sadness'], ['fear'], ['joy', 'analytical'], ['fear', 'sadness'], ['joy', 'confident', 'analytical'], ['joy'], ['anger'], ['sadness', 'tentative'], ['joy', 'tentative', 'analytical'], ['sadness', 'confident'], ['sadness', 'tentative'], ['sadness'], ['sadness'], ['sadness', 'tentative'], ['joy'], ['joy', 'analytical', 'confident'], ['joy'], ['sadness'], ['tentative'], ['anger', 'analytical', 'tentative'], ['confident', 'analytical'], ['analytical'], ['sadness', 'tentative', 'analytical'], ['anger', 'tentative', 'analytical'], ['sadness', 'tentative'], ['joy', 'analytical'], ['tentative'], ['sadness', 'tentative'], ['joy', 'analytical'], ['sadness', 'confident', 'analytical'], ['sadness', 'tentative'], ['sadness', 'confident'], ['joy', 'tentative'], ['joy', 'confident'], ['sadness', 'analytical'], ['analytical'], ['sadness', 'analytical'], ['joy'], ['sadness', 'analytical', 'tentative'], ['sadness', 'tentative'], ['analytical'], ['fear', 'tentative'], ['sadness', 'tentative'], ['sadness'], ['analytical'], ['joy', 'tentative'], ['sadness'], ['sadness', 'tentative'], ['sadness', 'tentative'], ['analytical'], ['tentative'], ['sadness', 'analytical'], ['joy', 'confident'], ['fear', 'confident'], ['tentative'], ['sadness', 'tentative'], ['joy', 'analytical'], ['analytical', 'tentative'], ['joy', 'analytical'], ['joy', 'tentative'], ['anger'], ['analytical', 'tentative'], ['joy', 'tentative'], ['anger'], ['sadness', 'tentative'], ['sadness', 'tentative', 'analytical'], ['sadness'], ['analytical'], ['joy', 'analytical'], ['sadness', 'analytical'], ['joy', 'tentative'], ['sadness', 'tentative'], ['joy', 'confident'], ['analytical', 'tentative'], ['joy', 'analytical'], ['anger'], ['tentative'], ['sadness', 'fear', 'confident'], ['analytical', 'tentative'], ['sadness'], ['joy', 'tentative'], ['sadness'], ['sadness', 'tentative'], ['tentative'], ['sadness'], ['sadness'], ['analytical'], ['joy'], ['joy', 'confident', 'analytical'], ['joy'], ['sadness'], ['tentative', 'analytical'], ['sadness', 'tentative'], ['tentative', 'analytical'], ['sadness'], ['joy'], ['joy', 'tentative'], ['confident', 'analytical'], ['sadness', 'confident'], ['joy'], ['sadness', 'confident', 'analytical'], ['joy', 'tentative'], ['sadness', 'analytical'], ['sadness', 'tentative'], ['joy', 'tentative'], ['analytical'], ['confident'], ['anger', 'analytical'], ['analytical', 'tentative'], ['sadness', 'analytical', 'tentative'], ['anger', 'analytical'], ['sadness', 'analytical'], ['joy', 'analytical'], ['confident', 'analytical'], ['sadness'], ['sadness', 'analytical'], ['joy'], ['sadness'], ['sadness', 'analytical', 'tentative'], ['fear', 'tentative'], ['analytical'], ['joy', 'tentative'], ['joy', 'analytical'], ['fear', 'analytical'], ['tentative'], ['joy'], ['sadness', 'tentative', 'analytical'], ['joy'], ['sadness', 'tentative', 'analytical'], ['sadness', 'confident'], ['joy', 'analytical', 'tentative'], ['tentative'], ['sadness'], ['joy', 'tentative'], ['sadness'], ['sadness', 'tentative'], ['sadness'], ['sadness'], ['joy', 'analytical'], ['sadness', 'tentative'], ['analytical'], ['sadness', 'tentative'], ['joy'], ['fear', 'tentative', 'analytical'], ['joy'], ['sadness', 'analytical', 'tentative'], ['anger', 'tentative'], ['joy'], ['sadness', 'tentative'], ['sadness', 'analytical', 'confident'], ['joy'], ['joy', 'analytical'], ['joy'], ['sadness', 'confident'], ['joy', 'tentative'], ['tentative'], ['joy', 'analytical'], ['joy', 'tentative'], ['sadness', 'analytical', 'tentative'], ['tentative'], ['fear', 'analytical'], ['joy'], ['sadness', 'tentative', 'analytical'], ['anger', 'tentative'], ['fear', 'analytical'], ['tentative'], ['joy', 'analytical', 'tentative'], ['tentative'], ['sadness', 'analytical'], ['analytical'], ['joy'], ['sadness', 'tentative'], ['joy', 'confident'], ['joy', 'tentative'], ['fear', 'analytical'], ['tentative', 'analytical'], ['sadness', 'tentative'], ['anger'], ['sadness', 'tentative'], ['confident', 'analytical'], ['tentative'], ['anger'], ['sadness', 'tentative'], ['fear', 'tentative'], ['tentative', 'analytical'], ['joy'], ['fear', 'tentative'], ['fear', 'confident'], ['anger', 'analytical'], ['joy', 'analytical', 'confident'], ['analytical'], ['joy'], ['sadness', 'tentative', 'analytical'], ['anger'], ['sadness', 'analytical'], ['joy', 'tentative'], ['sadness', 'tentative'], ['sadness'], ['sadness', 'analytical'], ['anger', 'tentative'], ['sadness', 'confident'], ['joy', 'analytical', 'confident'], ['sadness', 'tentative'], ['analytical'], ['sadness', 'analytical'], ['fear', 'tentative'], ['sadness', 'tentative'], ['anger'], ['joy'], ['fear'], ['tentative'], ['anger'], ['joy', 'tentative'], ['sadness'], ['anger', 'confident'], ['anger', 'tentative'], ['joy', 'analytical'], ['sadness', 'confident'], ['anger', 'analytical'], ['sadness'], ['joy', 'confident'], ['sadness', 'analytical'], ['confident', 'analytical'], ['sadness', 'analytical'], ['sadness'], ['tentative'], ['tentative'], ['tentative'], ['joy', 'analytical', 'confident'], ['tentative'], ['tentative'], ['anger', 'sadness'], ['joy'], ['joy', 'confident'], ['sadness', 'analytical'], ['sadness', 'tentative'], ['fear', 'confident'], ['sadness', 'analytical', 'tentative'], ['analytical', 'tentative'], ['analytical'], ['analytical'], ['sadness'], ['joy'], ['tentative'], ['confident'], ['sadness'], ['sadness', 'tentative'], ['analytical'], ['joy'], ['joy'], ['joy'], ['sadness', 'analytical', 'tentative'], ['analytical', 'tentative'], ['joy', 'tentative', 'analytical'], ['joy'], ['anger', 'analytical'], ['sadness', 'analytical', 'confident'], ['fear'], ['tentative'], ['sadness', 'tentative'], ['joy', 'tentative'], ['analytical'], ['joy', 'analytical'], ['fear', 'tentative'], ['analytical', 'confident'], ['tentative'], ['fear'], ['sadness'], ['joy', 'tentative'], ['joy', 'tentative'], ['joy', 'analytical', 'tentative'], ['fear', 'tentative'], ['sadness', 'analytical'], ['joy', 'tentative'], ['tentative'], ['anger'], ['joy', 'tentative'], ['joy', 'tentative'], ['fear', 'tentative'], ['tentative'], ['analytical'], ['anger'], ['sadness', 'tentative'], ['sadness', 'tentative'], ['joy'], ['sadness', 'tentative'], ['joy', 'analytical'], ['joy'], ['analytical'], ['sadness'], ['sadness', 'analytical', 'tentative'], ['tentative'], ['sadness', 'anger'], ['analytical'], ['joy', 'tentative'], ['sadness', 'analytical'], ['fear', 'confident'], ['joy', 'tentative'], ['joy', 'tentative'], ['analytical'], ['joy', 'tentative'], ['sadness'], ['joy'], ['joy'], ['tentative'], ['sadness'], ['sadness', 'anger', 'tentative'], ['sadness', 'tentative'], ['sadness', 'tentative'], ['fear'], ['tentative'], ['sadness'], ['analytical'], ['joy', 'analytical'], ['tentative'], ['confident'], ['fear'], ['sadness', 'tentative'], ['tentative'], ['sadness', 'tentative'], ['tentative'], ['joy', 'tentative'], ['sadness', 'tentative'], ['sadness'], ['joy'], ['tentative'], ['tentative'], ['tentative'], ['joy', 'analytical'], ['sadness', 'tentative'], ['sadness', 'tentative'], ['joy', 'tentative'], ['sadness', 'tentative'], ['joy'], ['joy', 'analytical'], ['tentative', 'analytical'], ['anger', 'tentative'], ['sadness', 'analytical'], ['joy', 'analytical'], ['fear', 'analytical', 'tentative'], ['analytical', 'tentative'], ['sadness', 'tentative', 'analytical'], ['analytical', 'tentative'], ['sadness', 'confident', 'analytical'], ['sadness'], ['tentative'], ['tentative'], ['analytical', 'tentative'], ['joy'], ['joy'], ['analytical', 'tentative'], ['tentative'], ['analytical'], ['sadness', 'confident'], ['sadness', 'analytical'], ['sadness', 'analytical'], ['sadness'], ['joy', 'analytical', 'tentative'], ['joy'], ['sadness', 'analytical'], ['sadness', 'analytical'], ['tentative', 'analytical'], ['fear', 'sadness'], ['sadness'], ['sadness', 'analytical'], ['joy'], ['anger', 'sadness', 'analytical'], ['sadness', 'analytical', 'tentative'], ['joy'], ['anger', 'analytical'], ['sadness', 'analytical'], ['sadness', 'tentative'], ['joy', 'analytical'], ['fear', 'confident'], ['confident', 'analytical'], ['sadness', 'tentative'], ['analytical'], ['tentative'], ['sadness', 'confident'], ['joy', 'analytical', 'tentative'], ['sadness', 'confident'], ['tentative'], ['sadness', 'tentative'], ['tentative'], ['joy', 'analytical'], ['joy', 'tentative'], ['tentative', 'analytical'], ['analytical', 'tentative'], ['sadness', 'analytical'], ['joy', 'analytical'], ['anger', 'tentative'], ['analytical'], ['sadness', 'analytical'], ['fear', 'sadness', 'analytical'], ['joy', 'analytical'], ['anger', 'tentative'], ['sadness'], ['tentative'], ['tentative'], ['sadness', 'analytical'], ['fear'], ['tentative'], ['fear'], ['joy', 'confident'], ['sadness', 'analytical', 'tentative'], ['sadness', 'tentative'], ['joy'], ['sadness'], ['joy', 'analytical'], ['sadness', 'analytical', 'tentative'], ['analytical'], ['analytical', 'confident'], ['sadness', 'confident', 'analytical'], ['joy', 'confident'], ['sadness', 'analytical', 'tentative'], ['tentative', 'analytical'], ['joy', 'analytical'], ['joy', 'confident'], ['analytical', 'tentative'], ['analytical'], ['anger', 'tentative'], ['joy', 'analytical', 'tentative'], ['joy'], ['tentative'], ['sadness', 'analytical'], ['sadness'], ['tentative'], ['fear', 'tentative', 'analytical'], ['joy', 'confident'], ['analytical', 'confident'], ['tentative'], ['joy'], ['sadness', 'tentative', 'analytical'], ['joy', 'tentative'], ['sadness', 'analytical'], ['joy', 'tentative'], ['anger'], ['tentative'], ['joy'], ['sadness'], ['sadness'], ['joy'], ['joy', 'tentative'], ['analytical'], ['sadness'], ['sadness'], ['sadness', 'tentative', 'analytical'], ['sadness'], ['sadness', 'tentative'], ['sadness', 'analytical', 'confident'], ['sadness', 'tentative'], ['sadness', 'tentative'], ['anger'], ['sadness'], ['joy', 'tentative'], ['sadness', 'analytical', 'tentative'], ['joy'], ['tentative'], ['sadness', 'tentative'], ['tentative'], ['analytical'], ['sadness'], ['confident'], ['joy', 'tentative'], ['tentative'], ['joy'], ['joy', 'analytical'], ['joy', 'tentative'], ['tentative'], ['sadness', 'tentative'], ['sadness'], ['joy'], ['joy', 'tentative'], ['analytical'], ['sadness'], ['analytical'], ['sadness', 'tentative'], ['tentative'], ['joy', 'tentative'], ['fear', 'tentative'], ['fear', 'sadness', 'tentative'], ['sadness'], ['analytical'], ['sadness', 'analytical'], ['joy'], ['joy', 'confident'], ['anger'], ['confident'], ['analytical', 'confident'], ['sadness'], ['tentative'], ['tentative'], ['joy', 'tentative'], ['confident', 'analytical'], ['joy', 'tentative'], ['anger', 'confident'], ['sadness'], ['sadness', 'analytical'], ['sadness'], ['joy'], ['sadness'], ['joy'], ['sadness', 'analytical', 'tentative'], ['joy', 'confident', 'analytical'], ['sadness'], ['tentative', 'analytical'], ['analytical'], ['analytical'], ['sadness', 'analytical', 'tentative'], ['tentative', 'analytical'], ['joy', 'analytical'], ['joy', 'analytical'], ['tentative'], ['joy'], ['sadness', 'tentative'], ['sadness', 'tentative'], ['anger', 'tentative'], ['sadness'], ['sadness', 'tentative'], ['anger'], ['tentative'], ['sadness', 'analytical', 'tentative'], ['analytical'], ['sadness', 'analytical'], ['sadness', 'tentative', 'analytical'], ['analytical'], ['anger', 'tentative'], ['joy', 'tentative'], ['joy', 'tentative'], ['fear', 'analytical'], ['joy', 'tentative', 'analytical'], ['joy'], ['sadness'], ['confident'], ['joy'], ['joy'], ['sadness', 'confident'], ['sadness', 'tentative', 'analytical'], ['analytical'], ['sadness'], ['joy'], ['sadness', 'analytical'], ['sadness', 'analytical'], ['tentative'], ['tentative'], ['analytical'], ['joy', 'tentative'], ['sadness'], ['sadness', 'tentative', 'analytical'], ['joy', 'analytical', 'tentative'], ['sadness', 'tentative'], ['sadness', 'tentative'], ['sadness', 'confident', 'analytical'], ['analytical'], ['joy', 'analytical', 'tentative'], ['anger', 'fear', 'confident'], ['tentative'], ['tentative'], ['sadness'], ['joy', 'tentative'], ['sadness', 'confident'], ['sadness', 'analytical'], ['sadness', 'confident'], ['analytical', 'tentative'], ['joy'], ['sadness'], ['sadness'], ['sadness', 'tentative'], ['joy', 'analytical'], ['analytical', 'tentative'], ['tentative'], ['sadness', 'tentative'], ['joy', 'confident'], ['analytical'], ['joy'], ['sadness', 'tentative'], ['sadness'], ['sadness'], ['sadness', 'tentative', 'analytical'], ['joy'], ['joy'], ['sadness', 'fear', 'confident'], ['sadness', 'analytical', 'tentative'], ['joy', 'analytical'], ['joy', 'analytical', 'tentative'], ['sadness'], ['joy', 'analytical'], ['sadness', 'tentative'], ['sadness', 'analytical'], ['fear'], ['fear'], ['joy'], ['sadness', 'analytical'], ['sadness'], ['joy'], ['sadness', 'tentative'], ['joy', 'analytical'], ['sadness'], ['analytical'], ['analytical'], ['analytical', 'tentative'], ['sadness', 'analytical', 'tentative'], ['joy', 'analytical'], ['sadness'], ['confident'], ['tentative'], ['tentative'], ['joy', 'tentative'], ['sadness', 'tentative'], ['sadness', 'analytical'], ['tentative'], ['confident'], ['tentative'], ['analytical', 'tentative'], ['sadness', 'confident'], ['sadness'], ['joy', 'analytical'], ['tentative'], ['analytical'], ['analytical'], ['sadness', 'tentative'], ['joy'], ['sadness', 'tentative', 'analytical'], ['joy'], ['sadness', 'confident', 'analytical'], ['tentative', 'analytical'], ['analytical'], ['sadness', 'tentative'], ['sadness', 'tentative'], ['analytical'], ['sadness', 'analytical'], ['sadness', 'analytical', 'confident'], ['sadness', 'tentative'], ['anger', 'tentative'], ['fear'], ['joy', 'analytical', 'tentative'], ['joy', 'tentative', 'analytical'], ['joy'], ['analytical', 'tentative'], ['sadness'], ['anger'], ['joy'], ['joy', 'analytical', 'tentative'], ['anger', 'tentative', 'analytical'], ['sadness'], ['sadness', 'analytical'], ['sadness'], ['sadness'], ['joy', 'tentative'], ['sadness', 'confident', 'analytical'], ['sadness'], ['joy', 'tentative'], ['analytical'], ['fear', 'analytical'], ['sadness', 'tentative'], ['joy'], ['analytical', 'tentative'], ['joy', 'tentative'], ['sadness', 'tentative', 'analytical'], ['fear', 'analytical', 'tentative'], ['fear'], ['tentative'], ['sadness'], ['sadness', 'tentative'], ['sadness', 'tentative'], ['anger'], ['joy', 'analytical', 'tentative'], ['anger', 'tentative'], ['analytical'], ['tentative', 'analytical'], ['sadness', 'analytical'], ['joy', 'tentative', 'analytical'], ['analytical'], ['analytical'], ['joy', 'tentative'], ['sadness', 'analytical', 'tentative'], ['analytical'], ['sadness', 'analytical', 'tentative'], ['joy', 'tentative'], ['analytical'], ['joy', 'tentative'], ['joy'], ['tentative'], ['analytical'], ['sadness'], ['anger', 'tentative'], ['anger'], ['sadness', 'tentative'], ['analytical', 'confident'], ['anger'], ['fear', 'tentative'], ['sadness'], ['sadness', 'analytical'], ['sadness', 'analytical'], ['confident'], ['analytical'], ['sadness', 'analytical'], ['sadness'], ['tentative'], ['sadness', 'tentative'], ['anger', 'tentative'], ['joy'], ['analytical', 'tentative'], ['tentative', 'analytical'], ['tentative'], ['joy', 'analytical', 'tentative'], ['sadness', 'analytical'], ['joy', 'tentative'], ['joy', 'tentative'], ['joy', 'analytical', 'confident'], ['sadness'], ['sadness'], ['analytical', 'confident'], ['joy', 'tentative'], ['sadness', 'tentative', 'analytical'], ['confident'], ['joy'], ['sadness'], ['joy', 'confident', 'analytical'], ['sadness', 'tentative', 'analytical'], ['anger', 'sadness'], ['confident'], ['joy', 'analytical'], ['joy', 'analytical', 'tentative'], ['tentative'], ['joy'], ['sadness', 'analytical', 'tentative'], ['sadness', 'analytical'], ['joy'], ['fear'], ['sadness', 'analytical'], ['joy', 'tentative'], ['sadness', 'tentative'], ['confident'], ['tentative'], ['sadness'], ['joy', 'tentative'], ['joy', 'tentative'], ['sadness', 'tentative'], ['joy', 'analytical'], ['analytical', 'tentative'], ['sadness'], ['joy'], ['sadness', 'confident'], ['anger', 'tentative'], ['sadness', 'tentative'], ['tentative', 'analytical'], ['sadness'], ['sadness', 'analytical'], ['sadness', 'tentative'], ['anger'], ['sadness', 'analytical', 'tentative'], ['tentative'], ['sadness', 'tentative'], ['sadness', 'tentative'], ['analytical'], ['joy'], ['tentative'], ['analytical'], ['joy', 'analytical'], ['sadness', 'analytical'], ['fear', 'sadness'], ['sadness'], ['joy', 'analytical', 'confident'], ['joy', 'confident'], ['sadness', 'tentative'], ['sadness'], ['tentative'], ['analytical', 'tentative'], ['sadness', 'analytical'], ['joy', 'tentative'], ['sadness', 'tentative'], ['sadness', 'tentative'], ['joy', 'tentative'], ['joy', 'tentative'], ['analytical', 'tentative'], ['tentative'], ['joy', 'tentative'], ['tentative'], ['joy'], ['joy'], ['tentative', 'analytical'], ['tentative'], ['sadness', 'analytical', 'tentative'], ['analytical'], ['sadness', 'tentative'], ['tentative', 'analytical'], ['sadness', 'analytical'], ['joy', 'tentative'], ['sadness'], ['sadness'], ['sadness'], ['sadness'], ['sadness'], ['joy'], ['joy', 'analytical'], ['sadness', 'analytical'], ['anger', 'confident'], ['joy', 'analytical'], ['sadness', 'tentative'], ['fear'], ['confident'], ['tentative'], ['tentative'], ['fear', 'tentative'], ['tentative'], ['tentative'], ['joy', 'analytical', 'tentative'], ['joy'], ['fear'], ['sadness', 'confident', 'analytical'], ['sadness'], ['tentative'], ['sadness', 'tentative'], ['sadness', 'tentative'], ['anger'], ['sadness', 'tentative'], ['sadness', 'analytical'], ['joy', 'tentative'], ['tentative'], ['sadness', 'tentative'], ['sadness', 'confident'], ['analytical'], ['joy', 'tentative'], ['anger', 'tentative'], ['sadness', 'analytical', 'tentative'], ['confident', 'analytical'], ['joy'], ['sadness', 'tentative'], ['anger', 'sadness'], ['sadness', 'tentative'], ['analytical'], ['sadness', 'tentative'], ['tentative'], ['joy', 'analytical'], ['joy', 'analytical'], ['sadness', 'tentative'], ['joy', 'analytical', 'tentative'], ['tentative'], ['sadness', 'analytical'], ['sadness', 'tentative'], ['sadness', 'analytical'], ['sadness'], ['joy'], ['sadness', 'analytical'], ['analytical'], ['sadness'], ['tentative'], ['joy', 'analytical', 'confident'], ['sadness'], ['fear', 'tentative'], ['sadness', 'analytical'], ['tentative'], ['fear', 'tentative'], ['sadness'], ['joy'], ['confident'], ['sadness', 'tentative'], ['tentative'], ['joy', 'confident'], ['anger', 'sadness'], ['joy', 'tentative'], ['tentative'], ['sadness', 'analytical', 'tentative'], ['joy', 'tentative'], ['sadness', 'analytical'], ['tentative'], ['tentative'], ['sadness', 'fear', 'analytical'], ['joy', 'analytical'], ['sadness'], ['sadness'], ['joy'], ['tentative'], ['sadness'], ['sadness', 'tentative'], ['sadness'], ['joy'], ['sadness', 'tentative', 'analytical'], ['sadness'], ['tentative'], ['analytical'], ['sadness', 'tentative'], ['analytical', 'tentative'], ['joy', 'analytical', 'tentative'], ['sadness'], ['joy'], ['sadness', 'tentative'], ['sadness', 'analytical'], ['tentative', 'analytical'], ['sadness', 'analytical'], ['joy'], ['anger', 'tentative'], ['sadness'], ['sadness', 'analytical'], ['tentative'], ['sadness', 'analytical'], ['anger', 'tentative'], ['sadness'], ['sadness', 'confident'], ['joy', 'analytical'], ['sadness', 'analytical', 'tentative'], ['analytical'], ['joy'], ['analytical', 'confident'], ['sadness'], ['sadness'], ['confident'], ['sadness', 'tentative'], ['tentative'], ['joy', 'tentative'], ['fear', 'analytical'], ['fear'], ['sadness', 'analytical'], ['tentative', 'analytical'], ['sadness'], ['joy'], ['joy', 'analytical'], ['joy'], ['joy', 'analytical', 'tentative'], ['sadness', 'tentative'], ['sadness', 'tentative'], ['joy'], ['joy'], ['joy'], ['fear'], ['joy', 'analytical', 'confident'], ['sadness', 'analytical'], ['analytical', 'tentative'], ['sadness', 'tentative'], ['joy', 'analytical'], ['joy', 'tentative'], ['joy', 'tentative', 'analytical'], ['sadness', 'tentative', 'analytical'], ['sadness'], ['sadness'], ['sadness'], ['analytical', 'tentative'], ['sadness', 'tentative'], ['analytical'], ['joy'], ['fear', 'analytical'], ['joy'], ['joy', 'tentative'], ['joy', 'analytical'], ['analytical', 'confident'], ['tentative'], ['sadness', 'tentative'], ['sadness'], ['tentative'], ['joy', 'confident'], ['joy'], ['joy'], ['fear', 'confident'], ['joy'], ['anger', 'analytical'], ['sadness', 'tentative'], ['analytical'], ['sadness', 'tentative'], ['sadness', 'analytical'], ['tentative'], ['joy', 'analytical'], ['tentative'], ['sadness', 'tentative'], ['joy', 'analytical', 'confident'], ['tentative'], ['analytical'], ['tentative'], ['tentative'], ['joy'], ['anger', 'analytical'], ['joy', 'tentative', 'analytical'], ['tentative'], ['sadness'], ['confident'], ['sadness', 'tentative'], ['joy', 'confident', 'analytical'], ['tentative'], ['sadness', 'tentative'], ['analytical'], ['fear', 'tentative'], ['joy', 'tentative'], ['joy', 'analytical', 'tentative'], ['sadness', 'analytical'], ['joy', 'confident', 'analytical'], ['sadness', 'tentative'], ['fear', 'tentative'], ['joy', 'tentative'], ['joy'], ['joy', 'analytical'], ['joy', 'tentative'], ['joy'], ['sadness', 'tentative'], ['sadness', 'tentative'], ['joy', 'analytical'], ['joy', 'analytical'], ['joy'], ['joy'], ['tentative', 'analytical'], ['sadness'], ['analytical'], ['joy', 'tentative'], ['tentative', 'analytical'], ['sadness', 'tentative'], ['joy', 'tentative'], ['analytical'], ['joy', 'analytical'], ['sadness'], ['sadness', 'confident', 'analytical'], ['joy'], ['sadness', 'tentative'], ['fear', 'tentative'], ['sadness'], ['tentative'], ['joy'], ['analytical'], ['joy'], ['sadness', 'tentative'], ['fear', 'tentative'], ['tentative'], ['sadness'], ['joy'], ['sadness'], ['joy', 'tentative'], ['joy', 'tentative', 'analytical'], ['sadness', 'tentative'], ['joy', 'tentative', 'analytical'], ['sadness', 'tentative', 'analytical'], ['sadness', 'confident'], ['sadness', 'tentative', 'analytical'], ['sadness', 'tentative'], ['sadness'], ['joy', 'tentative'], ['anger', 'analytical', 'tentative'], ['joy', 'analytical'], ['joy', 'analytical'], ['sadness'], ['fear', 'analytical', 'tentative'], ['analytical', 'tentative'], ['sadness', 'tentative'], ['joy', 'analytical', 'tentative'], ['analytical'], ['sadness', 'tentative'], ['confident'], ['tentative'], ['sadness', 'tentative'], ['fear', 'tentative', 'analytical'], ['sadness'], ['sadness'], ['joy'], ['analytical', 'tentative'], ['sadness'], ['confident'], ['joy', 'analytical', 'tentative'], ['sadness', 'tentative'], ['sadness', 'analytical'], ['sadness', 'confident', 'analytical'], ['tentative'], ['fear'], ['sadness', 'analytical'], ['sadness', 'analytical'], ['sadness', 'tentative', 'analytical'], ['joy'], ['tentative'], ['analytical'], ['sadness'], ['tentative'], ['sadness', 'tentative'], ['joy', 'tentative'], ['anger'], ['joy', 'tentative'], ['tentative', 'analytical'], ['sadness', 'tentative', 'analytical'], ['anger', 'analytical'], ['joy'], ['joy'], ['sadness', 'tentative'], ['joy', 'tentative'], ['sadness'], ['sadness'], ['tentative'], ['analytical'], ['sadness', 'tentative', 'analytical'], ['tentative'], ['fear'], ['anger', 'confident'], ['joy'], ['sadness', 'tentative'], ['sadness', 'tentative'], ['sadness', 'tentative'], ['joy'], ['sadness', 'tentative'], ['joy'], ['joy', 'analytical'], ['sadness', 'tentative'], ['fear', 'analytical'], ['confident'], ['analytical'], ['sadness', 'analytical', 'tentative'], ['joy'], ['tentative'], ['fear', 'analytical'], ['sadness', 'analytical'], ['sadness', 'tentative'], ['sadness', 'analytical'], ['joy', 'tentative'], ['joy'], ['fear', 'confident'], ['sadness', 'tentative'], ['joy', 'tentative'], ['analytical'], ['tentative', 'analytical'], ['joy'], ['sadness', 'confident', 'analytical'], ['joy'], ['joy', 'analytical'], ['sadness', 'analytical', 'tentative'], ['sadness', 'tentative'], ['sadness', 'analytical'], ['tentative'], ['confident'], ['joy'], ['sadness', 'tentative'], ['sadness'], ['sadness'], ['anger', 'analytical', 'confident'], ['joy', 'tentative'], ['sadness', 'analytical'], ['sadness'], ['tentative'], ['sadness', 'analytical'], ['tentative'], ['analytical'], ['sadness', 'analytical'], ['sadness'], ['sadness'], ['joy', 'analytical'], ['joy'], ['sadness', 'tentative'], ['confident'], ['joy'], ['anger', 'tentative'], ['joy', 'confident', 'analytical'], ['tentative'], ['anger', 'analytical', 'tentative'], ['sadness', 'tentative'], ['tentative'], ['sadness', 'tentative'], ['sadness', 'analytical'], ['fear', 'confident'], ['fear'], ['joy', 'analytical'], ['sadness', 'tentative'], ['sadness', 'analytical', 'tentative'], ['sadness'], ['sadness', 'analytical'], ['fear', 'tentative'], ['joy', 'analytical', 'tentative'], ['joy', 'tentative'], ['anger', 'confident', 'analytical'], ['analytical'], ['joy', 'analytical'], ['sadness', 'tentative', 'analytical'], ['sadness'], ['sadness', 'analytical'], ['analytical', 'confident'], ['sadness', 'analytical'], ['sadness'], ['sadness'], ['tentative'], ['confident'], ['analytical'], ['sadness', 'tentative', 'analytical'], ['tentative'], ['joy', 'analytical'], ['joy', 'analytical'], ['sadness'], ['sadness'], ['joy', 'confident'], ['joy'], ['joy', 'analytical'], ['sadness'], ['joy', 'confident', 'analytical'], ['sadness'], ['sadness'], ['sadness', 'analytical', 'tentative'], ['fear', 'analytical'], ['joy', 'confident'], ['sadness', 'tentative'], ['tentative'], ['joy', 'analytical', 'confident'], ['sadness'], ['tentative', 'analytical'], ['fear'], ['joy', 'analytical'], ['joy', 'tentative'], ['tentative'], ['sadness', 'tentative', 'analytical'], ['joy'], ['analytical'], ['tentative'], ['analytical'], ['joy'], ['sadness', 'analytical'], ['sadness'], ['joy', 'tentative'], ['joy', 'analytical', 'tentative'], ['confident'], ['sadness', 'tentative'], ['sadness'], ['sadness'], ['confident', 'analytical'], ['anger'], ['joy', 'tentative'], ['analytical'], ['anger', 'tentative'], ['sadness', 'tentative'], ['sadness', 'tentative'], ['tentative'], ['sadness', 'tentative'], ['joy', 'analytical'], ['sadness'], ['fear'], ['analytical', 'tentative'], ['sadness', 'analytical'], ['sadness'], ['joy', 'analytical'], ['sadness', 'tentative'], ['joy'], ['sadness', 'confident'], ['tentative'], ['sadness', 'analytical', 'tentative'], ['joy', 'confident'], ['joy', 'analytical', 'tentative'], ['sadness', 'tentative'], ['joy', 'confident'], ['joy', 'tentative'], ['joy', 'analytical', 'tentative'], ['joy', 'analytical', 'tentative'], ['joy'], ['fear', 'tentative'], ['joy', 'tentative'], ['joy', 'analytical', 'tentative'], ['sadness', 'confident', 'analytical'], ['sadness', 'analytical'], ['joy'], ['joy'], ['joy'], ['sadness', 'confident'], ['sadness', 'tentative'], ['sadness', 'tentative', 'analytical'], ['joy', 'tentative'], ['joy'], ['joy', 'analytical', 'tentative'], ['fear', 'tentative'], ['confident'], ['sadness', 'tentative'], ['analytical'], ['sadness'], ['tentative', 'analytical'], ['sadness', 'tentative'], ['sadness', 'tentative'], ['sadness'], ['analytical'], ['joy', 'tentative'], ['joy', 'confident'], ['fear', 'tentative', 'analytical'], ['analytical', 'tentative'], ['confident', 'analytical'], ['tentative'], ['joy', 'analytical'], ['joy'], ['tentative'], ['fear'], ['sadness', 'tentative'], ['joy'], ['joy', 'tentative'], ['anger', 'analytical'], ['tentative'], ['fear', 'tentative'], ['analytical'], ['tentative'], ['analytical'], ['sadness'], ['sadness', 'confident'], ['tentative'], ['analytical'], ['joy', 'confident'], ['joy'], ['tentative'], ['sadness'], ['sadness'], ['fear', 'sadness', 'tentative'], ['joy'], ['sadness', 'analytical', 'tentative'], ['sadness', 'tentative', 'analytical'], ['anger'], ['sadness', 'tentative', 'analytical'], ['joy', 'tentative'], ['joy', 'analytical'], ['sadness', 'tentative'], ['sadness', 'analytical', 'tentative'], ['sadness'], ['joy', 'analytical'], ['sadness', 'tentative'], ['joy'], ['sadness', 'analytical'], ['joy', 'analytical', 'tentative'], ['tentative'], ['sadness', 'analytical', 'tentative'], ['sadness'], ['joy', 'analytical'], ['sadness'], ['fear', 'tentative'], ['tentative'], ['joy', 'tentative'], ['sadness', 'tentative'], ['joy', 'analytical', 'tentative'], ['joy'], ['joy', 'tentative'], ['sadness', 'confident'], ['tentative'], ['sadness'], ['tentative'], ['tentative'], ['sadness'], ['sadness', 'analytical'], ['joy', 'tentative'], ['joy'], ['tentative'], ['analytical', 'tentative'], ['analytical'], ['analytical'], ['sadness', 'tentative'], ['joy'], ['sadness'], ['sadness'], ['sadness', 'analytical'], ['fear', 'tentative'], ['sadness', 'tentative'], ['analytical', 'tentative'], ['sadness', 'analytical'], ['joy', 'confident'], ['joy', 'tentative'], ['analytical'], ['sadness'], ['sadness'], ['joy', 'tentative'], ['joy', 'confident'], ['fear', 'confident'], ['anger'], ['confident', 'analytical'], ['joy', 'analytical', 'tentative'], ['sadness'], ['sadness', 'analytical'], ['sadness', 'confident', 'analytical'], ['sadness', 'tentative'], ['sadness', 'tentative'], ['tentative'], ['joy', 'tentative', 'analytical'], ['joy', 'tentative'], ['fear', 'sadness', 'tentative'], ['tentative'], ['sadness'], ['joy', 'tentative'], ['joy', 'tentative'], ['sadness', 'tentative'], ['analytical'], ['sadness', 'tentative'], ['fear'], ['joy', 'analytical'], ['sadness', 'tentative'], ['sadness', 'tentative', 'analytical'], ['sadness'], ['joy'], ['sadness'], ['joy', 'analytical', 'tentative'], ['sadness'], ['sadness', 'confident'], ['sadness', 'analytical', 'tentative'], ['analytical'], ['sadness', 'tentative', 'analytical'], ['tentative'], ['sadness'], ['analytical', 'tentative'], ['sadness', 'analytical'], ['analytical', 'tentative'], ['joy'], ['fear', 'analytical'], ['sadness', 'tentative'], ['joy', 'tentative'], ['sadness', 'analytical'], ['analytical'], ['sadness', 'tentative'], ['sadness'], ['sadness', 'confident'], ['joy'], ['joy', 'tentative'], ['sadness', 'analytical'], ['sadness', 'tentative'], ['sadness', 'analytical'], ['joy', 'analytical', 'confident'], ['joy'], ['sadness', 'tentative'], ['analytical'], ['joy', 'confident'], ['fear', 'analytical'], ['tentative'], ['tentative'], ['sadness'], ['sadness'], ['joy', 'analytical'], ['sadness'], ['tentative', 'analytical'], ['sadness'], ['sadness'], ['joy'], ['joy', 'analytical', 'tentative'], ['sadness', 'tentative'], ['sadness', 'tentative'], ['joy'], ['sadness'], ['sadness'], ['fear', 'tentative'], ['joy', 'tentative'], ['analytical'], ['joy', 'analytical'], ['analytical', 'tentative'], ['joy'], ['tentative'], ['sadness'], ['joy', 'analytical', 'tentative'], ['analytical'], ['tentative', 'analytical'], ['sadness', 'analytical'], ['joy', 'tentative', 'analytical'], ['fear', 'analytical'], ['tentative'], ['confident'], ['tentative'], ['tentative'], ['sadness', 'tentative'], ['sadness', 'tentative'], ['tentative'], ['fear'], ['joy', 'tentative'], ['sadness', 'analytical'], ['sadness', 'tentative', 'analytical'], ['analytical'], ['sadness', 'analytical', 'tentative'], ['sadness', 'analytical'], ['joy', 'analytical'], ['joy', 'analytical', 'tentative'], ['joy', 'tentative'], ['anger'], ['analytical'], ['anger', 'analytical', 'tentative'], ['sadness'], ['sadness', 'tentative'], ['anger'], ['joy', 'analytical'], ['sadness', 'analytical'], ['sadness', 'tentative', 'analytical'], ['sadness'], ['sadness', 'analytical'], ['sadness', 'analytical'], ['sadness'], ['fear', 'tentative'], ['analytical'], ['tentative', 'analytical'], ['joy', 'analytical'], ['joy'], ['confident'], ['joy'], ['sadness', 'tentative'], ['fear', 'sadness'], ['tentative', 'analytical'], ['fear', 'sadness'], ['joy'], ['joy', 'confident'], ['joy'], ['analytical'], ['tentative'], ['joy'], ['joy'], ['analytical', 'tentative'], ['joy', 'tentative'], ['sadness', 'tentative', 'analytical'], ['sadness', 'tentative'], ['sadness', 'tentative'], ['sadness', 'tentative'], ['sadness'], ['analytical', 'tentative'], ['anger'], ['analytical'], ['sadness'], ['sadness', 'analytical'], ['sadness'], ['joy', 'tentative'], ['sadness', 'tentative'], ['sadness'], ['sadness', 'tentative'], ['sadness', 'analytical'], ['sadness', 'confident'], ['tentative'], ['sadness', 'tentative'], ['joy', 'tentative'], ['tentative'], ['fear', 'analytical'], ['sadness'], ['joy', 'tentative', 'analytical'], ['analytical'], ['anger'], ['fear'], ['joy', 'tentative'], ['sadness', 'tentative', 'analytical'], ['confident'], ['tentative'], ['tentative'], ['sadness', 'confident'], ['sadness', 'tentative'], ['sadness', 'analytical'], ['sadness', 'analytical', 'tentative'], ['fear'], ['sadness'], ['anger'], ['joy', 'analytical'], ['sadness', 'tentative'], ['joy'], ['joy', 'confident'], ['sadness', 'analytical'], ['anger', 'sadness'], ['sadness', 'tentative'], ['sadness'], ['analytical'], ['sadness', 'tentative', 'analytical'], ['tentative'], ['analytical'], ['sadness'], ['sadness', 'tentative', 'analytical'], ['tentative'], ['tentative'], ['tentative'], ['joy'], ['sadness', 'analytical'], ['joy'], ['tentative'], ['confident'], ['tentative'], ['confident'], ['sadness', 'tentative', 'analytical'], ['sadness', 'tentative'], ['joy'], ['joy'], ['analytical'], ['tentative'], ['tentative'], ['sadness', 'analytical'], ['anger'], ['analytical', 'tentative'], ['joy', 'analytical'], ['sadness', 'tentative', 'analytical'], ['sadness', 'tentative'], ['sadness'], ['analytical', 'confident'], ['sadness', 'analytical', 'tentative'], ['anger', 'tentative'], ['analytical', 'tentative'], ['analytical'], ['analytical'], ['analytical', 'tentative'], ['anger', 'analytical', 'tentative'], ['joy', 'analytical'], ['sadness', 'tentative', 'analytical'], ['tentative'], ['joy', 'tentative'], ['joy'], ['sadness', 'tentative', 'analytical'], ['sadness', 'tentative'], ['analytical'], ['tentative'], ['joy', 'confident', 'analytical'], ['joy'], ['anger', 'tentative'], ['joy'], ['sadness', 'tentative'], ['sadness', 'analytical'], ['anger', 'tentative'], ['joy', 'tentative'], ['joy', 'confident'], ['joy', 'tentative', 'analytical'], ['fear', 'tentative'], ['sadness', 'tentative'], ['joy', 'tentative'], ['sadness', 'analytical'], ['joy', 'analytical'], ['sadness', 'tentative'], ['tentative'], ['sadness', 'tentative'], ['analytical'], ['sadness'], ['joy', 'analytical'], ['tentative'], ['joy'], ['tentative'], ['sadness'], ['joy', 'analytical'], ['sadness', 'tentative'], ['sadness', 'analytical'], ['sadness'], ['joy', 'analytical', 'tentative'], ['joy'], ['anger', 'tentative'], ['fear', 'sadness', 'anger', 'tentative'], ['sadness', 'tentative'], ['sadness', 'analytical'], ['sadness', 'analytical'], ['analytical', 'confident'], ['anger'], ['joy', 'analytical', 'tentative'], ['joy'], ['tentative'], ['sadness'], ['joy'], ['analytical', 'confident'], ['joy', 'tentative'], ['sadness'], ['joy', 'tentative'], ['anger', 'tentative'], ['analytical', 'tentative'], ['joy', 'tentative'], ['analytical'], ['joy', 'confident'], ['joy'], ['sadness', 'tentative'], ['tentative'], ['sadness'], ['anger', 'tentative'], ['tentative'], ['analytical'], ['joy', 'tentative'], ['sadness'], ['fear', 'tentative'], ['anger', 'tentative'], ['joy', 'tentative'], ['sadness', 'analytical'], ['sadness', 'analytical'], ['sadness', 'analytical'], ['sadness', 'tentative'], ['joy', 'analytical'], ['joy', 'analytical'], ['tentative'], ['sadness', 'tentative'], ['joy', 'analytical'], ['analytical', 'tentative'], ['sadness', 'analytical', 'tentative'], ['sadness'], ['sadness', 'tentative'], ['sadness'], ['sadness'], ['joy'], ['tentative'], ['joy'], ['sadness', 'analytical', 'confident'], ['sadness', 'analytical'], ['sadness', 'tentative'], ['anger'], ['joy', 'confident'], ['sadness', 'confident'], ['joy', 'tentative', 'analytical'], ['sadness', 'analytical'], ['sadness', 'analytical'], ['joy', 'analytical', 'tentative'], ['anger', 'tentative'], ['fear'], ['sadness', 'tentative'], ['joy'], ['tentative', 'analytical'], ['analytical'], ['sadness', 'tentative'], ['tentative'], ['joy', 'tentative', 'analytical'], ['sadness'], ['sadness', 'analytical', 'tentative'], ['fear', 'tentative', 'analytical'], ['joy', 'analytical'], ['sadness', 'tentative'], ['fear', 'confident'], ['sadness', 'tentative'], ['sadness', 'confident', 'analytical'], ['joy', 'tentative', 'analytical'], ['analytical'], ['sadness', 'tentative'], ['joy'], ['sadness'], ['analytical'], ['sadness', 'analytical'], ['sadness', 'tentative', 'analytical'], ['sadness', 'confident'], ['analytical', 'tentative'], ['joy', 'tentative'], ['analytical'], ['sadness'], ['joy'], ['sadness'], ['sadness', 'tentative'], ['joy', 'analytical'], ['joy', 'analytical'], ['sadness', 'analytical'], ['sadness', 'analytical'], ['fear', 'tentative'], ['joy'], ['tentative'], ['sadness', 'confident', 'analytical'], ['fear'], ['sadness', 'tentative'], ['sadness'], ['joy', 'analytical'], ['fear', 'analytical', 'tentative'], ['fear', 'tentative'], ['sadness'], ['fear', 'sadness', 'tentative'], ['joy', 'analytical', 'confident'], ['tentative'], ['tentative'], ['joy', 'analytical'], ['sadness', 'analytical', 'tentative'], ['sadness', 'tentative'], ['sadness'], ['joy', 'analytical'], ['joy', 'tentative'], ['sadness', 'analytical', 'confident'], ['joy', 'analytical'], ['joy'], ['sadness', 'analytical', 'tentative'], ['sadness', 'analytical'], ['sadness', 'analytical'], ['joy', 'tentative'], ['fear'], ['joy'], ['sadness'], ['tentative'], ['joy', 'confident'], ['sadness', 'tentative'], ['tentative'], ['sadness'], ['analytical'], ['joy', 'analytical'], ['joy'], ['anger', 'analytical'], ['sadness'], ['fear', 'tentative'], ['fear', 'analytical', 'tentative'], ['fear', 'tentative'], ['sadness', 'analytical'], ['joy', 'confident'], ['sadness', 'analytical', 'confident'], ['joy', 'tentative'], ['joy', 'analytical'], ['sadness', 'tentative'], ['sadness', 'tentative'], ['joy', 'analytical', 'tentative'], ['analytical', 'tentative'], ['joy', 'tentative'], ['sadness', 'confident'], ['sadness', 'tentative'], ['joy'], ['fear', 'confident'], ['sadness', 'analytical'], ['joy'], ['tentative'], ['sadness', 'analytical'], ['fear', 'tentative'], ['joy'], ['analytical'], ['anger', 'sadness', 'confident'], ['sadness', 'analytical'], ['sadness', 'tentative'], ['tentative'], ['joy'], ['tentative'], ['sadness', 'tentative'], ['fear'], ['sadness', 'tentative'], ['analytical'], ['sadness', 'tentative', 'analytical'], ['joy'], ['analytical', 'tentative'], ['joy'], ['tentative'], ['confident'], ['anger', 'analytical'], ['joy', 'tentative'], ['joy', 'analytical'], ['joy'], ['sadness', 'tentative'], ['tentative'], ['confident'], ['fear', 'anger', 'sadness', 'tentative'], ['sadness', 'analytical'], ['tentative'], ['sadness', 'analytical', 'tentative'], ['sadness', 'analytical'], ['analytical'], ['sadness', 'analytical'], ['fear'], ['sadness', 'analytical', 'tentative'], ['analytical', 'tentative'], ['tentative'], ['analytical'], ['tentative'], ['joy'], ['joy', 'confident'], ['fear', 'tentative'], ['sadness', 'confident', 'analytical'], ['confident', 'analytical'], ['sadness'], ['sadness', 'tentative'], ['analytical', 'tentative'], ['sadness', 'tentative'], ['tentative'], ['joy'], ['sadness', 'analytical'], ['sadness'], ['sadness', 'tentative'], ['sadness', 'analytical', 'tentative'], ['sadness', 'analytical', 'tentative'], ['tentative'], ['sadness'], ['sadness', 'analytical'], ['tentative'], ['sadness', 'tentative'], ['sadness', 'tentative'], ['joy', 'analytical'], ['sadness', 'analytical', 'tentative'], ['sadness'], ['joy'], ['fear', 'analytical'], ['sadness', 'tentative'], ['joy'], ['tentative'], ['confident'], ['joy', 'analytical'], ['joy', 'tentative'], ['joy', 'confident'], ['fear', 'sadness', 'tentative'], ['tentative', 'analytical'], ['tentative'], ['analytical'], ['tentative'], ['joy', 'tentative'], ['fear', 'tentative'], ['joy', 'analytical'], ['fear', 'tentative'], ['sadness', 'tentative'], ['sadness', 'analytical'], ['confident', 'analytical'], ['sadness'], ['anger', 'fear', 'tentative'], ['anger', 'analytical'], ['sadness', 'analytical'], ['joy', 'analytical'], ['sadness'], ['joy'], ['sadness', 'tentative'], ['joy'], ['joy', 'tentative'], ['joy'], ['tentative'], ['fear', 'tentative'], ['joy'], ['tentative'], ['tentative'], ['sadness', 'analytical', 'tentative'], ['tentative', 'analytical'], ['joy'], ['analytical', 'tentative'], ['joy', 'tentative'], ['sadness', 'analytical'], ['sadness', 'tentative'], ['joy'], ['joy'], ['joy', 'tentative'], ['joy', 'tentative'], ['analytical', 'tentative'], ['analytical', 'tentative'], ['joy', 'tentative', 'analytical'], ['sadness', 'confident', 'analytical'], ['anger', 'sadness'], ['sadness', 'tentative'], ['sadness', 'analytical', 'tentative'], ['tentative', 'analytical'], ['sadness', 'analytical', 'confident'], ['joy', 'tentative', 'analytical'], ['sadness', 'analytical', 'tentative'], ['sadness'], ['anger', 'confident'], ['tentative'], ['sadness', 'tentative'], ['tentative'], ['tentative', 'analytical'], ['sadness', 'analytical', 'confident'], ['anger'], ['sadness'], ['sadness', 'analytical'], ['tentative', 'analytical'], ['joy', 'tentative'], ['tentative'], ['sadness', 'analytical', 'confident'], ['fear'], ['anger', 'analytical'], ['joy'], ['joy', 'analytical'], ['analytical'], ['joy', 'analytical'], ['joy', 'tentative', 'analytical'], ['tentative'], ['tentative'], ['fear'], ['joy', 'confident'], ['sadness'], ['joy', 'tentative'], ['sadness', 'tentative'], ['tentative'], ['sadness', 'tentative'], ['joy', 'analytical', 'tentative'], ['tentative'], ['sadness', 'tentative'], ['sadness', 'tentative'], ['joy', 'tentative', 'analytical'], ['tentative'], ['tentative'], ['joy', 'analytical'], ['anger', 'tentative'], ['fear', 'confident'], ['sadness', 'tentative'], ['sadness', 'tentative'], ['sadness'], ['anger'], ['joy'], ['tentative'], ['tentative'], ['joy'], ['sadness'], ['analytical'], ['sadness', 'analytical'], ['joy'], ['fear', 'analytical'], ['confident', 'analytical'], ['tentative'], ['joy', 'analytical', 'tentative'], ['tentative', 'analytical'], ['sadness', 'analytical', 'tentative'], ['joy'], ['tentative'], ['sadness', 'analytical'], ['joy', 'tentative'], ['joy'], ['confident', 'analytical'], ['fear', 'sadness', 'tentative'], ['tentative'], ['sadness'], ['joy'], ['anger'], ['sadness'], ['sadness', 'analytical', 'tentative'], ['joy', 'analytical'], ['joy', 'tentative'], ['sadness', 'tentative', 'analytical'], ['joy', 'analytical'], ['joy'], ['joy', 'analytical'], ['sadness', 'tentative'], ['tentative'], ['joy', 'tentative', 'analytical'], ['fear', 'analytical'], ['confident'], ['fear', 'analytical'], ['tentative', 'analytical'], ['tentative', 'analytical'], ['analytical'], ['joy', 'analytical', 'tentative'], ['sadness', 'analytical', 'confident'], ['analytical', 'tentative'], ['joy', 'tentative'], ['sadness', 'analytical'], ['tentative'], ['joy', 'tentative'], ['tentative'], ['tentative'], ['joy', 'tentative'], ['sadness', 'analytical'], ['confident'], ['tentative'], ['sadness', 'analytical', 'confident'], ['joy'], ['fear', 'tentative'], ['joy', 'tentative', 'analytical'], ['anger', 'tentative'], ['anger', 'analytical', 'tentative'], ['sadness'], ['joy', 'analytical', 'tentative'], ['sadness', 'tentative'], ['sadness', 'tentative', 'analytical'], ['sadness', 'tentative'], ['sadness', 'analytical', 'tentative'], ['analytical'], ['sadness', 'tentative'], ['sadness', 'tentative', 'analytical'], ['fear'], ['sadness'], ['sadness', 'tentative'], ['sadness'], ['sadness', 'tentative'], ['joy', 'tentative'], ['confident', 'analytical'], ['joy', 'confident'], ['sadness', 'tentative'], ['sadness'], ['tentative', 'analytical'], ['tentative'], ['sadness'], ['anger'], ['joy'], ['sadness'], ['tentative'], ['tentative'], ['joy'], ['analytical'], ['sadness', 'confident', 'analytical'], ['sadness', 'tentative'], ['fear', 'tentative'], ['anger'], ['joy', 'analytical'], ['tentative'], ['analytical', 'tentative'], ['tentative'], ['sadness', 'tentative'], ['sadness', 'analytical'], ['tentative'], ['sadness', 'analytical', 'tentative'], ['analytical', 'tentative'], ['sadness'], ['sadness'], ['sadness', 'tentative', 'analytical'], ['sadness', 'analytical'], ['sadness', 'tentative'], ['tentative', 'analytical'], ['tentative'], ['joy', 'analytical'], ['joy'], ['sadness', 'analytical'], ['sadness'], ['analytical'], ['sadness', 'analytical'], ['sadness', 'analytical'], ['confident'], ['sadness', 'confident', 'analytical'], ['joy'], ['tentative', 'analytical'], ['sadness', 'tentative'], ['analytical'], ['sadness', 'analytical'], ['tentative'], ['tentative'], ['sadness', 'tentative'], ['anger', 'tentative'], ['joy', 'tentative'], ['tentative'], ['tentative'], ['sadness'], ['tentative'], ['sadness'], ['joy'], ['joy', 'tentative'], ['joy'], ['tentative', 'analytical'], ['joy', 'analytical'], ['joy', 'tentative'], ['sadness', 'analytical'], ['sadness'], ['analytical', 'tentative'], ['sadness', 'tentative', 'analytical'], ['confident'], ['sadness', 'tentative'], ['joy', 'tentative'], ['fear'], ['fear', 'analytical', 'tentative'], ['joy', 'tentative', 'analytical'], ['sadness'], ['joy', 'tentative'], ['joy', 'analytical'], ['anger', 'analytical'], ['sadness', 'fear'], ['sadness'], ['sadness'], ['joy'], ['sadness'], ['joy'], ['sadness', 'analytical', 'tentative'], ['sadness', 'confident'], ['sadness'], ['sadness'], ['joy', 'tentative'], ['joy', 'tentative'], ['joy'], ['tentative', 'analytical'], ['analytical'], ['joy', 'tentative'], ['sadness'], ['joy'], ['tentative'], ['joy', 'analytical'], ['joy'], ['sadness'], ['tentative', 'analytical'], ['joy', 'analytical', 'tentative'], ['sadness', 'analytical'], ['sadness', 'tentative'], ['sadness', 'tentative'], ['sadness', 'analytical', 'tentative'], ['sadness', 'analytical'], ['fear', 'confident'], ['joy'], ['sadness'], ['analytical', 'tentative'], ['sadness', 'confident', 'analytical'], ['joy'], ['joy', 'confident'], ['analytical'], ['sadness'], ['sadness', 'tentative'], ['sadness', 'tentative'], ['fear'], ['sadness', 'tentative'], ['sadness', 'tentative'], ['sadness', 'confident'], ['joy'], ['joy', 'analytical'], ['joy'], ['anger', 'analytical'], ['sadness', 'tentative'], ['fear', 'sadness', 'analytical', 'confident'], ['joy', 'analytical'], ['sadness'], ['tentative'], ['tentative'], ['joy', 'tentative'], ['analytical', 'tentative'], ['joy', 'analytical'], ['anger'], ['joy', 'tentative'], ['anger', 'tentative'], ['joy'], ['analytical'], ['sadness', 'tentative'], ['analytical'], ['confident'], ['joy'], ['sadness', 'confident'], ['sadness'], ['analytical'], ['joy'], ['joy', 'analytical', 'tentative'], ['joy', 'tentative'], ['analytical'], ['tentative'], ['sadness', 'tentative'], ['joy', 'confident', 'analytical'], ['joy', 'analytical', 'tentative'], ['sadness', 'anger', 'tentative'], ['sadness'], ['sadness', 'tentative'], ['joy'], ['joy', 'analytical', 'tentative'], ['sadness'], ['anger', 'tentative'], ['tentative'], ['joy', 'tentative'], ['sadness'], ['sadness', 'tentative'], ['sadness', 'analytical'], ['joy', 'analytical'], ['sadness', 'analytical'], ['fear', 'analytical'], ['tentative'], ['tentative'], ['analytical'], ['anger'], ['sadness', 'tentative'], ['sadness', 'analytical'], ['anger', 'tentative'], ['sadness', 'tentative'], ['joy'], ['sadness', 'tentative', 'analytical'], ['sadness', 'tentative'], ['joy', 'tentative'], ['fear'], ['tentative'], ['fear'], ['sadness', 'tentative'], ['joy'], ['analytical'], ['sadness'], ['sadness', 'tentative'], ['joy', 'analytical'], ['confident', 'analytical'], ['confident'], ['joy', 'analytical'], ['joy'], ['sadness', 'analytical'], ['sadness', 'tentative'], ['fear'], ['sadness'], ['fear', 'analytical'], ['sadness', 'tentative', 'analytical'], ['sadness', 'tentative'], ['anger', 'confident'], ['joy'], ['joy'], ['joy', 'analytical'], ['joy'], ['joy'], ['analytical', 'confident'], ['sadness'], ['joy', 'tentative'], ['joy', 'confident'], ['tentative'], ['tentative'], ['sadness', 'tentative'], ['tentative'], ['analytical'], ['sadness'], ['joy', 'analytical'], ['joy', 'confident'], ['joy'], ['anger'], ['joy'], ['joy', 'confident', 'analytical'], ['analytical', 'confident'], ['sadness', 'analytical', 'tentative'], ['joy', 'analytical', 'tentative'], ['analytical'], ['joy'], ['joy'], ['analytical', 'tentative'], ['joy'], ['sadness', 'tentative', 'analytical'], ['joy', 'analytical'], ['sadness', 'analytical'], ['sadness'], ['analytical', 'tentative'], ['sadness', 'confident', 'analytical'], ['sadness', 'tentative'], ['sadness', 'tentative'], ['sadness'], ['anger', 'tentative'], ['sadness', 'analytical'], ['joy', 'tentative'], ['sadness', 'tentative'], ['sadness', 'tentative', 'analytical'], ['tentative'], ['joy', 'analytical', 'tentative'], ['joy', 'tentative'], ['sadness'], ['sadness', 'analytical'], ['joy', 'tentative', 'analytical'], ['joy', 'analytical'], ['joy', 'analytical'], ['joy'], ['sadness', 'tentative'], ['sadness', 'tentative'], ['fear', 'tentative'], ['fear'], ['tentative'], ['tentative', 'analytical'], ['analytical'], ['anger', 'analytical', 'tentative'], ['sadness', 'tentative', 'analytical'], ['confident', 'analytical'], ['sadness', 'analytical'], ['analytical'], ['sadness', 'analytical', 'tentative'], ['joy'], ['tentative'], ['tentative'], ['sadness', 'confident'], ['anger', 'confident'], ['sadness', 'analytical'], ['analytical'], ['tentative', 'analytical'], ['joy', 'analytical'], ['fear'], ['joy', 'analytical'], ['joy'], ['anger'], ['joy', 'analytical', 'confident'], ['joy'], ['anger', 'tentative'], ['joy', 'analytical'], ['joy', 'confident'], ['analytical', 'tentative'], ['joy'], ['fear'], ['sadness', 'tentative'], ['joy'], ['analytical', 'confident'], ['sadness', 'analytical', 'tentative'], ['sadness'], ['sadness'], ['joy'], ['joy'], ['sadness', 'analytical', 'tentative'], ['analytical'], ['analytical', 'tentative'], ['sadness', 'tentative'], ['sadness'], ['tentative'], ['tentative'], ['sadness'], ['fear', 'analytical'], ['analytical'], ['joy'], ['sadness', 'analytical', 'tentative'], ['tentative', 'analytical'], ['fear', 'analytical'], ['joy', 'confident'], ['fear', 'sadness', 'tentative'], ['sadness', 'tentative'], ['sadness'], ['sadness', 'analytical'], ['tentative'], ['anger', 'analytical', 'tentative'], ['analytical'], ['tentative'], ['analytical'], ['tentative', 'analytical'], ['sadness', 'analytical', 'tentative'], ['fear', 'tentative'], ['tentative'], ['fear'], ['joy', 'tentative'], ['sadness', 'tentative'], ['tentative'], ['sadness', 'analytical'], ['fear', 'sadness'], ['joy', 'confident'], ['sadness', 'analytical'], ['tentative'], ['fear', 'tentative'], ['sadness'], ['sadness', 'confident'], ['sadness', 'tentative'], ['joy'], ['tentative', 'analytical'], ['joy', 'confident'], ['joy'], ['sadness', 'tentative'], ['sadness', 'analytical'], ['anger'], ['joy', 'analytical'], ['joy', 'analytical'], ['anger'], ['sadness', 'analytical'], ['analytical'], ['sadness', 'analytical', 'confident'], ['anger'], ['joy', 'analytical'], ['sadness'], ['sadness', 'analytical', 'confident'], ['sadness', 'tentative', 'analytical'], ['fear', 'tentative'], ['tentative'], ['fear', 'sadness'], ['sadness', 'analytical', 'tentative'], ['sadness', 'analytical', 'tentative'], ['sadness', 'analytical'], ['joy'], ['sadness'], ['sadness'], ['fear'], ['sadness'], ['joy', 'tentative', 'analytical'], ['sadness', 'tentative', 'analytical'], ['joy'], ['sadness', 'tentative'], ['sadness'], ['joy', 'analytical'], ['joy', 'tentative', 'analytical'], ['anger', 'tentative'], ['joy'], ['tentative'], ['sadness', 'tentative'], ['sadness', 'analytical', 'tentative'], ['joy', 'tentative'], ['confident'], ['sadness', 'confident'], ['tentative'], ['sadness', 'analytical', 'tentative'], ['joy'], ['analytical', 'tentative'], ['sadness', 'tentative', 'analytical'], ['joy', 'confident'], ['tentative', 'analytical'], ['sadness', 'tentative'], ['confident'], ['sadness'], ['sadness', 'tentative'], ['tentative', 'analytical'], ['sadness', 'tentative'], ['tentative'], ['joy'], ['fear', 'tentative'], ['sadness', 'confident', 'analytical'], ['anger'], ['anger'], ['sadness', 'confident'], ['joy', 'analytical'], ['sadness', 'tentative'], ['fear'], ['analytical', 'tentative'], ['anger', 'tentative'], ['sadness', 'tentative'], ['joy', 'analytical'], ['analytical'], ['confident'], ['joy'], ['sadness'], ['tentative'], ['joy', 'confident'], ['tentative'], ['sadness'], ['sadness'], ['analytical'], ['joy', 'tentative'], ['joy'], ['joy', 'analytical'], ['analytical'], ['joy'], ['joy', 'tentative', 'analytical'], ['sadness', 'tentative', 'analytical'], ['sadness', 'analytical', 'tentative'], ['sadness'], ['sadness', 'analytical'], ['fear'], ['sadness', 'confident'], ['joy', 'tentative', 'analytical'], ['joy'], ['tentative'], ['joy', 'analytical'], ['joy', 'tentative'], ['fear'], ['fear', 'tentative'], ['sadness', 'analytical'], ['sadness', 'analytical'], ['sadness', 'tentative', 'analytical'], ['joy'], ['fear', 'sadness', 'analytical', 'tentative'], ['tentative'], ['anger'], ['joy', 'analytical', 'tentative'], ['joy'], ['tentative'], ['anger', 'fear', 'confident'], ['confident'], ['tentative'], ['sadness', 'analytical'], ['joy', 'tentative'], ['joy', 'analytical', 'tentative'], ['sadness'], ['sadness', 'analytical'], ['fear'], ['sadness', 'tentative'], ['joy', 'tentative', 'analytical'], ['analytical', 'tentative'], ['sadness', 'tentative'], ['sadness', 'analytical'], ['sadness', 'confident'], ['anger'], ['sadness', 'tentative'], ['joy'], ['joy', 'tentative'], ['tentative'], ['anger'], ['tentative'], ['sadness', 'tentative'], ['analytical', 'tentative'], ['tentative'], ['tentative'], ['joy', 'confident'], ['sadness'], ['sadness'], ['joy'], ['joy'], ['joy'], ['sadness', 'confident', 'analytical'], ['sadness'], ['tentative'], ['sadness', 'tentative'], ['tentative'], ['fear', 'tentative'], ['joy'], ['tentative', 'analytical'], ['joy', 'tentative'], ['sadness', 'analytical'], ['confident'], ['joy', 'analytical', 'tentative'], ['tentative'], ['sadness', 'analytical'], ['sadness', 'anger', 'tentative'], ['tentative'], ['sadness', 'confident'], ['analytical'], ['sadness', 'tentative'], ['joy'], ['anger'], ['analytical', 'tentative'], ['sadness', 'confident'], ['joy', 'tentative', 'analytical'], ['sadness'], ['fear', 'tentative'], ['fear', 'sadness', 'tentative'], ['sadness', 'tentative'], ['sadness', 'analytical'], ['joy'], ['sadness'], ['sadness'], ['anger', 'tentative', 'analytical'], ['joy'], ['joy'], ['sadness', 'analytical'], ['sadness', 'tentative'], ['joy'], ['analytical'], ['joy', 'tentative'], ['tentative'], ['joy', 'tentative', 'analytical'], ['sadness', 'tentative', 'analytical'], ['joy'], ['sadness', 'analytical', 'tentative'], ['tentative'], ['sadness'], ['sadness'], ['tentative'], ['tentative'], ['sadness', 'analytical'], ['tentative'], ['joy', 'analytical', 'tentative'], ['sadness', 'tentative'], ['sadness', 'tentative'], ['confident', 'analytical'], ['tentative', 'analytical'], ['sadness'], ['sadness', 'tentative'], ['sadness', 'tentative'], ['joy', 'analytical', 'tentative'], ['sadness', 'tentative'], ['tentative'], ['joy'], ['joy', 'analytical'], ['fear'], ['sadness', 'analytical', 'tentative'], ['anger', 'analytical'], ['analytical'], ['analytical'], ['tentative'], ['joy'], ['anger'], ['sadness'], ['sadness', 'tentative', 'analytical'], ['sadness', 'analytical'], ['anger', 'analytical'], ['tentative'], ['anger', 'analytical'], ['sadness', 'confident'], ['tentative'], ['sadness', 'analytical'], ['sadness'], ['joy'], ['analytical'], ['analytical'], ['sadness'], ['joy', 'tentative'], ['joy'], ['sadness', 'analytical'], ['anger', 'tentative'], ['sadness', 'tentative'], ['tentative'], ['joy', 'confident'], ['tentative'], ['confident'], ['sadness', 'analytical'], ['joy', 'confident'], ['sadness', 'tentative'], ['fear', 'confident'], ['analytical'], ['sadness', 'confident'], ['fear'], ['sadness', 'tentative'], ['analytical'], ['tentative', 'analytical'], ['sadness', 'tentative', 'analytical'], ['analytical', 'tentative'], ['joy'], ['joy', 'analytical'], ['analytical'], ['joy', 'tentative'], ['joy'], ['joy', 'analytical'], ['joy', 'analytical'], ['anger', 'tentative'], ['sadness', 'tentative'], ['tentative'], ['sadness', 'analytical'], ['joy', 'analytical'], ['joy', 'analytical'], ['sadness', 'tentative'], ['sadness', 'confident'], ['joy', 'tentative'], ['fear', 'tentative'], ['fear', 'analytical', 'tentative'], ['analytical'], ['joy', 'tentative'], ['joy', 'tentative'], ['sadness'], ['anger', 'tentative'], ['sadness', 'tentative'], ['sadness', 'tentative'], ['joy'], ['sadness', 'tentative'], ['sadness', 'confident'], ['sadness', 'tentative'], ['sadness', 'tentative', 'analytical'], ['sadness', 'analytical'], ['sadness'], ['sadness', 'analytical'], ['sadness', 'analytical'], ['fear', 'sadness', 'analytical'], ['joy', 'confident'], ['joy'], ['sadness'], ['sadness', 'tentative'], ['joy', 'analytical', 'tentative'], ['fear'], ['sadness', 'tentative'], ['joy', 'tentative'], ['joy', 'tentative', 'analytical'], ['analytical', 'tentative'], ['sadness', 'analytical'], ['sadness', 'tentative'], ['fear'], ['joy', 'tentative', 'analytical'], ['joy', 'tentative'], ['sadness', 'analytical'], ['sadness', 'tentative'], ['sadness', 'confident'], ['joy', 'analytical', 'tentative'], ['joy'], ['joy', 'tentative', 'analytical'], ['joy'], ['joy', 'analytical'], ['analytical'], ['joy'], ['sadness', 'analytical', 'tentative'], ['sadness', 'tentative'], ['analytical'], ['tentative'], ['sadness', 'tentative'], ['sadness'], ['confident', 'analytical'], ['tentative'], ['joy'], ['joy', 'analytical'], ['joy'], ['anger', 'tentative'], ['joy', 'tentative'], ['sadness', 'tentative'], ['sadness'], ['joy'], ['joy', 'analytical'], ['joy', 'confident', 'analytical'], ['joy', 'analytical'], ['joy', 'tentative'], ['joy'], ['joy'], ['sadness', 'tentative'], ['sadness'], ['joy', 'analytical'], ['sadness', 'tentative', 'analytical'], ['sadness'], ['joy'], ['sadness', 'tentative'], ['sadness', 'tentative'], ['sadness', 'analytical'], ['analytical'], ['joy', 'tentative'], ['sadness', 'confident'], ['sadness', 'tentative'], ['sadness'], ['joy'], ['sadness', 'analytical', 'tentative'], ['tentative'], ['analytical'], ['fear'], ['sadness', 'tentative'], ['joy'], ['anger', 'tentative'], ['analytical'], ['analytical'], ['sadness', 'tentative'], ['joy', 'analytical'], ['analytical', 'tentative'], ['analytical', 'tentative'], ['fear', 'analytical'], ['analytical'], ['joy'], ['joy', 'tentative'], ['analytical'], ['joy', 'analytical'], ['sadness'], ['fear', 'tentative'], ['tentative', 'analytical'], ['tentative'], ['sadness', 'tentative'], ['tentative'], ['anger', 'tentative'], ['sadness', 'tentative'], ['tentative', 'analytical'], ['confident', 'analytical'], ['joy', 'tentative'], ['joy'], ['sadness'], ['sadness', 'confident'], ['fear', 'tentative'], ['joy'], ['sadness'], ['joy', 'tentative'], ['sadness'], ['joy'], ['sadness'], ['analytical', 'confident'], ['joy'], ['sadness'], ['joy', 'analytical'], ['sadness', 'analytical'], ['sadness', 'analytical'], ['tentative'], ['joy', 'tentative'], ['confident'], ['sadness', 'analytical', 'tentative'], ['tentative'], ['sadness', 'tentative', 'analytical'], ['sadness', 'tentative'], ['sadness', 'fear', 'tentative'], ['joy'], ['tentative'], ['tentative', 'analytical'], ['joy', 'tentative'], ['tentative'], ['sadness', 'tentative'], ['joy', 'tentative'], ['joy', 'tentative'], ['sadness', 'analytical'], ['sadness'], ['sadness', 'tentative'], ['sadness', 'analytical'], ['joy', 'analytical'], ['sadness'], ['anger', 'tentative'], ['anger', 'tentative'], ['sadness'], ['joy'], ['tentative'], ['sadness', 'tentative', 'analytical'], ['joy', 'analytical', 'tentative'], ['joy', 'tentative'], ['analytical', 'tentative'], ['sadness', 'confident'], ['sadness'], ['sadness', 'tentative'], ['sadness'], ['confident', 'analytical'], ['fear', 'sadness'], ['tentative'], ['analytical', 'tentative'], ['sadness', 'analytical'], ['tentative', 'analytical'], ['joy'], ['sadness'], ['joy', 'confident', 'analytical'], ['sadness', 'analytical'], ['sadness', 'analytical'], ['anger', 'confident'], ['fear'], ['joy'], ['fear', 'sadness'], ['fear', 'tentative'], ['tentative'], ['tentative'], ['sadness', 'tentative'], ['sadness', 'tentative', 'analytical'], ['tentative'], ['sadness', 'tentative'], ['tentative'], ['tentative'], ['fear', 'confident'], ['tentative', 'analytical'], ['sadness', 'confident', 'analytical'], ['joy'], ['joy'], ['joy'], ['tentative'], ['joy', 'tentative'], ['sadness', 'confident'], ['joy', 'tentative'], ['fear', 'tentative'], ['joy', 'tentative'], ['confident'], ['sadness', 'tentative'], ['analytical'], ['sadness', 'tentative'], ['sadness', 'fear', 'tentative'], ['sadness', 'tentative'], ['sadness', 'analytical', 'tentative'], ['sadness', 'tentative'], ['sadness'], ['joy'], ['tentative'], ['joy'], ['joy', 'tentative'], ['sadness', 'analytical', 'tentative'], ['sadness', 'tentative'], ['sadness', 'tentative'], ['sadness', 'tentative'], ['sadness', 'tentative'], ['analytical'], ['analytical'], ['joy', 'analytical'], ['joy', 'tentative'], ['sadness', 'analytical', 'confident'], ['analytical'], ['sadness'], ['sadness', 'analytical'], ['fear'], ['sadness', 'tentative'], ['sadness', 'tentative'], ['joy', 'tentative'], ['sadness'], ['sadness', 'analytical', 'tentative'], ['sadness', 'analytical', 'tentative'], ['tentative', 'analytical'], ['sadness', 'analytical'], ['sadness', 'tentative'], ['sadness', 'tentative', 'analytical'], ['joy'], ['joy', 'tentative'], ['joy', 'confident'], ['anger'], ['sadness', 'tentative'], ['anger'], ['sadness', 'tentative', 'analytical'], ['joy'], ['joy', 'analytical'], ['tentative'], ['joy'], ['sadness', 'analytical', 'tentative'], ['joy', 'tentative'], ['anger'], ['fear', 'tentative'], ['fear'], ['sadness', 'analytical'], ['sadness'], ['sadness'], ['joy'], ['joy', 'confident', 'analytical'], ['sadness'], ['sadness', 'analytical'], ['sadness', 'confident', 'analytical'], ['tentative'], ['tentative'], ['joy'], ['joy'], ['sadness', 'analytical', 'tentative'], ['sadness', 'analytical', 'tentative'], ['fear'], ['joy', 'analytical'], ['fear'], ['sadness', 'tentative'], ['sadness', 'analytical'], ['tentative'], ['joy', 'tentative'], ['sadness', 'tentative'], ['sadness', 'analytical', 'tentative'], ['sadness'], ['joy', 'tentative'], ['tentative'], ['joy'], ['sadness', 'tentative'], ['joy'], ['sadness'], ['anger', 'tentative'], ['sadness'], ['joy'], ['joy'], ['analytical'], ['joy', 'confident'], ['joy', 'analytical', 'confident'], ['sadness', 'tentative'], ['sadness', 'tentative'], ['anger', 'analytical', 'tentative'], ['sadness', 'analytical', 'tentative'], ['anger'], ['sadness', 'tentative'], ['sadness', 'tentative'], ['joy', 'analytical'], ['analytical'], ['sadness', 'tentative'], ['sadness', 'tentative'], ['joy', 'analytical'], ['analytical', 'tentative'], ['joy', 'tentative'], ['analytical'], ['joy', 'analytical'], ['fear'], ['tentative'], ['joy', 'tentative'], ['sadness', 'analytical'], ['joy', 'tentative'], ['anger', 'tentative'], ['sadness', 'analytical', 'tentative'], ['joy'], ['joy', 'tentative'], ['sadness', 'analytical'], ['analytical'], ['joy'], ['fear', 'tentative'], ['joy', 'analytical'], ['sadness', 'analytical', 'tentative'], ['tentative'], ['joy'], ['analytical', 'tentative'], ['fear', 'tentative'], ['joy'], ['sadness'], ['joy', 'analytical'], ['joy', 'tentative', 'analytical'], ['joy'], ['sadness'], ['joy', 'analytical'], ['tentative'], ['joy'], ['joy', 'confident', 'analytical'], ['joy', 'tentative'], ['tentative'], ['anger'], ['joy'], ['joy', 'tentative'], ['fear', 'tentative'], ['sadness', 'analytical', 'tentative'], ['anger', 'analytical', 'tentative'], ['sadness', 'tentative'], ['anger', 'tentative'], ['joy', 'analytical', 'tentative'], ['tentative'], ['sadness'], ['sadness', 'confident', 'analytical'], ['sadness'], ['sadness', 'analytical'], ['sadness', 'tentative', 'analytical'], ['joy', 'tentative'], ['sadness', 'analytical', 'tentative'], ['sadness', 'tentative'], ['joy', 'analytical'], ['sadness', 'tentative', 'analytical'], ['joy', 'tentative'], ['tentative', 'analytical'], ['fear', 'analytical'], ['sadness'], ['joy'], ['joy'], ['joy', 'tentative'], ['sadness'], ['sadness'], ['analytical'], ['sadness', 'tentative'], ['fear', 'tentative'], ['joy', 'analytical'], ['joy', 'confident', 'analytical'], ['tentative'], ['sadness', 'tentative'], ['sadness', 'tentative'], ['sadness'], ['sadness'], ['joy'], ['tentative', 'analytical'], ['joy'], ['joy', 'confident'], ['tentative'], ['sadness', 'analytical'], ['sadness', 'analytical', 'tentative'], ['sadness', 'tentative'], ['joy'], ['anger', 'tentative'], ['joy', 'analytical', 'confident'], ['sadness', 'tentative'], ['sadness', 'tentative'], ['anger', 'tentative', 'analytical'], ['sadness', 'tentative', 'analytical'], ['joy', 'analytical', 'tentative'], ['sadness'], ['joy', 'analytical', 'confident'], ['joy', 'analytical'], ['joy'], ['tentative'], ['joy'], ['sadness'], ['tentative'], ['analytical'], ['joy', 'tentative'], ['fear', 'analytical', 'tentative'], ['anger'], ['joy', 'confident'], ['sadness', 'tentative'], ['sadness', 'tentative'], ['sadness', 'analytical', 'tentative'], ['joy', 'analytical', 'tentative'], ['sadness', 'analytical'], ['anger', 'analytical'], ['joy', 'analytical'], ['sadness'], ['sadness', 'tentative'], ['joy'], ['analytical'], ['joy'], ['fear', 'tentative'], ['joy', 'analytical'], ['joy', 'analytical'], ['joy', 'analytical'], ['sadness', 'analytical'], ['sadness', 'tentative', 'analytical'], ['sadness', 'tentative'], ['sadness'], ['sadness', 'tentative'], ['sadness', 'tentative'], ['joy', 'tentative'], ['tentative', 'analytical'], ['tentative'], ['sadness'], ['sadness', 'analytical'], ['sadness', 'tentative'], ['sadness', 'analytical'], ['tentative'], ['joy'], ['analytical', 'tentative'], ['sadness', 'confident'], ['analytical'], ['joy'], ['joy', 'tentative', 'analytical'], ['sadness', 'tentative', 'analytical'], ['joy', 'analytical', 'tentative'], ['joy'], ['fear', 'sadness'], ['sadness', 'analytical', 'tentative'], ['joy', 'analytical', 'confident'], ['fear', 'tentative'], ['sadness', 'analytical'], ['sadness'], ['analytical', 'tentative'], ['sadness', 'analytical', 'tentative'], ['sadness', 'tentative'], ['tentative'], ['sadness', 'tentative'], ['fear', 'tentative'], ['analytical', 'tentative'], ['joy'], ['tentative'], ['tentative'], ['tentative'], ['joy', 'analytical', 'tentative'], ['sadness'], ['joy'], ['analytical', 'tentative'], ['sadness', 'analytical'], ['sadness', 'analytical'], ['joy', 'tentative'], ['analytical', 'confident'], ['sadness'], ['sadness', 'analytical', 'tentative'], ['anger', 'analytical', 'tentative'], ['joy', 'tentative'], ['anger', 'analytical'], ['fear'], ['sadness', 'analytical'], ['fear', 'tentative'], ['joy', 'analytical'], ['sadness', 'analytical', 'tentative'], ['tentative'], ['sadness'], ['sadness', 'tentative'], ['joy', 'tentative'], ['joy', 'confident', 'analytical'], ['sadness', 'analytical'], ['sadness', 'tentative'], ['sadness', 'analytical'], ['tentative'], ['tentative'], ['joy'], ['sadness', 'analytical'], ['tentative'], ['sadness', 'tentative'], ['sadness'], ['confident'], ['sadness', 'tentative'], ['anger', 'analytical'], ['sadness', 'tentative'], ['fear'], ['analytical'], ['analytical'], ['tentative'], ['analytical'], ['sadness'], ['tentative'], ['joy'], ['sadness', 'analytical'], ['sadness'], ['sadness', 'analytical', 'tentative'], ['fear'], ['sadness', 'tentative'], ['anger'], ['sadness'], ['sadness'], ['anger'], ['tentative'], ['sadness', 'tentative'], ['sadness'], ['sadness', 'analytical'], ['sadness', 'analytical'], ['joy', 'tentative'], ['joy'], ['sadness'], ['joy'], ['sadness', 'analytical', 'tentative'], ['analytical', 'tentative'], ['fear', 'tentative'], ['joy', 'tentative'], ['joy', 'tentative'], ['sadness', 'tentative'], ['sadness', 'analytical', 'tentative'], ['sadness', 'tentative'], ['sadness', 'analytical', 'tentative'], ['sadness', 'anger', 'analytical'], ['joy'], ['sadness', 'tentative'], ['joy', 'tentative', 'analytical'], ['tentative'], ['sadness', 'confident'], ['sadness'], ['analytical'], ['sadness', 'tentative'], ['joy', 'tentative'], ['tentative'], ['joy'], ['joy'], ['analytical'], ['tentative'], ['sadness'], ['joy', 'analytical'], ['sadness'], ['tentative'], ['analytical'], ['sadness', 'tentative'], ['confident'], ['sadness', 'confident'], ['sadness', 'confident'], ['joy'], ['joy', 'tentative'], ['confident'], ['sadness'], ['sadness', 'analytical'], ['sadness', 'analytical'], ['sadness'], ['sadness', 'analytical'], ['joy'], ['joy'], ['analytical'], ['sadness', 'analytical'], ['anger', 'tentative'], ['joy', 'analytical', 'tentative'], ['sadness', 'analytical', 'tentative'], ['confident'], ['sadness', 'analytical'], ['sadness', 'tentative'], ['sadness', 'tentative'], ['joy'], ['analytical'], ['sadness', 'analytical', 'tentative'], ['joy', 'analytical'], ['sadness', 'tentative'], ['joy', 'analytical'], ['sadness', 'tentative'], ['joy'], ['sadness'], ['sadness'], ['joy', 'analytical'], ['sadness', 'analytical', 'tentative'], ['joy'], ['joy', 'tentative'], ['sadness', 'tentative', 'analytical'], ['joy', 'analytical'], ['analytical', 'tentative'], ['joy'], ['tentative'], ['tentative', 'analytical'], ['sadness', 'tentative'], ['sadness', 'confident', 'analytical'], ['analytical', 'tentative'], ['sadness'], ['tentative', 'analytical'], ['joy', 'analytical'], ['sadness'], ['fear', 'tentative'], ['joy'], ['joy'], ['sadness', 'analytical'], ['joy'], ['sadness'], ['sadness', 'analytical', 'tentative'], ['analytical'], ['tentative'], ['sadness', 'tentative'], ['confident'], ['tentative'], ['confident'], ['joy', 'tentative', 'analytical'], ['sadness', 'analytical'], ['sadness', 'analytical'], ['joy', 'tentative'], ['analytical'], ['fear', 'tentative', 'analytical'], ['sadness', 'analytical'], ['joy', 'analytical'], ['sadness'], ['tentative'], ['sadness'], ['tentative'], ['sadness', 'analytical', 'tentative'], ['tentative'], ['sadness', 'confident'], ['sadness'], ['joy'], ['joy'], ['analytical', 'tentative'], ['tentative', 'analytical'], ['anger'], ['tentative'], ['joy', 'tentative'], ['joy', 'confident', 'analytical'], ['anger', 'tentative'], ['analytical', 'tentative'], ['joy', 'confident'], ['analytical'], ['fear', 'tentative'], ['tentative'], ['analytical'], ['joy', 'tentative'], ['joy'], ['joy', 'confident'], ['joy'], ['tentative'], ['sadness', 'analytical'], ['tentative'], ['fear', 'analytical', 'confident'], ['joy'], ['sadness', 'analytical', 'tentative'], ['joy', 'tentative'], ['joy'], ['tentative'], ['sadness', 'tentative'], ['tentative'], ['sadness', 'analytical'], ['sadness', 'anger', 'tentative', 'analytical'], ['tentative'], ['joy'], ['analytical', 'tentative'], ['joy'], ['sadness'], ['joy'], ['sadness', 'analytical', 'tentative'], ['joy'], ['joy', 'analytical'], ['tentative'], ['sadness'], ['joy', 'confident'], ['joy', 'confident'], ['sadness', 'analytical'], ['joy'], ['analytical'], ['sadness', 'analytical'], ['tentative'], ['analytical'], ['tentative'], ['analytical'], ['tentative', 'analytical'], ['sadness'], ['sadness', 'tentative', 'analytical'], ['joy'], ['analytical'], ['analytical', 'tentative'], ['joy', 'tentative'], ['joy', 'confident'], ['joy', 'analytical'], ['sadness'], ['fear', 'tentative'], ['fear'], ['sadness'], ['joy', 'analytical', 'tentative'], ['sadness', 'tentative'], ['tentative'], ['sadness', 'tentative', 'analytical'], ['tentative'], ['joy', 'tentative'], ['tentative', 'analytical'], ['joy'], ['analytical'], ['sadness'], ['joy', 'analytical', 'tentative'], ['sadness', 'analytical'], ['sadness'], ['joy', 'analytical'], ['fear', 'tentative'], ['sadness', 'tentative'], ['joy', 'analytical', 'confident'], ['sadness', 'tentative'], ['sadness', 'tentative', 'analytical'], ['sadness'], ['anger', 'tentative', 'analytical'], ['joy'], ['analytical'], ['sadness', 'tentative'], ['joy'], ['sadness', 'tentative'], ['joy', 'analytical'], ['sadness', 'analytical', 'tentative'], ['joy'], ['sadness', 'tentative'], ['joy', 'tentative'], ['joy', 'tentative', 'analytical'], ['fear', 'analytical'], ['analytical', 'tentative'], ['anger', 'tentative'], ['joy', 'analytical'], ['joy', 'analytical', 'confident'], ['sadness'], ['joy'], ['sadness', 'analytical'], ['joy', 'tentative'], ['joy'], ['joy', 'tentative'], ['sadness', 'analytical', 'tentative'], ['fear'], ['sadness', 'analytical', 'confident'], ['tentative'], ['analytical'], ['fear', 'confident'], ['sadness', 'analytical'], ['fear', 'analytical', 'confident'], ['sadness', 'tentative'], ['fear'], ['fear', 'analytical', 'tentative'], ['sadness', 'analytical'], ['tentative'], ['tentative'], ['analytical'], ['sadness', 'tentative', 'analytical'], ['analytical'], ['joy'], ['joy', 'tentative'], ['sadness', 'analytical'], ['sadness'], ['sadness'], ['sadness', 'analytical', 'tentative'], ['sadness', 'tentative', 'analytical'], ['sadness'], ['tentative'], ['sadness'], ['joy', 'analytical'], ['sadness', 'analytical'], ['anger'], ['sadness'], ['joy'], ['analytical'], ['joy'], ['analytical'], ['sadness', 'tentative'], ['sadness'], ['joy'], ['tentative'], ['analytical'], ['analytical'], ['sadness', 'analytical', 'tentative'], ['sadness', 'analytical', 'confident'], ['sadness'], ['confident', 'analytical'], ['sadness', 'tentative'], ['analytical', 'tentative'], ['tentative'], ['sadness', 'analytical'], ['tentative'], ['joy', 'analytical'], ['tentative'], ['sadness', 'analytical', 'tentative'], ['joy'], ['joy', 'analytical'], ['sadness', 'analytical'], ['tentative'], ['joy', 'confident', 'analytical'], ['joy', 'confident'], ['joy', 'tentative'], ['sadness', 'tentative'], ['joy', 'analytical'], ['fear'], ['sadness', 'analytical'], ['tentative', 'analytical'], ['sadness', 'tentative'], ['analytical', 'confident'], ['tentative'], ['sadness'], ['tentative'], ['anger'], ['joy'], ['sadness', 'confident'], ['sadness'], ['analytical'], ['analytical', 'confident'], ['joy', 'analytical'], ['sadness', 'tentative', 'analytical'], ['tentative'], ['joy'], ['sadness'], ['fear', 'tentative', 'analytical'], ['tentative'], ['analytical', 'tentative'], ['tentative'], ['joy'], ['tentative'], ['tentative'], ['tentative'], ['joy', 'tentative', 'analytical'], ['tentative'], ['sadness', 'tentative'], ['joy'], ['sadness', 'tentative'], ['sadness'], ['tentative'], ['analytical'], ['sadness', 'analytical'], ['joy', 'analytical', 'tentative'], ['sadness', 'tentative', 'analytical'], ['joy', 'tentative'], ['confident', 'analytical'], ['sadness', 'analytical'], ['tentative'], ['analytical'], ['sadness'], ['tentative'], ['sadness', 'tentative'], ['analytical'], ['sadness'], ['joy', 'tentative'], ['joy'], ['anger', 'tentative', 'analytical'], ['sadness', 'tentative'], ['joy', 'tentative'], ['sadness', 'tentative'], ['analytical'], ['sadness', 'tentative'], ['joy', 'analytical'], ['sadness', 'tentative'], ['sadness', 'analytical'], ['sadness'], ['sadness'], ['fear'], ['sadness', 'tentative'], ['sadness', 'tentative'], ['joy', 'tentative'], ['joy'], ['tentative', 'analytical'], ['sadness', 'analytical'], ['sadness'], ['sadness', 'analytical'], ['sadness', 'confident', 'analytical'], ['fear', 'tentative'], ['joy', 'confident', 'analytical'], ['anger', 'confident', 'analytical'], ['sadness'], ['joy', 'analytical'], ['tentative'], ['tentative', 'analytical'], ['sadness', 'analytical', 'tentative'], ['sadness'], ['sadness', 'tentative'], ['sadness', 'tentative'], ['sadness', 'confident'], ['confident'], ['sadness', 'analytical'], ['confident'], ['sadness'], ['analytical'], ['fear'], ['analytical'], ['sadness', 'tentative'], ['joy'], ['sadness', 'tentative', 'analytical'], ['confident', 'analytical'], ['tentative'], ['joy'], ['analytical'], ['joy'], ['sadness'], ['joy', 'confident'], ['joy'], ['sadness', 'tentative'], ['joy'], ['joy', 'fear'], ['joy', 'tentative'], ['tentative'], ['sadness'], ['joy'], ['joy', 'tentative'], ['joy', 'analytical'], ['tentative'], ['tentative', 'analytical'], ['sadness'], ['sadness', 'tentative'], ['joy'], ['tentative'], ['joy', 'tentative'], ['sadness', 'tentative', 'analytical'], ['sadness', 'tentative'], ['joy', 'tentative'], ['joy', 'tentative'], ['joy', 'analytical'], ['joy', 'analytical'], ['anger', 'tentative'], ['joy'], ['analytical'], ['sadness', 'analytical'], ['sadness', 'analytical', 'tentative'], ['sadness', 'analytical', 'tentative'], ['confident', 'analytical'], ['analytical', 'tentative'], ['joy', 'tentative'], ['joy', 'analytical', 'tentative'], ['fear'], ['tentative', 'analytical'], ['sadness', 'analytical'], ['sadness', 'tentative'], ['analytical'], ['joy', 'confident'], ['sadness', 'tentative'], ['joy'], ['joy', 'analytical'], ['analytical', 'tentative'], ['joy'], ['joy', 'analytical'], ['joy'], ['sadness', 'analytical', 'tentative'], ['joy', 'tentative'], ['joy', 'analytical', 'tentative'], ['joy'], ['sadness'], ['analytical'], ['sadness', 'confident'], ['sadness', 'tentative'], ['sadness', 'tentative'], ['sadness', 'tentative'], ['sadness'], ['sadness', 'analytical'], ['fear'], ['sadness', 'tentative'], ['fear', 'analytical'], ['joy'], ['joy', 'tentative'], ['joy'], ['sadness', 'analytical', 'confident'], ['analytical'], ['anger', 'tentative'], ['anger'], ['tentative'], ['sadness'], ['tentative'], ['sadness', 'analytical'], ['joy', 'tentative'], ['analytical', 'tentative'], ['sadness', 'analytical'], ['analytical', 'tentative'], ['anger'], ['sadness', 'analytical', 'tentative'], ['sadness'], ['analytical'], ['sadness', 'analytical'], ['joy'], ['analytical'], ['fear'], ['anger', 'tentative'], ['sadness', 'analytical'], ['sadness', 'tentative'], ['joy'], ['sadness', 'tentative', 'analytical'], ['sadness', 'tentative'], ['fear', 'analytical'], ['sadness', 'confident'], ['sadness', 'analytical'], ['sadness', 'analytical'], ['joy'], ['fear', 'analytical'], ['joy', 'tentative'], ['sadness', 'analytical'], ['confident', 'analytical'], ['joy', 'analytical'], ['sadness', 'tentative'], ['fear', 'analytical'], ['sadness', 'tentative'], ['joy', 'analytical'], ['analytical', 'tentative'], ['confident'], ['joy', 'analytical'], ['tentative'], ['sadness', 'analytical'], ['fear'], ['sadness', 'analytical', 'tentative'], ['sadness', 'tentative'], ['anger', 'tentative'], ['joy'], ['fear', 'analytical', 'tentative'], ['sadness', 'tentative', 'analytical'], ['joy', 'tentative'], ['joy', 'analytical', 'confident'], ['sadness', 'tentative'], ['joy', 'analytical'], ['joy', 'confident'], ['sadness', 'confident'], ['sadness'], ['sadness', 'analytical'], ['anger', 'confident'], ['sadness', 'analytical'], ['sadness', 'analytical', 'tentative'], ['analytical'], ['joy'], ['anger', 'tentative'], ['sadness', 'tentative'], ['sadness', 'tentative'], ['sadness', 'tentative'], ['sadness', 'tentative'], ['analytical'], ['joy', 'tentative', 'analytical'], ['anger', 'confident', 'analytical'], ['analytical', 'tentative'], ['analytical'], ['sadness', 'analytical', 'tentative'], ['sadness', 'tentative'], ['confident'], ['confident'], ['analytical'], ['joy', 'analytical'], ['joy', 'analytical'], ['joy'], ['sadness', 'tentative'], ['sadness', 'analytical'], ['sadness', 'analytical'], ['tentative'], ['tentative'], ['sadness'], ['tentative'], ['tentative', 'analytical'], ['joy', 'tentative'], ['analytical'], ['sadness', 'tentative'], ['confident'], ['sadness', 'tentative'], ['analytical'], ['joy', 'analytical'], ['tentative'], ['tentative'], ['fear', 'tentative'], ['anger', 'tentative'], ['tentative'], ['confident'], ['analytical', 'tentative'], ['tentative'], ['sadness', 'tentative', 'analytical'], ['tentative'], ['analytical', 'tentative'], ['fear'], ['sadness', 'tentative'], ['joy'], ['joy', 'confident'], ['sadness'], ['sadness', 'tentative'], ['sadness'], ['fear', 'tentative'], ['tentative'], ['anger', 'analytical', 'tentative'], ['sadness'], ['fear'], ['joy', 'tentative'], ['analytical'], ['sadness'], ['joy', 'tentative'], ['joy', 'tentative'], ['sadness'], ['sadness', 'analytical', 'tentative'], ['sadness', 'tentative'], ['joy'], ['analytical'], ['sadness', 'confident'], ['joy', 'analytical', 'tentative'], ['fear', 'tentative'], ['confident'], ['anger', 'tentative'], ['sadness', 'tentative', 'analytical'], ['joy', 'tentative'], ['joy'], ['sadness', 'confident'], ['joy'], ['tentative'], ['tentative'], ['sadness', 'tentative'], ['sadness'], ['joy', 'tentative'], ['confident'], ['sadness', 'confident'], ['joy', 'analytical', 'confident'], ['anger'], ['sadness'], ['sadness', 'tentative'], ['tentative'], ['sadness', 'tentative'], ['analytical', 'tentative'], ['joy', 'analytical', 'tentative'], ['analytical', 'tentative'], ['analytical'], ['fear', 'tentative'], ['joy', 'analytical'], ['tentative'], ['joy', 'tentative'], ['sadness', 'tentative'], ['joy', 'analytical', 'tentative'], ['joy', 'analytical'], ['joy', 'confident', 'analytical'], ['tentative'], ['sadness', 'tentative'], ['fear', 'tentative'], ['joy', 'tentative'], ['analytical'], ['joy', 'tentative'], ['tentative'], ['sadness', 'tentative'], ['analytical'], ['sadness', 'tentative'], ['analytical'], ['tentative'], ['tentative', 'analytical'], ['tentative'], ['sadness', 'confident'], ['analytical', 'tentative'], ['sadness'], ['joy'], ['tentative'], ['sadness'], ['analytical'], ['confident'], ['joy', 'tentative'], ['sadness', 'analytical'], ['sadness'], ['sadness'], ['sadness'], ['tentative'], ['sadness', 'analytical'], ['sadness', 'anger', 'analytical', 'tentative'], ['joy'], ['analytical', 'tentative'], ['fear'], ['analytical', 'tentative'], ['sadness', 'tentative'], ['tentative'], ['sadness', 'analytical'], ['anger', 'sadness', 'tentative'], ['analytical', 'tentative'], ['joy', 'analytical'], ['joy', 'tentative'], ['sadness'], ['analytical'], ['sadness', 'analytical'], ['sadness'], ['sadness', 'tentative'], ['joy', 'analytical'], ['tentative'], ['joy'], ['analytical'], ['joy', 'confident'], ['sadness', 'tentative'], ['analytical'], ['analytical'], ['joy'], ['anger', 'tentative'], ['joy', 'analytical'], ['sadness', 'tentative'], ['sadness', 'analytical'], ['anger', 'analytical', 'tentative'], ['joy', 'analytical', 'tentative'], ['sadness', 'tentative'], ['sadness', 'analytical'], ['joy', 'tentative'], ['sadness', 'analytical'], ['tentative'], ['anger'], ['tentative'], ['joy'], ['tentative'], ['sadness'], ['sadness', 'tentative'], ['joy'], ['anger', 'confident'], ['tentative', 'analytical'], ['analytical'], ['fear', 'tentative'], ['tentative', 'analytical'], ['anger', 'tentative'], ['fear', 'sadness', 'anger', 'tentative'], ['joy'], ['sadness', 'tentative'], ['sadness'], ['fear'], ['anger', 'analytical', 'confident'], ['joy'], ['sadness', 'analytical', 'tentative'], ['analytical', 'tentative'], ['joy'], ['joy'], ['anger'], ['sadness', 'tentative'], ['analytical', 'tentative'], ['sadness', 'analytical'], ['joy', 'confident'], ['sadness'], ['confident', 'analytical'], ['sadness', 'tentative', 'analytical'], ['tentative'], ['joy', 'tentative'], ['sadness'], ['sadness'], ['sadness'], ['sadness', 'tentative'], ['sadness', 'tentative'], ['sadness', 'tentative'], ['sadness', 'analytical'], ['sadness', 'analytical'], ['joy', 'analytical'], ['analytical'], ['joy', 'analytical'], ['anger', 'tentative'], ['tentative'], ['confident'], ['joy', 'tentative'], ['sadness', 'tentative'], ['sadness', 'analytical'], ['tentative'], ['tentative'], ['sadness'], ['tentative'], ['sadness', 'tentative'], ['sadness', 'analytical'], ['sadness'], ['joy'], ['joy', 'tentative', 'analytical'], ['joy'], ['analytical'], ['sadness'], ['sadness', 'analytical', 'tentative'], ['sadness', 'tentative', 'analytical'], ['sadness', 'tentative', 'analytical'], ['sadness', 'tentative'], ['sadness', 'tentative'], ['tentative', 'analytical'], ['tentative'], ['fear', 'analytical', 'tentative'], ['tentative', 'analytical'], ['sadness'], ['sadness'], ['sadness'], ['joy'], ['analytical'], ['fear', 'tentative'], ['sadness'], ['sadness', 'analytical'], ['joy'], ['sadness', 'confident'], ['sadness'], ['joy', 'analytical'], ['sadness'], ['joy'], ['sadness', 'confident'], ['joy', 'confident'], ['joy', 'analytical'], ['sadness'], ['analytical', 'tentative'], ['sadness', 'analytical'], ['joy'], ['sadness', 'analytical', 'tentative'], ['joy', 'tentative'], ['fear', 'sadness', 'analytical', 'tentative'], ['analytical', 'tentative'], ['joy'], ['analytical', 'tentative'], ['sadness', 'tentative'], ['sadness', 'tentative'], ['fear', 'analytical'], ['sadness', 'tentative'], ['tentative'], ['analytical'], ['tentative'], ['sadness', 'tentative'], ['fear', 'analytical'], ['joy', 'analytical', 'confident'], ['sadness', 'tentative'], ['analytical', 'tentative'], ['joy', 'confident'], ['joy'], ['tentative'], ['sadness'], ['joy'], ['sadness'], ['sadness', 'analytical', 'tentative'], ['fear', 'tentative'], ['tentative'], ['analytical', 'tentative'], ['anger'], ['sadness'], ['joy', 'tentative', 'analytical'], ['sadness'], ['joy', 'tentative'], ['joy', 'tentative'], ['sadness', 'tentative'], ['analytical', 'confident'], ['sadness'], ['sadness', 'confident'], ['anger', 'tentative'], ['tentative'], ['tentative'], ['sadness'], ['joy'], ['sadness', 'analytical'], ['sadness', 'analytical'], ['sadness', 'tentative'], ['joy'], ['fear', 'confident'], ['joy'], ['sadness', 'analytical'], ['fear', 'tentative'], ['tentative'], ['tentative'], ['sadness'], ['sadness'], ['sadness', 'tentative'], ['analytical'], ['joy', 'confident'], ['fear'], ['joy'], ['analytical'], ['analytical', 'tentative'], ['anger', 'tentative'], ['sadness'], ['fear'], ['joy', 'tentative'], ['tentative'], ['analytical'], ['anger', 'analytical'], ['tentative'], ['sadness', 'anger', 'tentative'], ['joy', 'tentative'], ['joy', 'analytical'], ['sadness', 'tentative'], ['tentative'], ['joy'], ['tentative'], ['joy'], ['joy'], ['tentative'], ['sadness', 'confident'], ['joy', 'analytical'], ['sadness', 'fear', 'tentative'], ['fear'], ['analytical'], ['sadness', 'tentative'], ['tentative'], ['tentative', 'analytical'], ['sadness'], ['tentative'], ['sadness'], ['sadness', 'tentative'], ['fear', 'tentative'], ['joy', 'tentative'], ['fear', 'confident'], ['sadness', 'tentative'], ['sadness', 'tentative', 'analytical'], ['joy'], ['joy'], ['tentative', 'analytical'], ['analytical'], ['fear'], ['joy', 'tentative'], ['joy'], ['fear', 'tentative'], ['sadness', 'analytical'], ['sadness', 'tentative'], ['tentative'], ['analytical'], ['sadness'], ['sadness', 'analytical'], ['anger'], ['sadness', 'fear', 'tentative'], ['analytical'], ['sadness', 'tentative'], ['fear', 'tentative'], ['tentative', 'analytical'], ['sadness', 'tentative'], ['tentative'], ['sadness'], ['sadness', 'analytical'], ['sadness', 'tentative'], ['joy', 'confident'], ['joy', 'confident'], ['tentative'], ['sadness', 'analytical', 'tentative'], ['sadness', 'analytical'], ['joy'], ['tentative'], ['sadness', 'analytical'], ['sadness', 'tentative'], ['fear', 'tentative'], ['joy'], ['sadness', 'analytical', 'confident'], ['joy', 'tentative'], ['joy'], ['analytical'], ['tentative', 'analytical'], ['tentative'], ['analytical'], ['joy'], ['sadness', 'tentative'], ['sadness'], ['sadness', 'analytical'], ['sadness'], ['joy', 'tentative'], ['joy'], ['sadness', 'tentative'], ['joy', 'analytical', 'confident'], ['analytical', 'tentative'], ['tentative'], ['sadness', 'tentative', 'analytical'], ['sadness', 'analytical'], ['sadness', 'tentative'], ['sadness', 'tentative'], ['sadness', 'analytical'], ['anger', 'analytical'], ['confident'], ['tentative'], ['joy', 'analytical'], ['joy', 'analytical', 'confident'], ['sadness', 'analytical'], ['tentative'], ['anger', 'tentative'], ['tentative'], ['joy', 'confident'], ['confident', 'analytical'], ['sadness'], ['sadness', 'tentative'], ['tentative'], ['fear', 'analytical', 'tentative'], ['sadness', 'tentative'], ['joy', 'confident', 'analytical'], ['tentative'], ['sadness'], ['joy', 'confident'], ['fear', 'tentative'], ['sadness'], ['analytical'], ['joy', 'analytical'], ['sadness', 'analytical'], ['tentative'], ['joy'], ['joy', 'tentative', 'analytical'], ['joy'], ['sadness'], ['tentative'], ['sadness', 'analytical'], ['joy'], ['joy', 'analytical', 'tentative'], ['joy'], ['sadness', 'tentative'], ['sadness', 'tentative'], ['joy'], ['joy', 'analytical', 'tentative'], ['tentative', 'analytical'], ['anger'], ['sadness'], ['sadness', 'tentative'], ['tentative'], ['joy', 'tentative'], ['tentative', 'analytical'], ['joy', 'tentative'], ['joy', 'tentative'], ['anger'], ['joy', 'analytical', 'confident'], ['joy'], ['anger', 'tentative'], ['sadness', 'confident'], ['sadness', 'analytical'], ['sadness', 'tentative'], ['anger', 'tentative'], ['tentative', 'analytical'], ['sadness'], ['sadness', 'tentative'], ['sadness'], ['joy', 'tentative'], ['joy', 'analytical'], ['joy'], ['joy', 'confident'], ['joy'], ['analytical'], ['sadness', 'tentative'], ['sadness', 'analytical'], ['joy', 'tentative'], ['sadness', 'analytical', 'tentative'], ['sadness'], ['sadness', 'tentative'], ['joy'], ['joy'], ['joy', 'tentative'], ['sadness', 'analytical', 'tentative'], ['joy'], ['joy', 'tentative'], ['sadness'], ['joy', 'tentative', 'analytical'], ['joy', 'analytical'], ['sadness', 'analytical', 'tentative'], ['sadness', 'analytical'], ['fear', 'analytical', 'tentative'], ['sadness', 'analytical'], ['sadness', 'analytical', 'tentative'], ['anger', 'tentative', 'analytical'], ['fear', 'tentative'], ['tentative'], ['sadness', 'analytical'], ['fear', 'analytical', 'tentative'], ['joy'], ['sadness', 'confident'], ['anger', 'tentative'], ['joy'], ['joy', 'tentative'], ['tentative'], ['sadness', 'analytical'], ['sadness', 'analytical'], ['joy', 'analytical'], ['analytical', 'tentative'], ['joy', 'analytical'], ['joy'], ['joy', 'tentative'], ['joy'], ['analytical', 'tentative'], ['sadness'], ['joy'], ['joy'], ['sadness', 'analytical'], ['joy', 'analytical'], ['sadness', 'analytical'], ['joy', 'analytical'], ['joy'], ['analytical'], ['sadness', 'analytical'], ['joy', 'analytical', 'tentative'], ['joy', 'tentative'], ['sadness', 'analytical'], ['fear', 'confident'], ['analytical'], ['sadness', 'tentative'], ['tentative'], ['confident'], ['analytical', 'tentative'], ['sadness', 'fear', 'analytical'], ['analytical', 'confident'], ['sadness'], ['tentative'], ['joy'], ['analytical'], ['tentative'], ['joy', 'tentative'], ['joy', 'analytical'], ['analytical', 'tentative'], ['sadness', 'tentative'], ['sadness'], ['sadness', 'tentative'], ['anger'], ['sadness', 'analytical'], ['joy', 'analytical'], ['joy'], ['anger', 'confident'], ['sadness'], ['sadness'], ['analytical'], ['analytical', 'confident'], ['joy', 'confident'], ['joy', 'analytical'], ['analytical', 'tentative'], ['fear', 'tentative'], ['sadness'], ['joy'], ['joy', 'analytical', 'tentative'], ['fear'], ['sadness'], ['joy'], ['sadness', 'analytical', 'tentative'], ['sadness', 'analytical', 'tentative'], ['tentative', 'analytical'], ['sadness', 'tentative'], ['sadness'], ['joy', 'tentative', 'analytical'], ['joy', 'analytical'], ['confident'], ['sadness'], ['analytical', 'tentative'], ['joy', 'analytical', 'tentative'], ['tentative'], ['tentative'], ['sadness'], ['joy', 'tentative'], ['sadness', 'tentative'], ['joy', 'tentative'], ['sadness', 'analytical', 'confident'], ['joy', 'confident'], ['fear', 'confident'], ['tentative'], ['sadness'], ['anger'], ['tentative'], ['tentative', 'analytical'], ['fear'], ['sadness'], ['sadness'], ['anger'], ['analytical', 'tentative'], ['joy', 'tentative'], ['confident', 'analytical'], ['tentative', 'analytical'], ['joy', 'confident', 'analytical'], ['joy'], ['fear'], ['fear', 'tentative'], ['sadness', 'tentative'], ['joy', 'tentative'], ['tentative'], ['analytical'], ['analytical'], ['joy', 'tentative'], ['joy', 'analytical', 'confident'], ['joy'], ['sadness'], ['tentative'], ['confident'], ['joy', 'analytical', 'tentative'], ['sadness', 'tentative'], ['joy'], ['sadness', 'tentative'], ['sadness', 'analytical'], ['joy'], ['joy'], ['joy', 'analytical', 'tentative'], ['tentative'], ['fear'], ['sadness'], ['joy', 'analytical'], ['sadness', 'confident'], ['joy'], ['tentative'], ['analytical', 'tentative'], ['joy'], ['sadness', 'analytical'], ['analytical'], ['sadness', 'analytical'], ['joy', 'tentative'], ['anger', 'tentative'], ['analytical'], ['confident'], ['joy'], ['tentative'], ['joy', 'confident'], ['joy', 'confident', 'analytical'], ['sadness', 'confident'], ['sadness', 'analytical'], ['sadness'], ['sadness', 'analytical', 'tentative'], ['sadness', 'analytical', 'tentative'], ['sadness'], ['tentative'], ['fear', 'analytical'], ['analytical'], ['joy'], ['analytical'], ['sadness', 'tentative'], ['sadness', 'tentative'], ['analytical'], ['analytical', 'confident'], ['sadness', 'analytical'], ['joy', 'tentative'], ['fear'], ['sadness', 'analytical'], ['sadness', 'analytical'], ['fear', 'tentative'], ['joy'], ['analytical'], ['joy', 'analytical', 'tentative'], ['joy'], ['analytical', 'tentative'], ['analytical', 'tentative'], ['tentative'], ['analytical'], ['analytical'], ['analytical'], ['joy', 'analytical'], ['joy', 'analytical'], ['analytical', 'confident'], ['tentative'], ['confident'], ['joy', 'analytical'], ['analytical'], ['joy', 'analytical'], ['analytical'], ['analytical'], ['analytical'], ['analytical'], ['joy', 'analytical'], ['tentative', 'analytical'], ['analytical'], ['joy'], ['confident'], ['tentative'], ['joy', 'analytical', 'tentative'], ['joy', 'sadness', 'tentative', 'analytical'], ['analytical'], ['analytical', 'tentative'], ['tentative'], ['analytical'], ['analytical'], ['joy', 'sadness', 'tentative', 'analytical'], ['joy', 'analytical'], ['tentative'], ['analytical', 'tentative'], ['analytical'], ['joy', 'sadness', 'tentative', 'analytical'], ['analytical', 'tentative'], ['joy', 'tentative', 'analytical'], ['sadness', 'joy', 'analytical'], ['analytical'], ['analytical', 'tentative'], ['analytical'], ['analytical'], ['joy', 'tentative'], ['analytical', 'tentative'], ['confident'], ['analytical'], ['tentative'], ['tentative', 'analytical'], ['analytical'], ['analytical'], ['confident', 'analytical'], ['joy'], ['joy', 'sadness', 'tentative'], ['joy', 'analytical', 'tentative'], ['analytical'], ['tentative'], ['confident'], ['analytical', 'tentative'], ['tentative'], ['analytical', 'tentative'], ['analytical'], ['sadness'], ['analytical'], ['joy', 'tentative'], ['analytical'], ['joy', 'tentative'], ['tentative'], ['tentative', 'analytical'], ['tentative'], ['tentative'], ['analytical', 'confident'], ['analytical', 'tentative'], ['joy', 'tentative'], ['tentative'], ['joy'], ['analytical', 'tentative'], ['analytical'], ['tentative'], ['joy', 'tentative'], ['analytical'], ['joy', 'tentative'], ['joy', 'analytical', 'tentative'], ['analytical'], ['tentative'], ['analytical', 'tentative'], ['joy'], ['joy', 'tentative'], ['sadness'], ['tentative', 'analytical'], ['joy', 'confident'], ['joy', 'tentative', 'analytical'], ['analytical', 'tentative'], ['sadness', 'joy', 'analytical', 'tentative'], ['analytical'], ['confident'], ['confident'], ['confident'], ['analytical'], ['tentative'], ['anger'], ['joy', 'tentative'], ['sadness', 'tentative'], ['tentative'], ['analytical'], ['tentative', 'analytical'], ['analytical'], ['analytical', 'tentative'], ['analytical'], ['analytical', 'tentative'], ['tentative'], ['sadness', 'fear', 'analytical'], ['joy', 'analytical'], ['sadness', 'tentative'], ['joy', 'tentative', 'analytical'], ['tentative'], ['joy'], ['joy', 'tentative'], ['sadness', 'analytical'], ['joy'], ['analytical', 'tentative'], ['analytical'], ['joy', 'tentative'], ['joy', 'tentative'], ['tentative'], ['tentative', 'analytical'], ['tentative'], ['joy'], ['analytical', 'tentative'], ['sadness', 'tentative', 'analytical'], ['tentative'], ['joy', 'sadness', 'tentative', 'analytical'], ['confident', 'analytical'], ['tentative'], ['joy', 'tentative'], ['analytical'], ['analytical'], ['joy'], ['tentative'], ['analytical'], ['tentative'], ['tentative'], ['analytical', 'tentative'], ['confident'], ['analytical', 'confident'], ['joy', 'analytical'], ['analytical', 'tentative'], ['analytical'], ['tentative'], ['analytical', 'tentative'], ['analytical'], ['tentative'], ['confident'], ['joy'], ['analytical', 'tentative'], ['analytical'], ['tentative', 'analytical'], ['analytical'], ['tentative'], ['joy'], ['tentative'], ['joy'], ['joy', 'analytical'], ['analytical'], ['sadness', 'joy', 'tentative', 'analytical'], ['tentative'], ['analytical'], ['confident'], ['tentative', 'analytical'], ['confident'], ['joy', 'analytical', 'tentative'], ['confident'], ['joy', 'analytical'], ['tentative'], ['joy', 'tentative'], ['analytical'], ['tentative', 'analytical'], ['joy', 'tentative', 'analytical'], ['tentative', 'analytical'], ['analytical'], ['tentative', 'analytical'], ['tentative'], ['joy'], ['analytical'], ['tentative', 'analytical'], ['tentative'], ['analytical'], ['tentative'], ['joy', 'tentative'], ['sadness', 'joy', 'analytical'], ['analytical'], ['tentative'], ['joy', 'sadness', 'analytical'], ['analytical'], ['tentative'], ['analytical'], ['tentative'], ['tentative'], ['tentative'], ['tentative'], ['sadness', 'tentative', 'analytical'], ['analytical'], ['analytical'], ['sadness', 'analytical', 'tentative'], ['analytical'], ['analytical'], ['tentative'], ['tentative'], ['analytical', 'tentative'], ['sadness', 'tentative'], ['analytical', 'tentative'], ['joy', 'tentative'], ['joy', 'tentative'], ['joy', 'tentative'], ['joy', 'tentative'], ['analytical'], ['analytical'], ['analytical', 'tentative'], ['tentative', 'analytical'], ['tentative', 'analytical'], ['analytical'], ['tentative'], ['analytical', 'confident'], ['tentative'], ['tentative', 'analytical'], ['analytical'], ['tentative'], ['analytical'], ['sadness', 'tentative', 'analytical'], ['sadness', 'analytical'], ['tentative'], ['sadness', 'tentative', 'analytical'], ['analytical', 'tentative'], ['analytical'], ['joy', 'sadness', 'tentative', 'analytical'], ['analytical'], ['analytical', 'tentative'], ['analytical'], ['sadness', 'tentative'], ['tentative'], ['joy', 'analytical'], ['sadness', 'joy', 'analytical', 'tentative'], ['tentative', 'analytical'], ['joy', 'analytical'], ['analytical', 'tentative'], ['tentative', 'analytical'], ['analytical'], ['joy', 'analytical', 'tentative'], ['analytical'], ['joy', 'tentative', 'analytical'], ['analytical'], ['analytical', 'tentative'], ['analytical', 'tentative'], ['joy', 'confident', 'analytical'], ['confident'], ['sadness', 'joy', 'tentative'], ['tentative'], ['joy', 'sadness', 'tentative'], ['sadness', 'analytical'], ['tentative'], ['analytical'], ['sadness', 'analytical'], ['analytical', 'tentative'], ['analytical', 'tentative'], ['confident'], ['analytical'], ['tentative'], ['tentative'], ['tentative'], ['analytical'], ['tentative'], ['joy'], ['tentative'], ['joy', 'sadness', 'tentative', 'analytical'], ['analytical'], ['joy', 'tentative', 'analytical'], ['joy', 'confident'], ['sadness', 'tentative'], ['sadness', 'tentative'], ['joy', 'analytical'], ['tentative'], ['joy', 'sadness', 'tentative', 'analytical'], ['tentative'], ['tentative', 'analytical'], ['joy', 'tentative'], ['tentative'], ['confident'], ['sadness', 'tentative'], ['tentative', 'analytical'], ['joy'], ['joy'], ['analytical'], ['joy', 'confident'], ['joy', 'confident'], ['joy'], ['fear', 'sadness', 'tentative'], ['tentative', 'analytical'], ['analytical'], ['analytical', 'tentative'], ['analytical', 'tentative'], ['tentative'], ['analytical', 'tentative'], ['tentative', 'analytical'], ['analytical', 'tentative'], ['tentative', 'analytical'], ['tentative'], ['analytical'], ['tentative'], ['joy', 'analytical'], ['tentative', 'analytical'], ['joy', 'tentative', 'analytical'], ['fear', 'tentative'], ['analytical'], ['tentative'], ['confident'], ['analytical'], ['tentative'], ['joy', 'analytical', 'tentative'], ['analytical', 'tentative'], ['tentative'], ['joy'], ['analytical'], ['joy'], ['analytical'], ['confident'], ['analytical'], ['joy'], ['analytical'], ['tentative', 'analytical'], ['tentative'], ['sadness', 'analytical'], ['analytical'], ['sadness'], ['analytical', 'tentative'], ['sadness', 'tentative'], ['tentative'], ['analytical', 'confident'], ['analytical'], ['tentative'], ['confident'], ['tentative', 'analytical'], ['sadness', 'analytical'], ['analytical', 'confident'], ['analytical'], ['analytical', 'tentative'], ['sadness', 'tentative'], ['joy', 'analytical', 'tentative'], ['tentative'], ['tentative'], ['joy', 'tentative', 'analytical'], ['tentative', 'analytical'], ['sadness', 'analytical', 'tentative'], ['analytical'], ['joy', 'tentative'], ['confident', 'analytical'], ['confident'], ['sadness', 'joy', 'confident', 'analytical'], ['joy', 'analytical'], ['analytical', 'tentative'], ['tentative'], ['analytical'], ['analytical'], ['analytical'], ['analytical', 'tentative'], ['confident', 'analytical'], ['joy', 'analytical', 'tentative'], ['joy'], ['tentative'], ['joy', 'tentative', 'analytical'], ['analytical', 'tentative'], ['tentative'], ['tentative'], ['joy', 'tentative'], ['confident'], ['analytical'], ['analytical', 'tentative'], ['analytical', 'tentative'], ['analytical'], ['tentative'], ['tentative', 'analytical'], ['analytical'], ['tentative'], ['tentative'], ['tentative', 'analytical'], ['sadness', 'analytical', 'tentative'], ['sadness', 'tentative', 'analytical'], ['analytical'], ['confident'], ['joy', 'analytical', 'tentative'], ['analytical', 'confident'], ['tentative'], ['analytical'], ['sadness', 'analytical', 'confident'], ['tentative'], ['analytical', 'confident'], ['analytical', 'tentative'], ['analytical'], ['joy', 'sadness'], ['joy', 'analytical'], ['joy', 'analytical'], ['analytical', 'confident'], ['tentative'], ['joy', 'analytical'], ['analytical'], ['joy', 'analytical'], ['tentative'], ['analytical'], ['analytical'], ['analytical'], ['analytical'], ['analytical', 'tentative'], ['analytical'], ['joy'], ['confident'], ['joy', 'tentative', 'analytical'], ['joy', 'sadness', 'analytical', 'tentative'], ['analytical'], ['tentative', 'analytical'], ['tentative'], ['analytical'], ['analytical'], ['joy', 'sadness', 'analytical', 'tentative'], ['joy', 'analytical'], ['tentative'], ['tentative', 'analytical'], ['analytical'], ['analytical'], ['joy', 'sadness', 'tentative', 'analytical'], ['tentative', 'analytical'], ['joy', 'analytical', 'tentative'], ['sadness', 'joy', 'analytical'], ['analytical'], ['joy', 'analytical'], ['analytical', 'tentative'], ['analytical'], ['analytical'], ['analytical'], ['joy', 'tentative'], ['joy'], ['tentative', 'analytical'], ['confident'], ['tentative'], ['tentative', 'analytical'], ['analytical'], ['analytical'], ['confident', 'analytical'], ['joy'], ['joy', 'sadness', 'tentative'], ['joy', 'analytical', 'tentative'], ['analytical'], ['tentative'], ['confident'], ['analytical', 'tentative'], ['tentative'], ['analytical', 'tentative'], ['analytical'], ['sadness'], ['confident', 'analytical'], ['joy', 'tentative'], ['analytical'], ['joy', 'tentative'], ['analytical'], ['tentative'], ['tentative', 'analytical'], ['joy', 'analytical'], ['tentative', 'analytical'], ['tentative'], ['tentative'], ['tentative'], ['confident', 'analytical'], ['analytical'], ['joy', 'tentative'], ['tentative'], ['joy'], ['analytical'], ['tentative'], ['joy', 'tentative'], ['analytical'], ['joy', 'tentative'], ['analytical'], ['analytical'], ['tentative'], ['tentative', 'analytical'], ['joy'], ['joy', 'tentative'], ['sadness'], ['joy', 'confident'], ['joy', 'confident', 'analytical'], ['joy', 'analytical', 'tentative'], ['tentative', 'analytical'], ['joy', 'sadness', 'tentative', 'analytical'], ['analytical'], ['confident'], ['confident'], ['confident'], ['analytical'], ['tentative'], ['anger'], ['joy', 'tentative'], ['sadness', 'tentative'], ['tentative'], ['analytical'], ['analytical', 'tentative'], ['analytical'], ['analytical'], ['analytical', 'tentative'], ['tentative'], ['sadness', 'fear', 'analytical'], ['joy', 'analytical'], ['sadness', 'tentative'], ['joy', 'tentative', 'analytical'], ['joy'], ['analytical'], ['joy', 'tentative'], ['sadness', 'analytical'], ['tentative', 'analytical'], ['joy', 'analytical'], ['analytical'], ['joy', 'tentative'], ['joy', 'tentative'], ['tentative'], ['tentative', 'analytical'], ['tentative'], ['analytical', 'tentative'], ['analytical', 'tentative'], ['sadness', 'tentative', 'analytical'], ['analytical', 'tentative'], ['tentative'], ['joy', 'analytical'], ['tentative', 'analytical'], ['confident', 'analytical'], ['tentative'], ['joy', 'tentative'], ['analytical'], ['analytical'], ['joy'], ['tentative'], ['tentative'], ['tentative'], ['analytical', 'tentative'], ['confident'], ['sadness', 'tentative', 'analytical'], ['joy', 'analytical'], ['analytical', 'confident'], ['joy', 'analytical'], ['tentative'], ['joy', 'analytical'], ['analytical'], ['tentative'], ['analytical', 'tentative'], ['analytical'], ['confident'], ['joy'], ['analytical', 'tentative'], ['analytical'], ['analytical'], ['analytical', 'tentative'], ['analytical'], ['tentative'], ['joy'], ['analytical'], ['analytical'], ['joy'], ['tentative'], ['tentative'], ['joy'], ['joy', 'analytical'], ['joy', 'tentative'], ['tentative'], ['tentative'], ['analytical'], ['analytical'], ['tentative', 'analytical'], ['sadness', 'joy', 'analytical', 'tentative'], ['joy', 'analytical', 'tentative'], ['tentative', 'analytical'], ['analytical'], ['confident'], ['tentative', 'analytical'], ['analytical'], ['confident'], ['joy', 'analytical', 'tentative'], ['confident'], ['joy', 'analytical'], ['tentative'], ['analytical'], ['joy', 'tentative'], ['joy', 'tentative'], ['analytical', 'tentative'], ['tentative', 'analytical'], ['joy', 'tentative', 'analytical'], ['tentative', 'analytical'], ['analytical'], ['tentative', 'analytical'], ['tentative'], ['joy'], ['joy', 'tentative'], ['joy'], ['analytical'], ['tentative', 'analytical'], ['tentative'], ['tentative'], ['joy', 'tentative'], ['analytical'], ['joy', 'analytical'], ['joy', 'tentative'], ['joy', 'sadness', 'analytical'], ['confident'], ['analytical'], ['tentative'], ['tentative'], ['analytical'], ['tentative'], ['analytical'], ['tentative'], ['tentative'], ['tentative'], ['tentative'], ['sadness', 'analytical', 'tentative'], ['analytical'], ['joy'], ['analytical'], ['sadness', 'tentative', 'analytical'], ['analytical'], ['analytical'], ['tentative'], ['tentative'], ['tentative', 'analytical'], ['analytical', 'tentative'], ['sadness', 'tentative'], ['analytical', 'tentative'], ['joy', 'tentative'], ['joy', 'tentative'], ['joy', 'tentative'], ['joy', 'tentative'], ['analytical'], ['analytical', 'tentative'], ['analytical', 'tentative'], ['analytical'], ['tentative', 'analytical'], ['analytical'], ['tentative'], ['analytical', 'confident'], ['tentative'], ['analytical', 'tentative'], ['analytical'], ['analytical'], ['tentative'], ['analytical'], ['sadness', 'analytical', 'tentative'], ['tentative', 'analytical'], ['sadness', 'analytical'], ['sadness', 'tentative', 'analytical'], ['confident'], ['tentative', 'analytical'], ['analytical'], ['joy', 'sadness', 'tentative', 'analytical'], ['analytical'], ['analytical', 'tentative'], ['analytical'], ['sadness', 'tentative'], ['joy', 'analytical'], ['analytical'], ['sadness', 'joy', 'tentative', 'analytical'], ['tentative', 'analytical'], ['joy', 'analytical'], ['analytical', 'tentative'], ['analytical', 'tentative'], ['analytical'], ['joy', 'analytical', 'tentative'], ['analytical'], ['joy', 'analytical', 'tentative'], ['analytical'], ['analytical', 'tentative'], ['analytical', 'tentative'], ['joy', 'analytical', 'confident'], ['confident'], ['joy', 'sadness', 'tentative'], ['joy', 'sadness', 'tentative'], ['sadness', 'analytical'], ['tentative'], ['analytical'], ['sadness', 'analytical'], ['analytical', 'tentative'], ['analytical', 'tentative'], ['confident'], ['analytical'], ['tentative'], ['tentative'], ['tentative'], ['analytical'], ['tentative'], ['joy'], ['tentative'], ['joy', 'sadness', 'analytical', 'tentative'], ['joy', 'tentative', 'analytical'], ['joy', 'confident'], ['sadness', 'tentative'], ['sadness', 'tentative'], ['joy', 'analytical'], ['tentative'], ['joy', 'sadness', 'analytical', 'tentative'], ['tentative'], ['tentative'], ['confident'], ['sadness', 'tentative'], ['analytical', 'tentative'], ['joy'], ['joy', 'tentative'], ['analytical'], ['joy', 'confident'], ['joy', 'confident'], ['joy'], ['sadness', 'fear', 'tentative'], ['tentative', 'analytical'], ['analytical'], ['analytical', 'tentative'], ['tentative'], ['tentative', 'analytical'], ['tentative', 'analytical'], ['analytical', 'tentative'], ['analytical', 'tentative'], ['tentative'], ['tentative'], ['joy', 'analytical'], ['analytical', 'tentative'], ['joy', 'tentative', 'analytical'], ['fear', 'tentative'], ['analytical'], ['analytical', 'tentative'], ['tentative'], ['tentative'], ['analytical'], ['tentative'], ['joy', 'analytical', 'tentative'], ['analytical', 'tentative'], ['tentative'], ['joy'], ['analytical'], ['joy', 'analytical', 'tentative'], ['joy'], ['confident'], ['analytical'], ['joy'], ['analytical'], ['analytical', 'tentative'], ['tentative'], ['sadness', 'analytical'], ['sadness'], ['tentative', 'analytical'], ['sadness', 'tentative'], ['tentative'], ['analytical', 'confident'], ['analytical'], ['tentative', 'analytical'], ['tentative'], ['confident'], ['tentative', 'analytical'], ['sadness', 'analytical'], ['confident', 'analytical'], ['analytical'], ['analytical', 'tentative'], ['tentative', 'analytical'], ['tentative'], ['sadness', 'tentative'], ['joy', 'tentative', 'analytical'], ['tentative'], ['tentative'], ['joy', 'tentative', 'analytical'], ['analytical', 'tentative'], ['sadness', 'tentative', 'analytical'], ['tentative'], ['analytical'], ['analytical', 'confident'], ['confident'], ['sadness', 'joy', 'confident', 'analytical'], ['joy', 'analytical'], ['tentative', 'analytical'], ['tentative'], ['analytical'], ['analytical'], ['tentative', 'analytical'], ['confident', 'analytical'], ['joy', 'tentative', 'analytical'], ['joy'], ['analytical'], ['joy', 'tentative'], ['analytical'], ['tentative', 'analytical'], ['analytical', 'tentative'], ['analytical'], ['tentative'], ['analytical'], ['analytical'], ['tentative'], ['analytical'], ['tentative'], ['analytical', 'tentative'], ['sadness', 'analytical', 'tentative'], ['sadness', 'analytical', 'tentative'], ['tentative', 'analytical'], ['analytical'], ['tentative', 'analytical'], ['tentative'], ['joy', 'analytical', 'tentative'], ['confident', 'analytical'], ['tentative'], ['analytical'], ['sadness', 'analytical', 'confident'], ['tentative'], ['confident', 'analytical'], ['tentative', 'analytical'], ['joy'], ['analytical'], ['analytical'], ['analytical'], ['analytical'], ['analytical'], ['analytical'], ['joy', 'confident'], ['analytical'], ['analytical'], ['joy'], ['analytical', 'confident'], ['sadness', 'analytical', 'tentative'], ['analytical'], ['sadness', 'joy', 'tentative', 'analytical'], ['analytical', 'tentative'], ['joy'], ['joy', 'analytical'], ['analytical'], ['joy', 'tentative'], ['analytical'], ['analytical'], ['analytical'], ['joy', 'tentative', 'analytical'], ['analytical'], ['sadness', 'analytical'], ['analytical', 'tentative'], ['tentative'], ['tentative', 'analytical'], ['joy'], ['joy', 'analytical', 'tentative'], ['analytical'], ['joy', 'analytical'], ['sadness', 'anger', 'joy', 'confident', 'analytical'], ['tentative', 'analytical'], ['joy', 'tentative'], ['analytical'], ['sadness', 'tentative'], ['joy'], ['analytical'], ['analytical'], ['analytical', 'tentative'], ['tentative'], ['tentative', 'analytical'], ['sadness', 'tentative'], ['confident'], ['sadness', 'joy', 'tentative', 'analytical'], ['analytical', 'tentative'], ['joy', 'analytical', 'tentative'], ['joy', 'analytical', 'tentative'], ['joy', 'tentative'], ['analytical'], ['tentative'], ['joy'], ['sadness', 'analytical'], ['analytical', 'tentative'], ['sadness', 'analytical'], ['joy', 'analytical', 'confident'], ['joy', 'analytical'], ['joy', 'tentative', 'analytical'], ['joy', 'tentative'], ['analytical'], ['analytical'], ['tentative'], ['analytical'], ['joy', 'analytical', 'confident'], ['joy'], ['joy', 'analytical', 'tentative'], ['joy'], ['joy'], ['joy', 'analytical', 'tentative'], ['joy', 'analytical', 'tentative'], ['joy', 'tentative', 'analytical'], ['joy'], ['confident'], ['sadness', 'joy', 'analytical', 'tentative'], ['joy', 'tentative'], ['analytical', 'tentative'], ['analytical'], ['analytical'], ['analytical'], ['sadness', 'analytical'], ['analytical'], ['tentative', 'analytical'], ['joy', 'confident'], ['analytical', 'tentative'], ['joy'], ['joy', 'analytical', 'tentative'], ['joy', 'analytical'], ['analytical'], ['joy', 'sadness', 'tentative'], ['joy', 'tentative'], ['tentative'], ['joy', 'analytical', 'tentative'], ['analytical'], ['sadness', 'tentative', 'analytical'], ['joy', 'analytical', 'confident'], ['analytical', 'tentative'], ['analytical'], ['joy'], ['analytical'], ['tentative', 'analytical'], ['analytical'], ['analytical'], ['analytical'], ['joy', 'analytical'], ['joy', 'analytical', 'tentative'], ['fear', 'confident', 'analytical'], ['sadness', 'tentative'], ['joy', 'analytical'], ['joy', 'analytical'], ['joy'], ['sadness', 'fear', 'analytical', 'tentative'], ['tentative'], ['analytical'], ['confident'], ['confident'], ['joy'], ['confident'], ['joy', 'analytical'], ['joy', 'analytical', 'tentative'], ['joy', 'analytical'], ['sadness', 'joy', 'analytical'], ['joy', 'analytical'], ['tentative', 'analytical'], ['joy', 'analytical'], ['analytical'], ['analytical', 'tentative'], ['analytical'], ['analytical', 'confident'], ['joy', 'analytical'], ['confident'], ['joy', 'tentative', 'analytical'], ['analytical', 'tentative'], ['analytical'], ['tentative'], ['joy', 'tentative'], ['tentative'], ['analytical', 'tentative'], ['joy', 'analytical'], ['analytical'], ['joy'], ['joy', 'analytical'], ['joy', 'sadness'], ['joy', 'analytical'], ['joy', 'analytical', 'tentative'], ['analytical', 'tentative'], ['joy', 'tentative'], ['joy', 'analytical', 'confident'], ['sadness', 'joy'], ['analytical', 'tentative'], ['joy', 'analytical'], ['analytical'], ['joy'], ['analytical'], ['joy', 'tentative'], ['sadness', 'joy'], ['joy'], ['analytical', 'tentative'], ['tentative'], ['tentative'], ['joy', 'tentative', 'analytical'], ['confident'], ['sadness', 'joy', 'analytical'], ['joy'], ['joy'], ['joy', 'confident'], ['sadness', 'analytical', 'tentative'], ['joy', 'sadness', 'tentative', 'analytical'], ['joy', 'sadness', 'analytical'], ['analytical'], ['analytical'], ['analytical'], ['joy', 'analytical'], ['confident'], ['analytical', 'tentative'], ['sadness', 'joy', 'analytical'], ['joy'], ['confident'], ['joy'], ['joy'], ['joy', 'tentative'], ['joy', 'analytical', 'tentative'], ['analytical'], ['confident'], ['joy'], ['sadness', 'joy'], ['analytical'], ['tentative'], ['tentative'], ['joy', 'tentative'], ['joy', 'sadness', 'analytical'], ['sadness', 'joy'], ['joy'], ['analytical'], ['analytical', 'tentative'], ['confident'], ['joy', 'tentative'], ['joy', 'sadness', 'analytical'], ['analytical'], ['joy', 'analytical'], ['analytical'], ['joy', 'analytical'], ['analytical', 'tentative'], ['analytical'], ['joy', 'analytical'], ['joy', 'tentative'], ['joy'], ['tentative'], ['analytical', 'tentative'], ['analytical'], ['analytical'], ['analytical'], ['joy', 'tentative'], ['tentative'], ['sadness', 'analytical'], ['joy', 'tentative', 'analytical'], ['analytical'], ['joy', 'sadness', 'analytical', 'tentative'], ['analytical'], ['joy', 'analytical'], ['joy', 'tentative', 'analytical'], ['joy', 'analytical'], ['joy', 'tentative', 'analytical'], ['analytical'], ['joy'], ['analytical'], ['confident'], ['analytical', 'tentative'], ['joy', 'analytical', 'tentative'], ['joy', 'tentative'], ['joy'], ['analytical'], ['confident'], ['tentative', 'analytical'], ['joy', 'analytical'], ['analytical'], ['analytical', 'tentative'], ['joy', 'tentative'], ['analytical'], ['analytical'], ['analytical', 'tentative'], ['anger', 'analytical'], ['tentative', 'analytical'], ['analytical'], ['confident', 'analytical'], ['analytical', 'tentative'], ['joy', 'analytical', 'confident'], ['tentative', 'analytical'], ['tentative'], ['joy', 'analytical'], ['sadness', 'analytical', 'tentative'], ['joy', 'analytical'], ['analytical'], ['tentative', 'analytical'], ['analytical'], ['analytical'], ['tentative', 'analytical'], ['joy', 'analytical'], ['analytical'], ['joy', 'tentative', 'analytical'], ['joy'], ['tentative', 'analytical'], ['tentative'], ['joy', 'tentative', 'analytical'], ['analytical'], ['tentative', 'analytical'], ['analytical'], ['sadness'], ['joy'], ['sadness', 'joy', 'analytical', 'tentative'], ['joy'], ['confident'], ['joy', 'tentative', 'analytical'], ['joy', 'analytical'], ['tentative', 'analytical'], ['analytical'], ['sadness', 'analytical', 'tentative'], ['joy'], ['joy', 'analytical'], ['joy', 'tentative', 'analytical'], ['analytical'], ['joy', 'tentative'], ['joy'], ['analytical'], ['analytical'], ['analytical'], ['analytical', 'tentative'], ['tentative', 'analytical'], ['tentative', 'analytical'], ['anger', 'joy', 'analytical'], ['sadness', 'analytical', 'tentative'], ['analytical'], ['joy', 'analytical'], ['analytical'], ['confident'], ['tentative'], ['analytical'], ['joy', 'tentative', 'analytical'], ['confident', 'analytical'], ['analytical'], ['confident'], ['tentative', 'analytical'], ['analytical'], ['analytical'], ['joy'], ['analytical'], ['sadness', 'joy', 'analytical'], ['joy', 'tentative', 'analytical'], ['analytical', 'tentative'], ['joy', 'sadness', 'analytical', 'tentative'], ['analytical'], ['sadness', 'joy', 'tentative', 'analytical'], ['analytical'], ['tentative'], ['analytical'], ['joy', 'sadness', 'tentative', 'analytical'], ['joy', 'tentative', 'analytical'], ['confident'], ['confident'], ['joy'], ['analytical'], ['tentative', 'analytical'], ['analytical'], ['analytical'], ['analytical'], ['analytical'], ['analytical'], ['joy', 'analytical'], ['tentative'], ['confident', 'analytical'], ['joy', 'analytical'], ['joy', 'analytical'], ['analytical'], ['analytical'], ['analytical', 'confident'], ['tentative'], ['sadness', 'confident', 'analytical'], ['analytical'], ['tentative'], ['confident', 'analytical'], ['joy', 'analytical', 'tentative'], ['sadness', 'analytical', 'tentative'], ['sadness', 'tentative', 'analytical'], ['analytical', 'tentative'], ['tentative'], ['tentative'], ['analytical'], ['joy', 'tentative'], ['analytical'], ['tentative'], ['tentative'], ['tentative', 'analytical'], ['joy', 'tentative'], ['confident'], ['analytical'], ['analytical'], ['analytical', 'tentative'], ['joy', 'tentative'], ['joy', 'tentative'], ['analytical'], ['joy'], ['analytical'], ['tentative'], ['analytical'], ['joy', 'analytical'], ['analytical', 'tentative'], ['joy', 'analytical'], ['analytical'], ['analytical'], ['joy', 'analytical'], ['joy', 'confident', 'analytical'], ['analytical'], ['analytical'], ['joy'], ['analytical', 'tentative'], ['joy', 'tentative'], ['joy', 'analytical'], ['joy', 'analytical'], ['analytical'], ['tentative'], ['sadness', 'joy'], ['analytical'], ['analytical', 'tentative'], ['analytical'], ['sadness', 'tentative', 'analytical'], ['joy', 'analytical'], ['joy', 'analytical'], ['joy', 'analytical'], ['analytical'], ['tentative'], ['joy'], ['analytical'], ['analytical', 'tentative'], ['joy'], ['joy', 'tentative', 'analytical'], ['analytical', 'confident'], ['analytical'], ['tentative'], ['analytical', 'confident'], ['analytical'], ['sadness', 'analytical', 'tentative'], ['analytical', 'tentative'], ['analytical', 'tentative'], ['joy', 'tentative', 'analytical'], ['tentative'], ['tentative'], ['joy', 'tentative', 'analytical'], ['sadness', 'tentative'], ['analytical', 'tentative'], ['analytical', 'confident'], ['sadness', 'analytical'], ['analytical', 'tentative'], ['tentative'], ['analytical'], ['tentative'], ['sadness', 'tentative'], ['analytical', 'tentative'], ['sadness'], ['analytical'], ['sadness', 'analytical'], ['tentative'], ['tentative', 'analytical'], ['analytical'], ['joy'], ['analytical'], ['confident'], ['joy'], ['analytical'], ['joy'], ['tentative', 'analytical'], ['tentative'], ['tentative'], ['analytical', 'tentative'], ['joy', 'analytical', 'tentative'], ['joy', 'analytical'], ['tentative'], ['tentative'], ['tentative', 'analytical'], ['analytical', 'tentative'], ['analytical', 'tentative'], ['tentative'], ['analytical', 'tentative'], ['analytical'], ['fear', 'sadness', 'tentative'], ['analytical'], ['joy'], ['joy', 'confident'], ['joy', 'confident'], ['tentative', 'analytical'], ['sadness', 'tentative'], ['sadness', 'analytical'], ['confident'], ['tentative'], ['joy', 'sadness', 'tentative', 'analytical'], ['sadness', 'tentative'], ['sadness', 'tentative'], ['sadness', 'joy', 'analytical', 'tentative'], ['tentative'], ['joy'], ['tentative'], ['tentative'], ['tentative'], ['confident'], ['sadness', 'analytical'], ['analytical'], ['tentative'], ['joy', 'sadness', 'tentative'], ['sadness', 'joy', 'tentative'], ['joy', 'analytical', 'confident'], ['tentative', 'analytical'], ['analytical'], ['joy', 'analytical', 'tentative'], ['analytical'], ['analytical', 'tentative'], ['analytical', 'tentative'], ['joy', 'analytical'], ['analytical', 'tentative'], ['sadness', 'joy', 'analytical', 'tentative'], ['joy', 'analytical'], ['sadness', 'tentative'], ['analytical', 'tentative'], ['sadness', 'joy', 'tentative', 'analytical'], ['analytical'], ['analytical', 'tentative'], ['sadness', 'analytical'], ['analytical', 'tentative'], ['sadness', 'tentative', 'analytical'], ['analytical', 'tentative'], ['tentative'], ['confident', 'analytical'], ['tentative'], ['analytical'], ['tentative', 'analytical'], ['analytical', 'tentative'], ['analytical'], ['sadness', 'tentative'], ['tentative', 'analytical'], ['joy', 'tentative'], ['joy', 'tentative'], ['joy', 'tentative'], ['joy', 'tentative'], ['analytical', 'tentative'], ['analytical', 'tentative'], ['joy', 'analytical'], ['tentative'], ['analytical'], ['sadness', 'tentative', 'analytical'], ['analytical'], ['sadness', 'analytical', 'tentative'], ['tentative'], ['tentative'], ['tentative'], ['tentative'], ['analytical'], ['tentative'], ['confident'], ['sadness', 'joy', 'analytical'], ['tentative'], ['joy'], ['analytical', 'tentative'], ['analytical'], ['tentative', 'analytical'], ['tentative'], ['joy', 'analytical'], ['confident'], ['confident'], ['analytical'], ['analytical', 'tentative'], ['confident'], ['analytical'], ['joy', 'tentative', 'analytical'], ['sadness', 'joy', 'tentative', 'analytical'], ['tentative', 'analytical'], ['analytical'], ['tentative'], ['tentative', 'analytical'], ['tentative'], ['joy', 'tentative'], ['analytical', 'tentative'], ['sadness', 'tentative'], ['tentative'], ['confident'], ['joy'], ['confident'], ['confident'], ['analytical'], ['sadness', 'joy', 'tentative', 'analytical'], ['joy', 'confident'], ['joy', 'tentative'], ['analytical'], ['analytical'], ['tentative'], ['analytical'], ['joy'], ['tentative'], ['analytical', 'tentative'], ['analytical', 'confident'], ['tentative'], ['tentative'], ['analytical', 'tentative'], ['tentative'], ['joy', 'tentative']]\n",
            "11375\n"
          ],
          "name": "stdout"
        }
      ]
    },
    {
      "cell_type": "code",
      "metadata": {
        "id": "SI-S-1dxUFXF"
      },
      "source": [
        "df = df.drop(['tags'], axis=1)"
      ],
      "execution_count": 6,
      "outputs": []
    },
    {
      "cell_type": "code",
      "metadata": {
        "colab": {
          "base_uri": "https://localhost:8080/",
          "height": 359
        },
        "id": "MmOnEhMdUU7D",
        "outputId": "11e0a38c-18e6-434f-f997-bc248b7bf349"
      },
      "source": [
        "df.head(10)"
      ],
      "execution_count": 7,
      "outputs": [
        {
          "output_type": "execute_result",
          "data": {
            "text/html": [
              "<div>\n",
              "<style scoped>\n",
              "    .dataframe tbody tr th:only-of-type {\n",
              "        vertical-align: middle;\n",
              "    }\n",
              "\n",
              "    .dataframe tbody tr th {\n",
              "        vertical-align: top;\n",
              "    }\n",
              "\n",
              "    .dataframe thead th {\n",
              "        text-align: right;\n",
              "    }\n",
              "</style>\n",
              "<table border=\"1\" class=\"dataframe\">\n",
              "  <thead>\n",
              "    <tr style=\"text-align: right;\">\n",
              "      <th></th>\n",
              "      <th>sentence</th>\n",
              "      <th>tones</th>\n",
              "      <th>Tags</th>\n",
              "    </tr>\n",
              "  </thead>\n",
              "  <tbody>\n",
              "    <tr>\n",
              "      <th>0</th>\n",
              "      <td>i didnt feel humiliated</td>\n",
              "      <td>{  \"document_tone\": {    \"tones\": [      {    ...</td>\n",
              "      <td>[tentative]</td>\n",
              "    </tr>\n",
              "    <tr>\n",
              "      <th>1</th>\n",
              "      <td>i can go from feeling so hopeless to so damned...</td>\n",
              "      <td>{  \"document_tone\": {    \"tones\": [      {    ...</td>\n",
              "      <td>[sadness, tentative]</td>\n",
              "    </tr>\n",
              "    <tr>\n",
              "      <th>2</th>\n",
              "      <td>im grabbing a minute to post i feel greedy wrong</td>\n",
              "      <td>{  \"document_tone\": {    \"tones\": [      {    ...</td>\n",
              "      <td>[sadness]</td>\n",
              "    </tr>\n",
              "    <tr>\n",
              "      <th>3</th>\n",
              "      <td>i am ever feeling nostalgic about the fireplac...</td>\n",
              "      <td>{  \"document_tone\": {    \"tones\": [      {    ...</td>\n",
              "      <td>[sadness, analytical]</td>\n",
              "    </tr>\n",
              "    <tr>\n",
              "      <th>4</th>\n",
              "      <td>i am feeling grouchy</td>\n",
              "      <td>{  \"document_tone\": {    \"tones\": [      {    ...</td>\n",
              "      <td>[anger, sadness]</td>\n",
              "    </tr>\n",
              "    <tr>\n",
              "      <th>5</th>\n",
              "      <td>ive been feeling a little burdened lately wasn...</td>\n",
              "      <td>{  \"document_tone\": {    \"tones\": [      {    ...</td>\n",
              "      <td>[sadness, tentative]</td>\n",
              "    </tr>\n",
              "    <tr>\n",
              "      <th>6</th>\n",
              "      <td>ive been taking or milligrams or times recomme...</td>\n",
              "      <td>{  \"document_tone\": {    \"tones\": [      {    ...</td>\n",
              "      <td>[joy, tentative]</td>\n",
              "    </tr>\n",
              "    <tr>\n",
              "      <th>7</th>\n",
              "      <td>i feel as confused about life as a teenager or...</td>\n",
              "      <td>{  \"document_tone\": {    \"tones\": [      {    ...</td>\n",
              "      <td>[sadness, tentative]</td>\n",
              "    </tr>\n",
              "    <tr>\n",
              "      <th>8</th>\n",
              "      <td>i have been with petronas for years i feel tha...</td>\n",
              "      <td>{  \"document_tone\": {    \"tones\": [      {    ...</td>\n",
              "      <td>[joy]</td>\n",
              "    </tr>\n",
              "    <tr>\n",
              "      <th>9</th>\n",
              "      <td>i feel romantic too</td>\n",
              "      <td>{  \"document_tone\": {    \"tones\": [      {    ...</td>\n",
              "      <td>[joy, tentative]</td>\n",
              "    </tr>\n",
              "  </tbody>\n",
              "</table>\n",
              "</div>"
            ],
            "text/plain": [
              "                                            sentence  ...                   Tags\n",
              "0                            i didnt feel humiliated  ...            [tentative]\n",
              "1  i can go from feeling so hopeless to so damned...  ...   [sadness, tentative]\n",
              "2   im grabbing a minute to post i feel greedy wrong  ...              [sadness]\n",
              "3  i am ever feeling nostalgic about the fireplac...  ...  [sadness, analytical]\n",
              "4                               i am feeling grouchy  ...       [anger, sadness]\n",
              "5  ive been feeling a little burdened lately wasn...  ...   [sadness, tentative]\n",
              "6  ive been taking or milligrams or times recomme...  ...       [joy, tentative]\n",
              "7  i feel as confused about life as a teenager or...  ...   [sadness, tentative]\n",
              "8  i have been with petronas for years i feel tha...  ...                  [joy]\n",
              "9                                i feel romantic too  ...       [joy, tentative]\n",
              "\n",
              "[10 rows x 3 columns]"
            ]
          },
          "metadata": {
            "tags": []
          },
          "execution_count": 7
        }
      ]
    },
    {
      "cell_type": "markdown",
      "metadata": {
        "id": "d8Azv2usZ9Bg"
      },
      "source": [
        "## Encoding categorical data"
      ]
    },
    {
      "cell_type": "code",
      "metadata": {
        "id": "vLGoawuRUnyx"
      },
      "source": [
        "y = pd.Series(df['Tags'])\n",
        "x = pd.Series(df['sentence'])"
      ],
      "execution_count": 8,
      "outputs": []
    },
    {
      "cell_type": "code",
      "metadata": {
        "colab": {
          "base_uri": "https://localhost:8080/"
        },
        "id": "8L_wwSzHU71T",
        "outputId": "8c73b51d-38f3-4ff3-831e-c0585ebb6b65"
      },
      "source": [
        "# Encode the tags(labels) in a binary format in order to be used for training\n",
        "from sklearn.preprocessing import MultiLabelBinarizer\n",
        "mlb = MultiLabelBinarizer()\n",
        " \n",
        "yt = mlb.fit_transform(y)\n",
        "yt.shape"
      ],
      "execution_count": 9,
      "outputs": [
        {
          "output_type": "execute_result",
          "data": {
            "text/plain": [
              "(6740, 7)"
            ]
          },
          "metadata": {
            "tags": []
          },
          "execution_count": 9
        }
      ]
    },
    {
      "cell_type": "code",
      "metadata": {
        "colab": {
          "base_uri": "https://localhost:8080/"
        },
        "id": "Vqa7DM1yU8L8",
        "outputId": "7c7980be-53f0-48f1-f974-261a29665830"
      },
      "source": [
        "# Getting a sense of how the tags data looks like\n",
        "print(yt[5])\n",
        "print(mlb.inverse_transform(yt[5].reshape(1,-1)))\n",
        "print(mlb.classes_)"
      ],
      "execution_count": 10,
      "outputs": [
        {
          "output_type": "stream",
          "text": [
            "[0 0 0 0 0 1 1]\n",
            "[('sadness', 'tentative')]\n",
            "['analytical' 'anger' 'confident' 'fear' 'joy' 'sadness' 'tentative']\n"
          ],
          "name": "stdout"
        }
      ]
    },
    {
      "cell_type": "code",
      "metadata": {
        "colab": {
          "base_uri": "https://localhost:8080/",
          "height": 419
        },
        "id": "lUH-C93LVvVx",
        "outputId": "846a292c-cd6d-4cb6-f9aa-6cc9e57ee0a7"
      },
      "source": [
        "#Visualising encoded categories\n",
        "types_encoded = pd.DataFrame(mlb.fit_transform(df[\"Tags\"]),columns=mlb.classes_)\n",
        "types_encoded.head(-10)"
      ],
      "execution_count": 11,
      "outputs": [
        {
          "output_type": "execute_result",
          "data": {
            "text/html": [
              "<div>\n",
              "<style scoped>\n",
              "    .dataframe tbody tr th:only-of-type {\n",
              "        vertical-align: middle;\n",
              "    }\n",
              "\n",
              "    .dataframe tbody tr th {\n",
              "        vertical-align: top;\n",
              "    }\n",
              "\n",
              "    .dataframe thead th {\n",
              "        text-align: right;\n",
              "    }\n",
              "</style>\n",
              "<table border=\"1\" class=\"dataframe\">\n",
              "  <thead>\n",
              "    <tr style=\"text-align: right;\">\n",
              "      <th></th>\n",
              "      <th>analytical</th>\n",
              "      <th>anger</th>\n",
              "      <th>confident</th>\n",
              "      <th>fear</th>\n",
              "      <th>joy</th>\n",
              "      <th>sadness</th>\n",
              "      <th>tentative</th>\n",
              "    </tr>\n",
              "  </thead>\n",
              "  <tbody>\n",
              "    <tr>\n",
              "      <th>0</th>\n",
              "      <td>0</td>\n",
              "      <td>0</td>\n",
              "      <td>0</td>\n",
              "      <td>0</td>\n",
              "      <td>0</td>\n",
              "      <td>0</td>\n",
              "      <td>1</td>\n",
              "    </tr>\n",
              "    <tr>\n",
              "      <th>1</th>\n",
              "      <td>0</td>\n",
              "      <td>0</td>\n",
              "      <td>0</td>\n",
              "      <td>0</td>\n",
              "      <td>0</td>\n",
              "      <td>1</td>\n",
              "      <td>1</td>\n",
              "    </tr>\n",
              "    <tr>\n",
              "      <th>2</th>\n",
              "      <td>0</td>\n",
              "      <td>0</td>\n",
              "      <td>0</td>\n",
              "      <td>0</td>\n",
              "      <td>0</td>\n",
              "      <td>1</td>\n",
              "      <td>0</td>\n",
              "    </tr>\n",
              "    <tr>\n",
              "      <th>3</th>\n",
              "      <td>1</td>\n",
              "      <td>0</td>\n",
              "      <td>0</td>\n",
              "      <td>0</td>\n",
              "      <td>0</td>\n",
              "      <td>1</td>\n",
              "      <td>0</td>\n",
              "    </tr>\n",
              "    <tr>\n",
              "      <th>4</th>\n",
              "      <td>0</td>\n",
              "      <td>1</td>\n",
              "      <td>0</td>\n",
              "      <td>0</td>\n",
              "      <td>0</td>\n",
              "      <td>1</td>\n",
              "      <td>0</td>\n",
              "    </tr>\n",
              "    <tr>\n",
              "      <th>...</th>\n",
              "      <td>...</td>\n",
              "      <td>...</td>\n",
              "      <td>...</td>\n",
              "      <td>...</td>\n",
              "      <td>...</td>\n",
              "      <td>...</td>\n",
              "      <td>...</td>\n",
              "    </tr>\n",
              "    <tr>\n",
              "      <th>6725</th>\n",
              "      <td>0</td>\n",
              "      <td>0</td>\n",
              "      <td>1</td>\n",
              "      <td>0</td>\n",
              "      <td>1</td>\n",
              "      <td>0</td>\n",
              "      <td>0</td>\n",
              "    </tr>\n",
              "    <tr>\n",
              "      <th>6726</th>\n",
              "      <td>0</td>\n",
              "      <td>0</td>\n",
              "      <td>0</td>\n",
              "      <td>0</td>\n",
              "      <td>1</td>\n",
              "      <td>0</td>\n",
              "      <td>1</td>\n",
              "    </tr>\n",
              "    <tr>\n",
              "      <th>6727</th>\n",
              "      <td>1</td>\n",
              "      <td>0</td>\n",
              "      <td>0</td>\n",
              "      <td>0</td>\n",
              "      <td>0</td>\n",
              "      <td>0</td>\n",
              "      <td>0</td>\n",
              "    </tr>\n",
              "    <tr>\n",
              "      <th>6728</th>\n",
              "      <td>1</td>\n",
              "      <td>0</td>\n",
              "      <td>0</td>\n",
              "      <td>0</td>\n",
              "      <td>0</td>\n",
              "      <td>0</td>\n",
              "      <td>0</td>\n",
              "    </tr>\n",
              "    <tr>\n",
              "      <th>6729</th>\n",
              "      <td>0</td>\n",
              "      <td>0</td>\n",
              "      <td>0</td>\n",
              "      <td>0</td>\n",
              "      <td>0</td>\n",
              "      <td>0</td>\n",
              "      <td>1</td>\n",
              "    </tr>\n",
              "  </tbody>\n",
              "</table>\n",
              "<p>6730 rows × 7 columns</p>\n",
              "</div>"
            ],
            "text/plain": [
              "      analytical  anger  confident  fear  joy  sadness  tentative\n",
              "0              0      0          0     0    0        0          1\n",
              "1              0      0          0     0    0        1          1\n",
              "2              0      0          0     0    0        1          0\n",
              "3              1      0          0     0    0        1          0\n",
              "4              0      1          0     0    0        1          0\n",
              "...          ...    ...        ...   ...  ...      ...        ...\n",
              "6725           0      0          1     0    1        0          0\n",
              "6726           0      0          0     0    1        0          1\n",
              "6727           1      0          0     0    0        0          0\n",
              "6728           1      0          0     0    0        0          0\n",
              "6729           0      0          0     0    0        0          1\n",
              "\n",
              "[6730 rows x 7 columns]"
            ]
          },
          "metadata": {
            "tags": []
          },
          "execution_count": 11
        }
      ]
    },
    {
      "cell_type": "code",
      "metadata": {
        "colab": {
          "base_uri": "https://localhost:8080/",
          "height": 355
        },
        "id": "KdzDdZo0U8cg",
        "outputId": "19df1db6-23fe-4bc8-858b-c846af807ced"
      },
      "source": [
        "# compute no. of words in each question\n",
        "questions = x\n",
        "word_cnt = [len(quest.split()) for quest in questions]\n",
        "# Plot the distribution\n",
        "plt.figure(figsize=[8,5])\n",
        "plt.hist(word_cnt, bins = 40)\n",
        "plt.xlim([0, 800])\n",
        "plt.ylim([0, 7000])\n",
        "plt.xlabel('Word Count/Question')\n",
        "plt.ylabel('# of Occurences')\n",
        "plt.title(\"Frequency of Word Counts/sentence\")\n",
        "plt.show()"
      ],
      "execution_count": 12,
      "outputs": [
        {
          "output_type": "display_data",
          "data": {
            "image/png": "[encoded data removed]",
            "text/plain": [
              "<Figure size 576x360 with 1 Axes>"
            ]
          },
          "metadata": {
            "tags": [],
            "needs_background": "light"
          }
        }
      ]
    },
    {
      "cell_type": "markdown",
      "metadata": {
        "id": "JuSWaC6bxaSs"
      },
      "source": [
        "Max words = 200"
      ]
    },
    {
      "cell_type": "markdown",
      "metadata": {
        "id": "JHkRXadpATU4"
      },
      "source": [
        "## TF-IDF"
      ]
    },
    {
      "cell_type": "code",
      "metadata": {
        "id": "KuotIRABxXiS"
      },
      "source": [
        "'''\n",
        "from sklearn.feature_extraction.text import CountVectorizer\n",
        "from sklearn.feature_extraction.text import TfidfTransformer\n",
        "\n",
        "count_vect = CountVectorizer()\n",
        "X_counts = count_vect.fit_transform(df.sentence)\n",
        "\n",
        "tfidf_transformer = TfidfTransformer()\n",
        "X_tfidf = tfidf_transformer.fit_transform(X_counts)\n",
        "'''"
      ],
      "execution_count": 14,
      "outputs": []
    },
    {
      "cell_type": "code",
      "metadata": {
        "colab": {
          "base_uri": "https://localhost:8080/"
        },
        "id": "SBKLv87kyfZo",
        "outputId": "c99d8e02-7816-4074-842d-4aae7ae152f9"
      },
      "source": [
        "'''\n",
        "from sklearn.model_selection import train_test_split\n",
        "from imblearn.over_sampling import RandomOverSampler\n",
        "\n",
        "ros = RandomOverSampler(random_state=9000)\n",
        "X_tfidf_resampled, Y_tfidf_resampled = ros.fit_sample(X_tfidf, yt)\n",
        "'''"
      ],
      "execution_count": 15,
      "outputs": [
        {
          "output_type": "stream",
          "text": [
            "/usr/local/lib/python3.7/dist-packages/sklearn/externals/six.py:31: FutureWarning: The module is deprecated in version 0.21 and will be removed in version 0.23 since we've dropped support for Python 2.7. Please rely on the official version of six (https://pypi.org/project/six/).\n",
            "  \"(https://pypi.org/project/six/).\", FutureWarning)\n",
            "/usr/local/lib/python3.7/dist-packages/sklearn/utils/deprecation.py:144: FutureWarning: The sklearn.neighbors.base module is  deprecated in version 0.22 and will be removed in version 0.24. The corresponding classes / functions should instead be imported from sklearn.neighbors. Anything that cannot be imported from sklearn.neighbors is now part of the private API.\n",
            "  warnings.warn(message, FutureWarning)\n",
            "/usr/local/lib/python3.7/dist-packages/sklearn/utils/deprecation.py:87: FutureWarning: Function safe_indexing is deprecated; safe_indexing is deprecated in version 0.22 and will be removed in version 0.24.\n",
            "  warnings.warn(msg, category=FutureWarning)\n"
          ],
          "name": "stderr"
        }
      ]
    },
    {
      "cell_type": "code",
      "metadata": {
        "id": "cxwKDAilyfIZ"
      },
      "source": [
        "#x_train_tfidf, x_test_tfidf, y_train_tfidf, y_test_tfidf = train_test_split(X_tfidf_resampled, Y_tfidf_resampled, test_size=0.2, random_state=9000)"
      ],
      "execution_count": 16,
      "outputs": []
    },
    {
      "cell_type": "code",
      "metadata": {
        "colab": {
          "base_uri": "https://localhost:8080/",
          "height": 1000
        },
        "id": "q3FCIGmsy7_R",
        "outputId": "610bff14-8365-4a89-cf7f-f7a8379ae856"
      },
      "source": [
        "'''\n",
        "fig = plt.figure(figsize=(20,20))\n",
        "(ax_test, ax_train) = fig.subplots(ncols=2, nrows=1)\n",
        "g1 = sns.barplot(x=yt.sum(axis=0), y=mlb.classes_, ax=ax_test)\n",
        "g2 = sns.barplot(x=y_train_tfidf.sum(axis=0), y=mlb.classes_, ax=ax_train)\n",
        "g1.set_title(\"class distribution before resampling\")\n",
        "g2.set_title(\"class distribution in training set after resampling\")\n",
        "'''"
      ],
      "execution_count": 21,
      "outputs": [
        {
          "output_type": "execute_result",
          "data": {
            "text/plain": [
              "Text(0.5, 1.0, 'class distribution in training set after resampling')"
            ]
          },
          "metadata": {
            "tags": []
          },
          "execution_count": 21
        },
        {
          "output_type": "display_data",
          "data": {
            "image/png": "[encoded data removed]",
            "text/plain": [
              "<Figure size 1440x1440 with 2 Axes>"
            ]
          },
          "metadata": {
            "tags": [],
            "needs_background": "light"
          }
        }
      ]
    },
    {
      "cell_type": "code",
      "metadata": {
        "id": "JeWnuOL5Aaeq"
      },
      "source": [
        ""
      ],
      "execution_count": null,
      "outputs": []
    },
    {
      "cell_type": "markdown",
      "metadata": {
        "id": "9RHjMf_AawUd"
      },
      "source": [
        "## Handling Imbalanced data\n",
        " "
      ]
    },
    {
      "cell_type": "code",
      "metadata": {
        "id": "E8FHVWxaX61h",
        "colab": {
          "base_uri": "https://localhost:8080/",
          "height": 302
        },
        "outputId": "3eed4254-5b65-41b3-fe10-ddcdb45c0851"
      },
      "source": [
        "LABEL_COLUMNS = types_encoded.columns.tolist()[0:]\n",
        "types_encoded[LABEL_COLUMNS].sum().sort_values().plot(kind=\"barh\")\n",
        "plt.xlabel('count of tags in the comments')"
      ],
      "execution_count": 32,
      "outputs": [
        {
          "output_type": "execute_result",
          "data": {
            "text/plain": [
              "Text(0.5, 0, 'count of tags in the comments')"
            ]
          },
          "metadata": {
            "tags": []
          },
          "execution_count": 32
        },
        {
          "output_type": "display_data",
          "data": {
            "image/png": "[encoded data removed]",
            "text/plain": [
              "<Figure size 432x288 with 1 Axes>"
            ]
          },
          "metadata": {
            "tags": [],
            "needs_background": "light"
          }
        }
      ]
    },
    {
      "cell_type": "code",
      "metadata": {
        "colab": {
          "base_uri": "https://localhost:8080/"
        },
        "id": "-4G0nB6oBUsr",
        "outputId": "bab6ac03-fe9a-4c7f-d804-3c98fa2ff3a1"
      },
      "source": [
        "types_encoded[LABEL_COLUMNS].sum().sort_values()"
      ],
      "execution_count": 33,
      "outputs": [
        {
          "output_type": "execute_result",
          "data": {
            "text/plain": [
              "anger          274\n",
              "fear           360\n",
              "confident      643\n",
              "joy           1953\n",
              "sadness       2166\n",
              "analytical    2837\n",
              "tentative     3142\n",
              "dtype: int64"
            ]
          },
          "metadata": {
            "tags": []
          },
          "execution_count": 33
        }
      ]
    },
    {
      "cell_type": "code",
      "metadata": {
        "id": "qCh7NjM1F061"
      },
      "source": [
        "df1 = df.copy()\n",
        "df1 = pd.concat([df, types_encoded], axis=1)"
      ],
      "execution_count": 44,
      "outputs": []
    },
    {
      "cell_type": "code",
      "metadata": {
        "id": "JYatkj-cHv1e"
      },
      "source": [
        "df1 = df1.drop(['tones', 'Tags'], axis=1)"
      ],
      "execution_count": 46,
      "outputs": []
    },
    {
      "cell_type": "code",
      "metadata": {
        "colab": {
          "base_uri": "https://localhost:8080/",
          "height": 359
        },
        "id": "Bkya_ddTG2Tv",
        "outputId": "ea51a105-2c01-421f-bf34-fc50a4e1b2c2"
      },
      "source": [
        "df1.head(10)"
      ],
      "execution_count": 53,
      "outputs": [
        {
          "output_type": "execute_result",
          "data": {
            "text/html": [
              "<div>\n",
              "<style scoped>\n",
              "    .dataframe tbody tr th:only-of-type {\n",
              "        vertical-align: middle;\n",
              "    }\n",
              "\n",
              "    .dataframe tbody tr th {\n",
              "        vertical-align: top;\n",
              "    }\n",
              "\n",
              "    .dataframe thead th {\n",
              "        text-align: right;\n",
              "    }\n",
              "</style>\n",
              "<table border=\"1\" class=\"dataframe\">\n",
              "  <thead>\n",
              "    <tr style=\"text-align: right;\">\n",
              "      <th></th>\n",
              "      <th>sentence</th>\n",
              "      <th>analytical</th>\n",
              "      <th>anger</th>\n",
              "      <th>confident</th>\n",
              "      <th>fear</th>\n",
              "      <th>joy</th>\n",
              "      <th>sadness</th>\n",
              "      <th>tentative</th>\n",
              "    </tr>\n",
              "  </thead>\n",
              "  <tbody>\n",
              "    <tr>\n",
              "      <th>0</th>\n",
              "      <td>i didnt feel humiliated</td>\n",
              "      <td>0</td>\n",
              "      <td>0</td>\n",
              "      <td>0</td>\n",
              "      <td>0</td>\n",
              "      <td>0</td>\n",
              "      <td>0</td>\n",
              "      <td>1</td>\n",
              "    </tr>\n",
              "    <tr>\n",
              "      <th>1</th>\n",
              "      <td>i can go from feeling so hopeless to so damned...</td>\n",
              "      <td>0</td>\n",
              "      <td>0</td>\n",
              "      <td>0</td>\n",
              "      <td>0</td>\n",
              "      <td>0</td>\n",
              "      <td>1</td>\n",
              "      <td>1</td>\n",
              "    </tr>\n",
              "    <tr>\n",
              "      <th>2</th>\n",
              "      <td>im grabbing a minute to post i feel greedy wrong</td>\n",
              "      <td>0</td>\n",
              "      <td>0</td>\n",
              "      <td>0</td>\n",
              "      <td>0</td>\n",
              "      <td>0</td>\n",
              "      <td>1</td>\n",
              "      <td>0</td>\n",
              "    </tr>\n",
              "    <tr>\n",
              "      <th>3</th>\n",
              "      <td>i am ever feeling nostalgic about the fireplac...</td>\n",
              "      <td>1</td>\n",
              "      <td>0</td>\n",
              "      <td>0</td>\n",
              "      <td>0</td>\n",
              "      <td>0</td>\n",
              "      <td>1</td>\n",
              "      <td>0</td>\n",
              "    </tr>\n",
              "    <tr>\n",
              "      <th>4</th>\n",
              "      <td>i am feeling grouchy</td>\n",
              "      <td>0</td>\n",
              "      <td>1</td>\n",
              "      <td>0</td>\n",
              "      <td>0</td>\n",
              "      <td>0</td>\n",
              "      <td>1</td>\n",
              "      <td>0</td>\n",
              "    </tr>\n",
              "    <tr>\n",
              "      <th>5</th>\n",
              "      <td>ive been feeling a little burdened lately wasn...</td>\n",
              "      <td>0</td>\n",
              "      <td>0</td>\n",
              "      <td>0</td>\n",
              "      <td>0</td>\n",
              "      <td>0</td>\n",
              "      <td>1</td>\n",
              "      <td>1</td>\n",
              "    </tr>\n",
              "    <tr>\n",
              "      <th>6</th>\n",
              "      <td>ive been taking or milligrams or times recomme...</td>\n",
              "      <td>0</td>\n",
              "      <td>0</td>\n",
              "      <td>0</td>\n",
              "      <td>0</td>\n",
              "      <td>1</td>\n",
              "      <td>0</td>\n",
              "      <td>1</td>\n",
              "    </tr>\n",
              "    <tr>\n",
              "      <th>7</th>\n",
              "      <td>i feel as confused about life as a teenager or...</td>\n",
              "      <td>0</td>\n",
              "      <td>0</td>\n",
              "      <td>0</td>\n",
              "      <td>0</td>\n",
              "      <td>0</td>\n",
              "      <td>1</td>\n",
              "      <td>1</td>\n",
              "    </tr>\n",
              "    <tr>\n",
              "      <th>8</th>\n",
              "      <td>i have been with petronas for years i feel tha...</td>\n",
              "      <td>0</td>\n",
              "      <td>0</td>\n",
              "      <td>0</td>\n",
              "      <td>0</td>\n",
              "      <td>1</td>\n",
              "      <td>0</td>\n",
              "      <td>0</td>\n",
              "    </tr>\n",
              "    <tr>\n",
              "      <th>9</th>\n",
              "      <td>i feel romantic too</td>\n",
              "      <td>0</td>\n",
              "      <td>0</td>\n",
              "      <td>0</td>\n",
              "      <td>0</td>\n",
              "      <td>1</td>\n",
              "      <td>0</td>\n",
              "      <td>1</td>\n",
              "    </tr>\n",
              "  </tbody>\n",
              "</table>\n",
              "</div>"
            ],
            "text/plain": [
              "                                            sentence  ...  tentative\n",
              "0                            i didnt feel humiliated  ...          1\n",
              "1  i can go from feeling so hopeless to so damned...  ...          1\n",
              "2   im grabbing a minute to post i feel greedy wrong  ...          0\n",
              "3  i am ever feeling nostalgic about the fireplac...  ...          0\n",
              "4                               i am feeling grouchy  ...          0\n",
              "5  ive been feeling a little burdened lately wasn...  ...          1\n",
              "6  ive been taking or milligrams or times recomme...  ...          1\n",
              "7  i feel as confused about life as a teenager or...  ...          1\n",
              "8  i have been with petronas for years i feel tha...  ...          0\n",
              "9                                i feel romantic too  ...          1\n",
              "\n",
              "[10 rows x 8 columns]"
            ]
          },
          "metadata": {
            "tags": []
          },
          "execution_count": 53
        }
      ]
    },
    {
      "cell_type": "code",
      "metadata": {
        "colab": {
          "base_uri": "https://localhost:8080/"
        },
        "id": "hWPcLv5vEr5Z",
        "outputId": "dd29b699-30c8-490b-dfff-94d721b9a979"
      },
      "source": [
        "#Split the data\n",
        "train_df, val_df = train_test_split(df1, test_size=0.2)\n",
        "train_df.shape, val_df.shape"
      ],
      "execution_count": 57,
      "outputs": [
        {
          "output_type": "execute_result",
          "data": {
            "text/plain": [
              "((5392, 8), (1348, 8))"
            ]
          },
          "metadata": {
            "tags": []
          },
          "execution_count": 57
        }
      ]
    },
    {
      "cell_type": "markdown",
      "metadata": {
        "id": "v5FdYyfMJPyF"
      },
      "source": [
        "## Tokenization"
      ]
    },
    {
      "cell_type": "code",
      "metadata": {
        "colab": {
          "base_uri": "https://localhost:8080/",
          "height": 181
        },
        "id": "IAxdfEC5H4T0",
        "outputId": "462fb987-5363-499a-d617-a89a8a65f804"
      },
      "source": [
        "BERT_MODEL_NAME = 'bert-base-cased'\n",
        "tokenizer = BertTokenizer.from_pretrained(BERT_MODEL_NAME)"
      ],
      "execution_count": 58,
      "outputs": [
        {
          "output_type": "error",
          "ename": "NameError",
          "evalue": "ignored",
          "traceback": [
            "\u001b[0;31m---------------------------------------------------------------------------\u001b[0m",
            "\u001b[0;31mNameError\u001b[0m                                 Traceback (most recent call last)",
            "\u001b[0;32m<ipython-input-58-6f289eae7afe>\u001b[0m in \u001b[0;36m<module>\u001b[0;34m()\u001b[0m\n\u001b[1;32m      1\u001b[0m \u001b[0mBERT_MODEL_NAME\u001b[0m \u001b[0;34m=\u001b[0m \u001b[0;34m'bert-base-cased'\u001b[0m\u001b[0;34m\u001b[0m\u001b[0;34m\u001b[0m\u001b[0m\n\u001b[0;32m----> 2\u001b[0;31m \u001b[0mtokenizer\u001b[0m \u001b[0;34m=\u001b[0m \u001b[0mBertTokenizer\u001b[0m\u001b[0;34m.\u001b[0m\u001b[0mfrom_pretrained\u001b[0m\u001b[0;34m(\u001b[0m\u001b[0mBERT_MODEL_NAME\u001b[0m\u001b[0;34m)\u001b[0m\u001b[0;34m\u001b[0m\u001b[0;34m\u001b[0m\u001b[0m\n\u001b[0m",
            "\u001b[0;31mNameError\u001b[0m: name 'BertTokenizer' is not defined"
          ]
        }
      ]
    },
    {
      "cell_type": "code",
      "metadata": {
        "id": "QlhRb5fYJYXo"
      },
      "source": [
        ""
      ],
      "execution_count": null,
      "outputs": []
    }
  ]
}